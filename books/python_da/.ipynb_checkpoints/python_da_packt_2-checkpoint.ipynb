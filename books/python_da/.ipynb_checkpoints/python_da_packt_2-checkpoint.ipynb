{
 "cells": [
  {
   "cell_type": "markdown",
   "metadata": {},
   "source": [
    "### Packt >\n",
    "# Python Data Analysis - Third Edition"
   ]
  },
  {
   "cell_type": "markdown",
   "metadata": {},
   "source": [
    "## NumPy arrays"
   ]
  },
  {
   "cell_type": "markdown",
   "metadata": {},
   "source": [
    "NumPy arrays are a series of homogenous items. Homogenous means the array will have all the elements of the same data type.\n",
    "\n",
    "The main benefit of an array is its certainty of storage size because of its same type of items. A Python list uses a loop to iterate the elements and perform operations on them. Another benefit of **NumPy arrays is to offer vectorized operations instead of iterating each item** and performing operations on it. NumPy arrays are indexed just like a Python list and start from 0. NumPy uses an optimized C API for the fast processing of the array operations."
   ]
  },
  {
   "cell_type": "code",
   "execution_count": 48,
   "metadata": {
    "ExecuteTime": {
     "end_time": "2021-06-04T04:18:52.880493Z",
     "start_time": "2021-06-04T04:18:52.876793Z"
    }
   },
   "outputs": [],
   "source": [
    "import numpy as np"
   ]
  },
  {
   "cell_type": "markdown",
   "metadata": {
    "ExecuteTime": {
     "end_time": "2021-06-04T04:32:49.782231Z",
     "start_time": "2021-06-04T04:32:49.777805Z"
    }
   },
   "source": [
    "### Creating an array\n",
    "\n",
    "The options to create numpy array:\n",
    "\n",
    "- **array()**: creates an array from the list of values\n",
    "- **arange()**: creates an evenly spaced array specified by start, stop and step values\n",
    "- **zeros()**: creates an array for a given dimension with all zeroes\n",
    "- **ones()**: creates an array for a given dimension with all ones\n",
    "- **fulls()**: generates an array with constant values\n",
    "- **eyes()**: creates an identity matrix\n",
    "- **random()**: creates an array with any given dimension"
   ]
  },
  {
   "cell_type": "code",
   "execution_count": 49,
   "metadata": {
    "ExecuteTime": {
     "end_time": "2021-06-04T04:18:52.891121Z",
     "start_time": "2021-06-04T04:18:52.883297Z"
    }
   },
   "outputs": [
    {
     "data": {
      "text/plain": [
       "array([ 2,  4,  6,  8, 10])"
      ]
     },
     "execution_count": 49,
     "metadata": {},
     "output_type": "execute_result"
    }
   ],
   "source": [
    "a = np.array([2, 4, 6, 8, 10])\n",
    "a"
   ]
  },
  {
   "cell_type": "code",
   "execution_count": 50,
   "metadata": {
    "ExecuteTime": {
     "end_time": "2021-06-04T04:18:52.901600Z",
     "start_time": "2021-06-04T04:18:52.895356Z"
    }
   },
   "outputs": [
    {
     "data": {
      "text/plain": [
       "array([100, 164, 228, 292, 356, 420, 484])"
      ]
     },
     "execution_count": 50,
     "metadata": {},
     "output_type": "execute_result"
    }
   ],
   "source": [
    "# arange(start,[stop],step) - creates an evenly spaced NumPy array\n",
    "# default step = 1 (if doesn't set)\n",
    "b = np.arange(100, 500, 64)\n",
    "b"
   ]
  },
  {
   "cell_type": "code",
   "execution_count": 51,
   "metadata": {
    "ExecuteTime": {
     "end_time": "2021-06-04T04:18:52.909757Z",
     "start_time": "2021-06-04T04:18:52.904274Z"
    }
   },
   "outputs": [
    {
     "data": {
      "text/plain": [
       "array([[0., 0., 0., 0.],\n",
       "       [0., 0., 0., 0.],\n",
       "       [0., 0., 0., 0.]])"
      ]
     },
     "execution_count": 51,
     "metadata": {},
     "output_type": "execute_result"
    }
   ],
   "source": [
    "np.zeros((3, 4))"
   ]
  },
  {
   "cell_type": "code",
   "execution_count": 52,
   "metadata": {
    "ExecuteTime": {
     "end_time": "2021-06-04T04:18:52.917190Z",
     "start_time": "2021-06-04T04:18:52.912083Z"
    }
   },
   "outputs": [
    {
     "data": {
      "text/plain": [
       "array([[1., 1., 1., 1.],\n",
       "       [1., 1., 1., 1.],\n",
       "       [1., 1., 1., 1.]])"
      ]
     },
     "execution_count": 52,
     "metadata": {},
     "output_type": "execute_result"
    }
   ],
   "source": [
    "np.ones((3, 4))"
   ]
  },
  {
   "cell_type": "code",
   "execution_count": 53,
   "metadata": {
    "ExecuteTime": {
     "end_time": "2021-06-04T04:18:52.921695Z",
     "start_time": "2021-06-04T04:18:52.918624Z"
    }
   },
   "outputs": [
    {
     "data": {
      "text/plain": [
       "array([[236, 236, 236, 236],\n",
       "       [236, 236, 236, 236],\n",
       "       [236, 236, 236, 236]])"
      ]
     },
     "execution_count": 53,
     "metadata": {},
     "output_type": "execute_result"
    }
   ],
   "source": [
    "np.full((3, 4), 236)"
   ]
  },
  {
   "cell_type": "code",
   "execution_count": 54,
   "metadata": {
    "ExecuteTime": {
     "end_time": "2021-06-04T04:18:52.926124Z",
     "start_time": "2021-06-04T04:18:52.922870Z"
    }
   },
   "outputs": [
    {
     "data": {
      "text/plain": [
       "array([[1., 0., 0., 0., 0.],\n",
       "       [0., 1., 0., 0., 0.],\n",
       "       [0., 0., 1., 0., 0.],\n",
       "       [0., 0., 0., 1., 0.],\n",
       "       [0., 0., 0., 0., 1.]])"
      ]
     },
     "execution_count": 54,
     "metadata": {},
     "output_type": "execute_result"
    }
   ],
   "source": [
    "np.eye(5)"
   ]
  },
  {
   "cell_type": "code",
   "execution_count": 55,
   "metadata": {
    "ExecuteTime": {
     "end_time": "2021-06-04T04:18:52.931940Z",
     "start_time": "2021-06-04T04:18:52.928641Z"
    }
   },
   "outputs": [
    {
     "data": {
      "text/plain": [
       "array([[0.10671778, 0.92938073, 0.98829423],\n",
       "       [0.54304881, 0.94501061, 0.18743092],\n",
       "       [0.00490092, 0.89378929, 0.70207722]])"
      ]
     },
     "execution_count": 55,
     "metadata": {},
     "output_type": "execute_result"
    }
   ],
   "source": [
    "np.random.random((3, 3))"
   ]
  },
  {
   "cell_type": "code",
   "execution_count": 56,
   "metadata": {
    "ExecuteTime": {
     "end_time": "2021-06-04T04:18:52.937261Z",
     "start_time": "2021-06-04T04:18:52.933425Z"
    }
   },
   "outputs": [
    {
     "data": {
      "text/plain": [
       "array([[ 0.47308904,  0.53388436,  1.14530876],\n",
       "       [ 0.05602078,  0.12798272, -0.7580227 ],\n",
       "       [ 0.86172306,  0.37195651,  0.76808858]])"
      ]
     },
     "execution_count": 56,
     "metadata": {},
     "output_type": "execute_result"
    }
   ],
   "source": [
    "np.random.randn(3, 3)"
   ]
  },
  {
   "cell_type": "code",
   "execution_count": 57,
   "metadata": {
    "ExecuteTime": {
     "end_time": "2021-06-04T04:18:52.940745Z",
     "start_time": "2021-06-04T04:18:52.938321Z"
    }
   },
   "outputs": [
    {
     "data": {
      "text/plain": [
       "dtype('int64')"
      ]
     },
     "execution_count": 57,
     "metadata": {},
     "output_type": "execute_result"
    }
   ],
   "source": [
    "a.dtype"
   ]
  },
  {
   "cell_type": "code",
   "execution_count": 58,
   "metadata": {
    "ExecuteTime": {
     "end_time": "2021-06-04T04:18:52.944731Z",
     "start_time": "2021-06-04T04:18:52.941915Z"
    }
   },
   "outputs": [
    {
     "data": {
      "text/plain": [
       "(5,)"
      ]
     },
     "execution_count": 58,
     "metadata": {},
     "output_type": "execute_result"
    }
   ],
   "source": [
    "a.shape"
   ]
  },
  {
   "cell_type": "code",
   "execution_count": 59,
   "metadata": {
    "ExecuteTime": {
     "end_time": "2021-06-04T04:18:52.947764Z",
     "start_time": "2021-06-04T04:18:52.945796Z"
    }
   },
   "outputs": [],
   "source": [
    "a = np.append(a, [12])"
   ]
  },
  {
   "cell_type": "code",
   "execution_count": 60,
   "metadata": {
    "ExecuteTime": {
     "end_time": "2021-06-04T04:18:52.951315Z",
     "start_time": "2021-06-04T04:18:52.948766Z"
    }
   },
   "outputs": [
    {
     "data": {
      "text/plain": [
       "array([[ 2],\n",
       "       [ 4],\n",
       "       [ 6],\n",
       "       [ 8],\n",
       "       [10],\n",
       "       [12]])"
      ]
     },
     "execution_count": 60,
     "metadata": {},
     "output_type": "execute_result"
    }
   ],
   "source": [
    "a.reshape(6, 1)"
   ]
  },
  {
   "cell_type": "code",
   "execution_count": 63,
   "metadata": {
    "ExecuteTime": {
     "end_time": "2021-06-04T04:20:41.085657Z",
     "start_time": "2021-06-04T04:20:41.080246Z"
    }
   },
   "outputs": [
    {
     "data": {
      "text/plain": [
       "array([[14,  4],\n",
       "       [16, 10]])"
      ]
     },
     "execution_count": 63,
     "metadata": {},
     "output_type": "execute_result"
    }
   ],
   "source": [
    "s = np.array([[14, 4], [16, 10]])\n",
    "s[1, 1]"
   ]
  },
  {
   "cell_type": "markdown",
   "metadata": {},
   "source": [
    "### Manipulating array shapes\n",
    "\n",
    "- **reshape()** - will change the shape of the array\n",
    "- **resize()** - also changes the size of the array, but it changes the shape of the original array\n",
    "---\n",
    "- **flatten()** - transforms an n-dimensional array into a one-dimensional array,  returns the actual array\n",
    "- **ravel()** - also transforms an n-dimensional array into a one-dimensional array, returns the reference of the original array\n",
    "---\n",
    "- **transpose()** - transposes the given two-dimensional matrix\n"
   ]
  },
  {
   "cell_type": "code",
   "execution_count": 82,
   "metadata": {
    "ExecuteTime": {
     "end_time": "2021-06-04T05:09:48.724883Z",
     "start_time": "2021-06-04T05:09:48.721203Z"
    }
   },
   "outputs": [],
   "source": [
    "arr = np.arange(7, 99, 3)\n",
    "arr.shape\n",
    "arr = np.delete(arr, 30)"
   ]
  },
  {
   "cell_type": "code",
   "execution_count": 83,
   "metadata": {
    "ExecuteTime": {
     "end_time": "2021-06-04T05:10:14.102703Z",
     "start_time": "2021-06-04T05:10:14.093522Z"
    }
   },
   "outputs": [
    {
     "name": "stdout",
     "output_type": "stream",
     "text": [
      "[[ 7 10 13]\n",
      " [16 19 22]\n",
      " [25 28 31]\n",
      " [34 37 40]\n",
      " [43 46 49]\n",
      " [52 55 58]\n",
      " [61 64 67]\n",
      " [70 73 76]\n",
      " [79 82 85]\n",
      " [88 91 94]]\n",
      "[ 7 10 13 16 19 22 25 28 31 34 37 40 43 46 49 52 55 58 61 64 67 70 73 76\n",
      " 79 82 85 88 91 94]\n"
     ]
    }
   ],
   "source": [
    "# doesn't change the initial array\n",
    "print(arr.reshape(10, 3))\n",
    "print(arr)"
   ]
  },
  {
   "cell_type": "code",
   "execution_count": 87,
   "metadata": {
    "ExecuteTime": {
     "end_time": "2021-06-04T05:11:53.988432Z",
     "start_time": "2021-06-04T05:11:53.984329Z"
    }
   },
   "outputs": [
    {
     "name": "stdout",
     "output_type": "stream",
     "text": [
      "None\n",
      "[[ 7 10 13]\n",
      " [16 19 22]\n",
      " [25 28 31]\n",
      " [34 37 40]\n",
      " [43 46 49]\n",
      " [52 55 58]\n",
      " [61 64 67]\n",
      " [70 73 76]\n",
      " [79 82 85]\n",
      " [88 91 94]]\n"
     ]
    }
   ],
   "source": [
    "# changes the initial array\n",
    "print(arr.resize(10, 3))\n",
    "print(arr)"
   ]
  },
  {
   "cell_type": "code",
   "execution_count": 91,
   "metadata": {
    "ExecuteTime": {
     "end_time": "2021-06-04T05:12:40.249854Z",
     "start_time": "2021-06-04T05:12:40.244653Z"
    }
   },
   "outputs": [
    {
     "name": "stdout",
     "output_type": "stream",
     "text": [
      "[ 7 10 13 16 19 22 25 28 31 34 37 40 43 46 49 52 55 58 61 64 67 70 73 76\n",
      " 79 82 85 88 91 94]\n",
      "[[ 7 10 13]\n",
      " [16 19 22]\n",
      " [25 28 31]\n",
      " [34 37 40]\n",
      " [43 46 49]\n",
      " [52 55 58]\n",
      " [61 64 67]\n",
      " [70 73 76]\n",
      " [79 82 85]\n",
      " [88 91 94]]\n"
     ]
    }
   ],
   "source": [
    "print(arr.flatten())\n",
    "print(arr)"
   ]
  },
  {
   "cell_type": "code",
   "execution_count": 92,
   "metadata": {
    "ExecuteTime": {
     "end_time": "2021-06-04T05:12:42.733408Z",
     "start_time": "2021-06-04T05:12:42.728994Z"
    }
   },
   "outputs": [
    {
     "name": "stdout",
     "output_type": "stream",
     "text": [
      "[ 7 10 13 16 19 22 25 28 31 34 37 40 43 46 49 52 55 58 61 64 67 70 73 76\n",
      " 79 82 85 88 91 94]\n",
      "[[ 7 10 13]\n",
      " [16 19 22]\n",
      " [25 28 31]\n",
      " [34 37 40]\n",
      " [43 46 49]\n",
      " [52 55 58]\n",
      " [61 64 67]\n",
      " [70 73 76]\n",
      " [79 82 85]\n",
      " [88 91 94]]\n"
     ]
    }
   ],
   "source": [
    "print(arr.ravel())\n",
    "print(arr)"
   ]
  },
  {
   "cell_type": "code",
   "execution_count": 93,
   "metadata": {
    "ExecuteTime": {
     "end_time": "2021-06-04T05:15:14.117807Z",
     "start_time": "2021-06-04T05:15:14.114150Z"
    }
   },
   "outputs": [
    {
     "name": "stdout",
     "output_type": "stream",
     "text": [
      "[[ 7 16 25 34 43 52 61 70 79 88]\n",
      " [10 19 28 37 46 55 64 73 82 91]\n",
      " [13 22 31 40 49 58 67 76 85 94]]\n"
     ]
    }
   ],
   "source": [
    "print(arr.transpose())"
   ]
  },
  {
   "cell_type": "markdown",
   "metadata": {},
   "source": [
    "### The stacking of NumPy arrays\n",
    "\n",
    "Stacking means joining the same dimensional arrays along with a new axis.\n",
    "\n",
    "\n",
    "- **Horizontal stacking**: the same dimensional arrays are joined along with a horizontal axis using the **hstack()** and **concatenate()**\n",
    "- **Vertical stacking**: the same dimensional arrays are joined along with a vertical axis using the **vstack()** and **concatenate()**\n",
    "- **Depth stacking**: the same dimensional arrays are joined along with a third axis (depth) using the **dstack()**\n",
    "- **Column stacking**: stacks multiple sequence one-dimensional arrays as columns into a single two-dimensional array using **column_stack**\n",
    "- **Row stacking**: stacks multiple sequence one-dimensional arrays as rows into a single two-dimensional array using **row_stack()**\n"
   ]
  },
  {
   "cell_type": "code",
   "execution_count": 102,
   "metadata": {
    "ExecuteTime": {
     "end_time": "2021-06-04T06:33:18.769805Z",
     "start_time": "2021-06-04T06:33:18.764011Z"
    }
   },
   "outputs": [
    {
     "name": "stdout",
     "output_type": "stream",
     "text": [
      "array 1:\n",
      " [[10 12 14 16]\n",
      " [18 20 22 24]\n",
      " [26 28 30 32]\n",
      " [34 36 38 40]\n",
      " [42 44 46 48]] \n",
      " array2: \n",
      " [[50 52 54 56]\n",
      " [58 60 62 64]\n",
      " [66 68 70 72]\n",
      " [74 76 78 80]\n",
      " [82 84 86 88]]\n"
     ]
    }
   ],
   "source": [
    "# define arrays\n",
    "arr1 = np.arange(10, 50, 2).reshape(5, 4)\n",
    "arr2 = np.arange(50, 90, 2).reshape(5,4)\n",
    "print(f'array 1:\\n {arr1} \\n array2: \\n {arr2}')"
   ]
  },
  {
   "cell_type": "code",
   "execution_count": 121,
   "metadata": {
    "ExecuteTime": {
     "end_time": "2021-06-04T06:48:25.253175Z",
     "start_time": "2021-06-04T06:48:25.247646Z"
    }
   },
   "outputs": [
    {
     "name": "stdout",
     "output_type": "stream",
     "text": [
      "stack arrays using hstack():\n",
      " [[10 12 14 16 50 52 54 56]\n",
      " [18 20 22 24 58 60 62 64]\n",
      " [26 28 30 32 66 68 70 72]\n",
      " [34 36 38 40 74 76 78 80]\n",
      " [42 44 46 48 82 84 86 88]]\n",
      "stack arrays using concatenate():\n",
      " [[10 12 14 16 50 52 54 56]\n",
      " [18 20 22 24 58 60 62 64]\n",
      " [26 28 30 32 66 68 70 72]\n",
      " [34 36 38 40 74 76 78 80]\n",
      " [42 44 46 48 82 84 86 88]]\n"
     ]
    }
   ],
   "source": [
    "# stack arrays horizontally\n",
    "arr_h_stack = np.hstack((arr1, arr2))\n",
    "print(f'stack arrays using hstack():\\n {arr_h_stack}')\n",
    "arr_h_concat = np.concatenate((arr1, arr2), axis=1)\n",
    "print(f'stack arrays using concatenate():\\n {arr_h_concat}')"
   ]
  },
  {
   "cell_type": "code",
   "execution_count": 122,
   "metadata": {
    "ExecuteTime": {
     "end_time": "2021-06-04T06:48:55.809002Z",
     "start_time": "2021-06-04T06:48:55.801179Z"
    }
   },
   "outputs": [
    {
     "name": "stdout",
     "output_type": "stream",
     "text": [
      "stack arrays using hstack():\n",
      " [[10 12 14 16]\n",
      " [18 20 22 24]\n",
      " [26 28 30 32]\n",
      " [34 36 38 40]\n",
      " [42 44 46 48]\n",
      " [50 52 54 56]\n",
      " [58 60 62 64]\n",
      " [66 68 70 72]\n",
      " [74 76 78 80]\n",
      " [82 84 86 88]]\n",
      "stack arrays using concatenate():\n",
      " [[10 12 14 16]\n",
      " [18 20 22 24]\n",
      " [26 28 30 32]\n",
      " [34 36 38 40]\n",
      " [42 44 46 48]\n",
      " [50 52 54 56]\n",
      " [58 60 62 64]\n",
      " [66 68 70 72]\n",
      " [74 76 78 80]\n",
      " [82 84 86 88]]\n"
     ]
    }
   ],
   "source": [
    "# stack arrays vertically\n",
    "arr_v_stack = np.vstack((arr1, arr2))\n",
    "print(f'stack arrays using hstack():\\n {arr_v_stack}')\n",
    "arr_v_concat = np.concatenate((arr1, arr2), axis=0)\n",
    "print(f'stack arrays using concatenate():\\n {arr_v_concat}')"
   ]
  },
  {
   "cell_type": "code",
   "execution_count": 123,
   "metadata": {
    "ExecuteTime": {
     "end_time": "2021-06-04T06:49:13.712430Z",
     "start_time": "2021-06-04T06:49:13.704562Z"
    }
   },
   "outputs": [
    {
     "data": {
      "text/plain": [
       "array([[[10, 50],\n",
       "        [12, 52],\n",
       "        [14, 54],\n",
       "        [16, 56]],\n",
       "\n",
       "       [[18, 58],\n",
       "        [20, 60],\n",
       "        [22, 62],\n",
       "        [24, 64]],\n",
       "\n",
       "       [[26, 66],\n",
       "        [28, 68],\n",
       "        [30, 70],\n",
       "        [32, 72]],\n",
       "\n",
       "       [[34, 74],\n",
       "        [36, 76],\n",
       "        [38, 78],\n",
       "        [40, 80]],\n",
       "\n",
       "       [[42, 82],\n",
       "        [44, 84],\n",
       "        [46, 86],\n",
       "        [48, 88]]])"
      ]
     },
     "execution_count": 123,
     "metadata": {},
     "output_type": "execute_result"
    }
   ],
   "source": [
    "# stack in depth along with a third axis\n",
    "arr_d_stack = np.dstack((arr1, arr2))\n",
    "arr_d_stack"
   ]
  },
  {
   "cell_type": "code",
   "execution_count": 124,
   "metadata": {
    "ExecuteTime": {
     "end_time": "2021-06-04T06:49:33.288088Z",
     "start_time": "2021-06-04T06:49:33.281708Z"
    }
   },
   "outputs": [
    {
     "data": {
      "text/plain": [
       "array([[10, 50],\n",
       "       [12, 52],\n",
       "       [14, 54],\n",
       "       [16, 56],\n",
       "       [18, 58],\n",
       "       [20, 60],\n",
       "       [22, 62],\n",
       "       [24, 64],\n",
       "       [26, 66],\n",
       "       [28, 68],\n",
       "       [30, 70],\n",
       "       [32, 72],\n",
       "       [34, 74],\n",
       "       [36, 76],\n",
       "       [38, 78],\n",
       "       [40, 80],\n",
       "       [42, 82],\n",
       "       [44, 84],\n",
       "       [46, 86],\n",
       "       [48, 88]])"
      ]
     },
     "execution_count": 124,
     "metadata": {},
     "output_type": "execute_result"
    }
   ],
   "source": [
    "# column stacking\n",
    "arr_col_stack = np.column_stack((arr1.reshape(20), arr2.reshape(20)))\n",
    "arr_col_stack"
   ]
  },
  {
   "cell_type": "code",
   "execution_count": 125,
   "metadata": {
    "ExecuteTime": {
     "end_time": "2021-06-04T06:49:48.407709Z",
     "start_time": "2021-06-04T06:49:48.401982Z"
    }
   },
   "outputs": [
    {
     "data": {
      "text/plain": [
       "array([[10, 12, 14, 16, 18, 20, 22, 24, 26, 28, 30, 32, 34, 36, 38, 40,\n",
       "        42, 44, 46, 48],\n",
       "       [50, 52, 54, 56, 58, 60, 62, 64, 66, 68, 70, 72, 74, 76, 78, 80,\n",
       "        82, 84, 86, 88]])"
      ]
     },
     "execution_count": 125,
     "metadata": {},
     "output_type": "execute_result"
    }
   ],
   "source": [
    "# row stacking\n",
    "arr_raw_stack = np.row_stack((arr1.reshape(20), arr2.reshape(20)))\n",
    "arr_raw_stack"
   ]
  },
  {
   "cell_type": "markdown",
   "metadata": {},
   "source": [
    "### Partitioning NumPy arrays\n",
    "\n",
    "- **Horizontal splitting**: the given array is divided into N equal sub-arrays along the horizontal axis using the **hsplit()**\n",
    "- **Vertical splitting**: the given array is divided into N equal sub-arrays along the vertical axis using the **vsplit()** and **split()** \n",
    "- **Depth splitting**: the given array is divided into N equal sub-arrays along the third axis using **dsplit()**\n"
   ]
  },
  {
   "cell_type": "code",
   "execution_count": 142,
   "metadata": {
    "ExecuteTime": {
     "end_time": "2021-06-05T07:26:25.945710Z",
     "start_time": "2021-06-05T07:26:25.940512Z"
    }
   },
   "outputs": [
    {
     "data": {
      "text/plain": [
       "(10, 3)"
      ]
     },
     "execution_count": 142,
     "metadata": {},
     "output_type": "execute_result"
    }
   ],
   "source": [
    "arr.shape"
   ]
  },
  {
   "cell_type": "code",
   "execution_count": 146,
   "metadata": {
    "ExecuteTime": {
     "end_time": "2021-06-05T07:31:15.279242Z",
     "start_time": "2021-06-05T07:31:15.272235Z"
    }
   },
   "outputs": [
    {
     "name": "stdout",
     "output_type": "stream",
     "text": [
      "splitting with hsplit() function:\n",
      " [array([[ 7],\n",
      "       [16],\n",
      "       [25],\n",
      "       [34],\n",
      "       [43],\n",
      "       [52],\n",
      "       [61],\n",
      "       [70],\n",
      "       [79],\n",
      "       [88]]), array([[10],\n",
      "       [19],\n",
      "       [28],\n",
      "       [37],\n",
      "       [46],\n",
      "       [55],\n",
      "       [64],\n",
      "       [73],\n",
      "       [82],\n",
      "       [91]]), array([[13],\n",
      "       [22],\n",
      "       [31],\n",
      "       [40],\n",
      "       [49],\n",
      "       [58],\n",
      "       [67],\n",
      "       [76],\n",
      "       [85],\n",
      "       [94]])]\n",
      "splitting with split() function:\n",
      " [array([[ 7],\n",
      "       [16],\n",
      "       [25],\n",
      "       [34],\n",
      "       [43],\n",
      "       [52],\n",
      "       [61],\n",
      "       [70],\n",
      "       [79],\n",
      "       [88]]), array([[10],\n",
      "       [19],\n",
      "       [28],\n",
      "       [37],\n",
      "       [46],\n",
      "       [55],\n",
      "       [64],\n",
      "       [73],\n",
      "       [82],\n",
      "       [91]]), array([[13],\n",
      "       [22],\n",
      "       [31],\n",
      "       [40],\n",
      "       [49],\n",
      "       [58],\n",
      "       [67],\n",
      "       [76],\n",
      "       [85],\n",
      "       [94]])]\n"
     ]
    }
   ],
   "source": [
    "arr_h_split_1 = np.hsplit(arr, 3)\n",
    "arr_h_split_2 = np.split(arr, 3, axis=1)\n",
    "# result is the same\n",
    "print(f'splitting with hsplit() function:\\n {arr_h_split_1}')\n",
    "print(f'splitting with split() function:\\n {arr_h_split_2}')"
   ]
  },
  {
   "cell_type": "code",
   "execution_count": 147,
   "metadata": {
    "ExecuteTime": {
     "end_time": "2021-06-05T07:32:33.994892Z",
     "start_time": "2021-06-05T07:32:33.987842Z"
    }
   },
   "outputs": [
    {
     "name": "stdout",
     "output_type": "stream",
     "text": [
      "splitting with vsplit() function:\n",
      " [array([[ 7, 10, 13],\n",
      "       [16, 19, 22]]), array([[25, 28, 31],\n",
      "       [34, 37, 40]]), array([[43, 46, 49],\n",
      "       [52, 55, 58]]), array([[61, 64, 67],\n",
      "       [70, 73, 76]]), array([[79, 82, 85],\n",
      "       [88, 91, 94]])]\n",
      "splitting with split() function:\n",
      " [array([[ 7, 10, 13],\n",
      "       [16, 19, 22]]), array([[25, 28, 31],\n",
      "       [34, 37, 40]]), array([[43, 46, 49],\n",
      "       [52, 55, 58]]), array([[61, 64, 67],\n",
      "       [70, 73, 76]]), array([[79, 82, 85],\n",
      "       [88, 91, 94]])]\n"
     ]
    }
   ],
   "source": [
    "arr_v_split_1 = np.vsplit(arr, 5)\n",
    "arr_v_split_2 = np.split(arr, 5)\n",
    "# result is the same\n",
    "print(f'splitting with vsplit() function:\\n {arr_v_split_1}')\n",
    "print(f'splitting with split() function:\\n {arr_v_split_2}')"
   ]
  },
  {
   "cell_type": "code",
   "execution_count": 140,
   "metadata": {
    "ExecuteTime": {
     "end_time": "2021-06-05T07:22:31.422434Z",
     "start_time": "2021-06-05T07:22:31.416107Z"
    }
   },
   "outputs": [
    {
     "data": {
      "text/plain": [
       "array([[[ 7, 52],\n",
       "        [10, 55],\n",
       "        [13, 58]],\n",
       "\n",
       "       [[16, 61],\n",
       "        [19, 64],\n",
       "        [22, 67]],\n",
       "\n",
       "       [[25, 70],\n",
       "        [28, 73],\n",
       "        [31, 76]],\n",
       "\n",
       "       [[34, 79],\n",
       "        [37, 82],\n",
       "        [40, 85]],\n",
       "\n",
       "       [[43, 88],\n",
       "        [46, 91],\n",
       "        [49, 94]]])"
      ]
     },
     "execution_count": 140,
     "metadata": {},
     "output_type": "execute_result"
    }
   ],
   "source": [
    "arr_depth_2 = np.dstack((arr_v_split[0], arr_v_split[1]))\n",
    "arr_depth_2"
   ]
  },
  {
   "cell_type": "code",
   "execution_count": 141,
   "metadata": {
    "ExecuteTime": {
     "end_time": "2021-06-05T07:23:15.398621Z",
     "start_time": "2021-06-05T07:23:15.391831Z"
    }
   },
   "outputs": [
    {
     "data": {
      "text/plain": [
       "[array([[[ 7],\n",
       "         [10],\n",
       "         [13]],\n",
       " \n",
       "        [[16],\n",
       "         [19],\n",
       "         [22]],\n",
       " \n",
       "        [[25],\n",
       "         [28],\n",
       "         [31]],\n",
       " \n",
       "        [[34],\n",
       "         [37],\n",
       "         [40]],\n",
       " \n",
       "        [[43],\n",
       "         [46],\n",
       "         [49]]]),\n",
       " array([[[52],\n",
       "         [55],\n",
       "         [58]],\n",
       " \n",
       "        [[61],\n",
       "         [64],\n",
       "         [67]],\n",
       " \n",
       "        [[70],\n",
       "         [73],\n",
       "         [76]],\n",
       " \n",
       "        [[79],\n",
       "         [82],\n",
       "         [85]],\n",
       " \n",
       "        [[88],\n",
       "         [91],\n",
       "         [94]]])]"
      ]
     },
     "execution_count": 141,
     "metadata": {},
     "output_type": "execute_result"
    }
   ],
   "source": [
    "arr_d_split = np.dsplit(arr_depth_2, 2)\n",
    "arr_d_split"
   ]
  },
  {
   "cell_type": "code",
   "execution_count": 153,
   "metadata": {
    "ExecuteTime": {
     "end_time": "2021-06-05T08:41:40.829840Z",
     "start_time": "2021-06-05T08:41:40.824721Z"
    }
   },
   "outputs": [
    {
     "data": {
      "text/plain": [
       "dtype('float64')"
      ]
     },
     "execution_count": 153,
     "metadata": {},
     "output_type": "execute_result"
    }
   ],
   "source": [
    "# the astype() function converts the data type of the array\n",
    "arr.dtype\n",
    "arr_f = arr.astype(float)\n",
    "arr_f.dtype"
   ]
  },
  {
   "cell_type": "code",
   "execution_count": 156,
   "metadata": {
    "ExecuteTime": {
     "end_time": "2021-06-05T08:43:28.820966Z",
     "start_time": "2021-06-05T08:43:28.816258Z"
    }
   },
   "outputs": [
    {
     "data": {
      "text/plain": [
       "list"
      ]
     },
     "execution_count": 156,
     "metadata": {},
     "output_type": "execute_result"
    }
   ],
   "source": [
    "# the tolist() function converts a NumPy array into a Python list\n",
    "type(arr)\n",
    "list1 = arr.tolist()\n",
    "type(list1)"
   ]
  },
  {
   "cell_type": "code",
   "execution_count": 163,
   "metadata": {
    "ExecuteTime": {
     "end_time": "2021-06-05T09:42:43.951667Z",
     "start_time": "2021-06-05T09:42:43.947537Z"
    }
   },
   "outputs": [],
   "source": [
    "# NumPy views and copies\n",
    "arr_cv = np.arange(1, 5).reshape(2, 2)\n",
    "# no copy only assignment\n",
    "arr_new = arr_cv\n",
    "# create a deep copy\n",
    "arr_copy = arr_cv.copy()\n",
    "# create shallow copy using View\n",
    "arr_view = arr_cv.view()"
   ]
  },
  {
   "cell_type": "code",
   "execution_count": 165,
   "metadata": {
    "ExecuteTime": {
     "end_time": "2021-06-05T09:44:10.031395Z",
     "start_time": "2021-06-05T09:44:10.024224Z"
    }
   },
   "outputs": [
    {
     "name": "stdout",
     "output_type": "stream",
     "text": [
      "Original Array:  140631775828928\n",
      "Assignment:  140631775828928\n",
      "Deep Copy:  140631776159104\n",
      "Shallow Copy(View):  140631188988432\n"
     ]
    }
   ],
   "source": [
    "# output object IDs\n",
    "print(\"Original Array: \",id(arr_cv))\n",
    "print(\"Assignment: \",id(arr_new))\n",
    "print(\"Deep Copy: \",id(arr_copy))\n",
    "print(\"Shallow Copy(View): \",id(arr_view))"
   ]
  },
  {
   "cell_type": "code",
   "execution_count": 166,
   "metadata": {
    "ExecuteTime": {
     "end_time": "2021-06-05T09:46:17.631690Z",
     "start_time": "2021-06-05T09:46:17.621786Z"
    }
   },
   "outputs": [
    {
     "data": {
      "text/plain": [
       "array([[ 1,  2],\n",
       "       [99, 89]])"
      ]
     },
     "execution_count": 166,
     "metadata": {},
     "output_type": "execute_result"
    }
   ],
   "source": [
    "arr_cv[1] = [99, 89]\n",
    "arr_cv"
   ]
  },
  {
   "cell_type": "code",
   "execution_count": 167,
   "metadata": {
    "ExecuteTime": {
     "end_time": "2021-06-05T09:46:51.712630Z",
     "start_time": "2021-06-05T09:46:51.704812Z"
    }
   },
   "outputs": [
    {
     "name": "stdout",
     "output_type": "stream",
     "text": [
      "View Array:\n",
      " [[ 1  2]\n",
      " [99 89]]\n",
      "Copied Array:\n",
      " [[1 2]\n",
      " [3 4]]\n"
     ]
    }
   ],
   "source": [
    "# Check values of array view\n",
    "print(\"View Array:\\n\", arr_view)\n",
    "\n",
    "# Check values of array copy\n",
    "print(\"Copied Array:\\n\", arr_copy)"
   ]
  },
  {
   "cell_type": "markdown",
   "metadata": {
    "ExecuteTime": {
     "end_time": "2021-06-05T09:47:02.642030Z",
     "start_time": "2021-06-05T09:47:02.630099Z"
    }
   },
   "source": [
    "### Slicing and Indexing NumPy arrays\n",
    "\n",
    "Indexing prefers to select a single value while slicing is used to select multiple values from an array."
   ]
  },
  {
   "cell_type": "code",
   "execution_count": 176,
   "metadata": {
    "ExecuteTime": {
     "end_time": "2021-06-05T09:59:59.289872Z",
     "start_time": "2021-06-05T09:59:59.283952Z"
    }
   },
   "outputs": [
    {
     "name": "stdout",
     "output_type": "stream",
     "text": [
      "[0 1 2 3 4 5 6 7 8 9]\n",
      "[3 4 5]\n",
      "[3 4 5 6 7 8 9]\n",
      "[7 8 9]\n",
      "[2 4 6]\n"
     ]
    }
   ],
   "source": [
    "arr = np.arange(0, 10)\n",
    "# slicing takes three values: start, stop, and step\n",
    "print(arr)\n",
    "print(arr[3:6])\n",
    "print(arr[3:])\n",
    "# select values from the third value from the right side of the array to the end of the array\n",
    "print(arr[-3:])\n",
    "# start, stop, step\n",
    "print(arr[2:7:2])"
   ]
  },
  {
   "cell_type": "code",
   "execution_count": 179,
   "metadata": {
    "ExecuteTime": {
     "end_time": "2021-06-05T10:03:39.937625Z",
     "start_time": "2021-06-05T10:03:39.930656Z"
    }
   },
   "outputs": [
    {
     "name": "stdout",
     "output_type": "stream",
     "text": [
      "Orignial Array:\n",
      " [21 23 25 27 29 31 33 35 37 39]\n",
      "After Boolean Condition: [31 33 35 37 39]\n"
     ]
    }
   ],
   "source": [
    "# Boolean indexing uses a Boolean expression in the place of indexes\n",
    "arr = np.arange(21, 41, 2)\n",
    "print(\"Orignial Array:\\n\",arr)\n",
    "# Boolean Indexing\n",
    "print(\"After Boolean Condition:\",arr[arr>30])"
   ]
  },
  {
   "cell_type": "code",
   "execution_count": 184,
   "metadata": {
    "ExecuteTime": {
     "end_time": "2021-06-05T10:17:47.048012Z",
     "start_time": "2021-06-05T10:17:47.039232Z"
    }
   },
   "outputs": [
    {
     "name": "stdout",
     "output_type": "stream",
     "text": [
      "Orignial Array:\n",
      " [[ 1  2  3  4]\n",
      " [ 5  6  7  8]\n",
      " [ 9 10 11 12]\n",
      " [13 14 15 16]\n",
      " [17 18 19 20]]\n",
      "Selected 1st and 2nd Row:\n",
      " [[ 5  6  7  8]\n",
      " [ 9 10 11 12]]\n",
      "Selected 1st and 2nd Row:\n",
      " [[13 14 15 16]\n",
      " [17 18 19 20]]\n"
     ]
    }
   ],
   "source": [
    "arr = np.arange(1, 21).reshape(5, 4)\n",
    "print(\"Orignial Array:\\n\",arr)\n",
    "# selecting 2nd and 3rd row\n",
    "ind = [1,2]\n",
    "print(\"Selected 1st and 2nd Row:\\n\", arr[ind])\n",
    "# selecting 3nd and 4th row\n",
    "ind = [3,4]\n",
    "print(\"Selected 1st and 2nd Row:\\n\", arr[ind])"
   ]
  },
  {
   "cell_type": "code",
   "execution_count": 185,
   "metadata": {
    "ExecuteTime": {
     "end_time": "2021-06-05T10:22:01.585967Z",
     "start_time": "2021-06-05T10:22:01.579439Z"
    }
   },
   "outputs": [
    {
     "name": "stdout",
     "output_type": "stream",
     "text": [
      "Selected Sub-Array: [ 7 12]\n"
     ]
    }
   ],
   "source": [
    "# create row and column indices\n",
    "row = np.array([1, 2])\n",
    "col = np.array([2, 3])\n",
    "print(\"Selected Sub-Array:\", arr[row, col])"
   ]
  },
  {
   "cell_type": "code",
   "execution_count": 190,
   "metadata": {
    "ExecuteTime": {
     "end_time": "2021-06-05T10:37:12.801361Z",
     "start_time": "2021-06-05T10:37:12.789739Z"
    }
   },
   "outputs": [
    {
     "name": "stdout",
     "output_type": "stream",
     "text": [
      "first matrix:\n",
      " [[1 2]\n",
      " [3 4]]\n",
      " second matrix:\n",
      " [[5 6]\n",
      " [7 8]]\n",
      "addition of two matrices:\n",
      " [[ 6  8]\n",
      " [10 12]]\n",
      "multiplication of two matrices:\n",
      " [[ 5 12]\n",
      " [21 32]]\n",
      "add a scalar value to the first matrix:\n",
      " [[4 5]\n",
      " [6 7]]\n",
      "multiply with a scalar value to the second matrix:\n",
      " [[15 18]\n",
      " [21 24]]\n"
     ]
    }
   ],
   "source": [
    "# broadcasting arrays\n",
    "arr1 = np.arange(1, 5).reshape(2, 2)\n",
    "arr2 = np.arange(5, 9).reshape(2, 2)\n",
    "print(f'first matrix:\\n {arr1}\\n second matrix:\\n {arr2}')\n",
    "print(f'addition of two matrices:\\n {arr1+arr2}')\n",
    "print(f'multiplication of two matrices:\\n {arr1*arr2}')\n",
    "print(f'add a scalar value to the first matrix:\\n {arr1+3}')\n",
    "print(f'multiply with a scalar value to the second matrix:\\n {arr2*3}')"
   ]
  }
 ],
 "metadata": {
  "kernelspec": {
   "display_name": "Python 3 (ipykernel)",
   "language": "python",
   "name": "python3"
  },
  "language_info": {
   "codemirror_mode": {
    "name": "ipython",
    "version": 3
   },
   "file_extension": ".py",
   "mimetype": "text/x-python",
   "name": "python",
   "nbconvert_exporter": "python",
   "pygments_lexer": "ipython3",
   "version": "3.9.13"
  },
  "toc": {
   "base_numbering": 1,
   "nav_menu": {},
   "number_sections": true,
   "sideBar": true,
   "skip_h1_title": false,
   "title_cell": "Table of Contents",
   "title_sidebar": "Contents",
   "toc_cell": false,
   "toc_position": {},
   "toc_section_display": true,
   "toc_window_display": false
  }
 },
 "nbformat": 4,
 "nbformat_minor": 4
}
