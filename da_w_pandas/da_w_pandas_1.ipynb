{
 "cells": [
  {
   "cell_type": "markdown",
   "id": "efeff45e",
   "metadata": {},
   "source": [
    "# Section 1: Getting Started with Pandas"
   ]
  },
  {
   "cell_type": "markdown",
   "id": "f282fc66",
   "metadata": {},
   "source": [
    "## NumPy arrays"
   ]
  },
  {
   "cell_type": "code",
   "execution_count": 2,
   "id": "ce01ca07",
   "metadata": {},
   "outputs": [],
   "source": [
    "import numpy as np"
   ]
  },
  {
   "cell_type": "code",
   "execution_count": 3,
   "id": "3f1538a1",
   "metadata": {},
   "outputs": [
    {
     "data": {
      "text/plain": [
       "array([('2018-10-13 11:10:23.560', '262km NW of Ozernovskiy, Russia', 'mww', 6.7, 'green', 1),\n",
       "       ('2018-10-13 04:34:15.580', '25km E of Bitung, Indonesia', 'mww', 5.2, 'green', 0),\n",
       "       ('2018-10-13 00:13:46.220', '42km WNW of Sola, Vanuatu', 'mww', 5.7, 'green', 0),\n",
       "       ('2018-10-12 21:09:49.240', '13km E of Nueva Concepcion, Guatemala', 'mww', 5.7, 'green', 0),\n",
       "       ('2018-10-12 02:52:03.620', '128km SE of Kimbe, Papua New Guinea', 'mww', 5.6, 'green', 1)],\n",
       "      dtype=[('time', '<U23'), ('place', '<U37'), ('magType', '<U3'), ('mag', '<f8'), ('alert', '<U5'), ('tsunami', '<i8')])"
      ]
     },
     "execution_count": 3,
     "metadata": {},
     "output_type": "execute_result"
    }
   ],
   "source": [
    "data = np.genfromtxt('data/example_data.csv', delimiter=';', names=True, dtype=None, encoding='UTF')\n",
    "data"
   ]
  },
  {
   "cell_type": "code",
   "execution_count": 4,
   "id": "05b0da80",
   "metadata": {},
   "outputs": [
    {
     "data": {
      "text/plain": [
       "(5,)"
      ]
     },
     "execution_count": 4,
     "metadata": {},
     "output_type": "execute_result"
    }
   ],
   "source": [
    "data.shape"
   ]
  },
  {
   "cell_type": "code",
   "execution_count": 5,
   "id": "cb33bb55",
   "metadata": {},
   "outputs": [
    {
     "data": {
      "text/plain": [
       "dtype([('time', '<U23'), ('place', '<U37'), ('magType', '<U3'), ('mag', '<f8'), ('alert', '<U5'), ('tsunami', '<i8')])"
      ]
     },
     "execution_count": 5,
     "metadata": {},
     "output_type": "execute_result"
    }
   ],
   "source": [
    "data.dtype"
   ]
  },
  {
   "cell_type": "code",
   "execution_count": 6,
   "id": "5973eac2",
   "metadata": {},
   "outputs": [
    {
     "name": "stdout",
     "output_type": "stream",
     "text": [
      "3.97 µs ± 44.9 ns per loop (mean ± std. dev. of 7 runs, 100000 loops each)\n"
     ]
    }
   ],
   "source": [
    "%%timeit\n",
    "max([row[3] for row in data])"
   ]
  },
  {
   "cell_type": "code",
   "execution_count": 7,
   "id": "66f107bc",
   "metadata": {},
   "outputs": [
    {
     "data": {
      "text/plain": [
       "6.7"
      ]
     },
     "execution_count": 7,
     "metadata": {},
     "output_type": "execute_result"
    }
   ],
   "source": [
    "max([row[3] for row in data])"
   ]
  },
  {
   "cell_type": "code",
   "execution_count": 8,
   "id": "c66477d8",
   "metadata": {},
   "outputs": [],
   "source": [
    "array_dict = {\n",
    "    col: np.array([row[i] for row in data])\n",
    "    for i, col in enumerate(data.dtype.names)}"
   ]
  },
  {
   "cell_type": "code",
   "execution_count": 9,
   "id": "8fff630b",
   "metadata": {},
   "outputs": [
    {
     "data": {
      "text/plain": [
       "{'time': array(['2018-10-13 11:10:23.560', '2018-10-13 04:34:15.580',\n",
       "        '2018-10-13 00:13:46.220', '2018-10-12 21:09:49.240',\n",
       "        '2018-10-12 02:52:03.620'], dtype='<U23'),\n",
       " 'place': array(['262km NW of Ozernovskiy, Russia', '25km E of Bitung, Indonesia',\n",
       "        '42km WNW of Sola, Vanuatu',\n",
       "        '13km E of Nueva Concepcion, Guatemala',\n",
       "        '128km SE of Kimbe, Papua New Guinea'], dtype='<U37'),\n",
       " 'magType': array(['mww', 'mww', 'mww', 'mww', 'mww'], dtype='<U3'),\n",
       " 'mag': array([6.7, 5.2, 5.7, 5.7, 5.6]),\n",
       " 'alert': array(['green', 'green', 'green', 'green', 'green'], dtype='<U5'),\n",
       " 'tsunami': array([1, 0, 0, 0, 1])}"
      ]
     },
     "execution_count": 9,
     "metadata": {},
     "output_type": "execute_result"
    }
   ],
   "source": [
    "array_dict"
   ]
  },
  {
   "cell_type": "code",
   "execution_count": 10,
   "id": "f89c979c",
   "metadata": {},
   "outputs": [
    {
     "name": "stdout",
     "output_type": "stream",
     "text": [
      "2.15 µs ± 89.1 ns per loop (mean ± std. dev. of 7 runs, 100000 loops each)\n"
     ]
    }
   ],
   "source": [
    "%%timeit\n",
    "array_dict['mag'].max()"
   ]
  },
  {
   "cell_type": "code",
   "execution_count": 11,
   "id": "305543a8",
   "metadata": {},
   "outputs": [
    {
     "data": {
      "text/plain": [
       "{'time': array(['2018-10-13 11:10:23.560', '2018-10-13 04:34:15.580',\n",
       "        '2018-10-13 00:13:46.220', '2018-10-12 21:09:49.240',\n",
       "        '2018-10-12 02:52:03.620'], dtype='<U23'),\n",
       " 'place': array(['262km NW of Ozernovskiy, Russia', '25km E of Bitung, Indonesia',\n",
       "        '42km WNW of Sola, Vanuatu',\n",
       "        '13km E of Nueva Concepcion, Guatemala',\n",
       "        '128km SE of Kimbe, Papua New Guinea'], dtype='<U37'),\n",
       " 'magType': array(['mww', 'mww', 'mww', 'mww', 'mww'], dtype='<U3'),\n",
       " 'mag': array([6.7, 5.2, 5.7, 5.7, 5.6]),\n",
       " 'alert': array(['green', 'green', 'green', 'green', 'green'], dtype='<U5'),\n",
       " 'tsunami': array([1, 0, 0, 0, 1])}"
      ]
     },
     "execution_count": 11,
     "metadata": {},
     "output_type": "execute_result"
    }
   ],
   "source": [
    "my_array = {}\n",
    "for i, col in enumerate(data.dtype.names):\n",
    "    elements =[]\n",
    "    for row in data:\n",
    "        elements.append(row[i])\n",
    "    my_array[col] = np.array(elements)\n",
    "my_array"
   ]
  },
  {
   "cell_type": "code",
   "execution_count": 12,
   "id": "da6ebc9a",
   "metadata": {},
   "outputs": [
    {
     "data": {
      "text/plain": [
       "array(['2018-10-13 11:10:23.560', '262km NW of Ozernovskiy, Russia',\n",
       "       'mww', '6.7', 'green', '1'], dtype='<U32')"
      ]
     },
     "execution_count": 12,
     "metadata": {},
     "output_type": "execute_result"
    }
   ],
   "source": [
    "np.array([\n",
    "    value[array_dict['mag'].argmax()]\n",
    "    for key, value in array_dict.items()])"
   ]
  },
  {
   "cell_type": "markdown",
   "id": "bba0be31",
   "metadata": {},
   "source": [
    "## Series\n",
    "\n",
    "The Series class provides a data structure for arrays of a single type, just like the NumPy\n",
    "array. However, it comes with some additional functionality. This one-dimensional\n",
    "representation can be thought of as a column in a spreadsheet. We have a name for our\n",
    "column, and the data we hold in it is of the same type (since we are measuring the same\n",
    "variable):"
   ]
  },
  {
   "cell_type": "code",
   "execution_count": 13,
   "id": "80674654",
   "metadata": {},
   "outputs": [],
   "source": [
    "import pandas as pd"
   ]
  },
  {
   "cell_type": "code",
   "execution_count": 14,
   "id": "6ef8ef82",
   "metadata": {},
   "outputs": [
    {
     "data": {
      "text/plain": [
       "0          262km NW of Ozernovskiy, Russia\n",
       "1              25km E of Bitung, Indonesia\n",
       "2                42km WNW of Sola, Vanuatu\n",
       "3    13km E of Nueva Concepcion, Guatemala\n",
       "4      128km SE of Kimbe, Papua New Guinea\n",
       "Name: place, dtype: object"
      ]
     },
     "execution_count": 14,
     "metadata": {},
     "output_type": "execute_result"
    }
   ],
   "source": [
    "place = pd.Series(array_dict['place'], name='place')\n",
    "place"
   ]
  },
  {
   "cell_type": "code",
   "execution_count": 15,
   "id": "521d34b6",
   "metadata": {},
   "outputs": [
    {
     "data": {
      "text/plain": [
       "'place'"
      ]
     },
     "execution_count": 15,
     "metadata": {},
     "output_type": "execute_result"
    }
   ],
   "source": [
    "place.name"
   ]
  },
  {
   "cell_type": "code",
   "execution_count": 16,
   "id": "6240c2e7",
   "metadata": {},
   "outputs": [
    {
     "data": {
      "text/plain": [
       "dtype('O')"
      ]
     },
     "execution_count": 16,
     "metadata": {},
     "output_type": "execute_result"
    }
   ],
   "source": [
    "place.dtype"
   ]
  },
  {
   "cell_type": "code",
   "execution_count": 17,
   "id": "0e7bff20",
   "metadata": {},
   "outputs": [
    {
     "data": {
      "text/plain": [
       "(5,)"
      ]
     },
     "execution_count": 17,
     "metadata": {},
     "output_type": "execute_result"
    }
   ],
   "source": [
    "place.shape"
   ]
  },
  {
   "cell_type": "code",
   "execution_count": 18,
   "id": "7ba15247",
   "metadata": {},
   "outputs": [
    {
     "data": {
      "text/plain": [
       "RangeIndex(start=0, stop=5, step=1)"
      ]
     },
     "execution_count": 18,
     "metadata": {},
     "output_type": "execute_result"
    }
   ],
   "source": [
    "place.index"
   ]
  },
  {
   "cell_type": "code",
   "execution_count": 19,
   "id": "89c41368",
   "metadata": {},
   "outputs": [
    {
     "data": {
      "text/plain": [
       "array(['262km NW of Ozernovskiy, Russia', '25km E of Bitung, Indonesia',\n",
       "       '42km WNW of Sola, Vanuatu',\n",
       "       '13km E of Nueva Concepcion, Guatemala',\n",
       "       '128km SE of Kimbe, Papua New Guinea'], dtype=object)"
      ]
     },
     "execution_count": 19,
     "metadata": {},
     "output_type": "execute_result"
    }
   ],
   "source": [
    "place.values"
   ]
  },
  {
   "cell_type": "code",
   "execution_count": 20,
   "id": "b13035dc",
   "metadata": {},
   "outputs": [
    {
     "data": {
      "text/plain": [
       "array([0, 1, 2, 3, 4])"
      ]
     },
     "execution_count": 20,
     "metadata": {},
     "output_type": "execute_result"
    }
   ],
   "source": [
    "place.index.values"
   ]
  },
  {
   "cell_type": "code",
   "execution_count": 21,
   "id": "de119da7",
   "metadata": {},
   "outputs": [
    {
     "data": {
      "text/plain": [
       "array([ 0. ,  2.5,  5. ,  7.5, 10. ])"
      ]
     },
     "execution_count": 21,
     "metadata": {},
     "output_type": "execute_result"
    }
   ],
   "source": [
    "numbers = np.linspace(0, 10, num=5)\n",
    "numbers"
   ]
  },
  {
   "cell_type": "code",
   "execution_count": 22,
   "id": "2e690a94",
   "metadata": {},
   "outputs": [
    {
     "data": {
      "text/plain": [
       "0     NaN\n",
       "1     2.5\n",
       "2     7.5\n",
       "3    12.5\n",
       "4    17.5\n",
       "5     NaN\n",
       "dtype: float64"
      ]
     },
     "execution_count": 22,
     "metadata": {},
     "output_type": "execute_result"
    }
   ],
   "source": [
    "x = pd.Series(numbers)\n",
    "y = pd.Series(numbers, index=pd.Index([1, 2, 3, 4, 5]))\n",
    "x + y"
   ]
  },
  {
   "cell_type": "markdown",
   "id": "597ef48c",
   "metadata": {},
   "source": [
    "## Data Frames"
   ]
  },
  {
   "cell_type": "code",
   "execution_count": 23,
   "id": "a7e6782b",
   "metadata": {},
   "outputs": [
    {
     "data": {
      "text/html": [
       "<div>\n",
       "<style scoped>\n",
       "    .dataframe tbody tr th:only-of-type {\n",
       "        vertical-align: middle;\n",
       "    }\n",
       "\n",
       "    .dataframe tbody tr th {\n",
       "        vertical-align: top;\n",
       "    }\n",
       "\n",
       "    .dataframe thead th {\n",
       "        text-align: right;\n",
       "    }\n",
       "</style>\n",
       "<table border=\"1\" class=\"dataframe\">\n",
       "  <thead>\n",
       "    <tr style=\"text-align: right;\">\n",
       "      <th></th>\n",
       "      <th>time</th>\n",
       "      <th>place</th>\n",
       "      <th>magType</th>\n",
       "      <th>mag</th>\n",
       "      <th>alert</th>\n",
       "      <th>tsunami</th>\n",
       "    </tr>\n",
       "  </thead>\n",
       "  <tbody>\n",
       "    <tr>\n",
       "      <th>0</th>\n",
       "      <td>2018-10-13 11:10:23.560</td>\n",
       "      <td>262km NW of Ozernovskiy, Russia</td>\n",
       "      <td>mww</td>\n",
       "      <td>6.7</td>\n",
       "      <td>green</td>\n",
       "      <td>1</td>\n",
       "    </tr>\n",
       "    <tr>\n",
       "      <th>1</th>\n",
       "      <td>2018-10-13 04:34:15.580</td>\n",
       "      <td>25km E of Bitung, Indonesia</td>\n",
       "      <td>mww</td>\n",
       "      <td>5.2</td>\n",
       "      <td>green</td>\n",
       "      <td>0</td>\n",
       "    </tr>\n",
       "    <tr>\n",
       "      <th>2</th>\n",
       "      <td>2018-10-13 00:13:46.220</td>\n",
       "      <td>42km WNW of Sola, Vanuatu</td>\n",
       "      <td>mww</td>\n",
       "      <td>5.7</td>\n",
       "      <td>green</td>\n",
       "      <td>0</td>\n",
       "    </tr>\n",
       "    <tr>\n",
       "      <th>3</th>\n",
       "      <td>2018-10-12 21:09:49.240</td>\n",
       "      <td>13km E of Nueva Concepcion, Guatemala</td>\n",
       "      <td>mww</td>\n",
       "      <td>5.7</td>\n",
       "      <td>green</td>\n",
       "      <td>0</td>\n",
       "    </tr>\n",
       "    <tr>\n",
       "      <th>4</th>\n",
       "      <td>2018-10-12 02:52:03.620</td>\n",
       "      <td>128km SE of Kimbe, Papua New Guinea</td>\n",
       "      <td>mww</td>\n",
       "      <td>5.6</td>\n",
       "      <td>green</td>\n",
       "      <td>1</td>\n",
       "    </tr>\n",
       "  </tbody>\n",
       "</table>\n",
       "</div>"
      ],
      "text/plain": [
       "                      time                                  place magType  \\\n",
       "0  2018-10-13 11:10:23.560        262km NW of Ozernovskiy, Russia     mww   \n",
       "1  2018-10-13 04:34:15.580            25km E of Bitung, Indonesia     mww   \n",
       "2  2018-10-13 00:13:46.220              42km WNW of Sola, Vanuatu     mww   \n",
       "3  2018-10-12 21:09:49.240  13km E of Nueva Concepcion, Guatemala     mww   \n",
       "4  2018-10-12 02:52:03.620    128km SE of Kimbe, Papua New Guinea     mww   \n",
       "\n",
       "   mag  alert  tsunami  \n",
       "0  6.7  green        1  \n",
       "1  5.2  green        0  \n",
       "2  5.7  green        0  \n",
       "3  5.7  green        0  \n",
       "4  5.6  green        1  "
      ]
     },
     "execution_count": 23,
     "metadata": {},
     "output_type": "execute_result"
    }
   ],
   "source": [
    "df = pd.DataFrame(array_dict)\n",
    "df"
   ]
  },
  {
   "cell_type": "code",
   "execution_count": 24,
   "id": "c1fdb763",
   "metadata": {},
   "outputs": [
    {
     "data": {
      "text/plain": [
       "array([['2018-10-13 11:10:23.560', '262km NW of Ozernovskiy, Russia',\n",
       "        'mww', 6.7, 'green', 1],\n",
       "       ['2018-10-13 04:34:15.580', '25km E of Bitung, Indonesia', 'mww',\n",
       "        5.2, 'green', 0],\n",
       "       ['2018-10-13 00:13:46.220', '42km WNW of Sola, Vanuatu', 'mww',\n",
       "        5.7, 'green', 0],\n",
       "       ['2018-10-12 21:09:49.240',\n",
       "        '13km E of Nueva Concepcion, Guatemala', 'mww', 5.7, 'green', 0],\n",
       "       ['2018-10-12 02:52:03.620', '128km SE of Kimbe, Papua New Guinea',\n",
       "        'mww', 5.6, 'green', 1]], dtype=object)"
      ]
     },
     "execution_count": 24,
     "metadata": {},
     "output_type": "execute_result"
    }
   ],
   "source": [
    "df.values"
   ]
  },
  {
   "cell_type": "code",
   "execution_count": 25,
   "id": "0a0328d2",
   "metadata": {},
   "outputs": [
    {
     "data": {
      "text/plain": [
       "Index(['time', 'place', 'magType', 'mag', 'alert', 'tsunami'], dtype='object')"
      ]
     },
     "execution_count": 25,
     "metadata": {},
     "output_type": "execute_result"
    }
   ],
   "source": [
    "df.columns"
   ]
  },
  {
   "cell_type": "code",
   "execution_count": 26,
   "id": "c61adc3f",
   "metadata": {},
   "outputs": [
    {
     "data": {
      "text/plain": [
       "array([0, 1, 2, 3, 4])"
      ]
     },
     "execution_count": 26,
     "metadata": {},
     "output_type": "execute_result"
    }
   ],
   "source": [
    "df.index.values"
   ]
  },
  {
   "cell_type": "code",
   "execution_count": 27,
   "id": "a2e16925",
   "metadata": {},
   "outputs": [
    {
     "data": {
      "text/plain": [
       "0          262km NW of Ozernovskiy, Russia\n",
       "1              25km E of Bitung, Indonesia\n",
       "2                42km WNW of Sola, Vanuatu\n",
       "3    13km E of Nueva Concepcion, Guatemala\n",
       "4      128km SE of Kimbe, Papua New Guinea\n",
       "Name: place, dtype: object"
      ]
     },
     "execution_count": 27,
     "metadata": {},
     "output_type": "execute_result"
    }
   ],
   "source": [
    "df.place"
   ]
  },
  {
   "cell_type": "code",
   "execution_count": 28,
   "id": "987470a9",
   "metadata": {},
   "outputs": [
    {
     "data": {
      "text/plain": [
       "(5, 6)"
      ]
     },
     "execution_count": 28,
     "metadata": {},
     "output_type": "execute_result"
    }
   ],
   "source": [
    "df.shape"
   ]
  },
  {
   "cell_type": "code",
   "execution_count": 29,
   "id": "5c5ffae0",
   "metadata": {},
   "outputs": [
    {
     "data": {
      "text/plain": [
       "time        object\n",
       "place       object\n",
       "magType     object\n",
       "mag        float64\n",
       "alert       object\n",
       "tsunami      int64\n",
       "dtype: object"
      ]
     },
     "execution_count": 29,
     "metadata": {},
     "output_type": "execute_result"
    }
   ],
   "source": [
    "df.dtypes"
   ]
  },
  {
   "cell_type": "code",
   "execution_count": 30,
   "id": "b99e8c29",
   "metadata": {},
   "outputs": [],
   "source": [
    "pd.read_csv??"
   ]
  },
  {
   "cell_type": "code",
   "execution_count": 31,
   "id": "57a1d829",
   "metadata": {},
   "outputs": [],
   "source": [
    "import datetime as dt"
   ]
  },
  {
   "cell_type": "code",
   "execution_count": 32,
   "id": "875f1906",
   "metadata": {},
   "outputs": [
    {
     "data": {
      "text/plain": [
       "0    0.548814\n",
       "1    0.715189\n",
       "2    0.602763\n",
       "3    0.544883\n",
       "4    0.423655\n",
       "Name: random, dtype: float64"
      ]
     },
     "execution_count": 32,
     "metadata": {},
     "output_type": "execute_result"
    }
   ],
   "source": [
    "np.random.seed(0)\n",
    "pd.Series(np.random.rand(5), name='random')"
   ]
  },
  {
   "cell_type": "code",
   "execution_count": 33,
   "id": "09ee9480",
   "metadata": {},
   "outputs": [
    {
     "data": {
      "text/html": [
       "<div>\n",
       "<style scoped>\n",
       "    .dataframe tbody tr th:only-of-type {\n",
       "        vertical-align: middle;\n",
       "    }\n",
       "\n",
       "    .dataframe tbody tr th {\n",
       "        vertical-align: top;\n",
       "    }\n",
       "\n",
       "    .dataframe thead th {\n",
       "        text-align: right;\n",
       "    }\n",
       "</style>\n",
       "<table border=\"1\" class=\"dataframe\">\n",
       "  <thead>\n",
       "    <tr style=\"text-align: right;\">\n",
       "      <th></th>\n",
       "      <th>random</th>\n",
       "      <th>text</th>\n",
       "      <th>truth</th>\n",
       "    </tr>\n",
       "    <tr>\n",
       "      <th>date</th>\n",
       "      <th></th>\n",
       "      <th></th>\n",
       "      <th></th>\n",
       "    </tr>\n",
       "  </thead>\n",
       "  <tbody>\n",
       "    <tr>\n",
       "      <th>2019-04-17</th>\n",
       "      <td>0.645894</td>\n",
       "      <td>hot</td>\n",
       "      <td>True</td>\n",
       "    </tr>\n",
       "    <tr>\n",
       "      <th>2019-04-18</th>\n",
       "      <td>0.437587</td>\n",
       "      <td>warm</td>\n",
       "      <td>False</td>\n",
       "    </tr>\n",
       "    <tr>\n",
       "      <th>2019-04-19</th>\n",
       "      <td>0.891773</td>\n",
       "      <td>cool</td>\n",
       "      <td>False</td>\n",
       "    </tr>\n",
       "    <tr>\n",
       "      <th>2019-04-20</th>\n",
       "      <td>0.963663</td>\n",
       "      <td>cold</td>\n",
       "      <td>True</td>\n",
       "    </tr>\n",
       "    <tr>\n",
       "      <th>2019-04-21</th>\n",
       "      <td>0.383442</td>\n",
       "      <td>None</td>\n",
       "      <td>True</td>\n",
       "    </tr>\n",
       "  </tbody>\n",
       "</table>\n",
       "</div>"
      ],
      "text/plain": [
       "              random  text  truth\n",
       "date                             \n",
       "2019-04-17  0.645894   hot   True\n",
       "2019-04-18  0.437587  warm  False\n",
       "2019-04-19  0.891773  cool  False\n",
       "2019-04-20  0.963663  cold   True\n",
       "2019-04-21  0.383442  None   True"
      ]
     },
     "execution_count": 33,
     "metadata": {},
     "output_type": "execute_result"
    }
   ],
   "source": [
    "pd.DataFrame(\n",
    "    {\n",
    "        'random': np.random.rand(5),\n",
    "        'text': ['hot', 'warm', 'cool', 'cold', None],\n",
    "        'truth': [np.random.choice([True, False]) for _ in range(5)]\n",
    "    },\n",
    "    index = pd.date_range(\n",
    "        end=dt.date(2019, 4, 21),\n",
    "        freq='1D',\n",
    "        periods=5,\n",
    "        name='date'))"
   ]
  },
  {
   "cell_type": "code",
   "execution_count": 34,
   "id": "724712e5",
   "metadata": {},
   "outputs": [
    {
     "data": {
      "text/html": [
       "<div>\n",
       "<style scoped>\n",
       "    .dataframe tbody tr th:only-of-type {\n",
       "        vertical-align: middle;\n",
       "    }\n",
       "\n",
       "    .dataframe tbody tr th {\n",
       "        vertical-align: top;\n",
       "    }\n",
       "\n",
       "    .dataframe thead th {\n",
       "        text-align: right;\n",
       "    }\n",
       "</style>\n",
       "<table border=\"1\" class=\"dataframe\">\n",
       "  <thead>\n",
       "    <tr style=\"text-align: right;\">\n",
       "      <th></th>\n",
       "      <th>mag</th>\n",
       "      <th>place</th>\n",
       "    </tr>\n",
       "  </thead>\n",
       "  <tbody>\n",
       "    <tr>\n",
       "      <th>0</th>\n",
       "      <td>5.2</td>\n",
       "      <td>California</td>\n",
       "    </tr>\n",
       "    <tr>\n",
       "      <th>1</th>\n",
       "      <td>1.2</td>\n",
       "      <td>Alaska</td>\n",
       "    </tr>\n",
       "    <tr>\n",
       "      <th>2</th>\n",
       "      <td>0.2</td>\n",
       "      <td>California</td>\n",
       "    </tr>\n",
       "  </tbody>\n",
       "</table>\n",
       "</div>"
      ],
      "text/plain": [
       "   mag       place\n",
       "0  5.2  California\n",
       "1  1.2      Alaska\n",
       "2  0.2  California"
      ]
     },
     "execution_count": 34,
     "metadata": {},
     "output_type": "execute_result"
    }
   ],
   "source": [
    "pd.DataFrame([\n",
    "    {'mag': 5.2, 'place': 'California'},\n",
    "    {'mag': 1.2, 'place': 'Alaska'},\n",
    "    {'mag': 0.2, 'place': 'California'}\n",
    "])"
   ]
  },
  {
   "cell_type": "code",
   "execution_count": 35,
   "id": "4276d676",
   "metadata": {},
   "outputs": [
    {
     "data": {
      "text/html": [
       "<div>\n",
       "<style scoped>\n",
       "    .dataframe tbody tr th:only-of-type {\n",
       "        vertical-align: middle;\n",
       "    }\n",
       "\n",
       "    .dataframe tbody tr th {\n",
       "        vertical-align: top;\n",
       "    }\n",
       "\n",
       "    .dataframe thead th {\n",
       "        text-align: right;\n",
       "    }\n",
       "</style>\n",
       "<table border=\"1\" class=\"dataframe\">\n",
       "  <thead>\n",
       "    <tr style=\"text-align: right;\">\n",
       "      <th></th>\n",
       "      <th>n</th>\n",
       "      <th>n_squared</th>\n",
       "      <th>n_cubed</th>\n",
       "    </tr>\n",
       "  </thead>\n",
       "  <tbody>\n",
       "    <tr>\n",
       "      <th>0</th>\n",
       "      <td>0</td>\n",
       "      <td>0</td>\n",
       "      <td>0</td>\n",
       "    </tr>\n",
       "    <tr>\n",
       "      <th>1</th>\n",
       "      <td>1</td>\n",
       "      <td>1</td>\n",
       "      <td>1</td>\n",
       "    </tr>\n",
       "    <tr>\n",
       "      <th>2</th>\n",
       "      <td>2</td>\n",
       "      <td>4</td>\n",
       "      <td>8</td>\n",
       "    </tr>\n",
       "    <tr>\n",
       "      <th>3</th>\n",
       "      <td>3</td>\n",
       "      <td>9</td>\n",
       "      <td>27</td>\n",
       "    </tr>\n",
       "    <tr>\n",
       "      <th>4</th>\n",
       "      <td>4</td>\n",
       "      <td>16</td>\n",
       "      <td>64</td>\n",
       "    </tr>\n",
       "  </tbody>\n",
       "</table>\n",
       "</div>"
      ],
      "text/plain": [
       "   n  n_squared  n_cubed\n",
       "0  0          0        0\n",
       "1  1          1        1\n",
       "2  2          4        8\n",
       "3  3          9       27\n",
       "4  4         16       64"
      ]
     },
     "execution_count": 35,
     "metadata": {},
     "output_type": "execute_result"
    }
   ],
   "source": [
    "list_of_tuples = [(n, n**2, n**3) for n in range(5)]\n",
    "pd.DataFrame(\n",
    "    list_of_tuples,\n",
    "    columns=['n', 'n_squared', 'n_cubed'])"
   ]
  },
  {
   "cell_type": "markdown",
   "id": "404cb5c8",
   "metadata": {},
   "source": [
    "Before read a data file let's inspect it."
   ]
  },
  {
   "cell_type": "markdown",
   "id": "b455f38d",
   "metadata": {},
   "source": [
    "### Reading df from file"
   ]
  },
  {
   "cell_type": "code",
   "execution_count": 36,
   "id": "1123a157",
   "metadata": {},
   "outputs": [
    {
     "name": "stdout",
     "output_type": "stream",
     "text": [
      "    9333 data/earthquakes.csv\r\n"
     ]
    }
   ],
   "source": [
    "!wc -l data/earthquakes.csv"
   ]
  },
  {
   "cell_type": "code",
   "execution_count": 37,
   "id": "521fffea",
   "metadata": {},
   "outputs": [
    {
     "name": "stdout",
     "output_type": "stream",
     "text": [
      "/Users/April/Projects/!_new_wave/_in_progress/da_w_pandas\r\n"
     ]
    }
   ],
   "source": [
    "!pwd"
   ]
  },
  {
   "cell_type": "code",
   "execution_count": 38,
   "id": "98e72789",
   "metadata": {},
   "outputs": [
    {
     "name": "stdout",
     "output_type": "stream",
     "text": [
      "-rw-r--r--@ 1 April  staff   3.4M Jul 21 08:05 earthquakes.csv\r\n"
     ]
    }
   ],
   "source": [
    "!ls -lh data | grep earthquakes.csv"
   ]
  },
  {
   "cell_type": "code",
   "execution_count": 39,
   "id": "f9e72d53",
   "metadata": {},
   "outputs": [
    {
     "data": {
      "text/plain": [
       "['-rw-r--r--@ 1 April  staff   3.4M Jul 21 08:05 earthquakes.csv']"
      ]
     },
     "execution_count": 39,
     "metadata": {},
     "output_type": "execute_result"
    }
   ],
   "source": [
    "files = !ls -lh data\n",
    "[file for file in files if 'earthquake' in file]"
   ]
  },
  {
   "cell_type": "code",
   "execution_count": 40,
   "id": "4a955a78",
   "metadata": {},
   "outputs": [
    {
     "name": "stdout",
     "output_type": "stream",
     "text": [
      "alert,cdi,code,detail,dmin,felt,gap,ids,mag,magType,mmi,net,nst,place,rms,sig,sources,status,time,title,tsunami,type,types,tz,updated,url\r\n",
      ",,37389218,https://earthquake.usgs.gov/fdsnws/event/1/query?eventid=ci37389218&format=geojson,0.008693,,85.0,\",ci37389218,\",1.35,ml,,ci,26.0,\"9km NE of Aguanga, CA\",0.19,28,\",ci,\",automatic,1539475168010,\"M 1.4 - 9km NE of Aguanga, CA\",0,earthquake,\",geoserve,nearby-cities,origin,phase-data,\",-480.0,1539475395144,https://earthquake.usgs.gov/earthquakes/eventpage/ci37389218\r\n"
     ]
    }
   ],
   "source": [
    "# let's take a look at the top few rows to see if the file comes with headers\n",
    "!head -n 2 data/earthquakes.csv"
   ]
  },
  {
   "cell_type": "code",
   "execution_count": 41,
   "id": "b50ff242",
   "metadata": {},
   "outputs": [
    {
     "name": "stdout",
     "output_type": "stream",
     "text": [
      ",,38063959,https://earthquake.usgs.gov/fdsnws/event/1/query?eventid=ci38063959&format=geojson,0.01865,,61.0,\",ci38063959,\",1.1,ml,,ci,27.0,\"9km NE of Aguanga, CA\",0.1,19,\",ci,\",reviewed,1537229545350,\"M 1.1 - 9km NE of Aguanga, CA\",0,earthquake,\",focal-mechanism,geoserve,nearby-cities,origin,phase-data,scitech-link,\",-480.0,1537230211640,https://earthquake.usgs.gov/earthquakes/eventpage/ci38063959\r\n",
      ",,38063935,https://earthquake.usgs.gov/fdsnws/event/1/query?eventid=ci38063935&format=geojson,0.01698,,39.0,\",ci38063935,\",0.66,ml,,ci,24.0,\"9km NE of Aguanga, CA\",0.1,7,\",ci,\",reviewed,1537228864470,\"M 0.7 - 9km NE of Aguanga, CA\",0,earthquake,\",focal-mechanism,geoserve,nearby-cities,origin,phase-data,scitech-link,\",-480.0,1537305830770,https://earthquake.usgs.gov/earthquakes/eventpage/ci38063935\r\n"
     ]
    }
   ],
   "source": [
    "# check the bottom rows to make sure there is no extraneous data that we will need to ignore\n",
    "!tail -n 2 data/earthquakes.csv"
   ]
  },
  {
   "cell_type": "code",
   "execution_count": 42,
   "id": "107a69c5",
   "metadata": {},
   "outputs": [
    {
     "name": "stdout",
     "output_type": "stream",
     "text": [
      "26\r\n"
     ]
    }
   ],
   "source": [
    "# the column count in our data\n",
    "# using the awk utility for pattern scanning and processing\n",
    "# the -F flag allows us to specify the delimiter\n",
    "!awk -F',' '{print NF; exit}' data/earthquakes.csv"
   ]
  },
  {
   "cell_type": "code",
   "execution_count": 43,
   "id": "8e8ec188",
   "metadata": {},
   "outputs": [
    {
     "data": {
      "text/plain": [
       "26"
      ]
     },
     "execution_count": 43,
     "metadata": {},
     "output_type": "execute_result"
    }
   ],
   "source": [
    "# since we know that the first line of the file contains headers and that the file is\n",
    "# comma-separated, we can also count the columns by using head to get the headers\n",
    "# and Python to parse them\n",
    "headers = !head -n 1 data/earthquakes.csv\n",
    "len(headers[0].split(','))"
   ]
  },
  {
   "cell_type": "code",
   "execution_count": 44,
   "id": "fc1d19b4",
   "metadata": {},
   "outputs": [],
   "source": [
    "df = pd.read_csv('data/earthquakes.csv')"
   ]
  },
  {
   "cell_type": "code",
   "execution_count": 45,
   "id": "3f111db6",
   "metadata": {},
   "outputs": [
    {
     "data": {
      "text/plain": [
       "(9332, 26)"
      ]
     },
     "execution_count": 45,
     "metadata": {},
     "output_type": "execute_result"
    }
   ],
   "source": [
    "df.shape"
   ]
  },
  {
   "cell_type": "code",
   "execution_count": 46,
   "id": "61cd9beb",
   "metadata": {},
   "outputs": [
    {
     "data": {
      "text/html": [
       "<div>\n",
       "<style scoped>\n",
       "    .dataframe tbody tr th:only-of-type {\n",
       "        vertical-align: middle;\n",
       "    }\n",
       "\n",
       "    .dataframe tbody tr th {\n",
       "        vertical-align: top;\n",
       "    }\n",
       "\n",
       "    .dataframe thead th {\n",
       "        text-align: right;\n",
       "    }\n",
       "</style>\n",
       "<table border=\"1\" class=\"dataframe\">\n",
       "  <thead>\n",
       "    <tr style=\"text-align: right;\">\n",
       "      <th></th>\n",
       "      <th>cdi</th>\n",
       "      <th>dmin</th>\n",
       "      <th>felt</th>\n",
       "      <th>gap</th>\n",
       "      <th>mag</th>\n",
       "      <th>mmi</th>\n",
       "      <th>nst</th>\n",
       "      <th>rms</th>\n",
       "      <th>sig</th>\n",
       "      <th>time</th>\n",
       "      <th>tsunami</th>\n",
       "      <th>tz</th>\n",
       "      <th>updated</th>\n",
       "    </tr>\n",
       "  </thead>\n",
       "  <tbody>\n",
       "    <tr>\n",
       "      <th>count</th>\n",
       "      <td>329.000000</td>\n",
       "      <td>6139.000000</td>\n",
       "      <td>329.000000</td>\n",
       "      <td>6164.000000</td>\n",
       "      <td>9331.000000</td>\n",
       "      <td>93.000000</td>\n",
       "      <td>5364.000000</td>\n",
       "      <td>9332.000000</td>\n",
       "      <td>9332.000000</td>\n",
       "      <td>9.332000e+03</td>\n",
       "      <td>9332.000000</td>\n",
       "      <td>9331.000000</td>\n",
       "      <td>9.332000e+03</td>\n",
       "    </tr>\n",
       "    <tr>\n",
       "      <th>mean</th>\n",
       "      <td>2.754711</td>\n",
       "      <td>0.544925</td>\n",
       "      <td>12.310030</td>\n",
       "      <td>121.506588</td>\n",
       "      <td>1.497345</td>\n",
       "      <td>3.651398</td>\n",
       "      <td>19.053878</td>\n",
       "      <td>0.362122</td>\n",
       "      <td>56.899914</td>\n",
       "      <td>1.538284e+12</td>\n",
       "      <td>0.006537</td>\n",
       "      <td>-451.990140</td>\n",
       "      <td>1.538537e+12</td>\n",
       "    </tr>\n",
       "    <tr>\n",
       "      <th>std</th>\n",
       "      <td>1.010637</td>\n",
       "      <td>2.214305</td>\n",
       "      <td>48.954944</td>\n",
       "      <td>72.962363</td>\n",
       "      <td>1.203347</td>\n",
       "      <td>1.790523</td>\n",
       "      <td>15.492315</td>\n",
       "      <td>0.317784</td>\n",
       "      <td>91.872163</td>\n",
       "      <td>6.080306e+08</td>\n",
       "      <td>0.080589</td>\n",
       "      <td>231.752571</td>\n",
       "      <td>6.564135e+08</td>\n",
       "    </tr>\n",
       "    <tr>\n",
       "      <th>min</th>\n",
       "      <td>0.000000</td>\n",
       "      <td>0.000648</td>\n",
       "      <td>0.000000</td>\n",
       "      <td>12.000000</td>\n",
       "      <td>-1.260000</td>\n",
       "      <td>0.000000</td>\n",
       "      <td>0.000000</td>\n",
       "      <td>0.000000</td>\n",
       "      <td>0.000000</td>\n",
       "      <td>1.537229e+12</td>\n",
       "      <td>0.000000</td>\n",
       "      <td>-720.000000</td>\n",
       "      <td>1.537230e+12</td>\n",
       "    </tr>\n",
       "    <tr>\n",
       "      <th>25%</th>\n",
       "      <td>2.000000</td>\n",
       "      <td>0.020425</td>\n",
       "      <td>1.000000</td>\n",
       "      <td>66.142500</td>\n",
       "      <td>0.720000</td>\n",
       "      <td>2.680000</td>\n",
       "      <td>8.000000</td>\n",
       "      <td>0.119675</td>\n",
       "      <td>8.000000</td>\n",
       "      <td>1.537793e+12</td>\n",
       "      <td>0.000000</td>\n",
       "      <td>-540.000000</td>\n",
       "      <td>1.537996e+12</td>\n",
       "    </tr>\n",
       "    <tr>\n",
       "      <th>50%</th>\n",
       "      <td>2.700000</td>\n",
       "      <td>0.059050</td>\n",
       "      <td>2.000000</td>\n",
       "      <td>105.000000</td>\n",
       "      <td>1.300000</td>\n",
       "      <td>3.720000</td>\n",
       "      <td>15.000000</td>\n",
       "      <td>0.210000</td>\n",
       "      <td>26.000000</td>\n",
       "      <td>1.538245e+12</td>\n",
       "      <td>0.000000</td>\n",
       "      <td>-480.000000</td>\n",
       "      <td>1.538621e+12</td>\n",
       "    </tr>\n",
       "    <tr>\n",
       "      <th>75%</th>\n",
       "      <td>3.300000</td>\n",
       "      <td>0.177250</td>\n",
       "      <td>5.000000</td>\n",
       "      <td>159.000000</td>\n",
       "      <td>1.900000</td>\n",
       "      <td>4.570000</td>\n",
       "      <td>25.000000</td>\n",
       "      <td>0.590000</td>\n",
       "      <td>56.000000</td>\n",
       "      <td>1.538766e+12</td>\n",
       "      <td>0.000000</td>\n",
       "      <td>-480.000000</td>\n",
       "      <td>1.539110e+12</td>\n",
       "    </tr>\n",
       "    <tr>\n",
       "      <th>max</th>\n",
       "      <td>8.400000</td>\n",
       "      <td>53.737000</td>\n",
       "      <td>580.000000</td>\n",
       "      <td>355.910000</td>\n",
       "      <td>7.500000</td>\n",
       "      <td>9.120000</td>\n",
       "      <td>172.000000</td>\n",
       "      <td>1.910000</td>\n",
       "      <td>2015.000000</td>\n",
       "      <td>1.539475e+12</td>\n",
       "      <td>1.000000</td>\n",
       "      <td>720.000000</td>\n",
       "      <td>1.539537e+12</td>\n",
       "    </tr>\n",
       "  </tbody>\n",
       "</table>\n",
       "</div>"
      ],
      "text/plain": [
       "              cdi         dmin        felt          gap          mag  \\\n",
       "count  329.000000  6139.000000  329.000000  6164.000000  9331.000000   \n",
       "mean     2.754711     0.544925   12.310030   121.506588     1.497345   \n",
       "std      1.010637     2.214305   48.954944    72.962363     1.203347   \n",
       "min      0.000000     0.000648    0.000000    12.000000    -1.260000   \n",
       "25%      2.000000     0.020425    1.000000    66.142500     0.720000   \n",
       "50%      2.700000     0.059050    2.000000   105.000000     1.300000   \n",
       "75%      3.300000     0.177250    5.000000   159.000000     1.900000   \n",
       "max      8.400000    53.737000  580.000000   355.910000     7.500000   \n",
       "\n",
       "             mmi          nst          rms          sig          time  \\\n",
       "count  93.000000  5364.000000  9332.000000  9332.000000  9.332000e+03   \n",
       "mean    3.651398    19.053878     0.362122    56.899914  1.538284e+12   \n",
       "std     1.790523    15.492315     0.317784    91.872163  6.080306e+08   \n",
       "min     0.000000     0.000000     0.000000     0.000000  1.537229e+12   \n",
       "25%     2.680000     8.000000     0.119675     8.000000  1.537793e+12   \n",
       "50%     3.720000    15.000000     0.210000    26.000000  1.538245e+12   \n",
       "75%     4.570000    25.000000     0.590000    56.000000  1.538766e+12   \n",
       "max     9.120000   172.000000     1.910000  2015.000000  1.539475e+12   \n",
       "\n",
       "           tsunami           tz       updated  \n",
       "count  9332.000000  9331.000000  9.332000e+03  \n",
       "mean      0.006537  -451.990140  1.538537e+12  \n",
       "std       0.080589   231.752571  6.564135e+08  \n",
       "min       0.000000  -720.000000  1.537230e+12  \n",
       "25%       0.000000  -540.000000  1.537996e+12  \n",
       "50%       0.000000  -480.000000  1.538621e+12  \n",
       "75%       0.000000  -480.000000  1.539110e+12  \n",
       "max       1.000000   720.000000  1.539537e+12  "
      ]
     },
     "execution_count": 46,
     "metadata": {},
     "output_type": "execute_result"
    }
   ],
   "source": [
    "df.describe()"
   ]
  },
  {
   "cell_type": "markdown",
   "id": "ed02221d",
   "metadata": {},
   "source": [
    "### Working with SQL"
   ]
  },
  {
   "cell_type": "code",
   "execution_count": 47,
   "id": "cabc253d",
   "metadata": {},
   "outputs": [],
   "source": [
    "# Let's write the tsunami data from the data/tsunamis.csv file to a table in the database\n",
    "# called tsunamis, replacing the table if it already exists\n",
    "import sqlite3\n",
    "\n",
    "with sqlite3.connect('data/quakes.db') as connection:\n",
    "    pd.read_csv('data/tsunamis.csv').to_sql(\n",
    "        'tsunamis', connection, index=False, if_exists='replace')"
   ]
  },
  {
   "cell_type": "code",
   "execution_count": 48,
   "id": "a7dbec6a",
   "metadata": {},
   "outputs": [
    {
     "data": {
      "text/html": [
       "<div>\n",
       "<style scoped>\n",
       "    .dataframe tbody tr th:only-of-type {\n",
       "        vertical-align: middle;\n",
       "    }\n",
       "\n",
       "    .dataframe tbody tr th {\n",
       "        vertical-align: top;\n",
       "    }\n",
       "\n",
       "    .dataframe thead th {\n",
       "        text-align: right;\n",
       "    }\n",
       "</style>\n",
       "<table border=\"1\" class=\"dataframe\">\n",
       "  <thead>\n",
       "    <tr style=\"text-align: right;\">\n",
       "      <th></th>\n",
       "      <th>alert</th>\n",
       "      <th>type</th>\n",
       "      <th>title</th>\n",
       "      <th>place</th>\n",
       "      <th>magType</th>\n",
       "      <th>mag</th>\n",
       "      <th>time</th>\n",
       "    </tr>\n",
       "  </thead>\n",
       "  <tbody>\n",
       "    <tr>\n",
       "      <th>0</th>\n",
       "      <td>None</td>\n",
       "      <td>earthquake</td>\n",
       "      <td>M 5.0 - 165km NNW of Flying Fish Cove, Christm...</td>\n",
       "      <td>165km NNW of Flying Fish Cove, Christmas Island</td>\n",
       "      <td>mww</td>\n",
       "      <td>5.0</td>\n",
       "      <td>1539459504090</td>\n",
       "    </tr>\n",
       "    <tr>\n",
       "      <th>1</th>\n",
       "      <td>green</td>\n",
       "      <td>earthquake</td>\n",
       "      <td>M 6.7 - 262km NW of Ozernovskiy, Russia</td>\n",
       "      <td>262km NW of Ozernovskiy, Russia</td>\n",
       "      <td>mww</td>\n",
       "      <td>6.7</td>\n",
       "      <td>1539429023560</td>\n",
       "    </tr>\n",
       "    <tr>\n",
       "      <th>2</th>\n",
       "      <td>green</td>\n",
       "      <td>earthquake</td>\n",
       "      <td>M 5.6 - 128km SE of Kimbe, Papua New Guinea</td>\n",
       "      <td>128km SE of Kimbe, Papua New Guinea</td>\n",
       "      <td>mww</td>\n",
       "      <td>5.6</td>\n",
       "      <td>1539312723620</td>\n",
       "    </tr>\n",
       "    <tr>\n",
       "      <th>3</th>\n",
       "      <td>green</td>\n",
       "      <td>earthquake</td>\n",
       "      <td>M 6.5 - 148km S of Severo-Kuril'sk, Russia</td>\n",
       "      <td>148km S of Severo-Kuril'sk, Russia</td>\n",
       "      <td>mww</td>\n",
       "      <td>6.5</td>\n",
       "      <td>1539213362130</td>\n",
       "    </tr>\n",
       "    <tr>\n",
       "      <th>4</th>\n",
       "      <td>green</td>\n",
       "      <td>earthquake</td>\n",
       "      <td>M 6.2 - 94km SW of Kokopo, Papua New Guinea</td>\n",
       "      <td>94km SW of Kokopo, Papua New Guinea</td>\n",
       "      <td>mww</td>\n",
       "      <td>6.2</td>\n",
       "      <td>1539208835130</td>\n",
       "    </tr>\n",
       "  </tbody>\n",
       "</table>\n",
       "</div>"
      ],
      "text/plain": [
       "   alert        type                                              title  \\\n",
       "0   None  earthquake  M 5.0 - 165km NNW of Flying Fish Cove, Christm...   \n",
       "1  green  earthquake            M 6.7 - 262km NW of Ozernovskiy, Russia   \n",
       "2  green  earthquake        M 5.6 - 128km SE of Kimbe, Papua New Guinea   \n",
       "3  green  earthquake         M 6.5 - 148km S of Severo-Kuril'sk, Russia   \n",
       "4  green  earthquake        M 6.2 - 94km SW of Kokopo, Papua New Guinea   \n",
       "\n",
       "                                             place magType  mag           time  \n",
       "0  165km NNW of Flying Fish Cove, Christmas Island     mww  5.0  1539459504090  \n",
       "1                  262km NW of Ozernovskiy, Russia     mww  6.7  1539429023560  \n",
       "2              128km SE of Kimbe, Papua New Guinea     mww  5.6  1539312723620  \n",
       "3               148km S of Severo-Kuril'sk, Russia     mww  6.5  1539213362130  \n",
       "4              94km SW of Kokopo, Papua New Guinea     mww  6.2  1539208835130  "
      ]
     },
     "execution_count": 48,
     "metadata": {},
     "output_type": "execute_result"
    }
   ],
   "source": [
    "# Let's query our database for the full tsunamis table\n",
    "with sqlite3.connect('data/quakes.db') as connection:\n",
    "    tsunamis = pd.read_sql('SELECT * FROM tsunamis', connection)\n",
    "tsunamis.head()"
   ]
  },
  {
   "cell_type": "markdown",
   "id": "4f8fabc1",
   "metadata": {},
   "source": [
    "### Working with an API"
   ]
  },
  {
   "cell_type": "code",
   "execution_count": 49,
   "id": "8adea669",
   "metadata": {},
   "outputs": [],
   "source": [
    "# getting data from an API\n",
    "\n",
    "import requests\n",
    "\n",
    "yesterday = dt.date.today() - dt.timedelta(days=1)\n",
    "api = 'https://earthquake.usgs.gov/fdsnws/event/1/query'\n",
    "payload = {\n",
    "    'format': 'geojson',\n",
    "    'starttime': yesterday - dt.timedelta(days=30),\n",
    "    'endtime': yesterday\n",
    "}\n",
    "response = requests.get(api, params=payload)"
   ]
  },
  {
   "cell_type": "code",
   "execution_count": 50,
   "id": "7dc2ad91",
   "metadata": {},
   "outputs": [
    {
     "data": {
      "text/plain": [
       "200"
      ]
     },
     "execution_count": 50,
     "metadata": {},
     "output_type": "execute_result"
    }
   ],
   "source": [
    "response.status_code"
   ]
  },
  {
   "cell_type": "code",
   "execution_count": 51,
   "id": "8484d2a5",
   "metadata": {},
   "outputs": [
    {
     "data": {
      "text/plain": [
       "dict_keys(['type', 'metadata', 'features', 'bbox'])"
      ]
     },
     "execution_count": 51,
     "metadata": {},
     "output_type": "execute_result"
    }
   ],
   "source": [
    "earthquake_json = response.json()\n",
    "earthquake_json.keys()"
   ]
  },
  {
   "cell_type": "code",
   "execution_count": 52,
   "id": "b3024f84",
   "metadata": {},
   "outputs": [
    {
     "data": {
      "text/plain": [
       "{'generated': 1658984816000,\n",
       " 'url': 'https://earthquake.usgs.gov/fdsnws/event/1/query?format=geojson&starttime=2022-06-27&endtime=2022-07-27',\n",
       " 'title': 'USGS Earthquakes',\n",
       " 'status': 200,\n",
       " 'api': '1.13.6',\n",
       " 'count': 9117}"
      ]
     },
     "execution_count": 52,
     "metadata": {},
     "output_type": "execute_result"
    }
   ],
   "source": [
    "earthquake_json['metadata']"
   ]
  },
  {
   "cell_type": "code",
   "execution_count": 53,
   "id": "d828bc1e",
   "metadata": {},
   "outputs": [
    {
     "data": {
      "text/plain": [
       "list"
      ]
     },
     "execution_count": 53,
     "metadata": {},
     "output_type": "execute_result"
    }
   ],
   "source": [
    "type(earthquake_json['features'])"
   ]
  },
  {
   "cell_type": "code",
   "execution_count": 54,
   "id": "37369450",
   "metadata": {},
   "outputs": [
    {
     "data": {
      "text/plain": [
       "{'type': 'Feature',\n",
       " 'properties': {'mag': -0.4,\n",
       "  'place': '47 km ESE of Beatty, Nevada',\n",
       "  'time': 1658879799072,\n",
       "  'updated': 1658881088464,\n",
       "  'tz': None,\n",
       "  'url': 'https://earthquake.usgs.gov/earthquakes/eventpage/nn00843638',\n",
       "  'detail': 'https://earthquake.usgs.gov/fdsnws/event/1/query?eventid=nn00843638&format=geojson',\n",
       "  'felt': None,\n",
       "  'cdi': None,\n",
       "  'mmi': None,\n",
       "  'alert': None,\n",
       "  'status': 'reviewed',\n",
       "  'tsunami': 0,\n",
       "  'sig': 0,\n",
       "  'net': 'nn',\n",
       "  'code': '00843638',\n",
       "  'ids': ',nn00843638,',\n",
       "  'sources': ',nn,',\n",
       "  'types': ',origin,phase-data,',\n",
       "  'nst': 11,\n",
       "  'dmin': 0.064,\n",
       "  'rms': 0.1124,\n",
       "  'gap': 112.54,\n",
       "  'magType': 'ml',\n",
       "  'type': 'earthquake',\n",
       "  'title': 'M -0.4 - 47 km ESE of Beatty, Nevada'},\n",
       " 'geometry': {'type': 'Point', 'coordinates': [-116.2902, 36.7051, 4.8]},\n",
       " 'id': 'nn00843638'}"
      ]
     },
     "execution_count": 54,
     "metadata": {},
     "output_type": "execute_result"
    }
   ],
   "source": [
    "earthquake_json['features'][0]"
   ]
  },
  {
   "cell_type": "code",
   "execution_count": 55,
   "id": "d0567598",
   "metadata": {},
   "outputs": [
    {
     "name": "stdout",
     "output_type": "stream",
     "text": [
      "data sample: {'mag': -0.4, 'place': '47 km ESE of Beatty, Nevada', 'time': 1658879799072, 'updated': 1658881088464, 'tz': None, 'url': 'https://earthquake.usgs.gov/earthquakes/eventpage/nn00843638', 'detail': 'https://earthquake.usgs.gov/fdsnws/event/1/query?eventid=nn00843638&format=geojson', 'felt': None, 'cdi': None, 'mmi': None, 'alert': None, 'status': 'reviewed', 'tsunami': 0, 'sig': 0, 'net': 'nn', 'code': '00843638', 'ids': ',nn00843638,', 'sources': ',nn,', 'types': ',origin,phase-data,', 'nst': 11, 'dmin': 0.064, 'rms': 0.1124, 'gap': 112.54, 'magType': 'ml', 'type': 'earthquake', 'title': 'M -0.4 - 47 km ESE of Beatty, Nevada'}\n",
      "\n",
      "row count: 9117\n"
     ]
    }
   ],
   "source": [
    "earthquake_properties_data = [\n",
    "    quake['properties']\n",
    "    for quake in earthquake_json['features']\n",
    "]\n",
    "\n",
    "print(f'data sample: {earthquake_properties_data[0]}\\n')\n",
    "print(f'row count: {len(earthquake_properties_data)}')"
   ]
  },
  {
   "cell_type": "code",
   "execution_count": 56,
   "id": "120b892a",
   "metadata": {},
   "outputs": [
    {
     "data": {
      "text/html": [
       "<div>\n",
       "<style scoped>\n",
       "    .dataframe tbody tr th:only-of-type {\n",
       "        vertical-align: middle;\n",
       "    }\n",
       "\n",
       "    .dataframe tbody tr th {\n",
       "        vertical-align: top;\n",
       "    }\n",
       "\n",
       "    .dataframe thead th {\n",
       "        text-align: right;\n",
       "    }\n",
       "</style>\n",
       "<table border=\"1\" class=\"dataframe\">\n",
       "  <thead>\n",
       "    <tr style=\"text-align: right;\">\n",
       "      <th></th>\n",
       "      <th>mag</th>\n",
       "      <th>place</th>\n",
       "      <th>time</th>\n",
       "      <th>updated</th>\n",
       "      <th>tz</th>\n",
       "      <th>url</th>\n",
       "      <th>detail</th>\n",
       "      <th>felt</th>\n",
       "      <th>cdi</th>\n",
       "      <th>mmi</th>\n",
       "      <th>...</th>\n",
       "      <th>ids</th>\n",
       "      <th>sources</th>\n",
       "      <th>types</th>\n",
       "      <th>nst</th>\n",
       "      <th>dmin</th>\n",
       "      <th>rms</th>\n",
       "      <th>gap</th>\n",
       "      <th>magType</th>\n",
       "      <th>type</th>\n",
       "      <th>title</th>\n",
       "    </tr>\n",
       "  </thead>\n",
       "  <tbody>\n",
       "    <tr>\n",
       "      <th>0</th>\n",
       "      <td>-0.40</td>\n",
       "      <td>47 km ESE of Beatty, Nevada</td>\n",
       "      <td>1658879799072</td>\n",
       "      <td>1658881088464</td>\n",
       "      <td>None</td>\n",
       "      <td>https://earthquake.usgs.gov/earthquakes/eventp...</td>\n",
       "      <td>https://earthquake.usgs.gov/fdsnws/event/1/que...</td>\n",
       "      <td>NaN</td>\n",
       "      <td>NaN</td>\n",
       "      <td>NaN</td>\n",
       "      <td>...</td>\n",
       "      <td>,nn00843638,</td>\n",
       "      <td>,nn,</td>\n",
       "      <td>,origin,phase-data,</td>\n",
       "      <td>11.0</td>\n",
       "      <td>0.06400</td>\n",
       "      <td>0.1124</td>\n",
       "      <td>112.54</td>\n",
       "      <td>ml</td>\n",
       "      <td>earthquake</td>\n",
       "      <td>M -0.4 - 47 km ESE of Beatty, Nevada</td>\n",
       "    </tr>\n",
       "    <tr>\n",
       "      <th>1</th>\n",
       "      <td>0.74</td>\n",
       "      <td>8km SW of Morongo Valley, CA</td>\n",
       "      <td>1658879540810</td>\n",
       "      <td>1658941257143</td>\n",
       "      <td>None</td>\n",
       "      <td>https://earthquake.usgs.gov/earthquakes/eventp...</td>\n",
       "      <td>https://earthquake.usgs.gov/fdsnws/event/1/que...</td>\n",
       "      <td>NaN</td>\n",
       "      <td>NaN</td>\n",
       "      <td>NaN</td>\n",
       "      <td>...</td>\n",
       "      <td>,ci40070247,</td>\n",
       "      <td>,ci,</td>\n",
       "      <td>,nearby-cities,origin,phase-data,scitech-link,</td>\n",
       "      <td>14.0</td>\n",
       "      <td>0.04529</td>\n",
       "      <td>0.0900</td>\n",
       "      <td>129.00</td>\n",
       "      <td>ml</td>\n",
       "      <td>earthquake</td>\n",
       "      <td>M 0.7 - 8km SW of Morongo Valley, CA</td>\n",
       "    </tr>\n",
       "    <tr>\n",
       "      <th>2</th>\n",
       "      <td>2.07</td>\n",
       "      <td>4 km SSW of Indios, Puerto Rico</td>\n",
       "      <td>1658878898510</td>\n",
       "      <td>1658879774990</td>\n",
       "      <td>None</td>\n",
       "      <td>https://earthquake.usgs.gov/earthquakes/eventp...</td>\n",
       "      <td>https://earthquake.usgs.gov/fdsnws/event/1/que...</td>\n",
       "      <td>NaN</td>\n",
       "      <td>NaN</td>\n",
       "      <td>NaN</td>\n",
       "      <td>...</td>\n",
       "      <td>,pr71361178,</td>\n",
       "      <td>,pr,</td>\n",
       "      <td>,origin,phase-data,</td>\n",
       "      <td>8.0</td>\n",
       "      <td>NaN</td>\n",
       "      <td>0.0800</td>\n",
       "      <td>208.00</td>\n",
       "      <td>md</td>\n",
       "      <td>earthquake</td>\n",
       "      <td>M 2.1 - 4 km SSW of Indios, Puerto Rico</td>\n",
       "    </tr>\n",
       "    <tr>\n",
       "      <th>3</th>\n",
       "      <td>1.10</td>\n",
       "      <td>22km N of Yucca Valley, CA</td>\n",
       "      <td>1658878817040</td>\n",
       "      <td>1658941143213</td>\n",
       "      <td>None</td>\n",
       "      <td>https://earthquake.usgs.gov/earthquakes/eventp...</td>\n",
       "      <td>https://earthquake.usgs.gov/fdsnws/event/1/que...</td>\n",
       "      <td>NaN</td>\n",
       "      <td>NaN</td>\n",
       "      <td>NaN</td>\n",
       "      <td>...</td>\n",
       "      <td>,ci40070239,</td>\n",
       "      <td>,ci,</td>\n",
       "      <td>,nearby-cities,origin,phase-data,scitech-link,</td>\n",
       "      <td>21.0</td>\n",
       "      <td>0.05621</td>\n",
       "      <td>0.1200</td>\n",
       "      <td>70.00</td>\n",
       "      <td>ml</td>\n",
       "      <td>earthquake</td>\n",
       "      <td>M 1.1 - 22km N of Yucca Valley, CA</td>\n",
       "    </tr>\n",
       "    <tr>\n",
       "      <th>4</th>\n",
       "      <td>1.70</td>\n",
       "      <td>70 km ENE of Lime Village, Alaska</td>\n",
       "      <td>1658878463042</td>\n",
       "      <td>1658878605320</td>\n",
       "      <td>None</td>\n",
       "      <td>https://earthquake.usgs.gov/earthquakes/eventp...</td>\n",
       "      <td>https://earthquake.usgs.gov/fdsnws/event/1/que...</td>\n",
       "      <td>NaN</td>\n",
       "      <td>NaN</td>\n",
       "      <td>NaN</td>\n",
       "      <td>...</td>\n",
       "      <td>,ak0229iq559c,</td>\n",
       "      <td>,ak,</td>\n",
       "      <td>,origin,phase-data,</td>\n",
       "      <td>NaN</td>\n",
       "      <td>NaN</td>\n",
       "      <td>0.8700</td>\n",
       "      <td>NaN</td>\n",
       "      <td>ml</td>\n",
       "      <td>earthquake</td>\n",
       "      <td>M 1.7 - 70 km ENE of Lime Village, Alaska</td>\n",
       "    </tr>\n",
       "  </tbody>\n",
       "</table>\n",
       "<p>5 rows × 26 columns</p>\n",
       "</div>"
      ],
      "text/plain": [
       "    mag                              place           time        updated  \\\n",
       "0 -0.40        47 km ESE of Beatty, Nevada  1658879799072  1658881088464   \n",
       "1  0.74       8km SW of Morongo Valley, CA  1658879540810  1658941257143   \n",
       "2  2.07    4 km SSW of Indios, Puerto Rico  1658878898510  1658879774990   \n",
       "3  1.10         22km N of Yucca Valley, CA  1658878817040  1658941143213   \n",
       "4  1.70  70 km ENE of Lime Village, Alaska  1658878463042  1658878605320   \n",
       "\n",
       "     tz                                                url  \\\n",
       "0  None  https://earthquake.usgs.gov/earthquakes/eventp...   \n",
       "1  None  https://earthquake.usgs.gov/earthquakes/eventp...   \n",
       "2  None  https://earthquake.usgs.gov/earthquakes/eventp...   \n",
       "3  None  https://earthquake.usgs.gov/earthquakes/eventp...   \n",
       "4  None  https://earthquake.usgs.gov/earthquakes/eventp...   \n",
       "\n",
       "                                              detail  felt  cdi  mmi  ...  \\\n",
       "0  https://earthquake.usgs.gov/fdsnws/event/1/que...   NaN  NaN  NaN  ...   \n",
       "1  https://earthquake.usgs.gov/fdsnws/event/1/que...   NaN  NaN  NaN  ...   \n",
       "2  https://earthquake.usgs.gov/fdsnws/event/1/que...   NaN  NaN  NaN  ...   \n",
       "3  https://earthquake.usgs.gov/fdsnws/event/1/que...   NaN  NaN  NaN  ...   \n",
       "4  https://earthquake.usgs.gov/fdsnws/event/1/que...   NaN  NaN  NaN  ...   \n",
       "\n",
       "              ids sources                                           types  \\\n",
       "0    ,nn00843638,    ,nn,                             ,origin,phase-data,   \n",
       "1    ,ci40070247,    ,ci,  ,nearby-cities,origin,phase-data,scitech-link,   \n",
       "2    ,pr71361178,    ,pr,                             ,origin,phase-data,   \n",
       "3    ,ci40070239,    ,ci,  ,nearby-cities,origin,phase-data,scitech-link,   \n",
       "4  ,ak0229iq559c,    ,ak,                             ,origin,phase-data,   \n",
       "\n",
       "    nst     dmin     rms     gap magType        type  \\\n",
       "0  11.0  0.06400  0.1124  112.54      ml  earthquake   \n",
       "1  14.0  0.04529  0.0900  129.00      ml  earthquake   \n",
       "2   8.0      NaN  0.0800  208.00      md  earthquake   \n",
       "3  21.0  0.05621  0.1200   70.00      ml  earthquake   \n",
       "4   NaN      NaN  0.8700     NaN      ml  earthquake   \n",
       "\n",
       "                                       title  \n",
       "0       M -0.4 - 47 km ESE of Beatty, Nevada  \n",
       "1       M 0.7 - 8km SW of Morongo Valley, CA  \n",
       "2    M 2.1 - 4 km SSW of Indios, Puerto Rico  \n",
       "3         M 1.1 - 22km N of Yucca Valley, CA  \n",
       "4  M 1.7 - 70 km ENE of Lime Village, Alaska  \n",
       "\n",
       "[5 rows x 26 columns]"
      ]
     },
     "execution_count": 56,
     "metadata": {},
     "output_type": "execute_result"
    }
   ],
   "source": [
    "df = pd.DataFrame(earthquake_properties_data)\n",
    "df.head()"
   ]
  },
  {
   "cell_type": "markdown",
   "id": "4ddd015b",
   "metadata": {},
   "source": [
    "## Inspecting a DF object"
   ]
  },
  {
   "cell_type": "code",
   "execution_count": 86,
   "id": "5d548b3c",
   "metadata": {},
   "outputs": [
    {
     "data": {
      "text/plain": [
       "False"
      ]
     },
     "execution_count": 86,
     "metadata": {},
     "output_type": "execute_result"
    }
   ],
   "source": [
    "df = pd.read_csv('data/earthquakes.csv')\n",
    "df.empty"
   ]
  },
  {
   "cell_type": "code",
   "execution_count": 58,
   "id": "a4203f6c",
   "metadata": {},
   "outputs": [
    {
     "name": "stdout",
     "output_type": "stream",
     "text": [
      "(9332, 26)\n",
      "Index(['alert', 'cdi', 'code', 'detail', 'dmin', 'felt', 'gap', 'ids', 'mag',\n",
      "       'magType', 'mmi', 'net', 'nst', 'place', 'rms', 'sig', 'sources',\n",
      "       'status', 'time', 'title', 'tsunami', 'type', 'types', 'tz', 'updated',\n",
      "       'url'],\n",
      "      dtype='object')\n",
      "alert       object\n",
      "cdi        float64\n",
      "code        object\n",
      "detail      object\n",
      "dmin       float64\n",
      "felt       float64\n",
      "gap        float64\n",
      "ids         object\n",
      "mag        float64\n",
      "magType     object\n",
      "mmi        float64\n",
      "net         object\n",
      "nst        float64\n",
      "place       object\n",
      "rms        float64\n",
      "sig          int64\n",
      "sources     object\n",
      "status      object\n",
      "time         int64\n",
      "title       object\n",
      "tsunami      int64\n",
      "type        object\n",
      "types       object\n",
      "tz         float64\n",
      "updated      int64\n",
      "url         object\n",
      "dtype: object\n"
     ]
    }
   ],
   "source": [
    "print(df.shape)\n",
    "print(df.columns)\n",
    "print(df.dtypes)"
   ]
  },
  {
   "cell_type": "code",
   "execution_count": 59,
   "id": "5ef643ca",
   "metadata": {},
   "outputs": [
    {
     "name": "stdout",
     "output_type": "stream",
     "text": [
      "<class 'pandas.core.frame.DataFrame'>\n",
      "RangeIndex: 9332 entries, 0 to 9331\n",
      "Data columns (total 26 columns):\n",
      " #   Column   Non-Null Count  Dtype  \n",
      "---  ------   --------------  -----  \n",
      " 0   alert    59 non-null     object \n",
      " 1   cdi      329 non-null    float64\n",
      " 2   code     9332 non-null   object \n",
      " 3   detail   9332 non-null   object \n",
      " 4   dmin     6139 non-null   float64\n",
      " 5   felt     329 non-null    float64\n",
      " 6   gap      6164 non-null   float64\n",
      " 7   ids      9332 non-null   object \n",
      " 8   mag      9331 non-null   float64\n",
      " 9   magType  9331 non-null   object \n",
      " 10  mmi      93 non-null     float64\n",
      " 11  net      9332 non-null   object \n",
      " 12  nst      5364 non-null   float64\n",
      " 13  place    9332 non-null   object \n",
      " 14  rms      9332 non-null   float64\n",
      " 15  sig      9332 non-null   int64  \n",
      " 16  sources  9332 non-null   object \n",
      " 17  status   9332 non-null   object \n",
      " 18  time     9332 non-null   int64  \n",
      " 19  title    9332 non-null   object \n",
      " 20  tsunami  9332 non-null   int64  \n",
      " 21  type     9332 non-null   object \n",
      " 22  types    9332 non-null   object \n",
      " 23  tz       9331 non-null   float64\n",
      " 24  updated  9332 non-null   int64  \n",
      " 25  url      9332 non-null   object \n",
      "dtypes: float64(9), int64(4), object(13)\n",
      "memory usage: 1.9+ MB\n"
     ]
    }
   ],
   "source": [
    "df.info()"
   ]
  },
  {
   "cell_type": "code",
   "execution_count": 60,
   "id": "93ee3977",
   "metadata": {},
   "outputs": [
    {
     "data": {
      "text/html": [
       "<div>\n",
       "<style scoped>\n",
       "    .dataframe tbody tr th:only-of-type {\n",
       "        vertical-align: middle;\n",
       "    }\n",
       "\n",
       "    .dataframe tbody tr th {\n",
       "        vertical-align: top;\n",
       "    }\n",
       "\n",
       "    .dataframe thead th {\n",
       "        text-align: right;\n",
       "    }\n",
       "</style>\n",
       "<table border=\"1\" class=\"dataframe\">\n",
       "  <thead>\n",
       "    <tr style=\"text-align: right;\">\n",
       "      <th></th>\n",
       "      <th>cdi</th>\n",
       "      <th>dmin</th>\n",
       "      <th>felt</th>\n",
       "      <th>gap</th>\n",
       "      <th>mag</th>\n",
       "      <th>mmi</th>\n",
       "      <th>nst</th>\n",
       "      <th>rms</th>\n",
       "      <th>sig</th>\n",
       "      <th>time</th>\n",
       "      <th>tsunami</th>\n",
       "      <th>tz</th>\n",
       "      <th>updated</th>\n",
       "    </tr>\n",
       "  </thead>\n",
       "  <tbody>\n",
       "    <tr>\n",
       "      <th>count</th>\n",
       "      <td>329.000000</td>\n",
       "      <td>6139.000000</td>\n",
       "      <td>329.000000</td>\n",
       "      <td>6164.000000</td>\n",
       "      <td>9331.000000</td>\n",
       "      <td>93.000000</td>\n",
       "      <td>5364.000000</td>\n",
       "      <td>9332.000000</td>\n",
       "      <td>9332.000000</td>\n",
       "      <td>9.332000e+03</td>\n",
       "      <td>9332.000000</td>\n",
       "      <td>9331.000000</td>\n",
       "      <td>9.332000e+03</td>\n",
       "    </tr>\n",
       "    <tr>\n",
       "      <th>mean</th>\n",
       "      <td>2.754711</td>\n",
       "      <td>0.544925</td>\n",
       "      <td>12.310030</td>\n",
       "      <td>121.506588</td>\n",
       "      <td>1.497345</td>\n",
       "      <td>3.651398</td>\n",
       "      <td>19.053878</td>\n",
       "      <td>0.362122</td>\n",
       "      <td>56.899914</td>\n",
       "      <td>1.538284e+12</td>\n",
       "      <td>0.006537</td>\n",
       "      <td>-451.990140</td>\n",
       "      <td>1.538537e+12</td>\n",
       "    </tr>\n",
       "    <tr>\n",
       "      <th>std</th>\n",
       "      <td>1.010637</td>\n",
       "      <td>2.214305</td>\n",
       "      <td>48.954944</td>\n",
       "      <td>72.962363</td>\n",
       "      <td>1.203347</td>\n",
       "      <td>1.790523</td>\n",
       "      <td>15.492315</td>\n",
       "      <td>0.317784</td>\n",
       "      <td>91.872163</td>\n",
       "      <td>6.080306e+08</td>\n",
       "      <td>0.080589</td>\n",
       "      <td>231.752571</td>\n",
       "      <td>6.564135e+08</td>\n",
       "    </tr>\n",
       "    <tr>\n",
       "      <th>min</th>\n",
       "      <td>0.000000</td>\n",
       "      <td>0.000648</td>\n",
       "      <td>0.000000</td>\n",
       "      <td>12.000000</td>\n",
       "      <td>-1.260000</td>\n",
       "      <td>0.000000</td>\n",
       "      <td>0.000000</td>\n",
       "      <td>0.000000</td>\n",
       "      <td>0.000000</td>\n",
       "      <td>1.537229e+12</td>\n",
       "      <td>0.000000</td>\n",
       "      <td>-720.000000</td>\n",
       "      <td>1.537230e+12</td>\n",
       "    </tr>\n",
       "    <tr>\n",
       "      <th>25%</th>\n",
       "      <td>2.000000</td>\n",
       "      <td>0.020425</td>\n",
       "      <td>1.000000</td>\n",
       "      <td>66.142500</td>\n",
       "      <td>0.720000</td>\n",
       "      <td>2.680000</td>\n",
       "      <td>8.000000</td>\n",
       "      <td>0.119675</td>\n",
       "      <td>8.000000</td>\n",
       "      <td>1.537793e+12</td>\n",
       "      <td>0.000000</td>\n",
       "      <td>-540.000000</td>\n",
       "      <td>1.537996e+12</td>\n",
       "    </tr>\n",
       "    <tr>\n",
       "      <th>50%</th>\n",
       "      <td>2.700000</td>\n",
       "      <td>0.059050</td>\n",
       "      <td>2.000000</td>\n",
       "      <td>105.000000</td>\n",
       "      <td>1.300000</td>\n",
       "      <td>3.720000</td>\n",
       "      <td>15.000000</td>\n",
       "      <td>0.210000</td>\n",
       "      <td>26.000000</td>\n",
       "      <td>1.538245e+12</td>\n",
       "      <td>0.000000</td>\n",
       "      <td>-480.000000</td>\n",
       "      <td>1.538621e+12</td>\n",
       "    </tr>\n",
       "    <tr>\n",
       "      <th>75%</th>\n",
       "      <td>3.300000</td>\n",
       "      <td>0.177250</td>\n",
       "      <td>5.000000</td>\n",
       "      <td>159.000000</td>\n",
       "      <td>1.900000</td>\n",
       "      <td>4.570000</td>\n",
       "      <td>25.000000</td>\n",
       "      <td>0.590000</td>\n",
       "      <td>56.000000</td>\n",
       "      <td>1.538766e+12</td>\n",
       "      <td>0.000000</td>\n",
       "      <td>-480.000000</td>\n",
       "      <td>1.539110e+12</td>\n",
       "    </tr>\n",
       "    <tr>\n",
       "      <th>max</th>\n",
       "      <td>8.400000</td>\n",
       "      <td>53.737000</td>\n",
       "      <td>580.000000</td>\n",
       "      <td>355.910000</td>\n",
       "      <td>7.500000</td>\n",
       "      <td>9.120000</td>\n",
       "      <td>172.000000</td>\n",
       "      <td>1.910000</td>\n",
       "      <td>2015.000000</td>\n",
       "      <td>1.539475e+12</td>\n",
       "      <td>1.000000</td>\n",
       "      <td>720.000000</td>\n",
       "      <td>1.539537e+12</td>\n",
       "    </tr>\n",
       "  </tbody>\n",
       "</table>\n",
       "</div>"
      ],
      "text/plain": [
       "              cdi         dmin        felt          gap          mag  \\\n",
       "count  329.000000  6139.000000  329.000000  6164.000000  9331.000000   \n",
       "mean     2.754711     0.544925   12.310030   121.506588     1.497345   \n",
       "std      1.010637     2.214305   48.954944    72.962363     1.203347   \n",
       "min      0.000000     0.000648    0.000000    12.000000    -1.260000   \n",
       "25%      2.000000     0.020425    1.000000    66.142500     0.720000   \n",
       "50%      2.700000     0.059050    2.000000   105.000000     1.300000   \n",
       "75%      3.300000     0.177250    5.000000   159.000000     1.900000   \n",
       "max      8.400000    53.737000  580.000000   355.910000     7.500000   \n",
       "\n",
       "             mmi          nst          rms          sig          time  \\\n",
       "count  93.000000  5364.000000  9332.000000  9332.000000  9.332000e+03   \n",
       "mean    3.651398    19.053878     0.362122    56.899914  1.538284e+12   \n",
       "std     1.790523    15.492315     0.317784    91.872163  6.080306e+08   \n",
       "min     0.000000     0.000000     0.000000     0.000000  1.537229e+12   \n",
       "25%     2.680000     8.000000     0.119675     8.000000  1.537793e+12   \n",
       "50%     3.720000    15.000000     0.210000    26.000000  1.538245e+12   \n",
       "75%     4.570000    25.000000     0.590000    56.000000  1.538766e+12   \n",
       "max     9.120000   172.000000     1.910000  2015.000000  1.539475e+12   \n",
       "\n",
       "           tsunami           tz       updated  \n",
       "count  9332.000000  9331.000000  9.332000e+03  \n",
       "mean      0.006537  -451.990140  1.538537e+12  \n",
       "std       0.080589   231.752571  6.564135e+08  \n",
       "min       0.000000  -720.000000  1.537230e+12  \n",
       "25%       0.000000  -540.000000  1.537996e+12  \n",
       "50%       0.000000  -480.000000  1.538621e+12  \n",
       "75%       0.000000  -480.000000  1.539110e+12  \n",
       "max       1.000000   720.000000  1.539537e+12  "
      ]
     },
     "execution_count": 60,
     "metadata": {},
     "output_type": "execute_result"
    }
   ],
   "source": [
    "df.describe()"
   ]
  },
  {
   "cell_type": "code",
   "execution_count": 61,
   "id": "4d357fdf",
   "metadata": {},
   "outputs": [
    {
     "data": {
      "text/html": [
       "<div>\n",
       "<style scoped>\n",
       "    .dataframe tbody tr th:only-of-type {\n",
       "        vertical-align: middle;\n",
       "    }\n",
       "\n",
       "    .dataframe tbody tr th {\n",
       "        vertical-align: top;\n",
       "    }\n",
       "\n",
       "    .dataframe thead th {\n",
       "        text-align: right;\n",
       "    }\n",
       "</style>\n",
       "<table border=\"1\" class=\"dataframe\">\n",
       "  <thead>\n",
       "    <tr style=\"text-align: right;\">\n",
       "      <th></th>\n",
       "      <th>cdi</th>\n",
       "      <th>dmin</th>\n",
       "      <th>felt</th>\n",
       "      <th>gap</th>\n",
       "      <th>mag</th>\n",
       "      <th>mmi</th>\n",
       "      <th>nst</th>\n",
       "      <th>rms</th>\n",
       "      <th>sig</th>\n",
       "      <th>time</th>\n",
       "      <th>tsunami</th>\n",
       "      <th>tz</th>\n",
       "      <th>updated</th>\n",
       "    </tr>\n",
       "  </thead>\n",
       "  <tbody>\n",
       "    <tr>\n",
       "      <th>count</th>\n",
       "      <td>329.000000</td>\n",
       "      <td>6139.000000</td>\n",
       "      <td>329.000000</td>\n",
       "      <td>6164.000000</td>\n",
       "      <td>9331.000000</td>\n",
       "      <td>93.000000</td>\n",
       "      <td>5364.000000</td>\n",
       "      <td>9332.000000</td>\n",
       "      <td>9332.000000</td>\n",
       "      <td>9.332000e+03</td>\n",
       "      <td>9332.000000</td>\n",
       "      <td>9331.000000</td>\n",
       "      <td>9.332000e+03</td>\n",
       "    </tr>\n",
       "    <tr>\n",
       "      <th>mean</th>\n",
       "      <td>2.754711</td>\n",
       "      <td>0.544925</td>\n",
       "      <td>12.310030</td>\n",
       "      <td>121.506588</td>\n",
       "      <td>1.497345</td>\n",
       "      <td>3.651398</td>\n",
       "      <td>19.053878</td>\n",
       "      <td>0.362122</td>\n",
       "      <td>56.899914</td>\n",
       "      <td>1.538284e+12</td>\n",
       "      <td>0.006537</td>\n",
       "      <td>-451.990140</td>\n",
       "      <td>1.538537e+12</td>\n",
       "    </tr>\n",
       "    <tr>\n",
       "      <th>std</th>\n",
       "      <td>1.010637</td>\n",
       "      <td>2.214305</td>\n",
       "      <td>48.954944</td>\n",
       "      <td>72.962363</td>\n",
       "      <td>1.203347</td>\n",
       "      <td>1.790523</td>\n",
       "      <td>15.492315</td>\n",
       "      <td>0.317784</td>\n",
       "      <td>91.872163</td>\n",
       "      <td>6.080306e+08</td>\n",
       "      <td>0.080589</td>\n",
       "      <td>231.752571</td>\n",
       "      <td>6.564135e+08</td>\n",
       "    </tr>\n",
       "    <tr>\n",
       "      <th>min</th>\n",
       "      <td>0.000000</td>\n",
       "      <td>0.000648</td>\n",
       "      <td>0.000000</td>\n",
       "      <td>12.000000</td>\n",
       "      <td>-1.260000</td>\n",
       "      <td>0.000000</td>\n",
       "      <td>0.000000</td>\n",
       "      <td>0.000000</td>\n",
       "      <td>0.000000</td>\n",
       "      <td>1.537229e+12</td>\n",
       "      <td>0.000000</td>\n",
       "      <td>-720.000000</td>\n",
       "      <td>1.537230e+12</td>\n",
       "    </tr>\n",
       "    <tr>\n",
       "      <th>5%</th>\n",
       "      <td>2.000000</td>\n",
       "      <td>0.005491</td>\n",
       "      <td>1.000000</td>\n",
       "      <td>35.000000</td>\n",
       "      <td>-0.040000</td>\n",
       "      <td>0.000000</td>\n",
       "      <td>4.000000</td>\n",
       "      <td>0.030000</td>\n",
       "      <td>0.000000</td>\n",
       "      <td>1.537344e+12</td>\n",
       "      <td>0.000000</td>\n",
       "      <td>-600.000000</td>\n",
       "      <td>1.537387e+12</td>\n",
       "    </tr>\n",
       "    <tr>\n",
       "      <th>50%</th>\n",
       "      <td>2.700000</td>\n",
       "      <td>0.059050</td>\n",
       "      <td>2.000000</td>\n",
       "      <td>105.000000</td>\n",
       "      <td>1.300000</td>\n",
       "      <td>3.720000</td>\n",
       "      <td>15.000000</td>\n",
       "      <td>0.210000</td>\n",
       "      <td>26.000000</td>\n",
       "      <td>1.538245e+12</td>\n",
       "      <td>0.000000</td>\n",
       "      <td>-480.000000</td>\n",
       "      <td>1.538621e+12</td>\n",
       "    </tr>\n",
       "    <tr>\n",
       "      <th>95%</th>\n",
       "      <td>4.300000</td>\n",
       "      <td>2.678900</td>\n",
       "      <td>40.200000</td>\n",
       "      <td>276.000000</td>\n",
       "      <td>4.400000</td>\n",
       "      <td>6.380000</td>\n",
       "      <td>49.000000</td>\n",
       "      <td>0.960000</td>\n",
       "      <td>298.000000</td>\n",
       "      <td>1.539319e+12</td>\n",
       "      <td>0.000000</td>\n",
       "      <td>-60.000000</td>\n",
       "      <td>1.539400e+12</td>\n",
       "    </tr>\n",
       "    <tr>\n",
       "      <th>max</th>\n",
       "      <td>8.400000</td>\n",
       "      <td>53.737000</td>\n",
       "      <td>580.000000</td>\n",
       "      <td>355.910000</td>\n",
       "      <td>7.500000</td>\n",
       "      <td>9.120000</td>\n",
       "      <td>172.000000</td>\n",
       "      <td>1.910000</td>\n",
       "      <td>2015.000000</td>\n",
       "      <td>1.539475e+12</td>\n",
       "      <td>1.000000</td>\n",
       "      <td>720.000000</td>\n",
       "      <td>1.539537e+12</td>\n",
       "    </tr>\n",
       "  </tbody>\n",
       "</table>\n",
       "</div>"
      ],
      "text/plain": [
       "              cdi         dmin        felt          gap          mag  \\\n",
       "count  329.000000  6139.000000  329.000000  6164.000000  9331.000000   \n",
       "mean     2.754711     0.544925   12.310030   121.506588     1.497345   \n",
       "std      1.010637     2.214305   48.954944    72.962363     1.203347   \n",
       "min      0.000000     0.000648    0.000000    12.000000    -1.260000   \n",
       "5%       2.000000     0.005491    1.000000    35.000000    -0.040000   \n",
       "50%      2.700000     0.059050    2.000000   105.000000     1.300000   \n",
       "95%      4.300000     2.678900   40.200000   276.000000     4.400000   \n",
       "max      8.400000    53.737000  580.000000   355.910000     7.500000   \n",
       "\n",
       "             mmi          nst          rms          sig          time  \\\n",
       "count  93.000000  5364.000000  9332.000000  9332.000000  9.332000e+03   \n",
       "mean    3.651398    19.053878     0.362122    56.899914  1.538284e+12   \n",
       "std     1.790523    15.492315     0.317784    91.872163  6.080306e+08   \n",
       "min     0.000000     0.000000     0.000000     0.000000  1.537229e+12   \n",
       "5%      0.000000     4.000000     0.030000     0.000000  1.537344e+12   \n",
       "50%     3.720000    15.000000     0.210000    26.000000  1.538245e+12   \n",
       "95%     6.380000    49.000000     0.960000   298.000000  1.539319e+12   \n",
       "max     9.120000   172.000000     1.910000  2015.000000  1.539475e+12   \n",
       "\n",
       "           tsunami           tz       updated  \n",
       "count  9332.000000  9331.000000  9.332000e+03  \n",
       "mean      0.006537  -451.990140  1.538537e+12  \n",
       "std       0.080589   231.752571  6.564135e+08  \n",
       "min       0.000000  -720.000000  1.537230e+12  \n",
       "5%        0.000000  -600.000000  1.537387e+12  \n",
       "50%       0.000000  -480.000000  1.538621e+12  \n",
       "95%       0.000000   -60.000000  1.539400e+12  \n",
       "max       1.000000   720.000000  1.539537e+12  "
      ]
     },
     "execution_count": 61,
     "metadata": {},
     "output_type": "execute_result"
    }
   ],
   "source": [
    "df.describe(percentiles=[0.05, 0.95])"
   ]
  },
  {
   "cell_type": "code",
   "execution_count": 62,
   "id": "8a372802",
   "metadata": {},
   "outputs": [
    {
     "data": {
      "text/html": [
       "<div>\n",
       "<style scoped>\n",
       "    .dataframe tbody tr th:only-of-type {\n",
       "        vertical-align: middle;\n",
       "    }\n",
       "\n",
       "    .dataframe tbody tr th {\n",
       "        vertical-align: top;\n",
       "    }\n",
       "\n",
       "    .dataframe thead th {\n",
       "        text-align: right;\n",
       "    }\n",
       "</style>\n",
       "<table border=\"1\" class=\"dataframe\">\n",
       "  <thead>\n",
       "    <tr style=\"text-align: right;\">\n",
       "      <th></th>\n",
       "      <th>alert</th>\n",
       "      <th>code</th>\n",
       "      <th>detail</th>\n",
       "      <th>ids</th>\n",
       "      <th>magType</th>\n",
       "      <th>net</th>\n",
       "      <th>place</th>\n",
       "      <th>sources</th>\n",
       "      <th>status</th>\n",
       "      <th>title</th>\n",
       "      <th>type</th>\n",
       "      <th>types</th>\n",
       "      <th>url</th>\n",
       "    </tr>\n",
       "  </thead>\n",
       "  <tbody>\n",
       "    <tr>\n",
       "      <th>count</th>\n",
       "      <td>59</td>\n",
       "      <td>9332</td>\n",
       "      <td>9332</td>\n",
       "      <td>9332</td>\n",
       "      <td>9331</td>\n",
       "      <td>9332</td>\n",
       "      <td>9332</td>\n",
       "      <td>9332</td>\n",
       "      <td>9332</td>\n",
       "      <td>9332</td>\n",
       "      <td>9332</td>\n",
       "      <td>9332</td>\n",
       "      <td>9332</td>\n",
       "    </tr>\n",
       "    <tr>\n",
       "      <th>unique</th>\n",
       "      <td>2</td>\n",
       "      <td>9332</td>\n",
       "      <td>9332</td>\n",
       "      <td>9332</td>\n",
       "      <td>10</td>\n",
       "      <td>14</td>\n",
       "      <td>5433</td>\n",
       "      <td>52</td>\n",
       "      <td>2</td>\n",
       "      <td>7807</td>\n",
       "      <td>5</td>\n",
       "      <td>42</td>\n",
       "      <td>9332</td>\n",
       "    </tr>\n",
       "    <tr>\n",
       "      <th>top</th>\n",
       "      <td>green</td>\n",
       "      <td>37389218</td>\n",
       "      <td>https://earthquake.usgs.gov/fdsnws/event/1/que...</td>\n",
       "      <td>,ci37389218,</td>\n",
       "      <td>ml</td>\n",
       "      <td>ak</td>\n",
       "      <td>10km NE of Aguanga, CA</td>\n",
       "      <td>,ak,</td>\n",
       "      <td>reviewed</td>\n",
       "      <td>M 0.4 - 10km NE of Aguanga, CA</td>\n",
       "      <td>earthquake</td>\n",
       "      <td>,geoserve,origin,phase-data,</td>\n",
       "      <td>https://earthquake.usgs.gov/earthquakes/eventp...</td>\n",
       "    </tr>\n",
       "    <tr>\n",
       "      <th>freq</th>\n",
       "      <td>58</td>\n",
       "      <td>1</td>\n",
       "      <td>1</td>\n",
       "      <td>1</td>\n",
       "      <td>6803</td>\n",
       "      <td>3166</td>\n",
       "      <td>306</td>\n",
       "      <td>2981</td>\n",
       "      <td>7797</td>\n",
       "      <td>55</td>\n",
       "      <td>9081</td>\n",
       "      <td>5301</td>\n",
       "      <td>1</td>\n",
       "    </tr>\n",
       "  </tbody>\n",
       "</table>\n",
       "</div>"
      ],
      "text/plain": [
       "        alert      code                                             detail  \\\n",
       "count      59      9332                                               9332   \n",
       "unique      2      9332                                               9332   \n",
       "top     green  37389218  https://earthquake.usgs.gov/fdsnws/event/1/que...   \n",
       "freq       58         1                                                  1   \n",
       "\n",
       "                 ids magType   net                   place sources    status  \\\n",
       "count           9332    9331  9332                    9332    9332      9332   \n",
       "unique          9332      10    14                    5433      52         2   \n",
       "top     ,ci37389218,      ml    ak  10km NE of Aguanga, CA    ,ak,  reviewed   \n",
       "freq               1    6803  3166                     306    2981      7797   \n",
       "\n",
       "                                 title        type  \\\n",
       "count                             9332        9332   \n",
       "unique                            7807           5   \n",
       "top     M 0.4 - 10km NE of Aguanga, CA  earthquake   \n",
       "freq                                55        9081   \n",
       "\n",
       "                               types  \\\n",
       "count                           9332   \n",
       "unique                            42   \n",
       "top     ,geoserve,origin,phase-data,   \n",
       "freq                            5301   \n",
       "\n",
       "                                                      url  \n",
       "count                                                9332  \n",
       "unique                                               9332  \n",
       "top     https://earthquake.usgs.gov/earthquakes/eventp...  \n",
       "freq                                                    1  "
      ]
     },
     "execution_count": 62,
     "metadata": {},
     "output_type": "execute_result"
    }
   ],
   "source": [
    "df.describe(include=object)"
   ]
  },
  {
   "cell_type": "code",
   "execution_count": 63,
   "id": "fb4c33de",
   "metadata": {},
   "outputs": [
    {
     "data": {
      "text/plain": [
       "alert        59\n",
       "cdi         329\n",
       "code       9332\n",
       "detail     9332\n",
       "dmin       6139\n",
       "felt        329\n",
       "gap        6164\n",
       "ids        9332\n",
       "mag        9331\n",
       "magType    9331\n",
       "mmi          93\n",
       "net        9332\n",
       "nst        5364\n",
       "place      9332\n",
       "rms        9332\n",
       "sig        9332\n",
       "sources    9332\n",
       "status     9332\n",
       "time       9332\n",
       "title      9332\n",
       "tsunami    9332\n",
       "type       9332\n",
       "types      9332\n",
       "tz         9331\n",
       "updated    9332\n",
       "url        9332\n",
       "dtype: int64"
      ]
     },
     "execution_count": 63,
     "metadata": {},
     "output_type": "execute_result"
    }
   ],
   "source": [
    "df.count()"
   ]
  },
  {
   "cell_type": "code",
   "execution_count": 64,
   "id": "21436bb6",
   "metadata": {},
   "outputs": [
    {
     "data": {
      "text/plain": [
       "alert         2\n",
       "cdi          37\n",
       "code       9332\n",
       "detail     9332\n",
       "dmin       4647\n",
       "felt         44\n",
       "gap        1114\n",
       "ids        9332\n",
       "mag         477\n",
       "magType      10\n",
       "mmi          77\n",
       "net          14\n",
       "nst         102\n",
       "place      5433\n",
       "rms         823\n",
       "sig         268\n",
       "sources      52\n",
       "status        2\n",
       "time       9332\n",
       "title      7807\n",
       "tsunami       2\n",
       "type          5\n",
       "types        42\n",
       "tz           29\n",
       "updated    9332\n",
       "url        9332\n",
       "dtype: int64"
      ]
     },
     "execution_count": 64,
     "metadata": {},
     "output_type": "execute_result"
    }
   ],
   "source": [
    "df.nunique()"
   ]
  },
  {
   "cell_type": "code",
   "execution_count": 65,
   "id": "46f0c303",
   "metadata": {},
   "outputs": [
    {
     "data": {
      "text/html": [
       "<div>\n",
       "<style scoped>\n",
       "    .dataframe tbody tr th:only-of-type {\n",
       "        vertical-align: middle;\n",
       "    }\n",
       "\n",
       "    .dataframe tbody tr th {\n",
       "        vertical-align: top;\n",
       "    }\n",
       "\n",
       "    .dataframe thead th {\n",
       "        text-align: right;\n",
       "    }\n",
       "</style>\n",
       "<table border=\"1\" class=\"dataframe\">\n",
       "  <thead>\n",
       "    <tr style=\"text-align: right;\">\n",
       "      <th></th>\n",
       "      <th>cdi</th>\n",
       "      <th>dmin</th>\n",
       "      <th>felt</th>\n",
       "      <th>gap</th>\n",
       "      <th>mag</th>\n",
       "      <th>mmi</th>\n",
       "      <th>nst</th>\n",
       "      <th>rms</th>\n",
       "      <th>sig</th>\n",
       "      <th>time</th>\n",
       "      <th>tsunami</th>\n",
       "      <th>tz</th>\n",
       "      <th>updated</th>\n",
       "    </tr>\n",
       "  </thead>\n",
       "  <tbody>\n",
       "    <tr>\n",
       "      <th>cdi</th>\n",
       "      <td>1.000000</td>\n",
       "      <td>0.187996</td>\n",
       "      <td>0.268136</td>\n",
       "      <td>-0.146190</td>\n",
       "      <td>0.399337</td>\n",
       "      <td>0.646273</td>\n",
       "      <td>0.326456</td>\n",
       "      <td>0.285521</td>\n",
       "      <td>0.496059</td>\n",
       "      <td>-0.053730</td>\n",
       "      <td>0.152761</td>\n",
       "      <td>0.218833</td>\n",
       "      <td>0.071744</td>\n",
       "    </tr>\n",
       "    <tr>\n",
       "      <th>dmin</th>\n",
       "      <td>0.187996</td>\n",
       "      <td>1.000000</td>\n",
       "      <td>-0.026284</td>\n",
       "      <td>0.004667</td>\n",
       "      <td>0.473606</td>\n",
       "      <td>-0.534080</td>\n",
       "      <td>-0.205622</td>\n",
       "      <td>0.450838</td>\n",
       "      <td>0.513970</td>\n",
       "      <td>-0.016757</td>\n",
       "      <td>0.074724</td>\n",
       "      <td>0.364648</td>\n",
       "      <td>0.123581</td>\n",
       "    </tr>\n",
       "    <tr>\n",
       "      <th>felt</th>\n",
       "      <td>0.268136</td>\n",
       "      <td>-0.026284</td>\n",
       "      <td>1.000000</td>\n",
       "      <td>-0.148835</td>\n",
       "      <td>0.167702</td>\n",
       "      <td>0.080612</td>\n",
       "      <td>0.461274</td>\n",
       "      <td>0.017168</td>\n",
       "      <td>0.241496</td>\n",
       "      <td>0.028253</td>\n",
       "      <td>0.162864</td>\n",
       "      <td>-0.019137</td>\n",
       "      <td>0.163356</td>\n",
       "    </tr>\n",
       "    <tr>\n",
       "      <th>gap</th>\n",
       "      <td>-0.146190</td>\n",
       "      <td>0.004667</td>\n",
       "      <td>-0.148835</td>\n",
       "      <td>1.000000</td>\n",
       "      <td>-0.051751</td>\n",
       "      <td>-0.204260</td>\n",
       "      <td>-0.531402</td>\n",
       "      <td>-0.060453</td>\n",
       "      <td>-0.064927</td>\n",
       "      <td>-0.022815</td>\n",
       "      <td>-0.094786</td>\n",
       "      <td>-0.036809</td>\n",
       "      <td>-0.011736</td>\n",
       "    </tr>\n",
       "    <tr>\n",
       "      <th>mag</th>\n",
       "      <td>0.399337</td>\n",
       "      <td>0.473606</td>\n",
       "      <td>0.167702</td>\n",
       "      <td>-0.051751</td>\n",
       "      <td>1.000000</td>\n",
       "      <td>0.143664</td>\n",
       "      <td>0.351382</td>\n",
       "      <td>0.610893</td>\n",
       "      <td>0.915157</td>\n",
       "      <td>0.024952</td>\n",
       "      <td>0.260269</td>\n",
       "      <td>0.579527</td>\n",
       "      <td>0.188736</td>\n",
       "    </tr>\n",
       "    <tr>\n",
       "      <th>mmi</th>\n",
       "      <td>0.646273</td>\n",
       "      <td>-0.534080</td>\n",
       "      <td>0.080612</td>\n",
       "      <td>-0.204260</td>\n",
       "      <td>0.143664</td>\n",
       "      <td>1.000000</td>\n",
       "      <td>0.275441</td>\n",
       "      <td>0.092323</td>\n",
       "      <td>0.302261</td>\n",
       "      <td>0.084416</td>\n",
       "      <td>0.559591</td>\n",
       "      <td>0.365396</td>\n",
       "      <td>0.110450</td>\n",
       "    </tr>\n",
       "    <tr>\n",
       "      <th>nst</th>\n",
       "      <td>0.326456</td>\n",
       "      <td>-0.205622</td>\n",
       "      <td>0.461274</td>\n",
       "      <td>-0.531402</td>\n",
       "      <td>0.351382</td>\n",
       "      <td>0.275441</td>\n",
       "      <td>1.000000</td>\n",
       "      <td>0.104234</td>\n",
       "      <td>0.283560</td>\n",
       "      <td>0.005201</td>\n",
       "      <td>0.051673</td>\n",
       "      <td>-0.164782</td>\n",
       "      <td>0.012179</td>\n",
       "    </tr>\n",
       "    <tr>\n",
       "      <th>rms</th>\n",
       "      <td>0.285521</td>\n",
       "      <td>0.450838</td>\n",
       "      <td>0.017168</td>\n",
       "      <td>-0.060453</td>\n",
       "      <td>0.610893</td>\n",
       "      <td>0.092323</td>\n",
       "      <td>0.104234</td>\n",
       "      <td>1.000000</td>\n",
       "      <td>0.553085</td>\n",
       "      <td>-0.026704</td>\n",
       "      <td>0.157305</td>\n",
       "      <td>0.278388</td>\n",
       "      <td>0.194743</td>\n",
       "    </tr>\n",
       "    <tr>\n",
       "      <th>sig</th>\n",
       "      <td>0.496059</td>\n",
       "      <td>0.513970</td>\n",
       "      <td>0.241496</td>\n",
       "      <td>-0.064927</td>\n",
       "      <td>0.915157</td>\n",
       "      <td>0.302261</td>\n",
       "      <td>0.283560</td>\n",
       "      <td>0.553085</td>\n",
       "      <td>1.000000</td>\n",
       "      <td>0.011342</td>\n",
       "      <td>0.366343</td>\n",
       "      <td>0.682710</td>\n",
       "      <td>0.147120</td>\n",
       "    </tr>\n",
       "    <tr>\n",
       "      <th>time</th>\n",
       "      <td>-0.053730</td>\n",
       "      <td>-0.016757</td>\n",
       "      <td>0.028253</td>\n",
       "      <td>-0.022815</td>\n",
       "      <td>0.024952</td>\n",
       "      <td>0.084416</td>\n",
       "      <td>0.005201</td>\n",
       "      <td>-0.026704</td>\n",
       "      <td>0.011342</td>\n",
       "      <td>1.000000</td>\n",
       "      <td>0.018205</td>\n",
       "      <td>0.006315</td>\n",
       "      <td>0.843418</td>\n",
       "    </tr>\n",
       "    <tr>\n",
       "      <th>tsunami</th>\n",
       "      <td>0.152761</td>\n",
       "      <td>0.074724</td>\n",
       "      <td>0.162864</td>\n",
       "      <td>-0.094786</td>\n",
       "      <td>0.260269</td>\n",
       "      <td>0.559591</td>\n",
       "      <td>0.051673</td>\n",
       "      <td>0.157305</td>\n",
       "      <td>0.366343</td>\n",
       "      <td>0.018205</td>\n",
       "      <td>1.000000</td>\n",
       "      <td>0.290775</td>\n",
       "      <td>0.006010</td>\n",
       "    </tr>\n",
       "    <tr>\n",
       "      <th>tz</th>\n",
       "      <td>0.218833</td>\n",
       "      <td>0.364648</td>\n",
       "      <td>-0.019137</td>\n",
       "      <td>-0.036809</td>\n",
       "      <td>0.579527</td>\n",
       "      <td>0.365396</td>\n",
       "      <td>-0.164782</td>\n",
       "      <td>0.278388</td>\n",
       "      <td>0.682710</td>\n",
       "      <td>0.006315</td>\n",
       "      <td>0.290775</td>\n",
       "      <td>1.000000</td>\n",
       "      <td>0.044224</td>\n",
       "    </tr>\n",
       "    <tr>\n",
       "      <th>updated</th>\n",
       "      <td>0.071744</td>\n",
       "      <td>0.123581</td>\n",
       "      <td>0.163356</td>\n",
       "      <td>-0.011736</td>\n",
       "      <td>0.188736</td>\n",
       "      <td>0.110450</td>\n",
       "      <td>0.012179</td>\n",
       "      <td>0.194743</td>\n",
       "      <td>0.147120</td>\n",
       "      <td>0.843418</td>\n",
       "      <td>0.006010</td>\n",
       "      <td>0.044224</td>\n",
       "      <td>1.000000</td>\n",
       "    </tr>\n",
       "  </tbody>\n",
       "</table>\n",
       "</div>"
      ],
      "text/plain": [
       "              cdi      dmin      felt       gap       mag       mmi       nst  \\\n",
       "cdi      1.000000  0.187996  0.268136 -0.146190  0.399337  0.646273  0.326456   \n",
       "dmin     0.187996  1.000000 -0.026284  0.004667  0.473606 -0.534080 -0.205622   \n",
       "felt     0.268136 -0.026284  1.000000 -0.148835  0.167702  0.080612  0.461274   \n",
       "gap     -0.146190  0.004667 -0.148835  1.000000 -0.051751 -0.204260 -0.531402   \n",
       "mag      0.399337  0.473606  0.167702 -0.051751  1.000000  0.143664  0.351382   \n",
       "mmi      0.646273 -0.534080  0.080612 -0.204260  0.143664  1.000000  0.275441   \n",
       "nst      0.326456 -0.205622  0.461274 -0.531402  0.351382  0.275441  1.000000   \n",
       "rms      0.285521  0.450838  0.017168 -0.060453  0.610893  0.092323  0.104234   \n",
       "sig      0.496059  0.513970  0.241496 -0.064927  0.915157  0.302261  0.283560   \n",
       "time    -0.053730 -0.016757  0.028253 -0.022815  0.024952  0.084416  0.005201   \n",
       "tsunami  0.152761  0.074724  0.162864 -0.094786  0.260269  0.559591  0.051673   \n",
       "tz       0.218833  0.364648 -0.019137 -0.036809  0.579527  0.365396 -0.164782   \n",
       "updated  0.071744  0.123581  0.163356 -0.011736  0.188736  0.110450  0.012179   \n",
       "\n",
       "              rms       sig      time   tsunami        tz   updated  \n",
       "cdi      0.285521  0.496059 -0.053730  0.152761  0.218833  0.071744  \n",
       "dmin     0.450838  0.513970 -0.016757  0.074724  0.364648  0.123581  \n",
       "felt     0.017168  0.241496  0.028253  0.162864 -0.019137  0.163356  \n",
       "gap     -0.060453 -0.064927 -0.022815 -0.094786 -0.036809 -0.011736  \n",
       "mag      0.610893  0.915157  0.024952  0.260269  0.579527  0.188736  \n",
       "mmi      0.092323  0.302261  0.084416  0.559591  0.365396  0.110450  \n",
       "nst      0.104234  0.283560  0.005201  0.051673 -0.164782  0.012179  \n",
       "rms      1.000000  0.553085 -0.026704  0.157305  0.278388  0.194743  \n",
       "sig      0.553085  1.000000  0.011342  0.366343  0.682710  0.147120  \n",
       "time    -0.026704  0.011342  1.000000  0.018205  0.006315  0.843418  \n",
       "tsunami  0.157305  0.366343  0.018205  1.000000  0.290775  0.006010  \n",
       "tz       0.278388  0.682710  0.006315  0.290775  1.000000  0.044224  \n",
       "updated  0.194743  0.147120  0.843418  0.006010  0.044224  1.000000  "
      ]
     },
     "execution_count": 65,
     "metadata": {},
     "output_type": "execute_result"
    }
   ],
   "source": [
    "cols = ['time', 'updated']\n",
    "df.corr(method='pearson')"
   ]
  },
  {
   "cell_type": "code",
   "execution_count": 66,
   "id": "ff86aa7a",
   "metadata": {},
   "outputs": [
    {
     "data": {
      "text/plain": [
       "array([nan, 'green', 'red'], dtype=object)"
      ]
     },
     "execution_count": 66,
     "metadata": {},
     "output_type": "execute_result"
    }
   ],
   "source": [
    "df.alert.unique()"
   ]
  },
  {
   "cell_type": "code",
   "execution_count": 67,
   "id": "e3e5b829",
   "metadata": {},
   "outputs": [
    {
     "data": {
      "text/plain": [
       "green    58\n",
       "red       1\n",
       "Name: alert, dtype: int64"
      ]
     },
     "execution_count": 67,
     "metadata": {},
     "output_type": "execute_result"
    }
   ],
   "source": [
    "df.alert.value_counts()"
   ]
  },
  {
   "cell_type": "code",
   "execution_count": 68,
   "id": "a538fb5e",
   "metadata": {},
   "outputs": [
    {
     "data": {
      "text/plain": [
       "1539475168010"
      ]
     },
     "execution_count": 68,
     "metadata": {},
     "output_type": "execute_result"
    }
   ],
   "source": [
    "df.time.max()"
   ]
  },
  {
   "cell_type": "code",
   "execution_count": 69,
   "id": "08a5d156",
   "metadata": {},
   "outputs": [
    {
     "data": {
      "text/plain": [
       "0"
      ]
     },
     "execution_count": 69,
     "metadata": {},
     "output_type": "execute_result"
    }
   ],
   "source": [
    "df.time.index.argmin()"
   ]
  },
  {
   "cell_type": "code",
   "execution_count": 70,
   "id": "6b8f79e1",
   "metadata": {},
   "outputs": [
    {
     "data": {
      "text/plain": [
       "0"
      ]
     },
     "execution_count": 70,
     "metadata": {},
     "output_type": "execute_result"
    }
   ],
   "source": [
    "df.time.argmax()"
   ]
  },
  {
   "cell_type": "code",
   "execution_count": 71,
   "id": "499eef24",
   "metadata": {},
   "outputs": [
    {
     "data": {
      "text/plain": [
       "0       1\n",
       "6198    1\n",
       "6218    1\n",
       "6219    1\n",
       "6220    1\n",
       "       ..\n",
       "3110    1\n",
       "3111    1\n",
       "3112    1\n",
       "3113    1\n",
       "9331    1\n",
       "Length: 9332, dtype: int64"
      ]
     },
     "execution_count": 71,
     "metadata": {},
     "output_type": "execute_result"
    }
   ],
   "source": [
    "df.index.value_counts()"
   ]
  },
  {
   "cell_type": "markdown",
   "id": "ebf71c53",
   "metadata": {},
   "source": [
    "## Grabbing subsets of the data"
   ]
  },
  {
   "cell_type": "code",
   "execution_count": 72,
   "id": "f917782f",
   "metadata": {},
   "outputs": [
    {
     "data": {
      "text/html": [
       "<div>\n",
       "<style scoped>\n",
       "    .dataframe tbody tr th:only-of-type {\n",
       "        vertical-align: middle;\n",
       "    }\n",
       "\n",
       "    .dataframe tbody tr th {\n",
       "        vertical-align: top;\n",
       "    }\n",
       "\n",
       "    .dataframe thead th {\n",
       "        text-align: right;\n",
       "    }\n",
       "</style>\n",
       "<table border=\"1\" class=\"dataframe\">\n",
       "  <thead>\n",
       "    <tr style=\"text-align: right;\">\n",
       "      <th></th>\n",
       "      <th>mag</th>\n",
       "      <th>title</th>\n",
       "    </tr>\n",
       "  </thead>\n",
       "  <tbody>\n",
       "    <tr>\n",
       "      <th>0</th>\n",
       "      <td>1.35</td>\n",
       "      <td>M 1.4 - 9km NE of Aguanga, CA</td>\n",
       "    </tr>\n",
       "    <tr>\n",
       "      <th>1</th>\n",
       "      <td>1.29</td>\n",
       "      <td>M 1.3 - 9km NE of Aguanga, CA</td>\n",
       "    </tr>\n",
       "    <tr>\n",
       "      <th>2</th>\n",
       "      <td>3.42</td>\n",
       "      <td>M 3.4 - 8km NE of Aguanga, CA</td>\n",
       "    </tr>\n",
       "    <tr>\n",
       "      <th>3</th>\n",
       "      <td>0.44</td>\n",
       "      <td>M 0.4 - 9km NE of Aguanga, CA</td>\n",
       "    </tr>\n",
       "    <tr>\n",
       "      <th>4</th>\n",
       "      <td>2.16</td>\n",
       "      <td>M 2.2 - 10km NW of Avenal, CA</td>\n",
       "    </tr>\n",
       "    <tr>\n",
       "      <th>...</th>\n",
       "      <td>...</td>\n",
       "      <td>...</td>\n",
       "    </tr>\n",
       "    <tr>\n",
       "      <th>9327</th>\n",
       "      <td>0.62</td>\n",
       "      <td>M 0.6 - 9km ENE of Mammoth Lakes, CA</td>\n",
       "    </tr>\n",
       "    <tr>\n",
       "      <th>9328</th>\n",
       "      <td>1.00</td>\n",
       "      <td>M 1.0 - 3km W of Julian, CA</td>\n",
       "    </tr>\n",
       "    <tr>\n",
       "      <th>9329</th>\n",
       "      <td>2.40</td>\n",
       "      <td>M 2.4 - 35km NNE of Hatillo, Puerto Rico</td>\n",
       "    </tr>\n",
       "    <tr>\n",
       "      <th>9330</th>\n",
       "      <td>1.10</td>\n",
       "      <td>M 1.1 - 9km NE of Aguanga, CA</td>\n",
       "    </tr>\n",
       "    <tr>\n",
       "      <th>9331</th>\n",
       "      <td>0.66</td>\n",
       "      <td>M 0.7 - 9km NE of Aguanga, CA</td>\n",
       "    </tr>\n",
       "  </tbody>\n",
       "</table>\n",
       "<p>9332 rows × 2 columns</p>\n",
       "</div>"
      ],
      "text/plain": [
       "       mag                                     title\n",
       "0     1.35             M 1.4 - 9km NE of Aguanga, CA\n",
       "1     1.29             M 1.3 - 9km NE of Aguanga, CA\n",
       "2     3.42             M 3.4 - 8km NE of Aguanga, CA\n",
       "3     0.44             M 0.4 - 9km NE of Aguanga, CA\n",
       "4     2.16             M 2.2 - 10km NW of Avenal, CA\n",
       "...    ...                                       ...\n",
       "9327  0.62      M 0.6 - 9km ENE of Mammoth Lakes, CA\n",
       "9328  1.00               M 1.0 - 3km W of Julian, CA\n",
       "9329  2.40  M 2.4 - 35km NNE of Hatillo, Puerto Rico\n",
       "9330  1.10             M 1.1 - 9km NE of Aguanga, CA\n",
       "9331  0.66             M 0.7 - 9km NE of Aguanga, CA\n",
       "\n",
       "[9332 rows x 2 columns]"
      ]
     },
     "execution_count": 72,
     "metadata": {},
     "output_type": "execute_result"
    }
   ],
   "source": [
    "df[['mag', 'title']]"
   ]
  },
  {
   "cell_type": "code",
   "execution_count": 75,
   "id": "6c513a3f",
   "metadata": {},
   "outputs": [
    {
     "data": {
      "text/html": [
       "<div>\n",
       "<style scoped>\n",
       "    .dataframe tbody tr th:only-of-type {\n",
       "        vertical-align: middle;\n",
       "    }\n",
       "\n",
       "    .dataframe tbody tr th {\n",
       "        vertical-align: top;\n",
       "    }\n",
       "\n",
       "    .dataframe thead th {\n",
       "        text-align: right;\n",
       "    }\n",
       "</style>\n",
       "<table border=\"1\" class=\"dataframe\">\n",
       "  <thead>\n",
       "    <tr style=\"text-align: right;\">\n",
       "      <th></th>\n",
       "      <th>title</th>\n",
       "      <th>time</th>\n",
       "      <th>mag</th>\n",
       "      <th>magType</th>\n",
       "    </tr>\n",
       "  </thead>\n",
       "  <tbody>\n",
       "    <tr>\n",
       "      <th>0</th>\n",
       "      <td>M 1.4 - 9km NE of Aguanga, CA</td>\n",
       "      <td>1539475168010</td>\n",
       "      <td>1.35</td>\n",
       "      <td>ml</td>\n",
       "    </tr>\n",
       "    <tr>\n",
       "      <th>1</th>\n",
       "      <td>M 1.3 - 9km NE of Aguanga, CA</td>\n",
       "      <td>1539475129610</td>\n",
       "      <td>1.29</td>\n",
       "      <td>ml</td>\n",
       "    </tr>\n",
       "    <tr>\n",
       "      <th>2</th>\n",
       "      <td>M 3.4 - 8km NE of Aguanga, CA</td>\n",
       "      <td>1539475062610</td>\n",
       "      <td>3.42</td>\n",
       "      <td>ml</td>\n",
       "    </tr>\n",
       "    <tr>\n",
       "      <th>3</th>\n",
       "      <td>M 0.4 - 9km NE of Aguanga, CA</td>\n",
       "      <td>1539474978070</td>\n",
       "      <td>0.44</td>\n",
       "      <td>ml</td>\n",
       "    </tr>\n",
       "    <tr>\n",
       "      <th>4</th>\n",
       "      <td>M 2.2 - 10km NW of Avenal, CA</td>\n",
       "      <td>1539474716050</td>\n",
       "      <td>2.16</td>\n",
       "      <td>md</td>\n",
       "    </tr>\n",
       "    <tr>\n",
       "      <th>...</th>\n",
       "      <td>...</td>\n",
       "      <td>...</td>\n",
       "      <td>...</td>\n",
       "      <td>...</td>\n",
       "    </tr>\n",
       "    <tr>\n",
       "      <th>9327</th>\n",
       "      <td>M 0.6 - 9km ENE of Mammoth Lakes, CA</td>\n",
       "      <td>1537230228060</td>\n",
       "      <td>0.62</td>\n",
       "      <td>md</td>\n",
       "    </tr>\n",
       "    <tr>\n",
       "      <th>9328</th>\n",
       "      <td>M 1.0 - 3km W of Julian, CA</td>\n",
       "      <td>1537230135130</td>\n",
       "      <td>1.00</td>\n",
       "      <td>ml</td>\n",
       "    </tr>\n",
       "    <tr>\n",
       "      <th>9329</th>\n",
       "      <td>M 2.4 - 35km NNE of Hatillo, Puerto Rico</td>\n",
       "      <td>1537229908180</td>\n",
       "      <td>2.40</td>\n",
       "      <td>md</td>\n",
       "    </tr>\n",
       "    <tr>\n",
       "      <th>9330</th>\n",
       "      <td>M 1.1 - 9km NE of Aguanga, CA</td>\n",
       "      <td>1537229545350</td>\n",
       "      <td>1.10</td>\n",
       "      <td>ml</td>\n",
       "    </tr>\n",
       "    <tr>\n",
       "      <th>9331</th>\n",
       "      <td>M 0.7 - 9km NE of Aguanga, CA</td>\n",
       "      <td>1537228864470</td>\n",
       "      <td>0.66</td>\n",
       "      <td>ml</td>\n",
       "    </tr>\n",
       "  </tbody>\n",
       "</table>\n",
       "<p>9332 rows × 4 columns</p>\n",
       "</div>"
      ],
      "text/plain": [
       "                                         title           time   mag magType\n",
       "0                M 1.4 - 9km NE of Aguanga, CA  1539475168010  1.35      ml\n",
       "1                M 1.3 - 9km NE of Aguanga, CA  1539475129610  1.29      ml\n",
       "2                M 3.4 - 8km NE of Aguanga, CA  1539475062610  3.42      ml\n",
       "3                M 0.4 - 9km NE of Aguanga, CA  1539474978070  0.44      ml\n",
       "4                M 2.2 - 10km NW of Avenal, CA  1539474716050  2.16      md\n",
       "...                                        ...            ...   ...     ...\n",
       "9327      M 0.6 - 9km ENE of Mammoth Lakes, CA  1537230228060  0.62      md\n",
       "9328               M 1.0 - 3km W of Julian, CA  1537230135130  1.00      ml\n",
       "9329  M 2.4 - 35km NNE of Hatillo, Puerto Rico  1537229908180  2.40      md\n",
       "9330             M 1.1 - 9km NE of Aguanga, CA  1537229545350  1.10      ml\n",
       "9331             M 0.7 - 9km NE of Aguanga, CA  1537228864470  0.66      ml\n",
       "\n",
       "[9332 rows x 4 columns]"
      ]
     },
     "execution_count": 75,
     "metadata": {},
     "output_type": "execute_result"
    }
   ],
   "source": [
    "# selecting distinct columns\n",
    "df[['title', 'time'] + [col for col in df.columns if col.startswith('mag')]]"
   ]
  },
  {
   "cell_type": "code",
   "execution_count": 77,
   "id": "b703755d",
   "metadata": {},
   "outputs": [
    {
     "data": {
      "text/html": [
       "<div>\n",
       "<style scoped>\n",
       "    .dataframe tbody tr th:only-of-type {\n",
       "        vertical-align: middle;\n",
       "    }\n",
       "\n",
       "    .dataframe tbody tr th {\n",
       "        vertical-align: top;\n",
       "    }\n",
       "\n",
       "    .dataframe thead th {\n",
       "        text-align: right;\n",
       "    }\n",
       "</style>\n",
       "<table border=\"1\" class=\"dataframe\">\n",
       "  <thead>\n",
       "    <tr style=\"text-align: right;\">\n",
       "      <th></th>\n",
       "      <th>alert</th>\n",
       "      <th>cdi</th>\n",
       "      <th>code</th>\n",
       "      <th>detail</th>\n",
       "      <th>dmin</th>\n",
       "      <th>felt</th>\n",
       "      <th>gap</th>\n",
       "      <th>ids</th>\n",
       "      <th>mag</th>\n",
       "      <th>magType</th>\n",
       "      <th>...</th>\n",
       "      <th>sources</th>\n",
       "      <th>status</th>\n",
       "      <th>time</th>\n",
       "      <th>title</th>\n",
       "      <th>tsunami</th>\n",
       "      <th>type</th>\n",
       "      <th>types</th>\n",
       "      <th>tz</th>\n",
       "      <th>updated</th>\n",
       "      <th>url</th>\n",
       "    </tr>\n",
       "  </thead>\n",
       "  <tbody>\n",
       "    <tr>\n",
       "      <th>100</th>\n",
       "      <td>NaN</td>\n",
       "      <td>NaN</td>\n",
       "      <td>20280310</td>\n",
       "      <td>https://earthquake.usgs.gov/fdsnws/event/1/que...</td>\n",
       "      <td>NaN</td>\n",
       "      <td>NaN</td>\n",
       "      <td>NaN</td>\n",
       "      <td>,ak20280310,</td>\n",
       "      <td>1.20</td>\n",
       "      <td>ml</td>\n",
       "      <td>...</td>\n",
       "      <td>,ak,</td>\n",
       "      <td>automatic</td>\n",
       "      <td>1539435449480</td>\n",
       "      <td>M 1.2 - 25km NW of Ester, Alaska</td>\n",
       "      <td>0</td>\n",
       "      <td>earthquake</td>\n",
       "      <td>,geoserve,origin,</td>\n",
       "      <td>-540.0</td>\n",
       "      <td>1539443551010</td>\n",
       "      <td>https://earthquake.usgs.gov/earthquakes/eventp...</td>\n",
       "    </tr>\n",
       "    <tr>\n",
       "      <th>101</th>\n",
       "      <td>NaN</td>\n",
       "      <td>NaN</td>\n",
       "      <td>73096756</td>\n",
       "      <td>https://earthquake.usgs.gov/fdsnws/event/1/que...</td>\n",
       "      <td>0.01355</td>\n",
       "      <td>NaN</td>\n",
       "      <td>185.0</td>\n",
       "      <td>,nc73096756,</td>\n",
       "      <td>0.59</td>\n",
       "      <td>md</td>\n",
       "      <td>...</td>\n",
       "      <td>,nc,</td>\n",
       "      <td>automatic</td>\n",
       "      <td>1539435391320</td>\n",
       "      <td>M 0.6 - 8km ESE of Mammoth Lakes, CA</td>\n",
       "      <td>0</td>\n",
       "      <td>earthquake</td>\n",
       "      <td>,geoserve,nearby-cities,origin,phase-data,scit...</td>\n",
       "      <td>-480.0</td>\n",
       "      <td>1539439802162</td>\n",
       "      <td>https://earthquake.usgs.gov/earthquakes/eventp...</td>\n",
       "    </tr>\n",
       "    <tr>\n",
       "      <th>102</th>\n",
       "      <td>NaN</td>\n",
       "      <td>NaN</td>\n",
       "      <td>37388730</td>\n",
       "      <td>https://earthquake.usgs.gov/fdsnws/event/1/que...</td>\n",
       "      <td>0.02987</td>\n",
       "      <td>NaN</td>\n",
       "      <td>39.0</td>\n",
       "      <td>,ci37388730,</td>\n",
       "      <td>1.33</td>\n",
       "      <td>ml</td>\n",
       "      <td>...</td>\n",
       "      <td>,ci,</td>\n",
       "      <td>automatic</td>\n",
       "      <td>1539435293090</td>\n",
       "      <td>M 1.3 - 8km ENE of Aguanga, CA</td>\n",
       "      <td>0</td>\n",
       "      <td>earthquake</td>\n",
       "      <td>,focal-mechanism,geoserve,nearby-cities,origin...</td>\n",
       "      <td>-480.0</td>\n",
       "      <td>1539435940470</td>\n",
       "      <td>https://earthquake.usgs.gov/earthquakes/eventp...</td>\n",
       "    </tr>\n",
       "  </tbody>\n",
       "</table>\n",
       "<p>3 rows × 26 columns</p>\n",
       "</div>"
      ],
      "text/plain": [
       "    alert  cdi      code                                             detail  \\\n",
       "100   NaN  NaN  20280310  https://earthquake.usgs.gov/fdsnws/event/1/que...   \n",
       "101   NaN  NaN  73096756  https://earthquake.usgs.gov/fdsnws/event/1/que...   \n",
       "102   NaN  NaN  37388730  https://earthquake.usgs.gov/fdsnws/event/1/que...   \n",
       "\n",
       "        dmin  felt    gap           ids   mag magType  ...  sources  \\\n",
       "100      NaN   NaN    NaN  ,ak20280310,  1.20      ml  ...     ,ak,   \n",
       "101  0.01355   NaN  185.0  ,nc73096756,  0.59      md  ...     ,nc,   \n",
       "102  0.02987   NaN   39.0  ,ci37388730,  1.33      ml  ...     ,ci,   \n",
       "\n",
       "        status           time                                 title  tsunami  \\\n",
       "100  automatic  1539435449480      M 1.2 - 25km NW of Ester, Alaska        0   \n",
       "101  automatic  1539435391320  M 0.6 - 8km ESE of Mammoth Lakes, CA        0   \n",
       "102  automatic  1539435293090        M 1.3 - 8km ENE of Aguanga, CA        0   \n",
       "\n",
       "           type                                              types     tz  \\\n",
       "100  earthquake                                  ,geoserve,origin, -540.0   \n",
       "101  earthquake  ,geoserve,nearby-cities,origin,phase-data,scit... -480.0   \n",
       "102  earthquake  ,focal-mechanism,geoserve,nearby-cities,origin... -480.0   \n",
       "\n",
       "           updated                                                url  \n",
       "100  1539443551010  https://earthquake.usgs.gov/earthquakes/eventp...  \n",
       "101  1539439802162  https://earthquake.usgs.gov/earthquakes/eventp...  \n",
       "102  1539435940470  https://earthquake.usgs.gov/earthquakes/eventp...  \n",
       "\n",
       "[3 rows x 26 columns]"
      ]
     },
     "execution_count": 77,
     "metadata": {},
     "output_type": "execute_result"
    }
   ],
   "source": [
    "# slicing\n",
    "df[100:103]"
   ]
  },
  {
   "cell_type": "code",
   "execution_count": 78,
   "id": "bc9beae6",
   "metadata": {},
   "outputs": [
    {
     "data": {
      "text/html": [
       "<div>\n",
       "<style scoped>\n",
       "    .dataframe tbody tr th:only-of-type {\n",
       "        vertical-align: middle;\n",
       "    }\n",
       "\n",
       "    .dataframe tbody tr th {\n",
       "        vertical-align: top;\n",
       "    }\n",
       "\n",
       "    .dataframe thead th {\n",
       "        text-align: right;\n",
       "    }\n",
       "</style>\n",
       "<table border=\"1\" class=\"dataframe\">\n",
       "  <thead>\n",
       "    <tr style=\"text-align: right;\">\n",
       "      <th></th>\n",
       "      <th>time</th>\n",
       "      <th>mag</th>\n",
       "    </tr>\n",
       "  </thead>\n",
       "  <tbody>\n",
       "    <tr>\n",
       "      <th>100</th>\n",
       "      <td>1539435449480</td>\n",
       "      <td>1.20</td>\n",
       "    </tr>\n",
       "    <tr>\n",
       "      <th>101</th>\n",
       "      <td>1539435391320</td>\n",
       "      <td>0.59</td>\n",
       "    </tr>\n",
       "    <tr>\n",
       "      <th>102</th>\n",
       "      <td>1539435293090</td>\n",
       "      <td>1.33</td>\n",
       "    </tr>\n",
       "  </tbody>\n",
       "</table>\n",
       "</div>"
      ],
      "text/plain": [
       "              time   mag\n",
       "100  1539435449480  1.20\n",
       "101  1539435391320  0.59\n",
       "102  1539435293090  1.33"
      ]
     },
     "execution_count": 78,
     "metadata": {},
     "output_type": "execute_result"
    }
   ],
   "source": [
    "# combining AKA chaining\n",
    "df[['time', 'mag']][100:103]"
   ]
  },
  {
   "cell_type": "code",
   "execution_count": 87,
   "id": "88067694",
   "metadata": {},
   "outputs": [
    {
     "data": {
      "text/plain": [
       "110               M 1.1 - 35km S of Ester, Alaska\n",
       "111    M 1.9 - 93km WNW of Arctic Village, Alaska\n",
       "112      M 0.9 - 20km WSW of Smith Valley, Nevada\n",
       "Name: title, dtype: object"
      ]
     },
     "execution_count": 87,
     "metadata": {},
     "output_type": "execute_result"
    }
   ],
   "source": [
    "df.loc[110:112, 'title']"
   ]
  },
  {
   "cell_type": "code",
   "execution_count": 88,
   "id": "81cce08a",
   "metadata": {},
   "outputs": [],
   "source": [
    "df.loc[110:112, 'title'] = df.loc[110:112, 'title'].str.lower()"
   ]
  },
  {
   "cell_type": "code",
   "execution_count": 89,
   "id": "986f0f21",
   "metadata": {},
   "outputs": [
    {
     "data": {
      "text/plain": [
       "110               m 1.1 - 35km s of ester, alaska\n",
       "111    m 1.9 - 93km wnw of arctic village, alaska\n",
       "112      m 0.9 - 20km wsw of smith valley, nevada\n",
       "Name: title, dtype: object"
      ]
     },
     "execution_count": 89,
     "metadata": {},
     "output_type": "execute_result"
    }
   ],
   "source": [
    "df.loc[110:112, 'title'] "
   ]
  },
  {
   "cell_type": "code",
   "execution_count": 90,
   "id": "e0c271dc",
   "metadata": {},
   "outputs": [
    {
     "data": {
      "text/plain": [
       "0                  M 1.4 - 9km NE of Aguanga, CA\n",
       "1                  M 1.3 - 9km NE of Aguanga, CA\n",
       "2                  M 3.4 - 8km NE of Aguanga, CA\n",
       "3                  M 0.4 - 9km NE of Aguanga, CA\n",
       "4                  M 2.2 - 10km NW of Avenal, CA\n",
       "                          ...                   \n",
       "9327        M 0.6 - 9km ENE of Mammoth Lakes, CA\n",
       "9328                 M 1.0 - 3km W of Julian, CA\n",
       "9329    M 2.4 - 35km NNE of Hatillo, Puerto Rico\n",
       "9330               M 1.1 - 9km NE of Aguanga, CA\n",
       "9331               M 0.7 - 9km NE of Aguanga, CA\n",
       "Name: title, Length: 9332, dtype: object"
      ]
     },
     "execution_count": 90,
     "metadata": {},
     "output_type": "execute_result"
    }
   ],
   "source": [
    "df.loc[:, 'title']"
   ]
  },
  {
   "cell_type": "code",
   "execution_count": 91,
   "id": "2cb7389e",
   "metadata": {},
   "outputs": [
    {
     "data": {
      "text/html": [
       "<div>\n",
       "<style scoped>\n",
       "    .dataframe tbody tr th:only-of-type {\n",
       "        vertical-align: middle;\n",
       "    }\n",
       "\n",
       "    .dataframe tbody tr th {\n",
       "        vertical-align: top;\n",
       "    }\n",
       "\n",
       "    .dataframe thead th {\n",
       "        text-align: right;\n",
       "    }\n",
       "</style>\n",
       "<table border=\"1\" class=\"dataframe\">\n",
       "  <thead>\n",
       "    <tr style=\"text-align: right;\">\n",
       "      <th></th>\n",
       "      <th>title</th>\n",
       "      <th>mag</th>\n",
       "    </tr>\n",
       "  </thead>\n",
       "  <tbody>\n",
       "    <tr>\n",
       "      <th>10</th>\n",
       "      <td>M 0.5 - 10km NE of Aguanga, CA</td>\n",
       "      <td>0.50</td>\n",
       "    </tr>\n",
       "    <tr>\n",
       "      <th>11</th>\n",
       "      <td>M 2.8 - 53km SE of Punta Cana, Dominican Republic</td>\n",
       "      <td>2.77</td>\n",
       "    </tr>\n",
       "    <tr>\n",
       "      <th>12</th>\n",
       "      <td>M 0.5 - 9km NE of Aguanga, CA</td>\n",
       "      <td>0.50</td>\n",
       "    </tr>\n",
       "    <tr>\n",
       "      <th>13</th>\n",
       "      <td>M 4.5 - 120km SSW of Banda Aceh, Indonesia</td>\n",
       "      <td>4.50</td>\n",
       "    </tr>\n",
       "    <tr>\n",
       "      <th>14</th>\n",
       "      <td>M 2.1 - 14km NW of Parkfield, CA</td>\n",
       "      <td>2.13</td>\n",
       "    </tr>\n",
       "    <tr>\n",
       "      <th>15</th>\n",
       "      <td>M 2.0 - 156km WNW of Haines Junction, Canada</td>\n",
       "      <td>2.00</td>\n",
       "    </tr>\n",
       "  </tbody>\n",
       "</table>\n",
       "</div>"
      ],
      "text/plain": [
       "                                                title   mag\n",
       "10                     M 0.5 - 10km NE of Aguanga, CA  0.50\n",
       "11  M 2.8 - 53km SE of Punta Cana, Dominican Republic  2.77\n",
       "12                      M 0.5 - 9km NE of Aguanga, CA  0.50\n",
       "13         M 4.5 - 120km SSW of Banda Aceh, Indonesia  4.50\n",
       "14                   M 2.1 - 14km NW of Parkfield, CA  2.13\n",
       "15       M 2.0 - 156km WNW of Haines Junction, Canada  2.00"
      ]
     },
     "execution_count": 91,
     "metadata": {},
     "output_type": "execute_result"
    }
   ],
   "source": [
    "df.loc[10:15, ['title', 'mag']]"
   ]
  },
  {
   "cell_type": "code",
   "execution_count": 92,
   "id": "7792e542",
   "metadata": {},
   "outputs": [
    {
     "data": {
      "text/html": [
       "<div>\n",
       "<style scoped>\n",
       "    .dataframe tbody tr th:only-of-type {\n",
       "        vertical-align: middle;\n",
       "    }\n",
       "\n",
       "    .dataframe tbody tr th {\n",
       "        vertical-align: top;\n",
       "    }\n",
       "\n",
       "    .dataframe thead th {\n",
       "        text-align: right;\n",
       "    }\n",
       "</style>\n",
       "<table border=\"1\" class=\"dataframe\">\n",
       "  <thead>\n",
       "    <tr style=\"text-align: right;\">\n",
       "      <th></th>\n",
       "      <th>title</th>\n",
       "      <th>mag</th>\n",
       "    </tr>\n",
       "  </thead>\n",
       "  <tbody>\n",
       "    <tr>\n",
       "      <th>10</th>\n",
       "      <td>M 0.5 - 10km NE of Aguanga, CA</td>\n",
       "      <td>0.50</td>\n",
       "    </tr>\n",
       "    <tr>\n",
       "      <th>11</th>\n",
       "      <td>M 2.8 - 53km SE of Punta Cana, Dominican Republic</td>\n",
       "      <td>2.77</td>\n",
       "    </tr>\n",
       "    <tr>\n",
       "      <th>12</th>\n",
       "      <td>M 0.5 - 9km NE of Aguanga, CA</td>\n",
       "      <td>0.50</td>\n",
       "    </tr>\n",
       "    <tr>\n",
       "      <th>13</th>\n",
       "      <td>M 4.5 - 120km SSW of Banda Aceh, Indonesia</td>\n",
       "      <td>4.50</td>\n",
       "    </tr>\n",
       "    <tr>\n",
       "      <th>14</th>\n",
       "      <td>M 2.1 - 14km NW of Parkfield, CA</td>\n",
       "      <td>2.13</td>\n",
       "    </tr>\n",
       "  </tbody>\n",
       "</table>\n",
       "</div>"
      ],
      "text/plain": [
       "                                                title   mag\n",
       "10                     M 0.5 - 10km NE of Aguanga, CA  0.50\n",
       "11  M 2.8 - 53km SE of Punta Cana, Dominican Republic  2.77\n",
       "12                      M 0.5 - 9km NE of Aguanga, CA  0.50\n",
       "13         M 4.5 - 120km SSW of Banda Aceh, Indonesia  4.50\n",
       "14                   M 2.1 - 14km NW of Parkfield, CA  2.13"
      ]
     },
     "execution_count": 92,
     "metadata": {},
     "output_type": "execute_result"
    }
   ],
   "source": [
    "# As we have seen, when using loc[], our end index is inclusive. This isn't the case with iloc[]\n",
    "df.iloc[10:15, [19, 8]]"
   ]
  },
  {
   "cell_type": "code",
   "execution_count": 93,
   "id": "9558ada5",
   "metadata": {},
   "outputs": [
    {
     "data": {
      "text/html": [
       "<div>\n",
       "<style scoped>\n",
       "    .dataframe tbody tr th:only-of-type {\n",
       "        vertical-align: middle;\n",
       "    }\n",
       "\n",
       "    .dataframe tbody tr th {\n",
       "        vertical-align: top;\n",
       "    }\n",
       "\n",
       "    .dataframe thead th {\n",
       "        text-align: right;\n",
       "    }\n",
       "</style>\n",
       "<table border=\"1\" class=\"dataframe\">\n",
       "  <thead>\n",
       "    <tr style=\"text-align: right;\">\n",
       "      <th></th>\n",
       "      <th>gap</th>\n",
       "      <th>ids</th>\n",
       "      <th>mag</th>\n",
       "      <th>magType</th>\n",
       "    </tr>\n",
       "  </thead>\n",
       "  <tbody>\n",
       "    <tr>\n",
       "      <th>10</th>\n",
       "      <td>57.0</td>\n",
       "      <td>,ci37389162,</td>\n",
       "      <td>0.50</td>\n",
       "      <td>ml</td>\n",
       "    </tr>\n",
       "    <tr>\n",
       "      <th>11</th>\n",
       "      <td>186.0</td>\n",
       "      <td>,pr2018286010,</td>\n",
       "      <td>2.77</td>\n",
       "      <td>md</td>\n",
       "    </tr>\n",
       "    <tr>\n",
       "      <th>12</th>\n",
       "      <td>76.0</td>\n",
       "      <td>,ci37389146,</td>\n",
       "      <td>0.50</td>\n",
       "      <td>ml</td>\n",
       "    </tr>\n",
       "    <tr>\n",
       "      <th>13</th>\n",
       "      <td>157.0</td>\n",
       "      <td>,us1000hbti,</td>\n",
       "      <td>4.50</td>\n",
       "      <td>mb</td>\n",
       "    </tr>\n",
       "    <tr>\n",
       "      <th>14</th>\n",
       "      <td>71.0</td>\n",
       "      <td>,nc73096921,</td>\n",
       "      <td>2.13</td>\n",
       "      <td>md</td>\n",
       "    </tr>\n",
       "  </tbody>\n",
       "</table>\n",
       "</div>"
      ],
      "text/plain": [
       "      gap             ids   mag magType\n",
       "10   57.0    ,ci37389162,  0.50      ml\n",
       "11  186.0  ,pr2018286010,  2.77      md\n",
       "12   76.0    ,ci37389146,  0.50      ml\n",
       "13  157.0    ,us1000hbti,  4.50      mb\n",
       "14   71.0    ,nc73096921,  2.13      md"
      ]
     },
     "execution_count": 93,
     "metadata": {},
     "output_type": "execute_result"
    }
   ],
   "source": [
    "df.iloc[10:15, 6:10]"
   ]
  },
  {
   "cell_type": "code",
   "execution_count": 94,
   "id": "6920573a",
   "metadata": {},
   "outputs": [
    {
     "data": {
      "text/plain": [
       "True"
      ]
     },
     "execution_count": 94,
     "metadata": {},
     "output_type": "execute_result"
    }
   ],
   "source": [
    "# many ways to achieve the same result\n",
    "df.iloc[10:15, 6:10].equals(df.loc[10:14, 'gap':'magType'])"
   ]
  },
  {
   "cell_type": "code",
   "execution_count": 95,
   "id": "196ccd9d",
   "metadata": {},
   "outputs": [
    {
     "data": {
      "text/plain": [
       "0.5"
      ]
     },
     "execution_count": 95,
     "metadata": {},
     "output_type": "execute_result"
    }
   ],
   "source": [
    "# To look up scalar values, we use at[] and iat[], which are faster.\n",
    "df.at[10, 'mag']"
   ]
  },
  {
   "cell_type": "code",
   "execution_count": 96,
   "id": "89e03d0c",
   "metadata": {},
   "outputs": [
    {
     "data": {
      "text/plain": [
       "0.5"
      ]
     },
     "execution_count": 96,
     "metadata": {},
     "output_type": "execute_result"
    }
   ],
   "source": [
    "df.iat[10, 8]"
   ]
  },
  {
   "cell_type": "code",
   "execution_count": 97,
   "id": "49bd1534",
   "metadata": {},
   "outputs": [
    {
     "data": {
      "text/plain": [
       "0       False\n",
       "1       False\n",
       "2        True\n",
       "3       False\n",
       "4        True\n",
       "        ...  \n",
       "9327    False\n",
       "9328    False\n",
       "9329     True\n",
       "9330    False\n",
       "9331    False\n",
       "Name: mag, Length: 9332, dtype: bool"
      ]
     },
     "execution_count": 97,
     "metadata": {},
     "output_type": "execute_result"
    }
   ],
   "source": [
    "df.mag > 2"
   ]
  },
  {
   "cell_type": "code",
   "execution_count": 98,
   "id": "d2dc0850",
   "metadata": {},
   "outputs": [
    {
     "data": {
      "text/html": [
       "<div>\n",
       "<style scoped>\n",
       "    .dataframe tbody tr th:only-of-type {\n",
       "        vertical-align: middle;\n",
       "    }\n",
       "\n",
       "    .dataframe tbody tr th {\n",
       "        vertical-align: top;\n",
       "    }\n",
       "\n",
       "    .dataframe thead th {\n",
       "        text-align: right;\n",
       "    }\n",
       "</style>\n",
       "<table border=\"1\" class=\"dataframe\">\n",
       "  <thead>\n",
       "    <tr style=\"text-align: right;\">\n",
       "      <th></th>\n",
       "      <th>alert</th>\n",
       "      <th>cdi</th>\n",
       "      <th>code</th>\n",
       "      <th>detail</th>\n",
       "      <th>dmin</th>\n",
       "      <th>felt</th>\n",
       "      <th>gap</th>\n",
       "      <th>ids</th>\n",
       "      <th>mag</th>\n",
       "      <th>magType</th>\n",
       "      <th>...</th>\n",
       "      <th>sources</th>\n",
       "      <th>status</th>\n",
       "      <th>time</th>\n",
       "      <th>title</th>\n",
       "      <th>tsunami</th>\n",
       "      <th>type</th>\n",
       "      <th>types</th>\n",
       "      <th>tz</th>\n",
       "      <th>updated</th>\n",
       "      <th>url</th>\n",
       "    </tr>\n",
       "  </thead>\n",
       "  <tbody>\n",
       "    <tr>\n",
       "      <th>837</th>\n",
       "      <td>green</td>\n",
       "      <td>4.1</td>\n",
       "      <td>1000haa3</td>\n",
       "      <td>https://earthquake.usgs.gov/fdsnws/event/1/que...</td>\n",
       "      <td>1.763</td>\n",
       "      <td>3.0</td>\n",
       "      <td>14.0</td>\n",
       "      <td>,us1000haa3,pt18283003,at00pgehsk,</td>\n",
       "      <td>7.0</td>\n",
       "      <td>mww</td>\n",
       "      <td>...</td>\n",
       "      <td>,us,pt,at,</td>\n",
       "      <td>reviewed</td>\n",
       "      <td>1539204500290</td>\n",
       "      <td>M 7.0 - 117km E of Kimbe, Papua New Guinea</td>\n",
       "      <td>1</td>\n",
       "      <td>earthquake</td>\n",
       "      <td>,dyfi,finite-fault,general-text,geoserve,groun...</td>\n",
       "      <td>600.0</td>\n",
       "      <td>1539378744253</td>\n",
       "      <td>https://earthquake.usgs.gov/earthquakes/eventp...</td>\n",
       "    </tr>\n",
       "    <tr>\n",
       "      <th>5263</th>\n",
       "      <td>red</td>\n",
       "      <td>8.4</td>\n",
       "      <td>1000h3p4</td>\n",
       "      <td>https://earthquake.usgs.gov/fdsnws/event/1/que...</td>\n",
       "      <td>1.589</td>\n",
       "      <td>18.0</td>\n",
       "      <td>27.0</td>\n",
       "      <td>,us1000h3p4,us1000h4p4,</td>\n",
       "      <td>7.5</td>\n",
       "      <td>mww</td>\n",
       "      <td>...</td>\n",
       "      <td>,us,us,</td>\n",
       "      <td>reviewed</td>\n",
       "      <td>1538128963480</td>\n",
       "      <td>M 7.5 - 78km N of Palu, Indonesia</td>\n",
       "      <td>1</td>\n",
       "      <td>earthquake</td>\n",
       "      <td>,dyfi,finite-fault,general-text,geoserve,groun...</td>\n",
       "      <td>480.0</td>\n",
       "      <td>1539123134531</td>\n",
       "      <td>https://earthquake.usgs.gov/earthquakes/eventp...</td>\n",
       "    </tr>\n",
       "  </tbody>\n",
       "</table>\n",
       "<p>2 rows × 26 columns</p>\n",
       "</div>"
      ],
      "text/plain": [
       "      alert  cdi      code                                             detail  \\\n",
       "837   green  4.1  1000haa3  https://earthquake.usgs.gov/fdsnws/event/1/que...   \n",
       "5263    red  8.4  1000h3p4  https://earthquake.usgs.gov/fdsnws/event/1/que...   \n",
       "\n",
       "       dmin  felt   gap                                 ids  mag magType  ...  \\\n",
       "837   1.763   3.0  14.0  ,us1000haa3,pt18283003,at00pgehsk,  7.0     mww  ...   \n",
       "5263  1.589  18.0  27.0             ,us1000h3p4,us1000h4p4,  7.5     mww  ...   \n",
       "\n",
       "         sources    status           time  \\\n",
       "837   ,us,pt,at,  reviewed  1539204500290   \n",
       "5263     ,us,us,  reviewed  1538128963480   \n",
       "\n",
       "                                           title  tsunami        type  \\\n",
       "837   M 7.0 - 117km E of Kimbe, Papua New Guinea        1  earthquake   \n",
       "5263           M 7.5 - 78km N of Palu, Indonesia        1  earthquake   \n",
       "\n",
       "                                                  types     tz        updated  \\\n",
       "837   ,dyfi,finite-fault,general-text,geoserve,groun...  600.0  1539378744253   \n",
       "5263  ,dyfi,finite-fault,general-text,geoserve,groun...  480.0  1539123134531   \n",
       "\n",
       "                                                    url  \n",
       "837   https://earthquake.usgs.gov/earthquakes/eventp...  \n",
       "5263  https://earthquake.usgs.gov/earthquakes/eventp...  \n",
       "\n",
       "[2 rows x 26 columns]"
      ]
     },
     "execution_count": 98,
     "metadata": {},
     "output_type": "execute_result"
    }
   ],
   "source": [
    "df[df.mag >= 7.0]"
   ]
  },
  {
   "cell_type": "code",
   "execution_count": 100,
   "id": "c3b61a91",
   "metadata": {},
   "outputs": [
    {
     "data": {
      "text/html": [
       "<div>\n",
       "<style scoped>\n",
       "    .dataframe tbody tr th:only-of-type {\n",
       "        vertical-align: middle;\n",
       "    }\n",
       "\n",
       "    .dataframe tbody tr th {\n",
       "        vertical-align: top;\n",
       "    }\n",
       "\n",
       "    .dataframe thead th {\n",
       "        text-align: right;\n",
       "    }\n",
       "</style>\n",
       "<table border=\"1\" class=\"dataframe\">\n",
       "  <thead>\n",
       "    <tr style=\"text-align: right;\">\n",
       "      <th></th>\n",
       "      <th>alert</th>\n",
       "      <th>mag</th>\n",
       "      <th>magType</th>\n",
       "      <th>title</th>\n",
       "      <th>tsunami</th>\n",
       "      <th>type</th>\n",
       "    </tr>\n",
       "  </thead>\n",
       "  <tbody>\n",
       "    <tr>\n",
       "      <th>837</th>\n",
       "      <td>green</td>\n",
       "      <td>7.0</td>\n",
       "      <td>mww</td>\n",
       "      <td>M 7.0 - 117km E of Kimbe, Papua New Guinea</td>\n",
       "      <td>1</td>\n",
       "      <td>earthquake</td>\n",
       "    </tr>\n",
       "    <tr>\n",
       "      <th>5263</th>\n",
       "      <td>red</td>\n",
       "      <td>7.5</td>\n",
       "      <td>mww</td>\n",
       "      <td>M 7.5 - 78km N of Palu, Indonesia</td>\n",
       "      <td>1</td>\n",
       "      <td>earthquake</td>\n",
       "    </tr>\n",
       "  </tbody>\n",
       "</table>\n",
       "</div>"
      ],
      "text/plain": [
       "      alert  mag magType                                       title  tsunami  \\\n",
       "837   green  7.0     mww  M 7.0 - 117km E of Kimbe, Papua New Guinea        1   \n",
       "5263    red  7.5     mww           M 7.5 - 78km N of Palu, Indonesia        1   \n",
       "\n",
       "            type  \n",
       "837   earthquake  \n",
       "5263  earthquake  "
      ]
     },
     "execution_count": 100,
     "metadata": {},
     "output_type": "execute_result"
    }
   ],
   "source": [
    "df.loc[df.mag >= 7.0, ['alert', 'mag', 'magType', 'title', 'tsunami', 'type']]"
   ]
  },
  {
   "cell_type": "code",
   "execution_count": 101,
   "id": "cc6f11bf",
   "metadata": {},
   "outputs": [
    {
     "data": {
      "text/html": [
       "<div>\n",
       "<style scoped>\n",
       "    .dataframe tbody tr th:only-of-type {\n",
       "        vertical-align: middle;\n",
       "    }\n",
       "\n",
       "    .dataframe tbody tr th {\n",
       "        vertical-align: top;\n",
       "    }\n",
       "\n",
       "    .dataframe thead th {\n",
       "        text-align: right;\n",
       "    }\n",
       "</style>\n",
       "<table border=\"1\" class=\"dataframe\">\n",
       "  <thead>\n",
       "    <tr style=\"text-align: right;\">\n",
       "      <th></th>\n",
       "      <th>alert</th>\n",
       "      <th>mag</th>\n",
       "      <th>magType</th>\n",
       "      <th>title</th>\n",
       "      <th>tsunami</th>\n",
       "      <th>type</th>\n",
       "    </tr>\n",
       "  </thead>\n",
       "  <tbody>\n",
       "    <tr>\n",
       "      <th>5263</th>\n",
       "      <td>red</td>\n",
       "      <td>7.5</td>\n",
       "      <td>mww</td>\n",
       "      <td>M 7.5 - 78km N of Palu, Indonesia</td>\n",
       "      <td>1</td>\n",
       "      <td>earthquake</td>\n",
       "    </tr>\n",
       "  </tbody>\n",
       "</table>\n",
       "</div>"
      ],
      "text/plain": [
       "     alert  mag magType                              title  tsunami  \\\n",
       "5263   red  7.5     mww  M 7.5 - 78km N of Palu, Indonesia        1   \n",
       "\n",
       "            type  \n",
       "5263  earthquake  "
      ]
     },
     "execution_count": 101,
     "metadata": {},
     "output_type": "execute_result"
    }
   ],
   "source": [
    "# bitwise AND operator\n",
    "df.loc[(df.tsunami == 1) & (df.alert == 'red'), ['alert', 'mag', 'magType', 'title', 'tsunami', 'type']]"
   ]
  },
  {
   "cell_type": "code",
   "execution_count": 102,
   "id": "eb647b3d",
   "metadata": {},
   "outputs": [
    {
     "data": {
      "text/html": [
       "<div>\n",
       "<style scoped>\n",
       "    .dataframe tbody tr th:only-of-type {\n",
       "        vertical-align: middle;\n",
       "    }\n",
       "\n",
       "    .dataframe tbody tr th {\n",
       "        vertical-align: top;\n",
       "    }\n",
       "\n",
       "    .dataframe thead th {\n",
       "        text-align: right;\n",
       "    }\n",
       "</style>\n",
       "<table border=\"1\" class=\"dataframe\">\n",
       "  <thead>\n",
       "    <tr style=\"text-align: right;\">\n",
       "      <th></th>\n",
       "      <th>alert</th>\n",
       "      <th>mag</th>\n",
       "      <th>magType</th>\n",
       "      <th>title</th>\n",
       "      <th>tsunami</th>\n",
       "      <th>type</th>\n",
       "    </tr>\n",
       "  </thead>\n",
       "  <tbody>\n",
       "    <tr>\n",
       "      <th>36</th>\n",
       "      <td>NaN</td>\n",
       "      <td>5.0</td>\n",
       "      <td>mww</td>\n",
       "      <td>M 5.0 - 165km NNW of Flying Fish Cove, Christm...</td>\n",
       "      <td>1</td>\n",
       "      <td>earthquake</td>\n",
       "    </tr>\n",
       "    <tr>\n",
       "      <th>118</th>\n",
       "      <td>green</td>\n",
       "      <td>6.7</td>\n",
       "      <td>mww</td>\n",
       "      <td>M 6.7 - 262km NW of Ozernovskiy, Russia</td>\n",
       "      <td>1</td>\n",
       "      <td>earthquake</td>\n",
       "    </tr>\n",
       "    <tr>\n",
       "      <th>501</th>\n",
       "      <td>green</td>\n",
       "      <td>5.6</td>\n",
       "      <td>mww</td>\n",
       "      <td>M 5.6 - 128km SE of Kimbe, Papua New Guinea</td>\n",
       "      <td>1</td>\n",
       "      <td>earthquake</td>\n",
       "    </tr>\n",
       "    <tr>\n",
       "      <th>799</th>\n",
       "      <td>green</td>\n",
       "      <td>6.5</td>\n",
       "      <td>mww</td>\n",
       "      <td>M 6.5 - 148km S of Severo-Kuril'sk, Russia</td>\n",
       "      <td>1</td>\n",
       "      <td>earthquake</td>\n",
       "    </tr>\n",
       "    <tr>\n",
       "      <th>816</th>\n",
       "      <td>green</td>\n",
       "      <td>6.2</td>\n",
       "      <td>mww</td>\n",
       "      <td>M 6.2 - 94km SW of Kokopo, Papua New Guinea</td>\n",
       "      <td>1</td>\n",
       "      <td>earthquake</td>\n",
       "    </tr>\n",
       "    <tr>\n",
       "      <th>...</th>\n",
       "      <td>...</td>\n",
       "      <td>...</td>\n",
       "      <td>...</td>\n",
       "      <td>...</td>\n",
       "      <td>...</td>\n",
       "      <td>...</td>\n",
       "    </tr>\n",
       "    <tr>\n",
       "      <th>8561</th>\n",
       "      <td>NaN</td>\n",
       "      <td>5.4</td>\n",
       "      <td>mb</td>\n",
       "      <td>M 5.4 - 228km S of Taron, Papua New Guinea</td>\n",
       "      <td>1</td>\n",
       "      <td>earthquake</td>\n",
       "    </tr>\n",
       "    <tr>\n",
       "      <th>8624</th>\n",
       "      <td>NaN</td>\n",
       "      <td>5.1</td>\n",
       "      <td>mb</td>\n",
       "      <td>M 5.1 - 278km SE of Pondaguitan, Philippines</td>\n",
       "      <td>1</td>\n",
       "      <td>earthquake</td>\n",
       "    </tr>\n",
       "    <tr>\n",
       "      <th>9133</th>\n",
       "      <td>green</td>\n",
       "      <td>5.1</td>\n",
       "      <td>ml</td>\n",
       "      <td>M 5.1 - 64km SSW of Kaktovik, Alaska</td>\n",
       "      <td>1</td>\n",
       "      <td>earthquake</td>\n",
       "    </tr>\n",
       "    <tr>\n",
       "      <th>9175</th>\n",
       "      <td>NaN</td>\n",
       "      <td>5.2</td>\n",
       "      <td>mb</td>\n",
       "      <td>M 5.2 - 126km N of Dili, East Timor</td>\n",
       "      <td>1</td>\n",
       "      <td>earthquake</td>\n",
       "    </tr>\n",
       "    <tr>\n",
       "      <th>9304</th>\n",
       "      <td>NaN</td>\n",
       "      <td>5.1</td>\n",
       "      <td>mb</td>\n",
       "      <td>M 5.1 - 34km NW of Finschhafen, Papua New Guinea</td>\n",
       "      <td>1</td>\n",
       "      <td>earthquake</td>\n",
       "    </tr>\n",
       "  </tbody>\n",
       "</table>\n",
       "<p>61 rows × 6 columns</p>\n",
       "</div>"
      ],
      "text/plain": [
       "      alert  mag magType                                              title  \\\n",
       "36      NaN  5.0     mww  M 5.0 - 165km NNW of Flying Fish Cove, Christm...   \n",
       "118   green  6.7     mww            M 6.7 - 262km NW of Ozernovskiy, Russia   \n",
       "501   green  5.6     mww        M 5.6 - 128km SE of Kimbe, Papua New Guinea   \n",
       "799   green  6.5     mww         M 6.5 - 148km S of Severo-Kuril'sk, Russia   \n",
       "816   green  6.2     mww        M 6.2 - 94km SW of Kokopo, Papua New Guinea   \n",
       "...     ...  ...     ...                                                ...   \n",
       "8561    NaN  5.4      mb         M 5.4 - 228km S of Taron, Papua New Guinea   \n",
       "8624    NaN  5.1      mb       M 5.1 - 278km SE of Pondaguitan, Philippines   \n",
       "9133  green  5.1      ml               M 5.1 - 64km SSW of Kaktovik, Alaska   \n",
       "9175    NaN  5.2      mb                M 5.2 - 126km N of Dili, East Timor   \n",
       "9304    NaN  5.1      mb   M 5.1 - 34km NW of Finschhafen, Papua New Guinea   \n",
       "\n",
       "      tsunami        type  \n",
       "36          1  earthquake  \n",
       "118         1  earthquake  \n",
       "501         1  earthquake  \n",
       "799         1  earthquake  \n",
       "816         1  earthquake  \n",
       "...       ...         ...  \n",
       "8561        1  earthquake  \n",
       "8624        1  earthquake  \n",
       "9133        1  earthquake  \n",
       "9175        1  earthquake  \n",
       "9304        1  earthquake  \n",
       "\n",
       "[61 rows x 6 columns]"
      ]
     },
     "execution_count": 102,
     "metadata": {},
     "output_type": "execute_result"
    }
   ],
   "source": [
    "# bitwise OR operator\n",
    "df.loc[(df.tsunami == 1) | (df.alert == 'red'), ['alert', 'mag', 'magType', 'title', 'tsunami', 'type']]"
   ]
  },
  {
   "cell_type": "code",
   "execution_count": 104,
   "id": "283bd049",
   "metadata": {},
   "outputs": [
    {
     "data": {
      "text/html": [
       "<div>\n",
       "<style scoped>\n",
       "    .dataframe tbody tr th:only-of-type {\n",
       "        vertical-align: middle;\n",
       "    }\n",
       "\n",
       "    .dataframe tbody tr th {\n",
       "        vertical-align: top;\n",
       "    }\n",
       "\n",
       "    .dataframe thead th {\n",
       "        text-align: right;\n",
       "    }\n",
       "</style>\n",
       "<table border=\"1\" class=\"dataframe\">\n",
       "  <thead>\n",
       "    <tr style=\"text-align: right;\">\n",
       "      <th></th>\n",
       "      <th>alert</th>\n",
       "      <th>mag</th>\n",
       "      <th>magType</th>\n",
       "      <th>title</th>\n",
       "      <th>tsunami</th>\n",
       "      <th>type</th>\n",
       "      <th>place</th>\n",
       "    </tr>\n",
       "  </thead>\n",
       "  <tbody>\n",
       "    <tr>\n",
       "      <th>1015</th>\n",
       "      <td>green</td>\n",
       "      <td>5.0</td>\n",
       "      <td>ml</td>\n",
       "      <td>M 5.0 - 61km SSW of Chignik Lake, Alaska</td>\n",
       "      <td>1</td>\n",
       "      <td>earthquake</td>\n",
       "      <td>61km SSW of Chignik Lake, Alaska</td>\n",
       "    </tr>\n",
       "    <tr>\n",
       "      <th>1273</th>\n",
       "      <td>green</td>\n",
       "      <td>4.0</td>\n",
       "      <td>ml</td>\n",
       "      <td>M 4.0 - 71km SW of Kaktovik, Alaska</td>\n",
       "      <td>1</td>\n",
       "      <td>earthquake</td>\n",
       "      <td>71km SW of Kaktovik, Alaska</td>\n",
       "    </tr>\n",
       "    <tr>\n",
       "      <th>1795</th>\n",
       "      <td>green</td>\n",
       "      <td>4.0</td>\n",
       "      <td>ml</td>\n",
       "      <td>M 4.0 - 60km WNW of Valdez, Alaska</td>\n",
       "      <td>1</td>\n",
       "      <td>earthquake</td>\n",
       "      <td>60km WNW of Valdez, Alaska</td>\n",
       "    </tr>\n",
       "    <tr>\n",
       "      <th>2752</th>\n",
       "      <td>green</td>\n",
       "      <td>4.0</td>\n",
       "      <td>ml</td>\n",
       "      <td>M 4.0 - 67km SSW of Kaktovik, Alaska</td>\n",
       "      <td>1</td>\n",
       "      <td>earthquake</td>\n",
       "      <td>67km SSW of Kaktovik, Alaska</td>\n",
       "    </tr>\n",
       "    <tr>\n",
       "      <th>3260</th>\n",
       "      <td>green</td>\n",
       "      <td>3.9</td>\n",
       "      <td>ml</td>\n",
       "      <td>M 3.9 - 44km N of North Nenana, Alaska</td>\n",
       "      <td>0</td>\n",
       "      <td>earthquake</td>\n",
       "      <td>44km N of North Nenana, Alaska</td>\n",
       "    </tr>\n",
       "    <tr>\n",
       "      <th>4101</th>\n",
       "      <td>green</td>\n",
       "      <td>4.2</td>\n",
       "      <td>ml</td>\n",
       "      <td>M 4.2 - 131km NNW of Arctic Village, Alaska</td>\n",
       "      <td>0</td>\n",
       "      <td>earthquake</td>\n",
       "      <td>131km NNW of Arctic Village, Alaska</td>\n",
       "    </tr>\n",
       "    <tr>\n",
       "      <th>6897</th>\n",
       "      <td>green</td>\n",
       "      <td>3.8</td>\n",
       "      <td>ml</td>\n",
       "      <td>M 3.8 - 80km SSW of Kaktovik, Alaska</td>\n",
       "      <td>0</td>\n",
       "      <td>earthquake</td>\n",
       "      <td>80km SSW of Kaktovik, Alaska</td>\n",
       "    </tr>\n",
       "    <tr>\n",
       "      <th>8524</th>\n",
       "      <td>green</td>\n",
       "      <td>3.8</td>\n",
       "      <td>ml</td>\n",
       "      <td>M 3.8 - 69km SSW of Kaktovik, Alaska</td>\n",
       "      <td>0</td>\n",
       "      <td>earthquake</td>\n",
       "      <td>69km SSW of Kaktovik, Alaska</td>\n",
       "    </tr>\n",
       "    <tr>\n",
       "      <th>9133</th>\n",
       "      <td>green</td>\n",
       "      <td>5.1</td>\n",
       "      <td>ml</td>\n",
       "      <td>M 5.1 - 64km SSW of Kaktovik, Alaska</td>\n",
       "      <td>1</td>\n",
       "      <td>earthquake</td>\n",
       "      <td>64km SSW of Kaktovik, Alaska</td>\n",
       "    </tr>\n",
       "  </tbody>\n",
       "</table>\n",
       "</div>"
      ],
      "text/plain": [
       "      alert  mag magType                                        title  \\\n",
       "1015  green  5.0      ml     M 5.0 - 61km SSW of Chignik Lake, Alaska   \n",
       "1273  green  4.0      ml          M 4.0 - 71km SW of Kaktovik, Alaska   \n",
       "1795  green  4.0      ml           M 4.0 - 60km WNW of Valdez, Alaska   \n",
       "2752  green  4.0      ml         M 4.0 - 67km SSW of Kaktovik, Alaska   \n",
       "3260  green  3.9      ml       M 3.9 - 44km N of North Nenana, Alaska   \n",
       "4101  green  4.2      ml  M 4.2 - 131km NNW of Arctic Village, Alaska   \n",
       "6897  green  3.8      ml         M 3.8 - 80km SSW of Kaktovik, Alaska   \n",
       "8524  green  3.8      ml         M 3.8 - 69km SSW of Kaktovik, Alaska   \n",
       "9133  green  5.1      ml         M 5.1 - 64km SSW of Kaktovik, Alaska   \n",
       "\n",
       "      tsunami        type                                place  \n",
       "1015        1  earthquake     61km SSW of Chignik Lake, Alaska  \n",
       "1273        1  earthquake          71km SW of Kaktovik, Alaska  \n",
       "1795        1  earthquake           60km WNW of Valdez, Alaska  \n",
       "2752        1  earthquake         67km SSW of Kaktovik, Alaska  \n",
       "3260        0  earthquake       44km N of North Nenana, Alaska  \n",
       "4101        0  earthquake  131km NNW of Arctic Village, Alaska  \n",
       "6897        0  earthquake         80km SSW of Kaktovik, Alaska  \n",
       "8524        0  earthquake         69km SSW of Kaktovik, Alaska  \n",
       "9133        1  earthquake         64km SSW of Kaktovik, Alaska  "
      ]
     },
     "execution_count": 104,
     "metadata": {},
     "output_type": "execute_result"
    }
   ],
   "source": [
    "df.loc[(df.place.str.contains('Alaska')) & (df.alert.notnull()), \n",
    "       ['alert', 'mag', 'magType', 'title', 'tsunami', 'type', 'place']]"
   ]
  },
  {
   "cell_type": "code",
   "execution_count": 109,
   "id": "ea5fc6c8",
   "metadata": {},
   "outputs": [
    {
     "data": {
      "text/html": [
       "<div>\n",
       "<style scoped>\n",
       "    .dataframe tbody tr th:only-of-type {\n",
       "        vertical-align: middle;\n",
       "    }\n",
       "\n",
       "    .dataframe tbody tr th {\n",
       "        vertical-align: top;\n",
       "    }\n",
       "\n",
       "    .dataframe thead th {\n",
       "        text-align: right;\n",
       "    }\n",
       "</style>\n",
       "<table border=\"1\" class=\"dataframe\">\n",
       "  <thead>\n",
       "    <tr style=\"text-align: right;\">\n",
       "      <th></th>\n",
       "      <th>alert</th>\n",
       "      <th>mag</th>\n",
       "      <th>magType</th>\n",
       "      <th>title</th>\n",
       "      <th>tsunami</th>\n",
       "      <th>type</th>\n",
       "      <th>place</th>\n",
       "    </tr>\n",
       "  </thead>\n",
       "  <tbody>\n",
       "    <tr>\n",
       "      <th>1465</th>\n",
       "      <td>green</td>\n",
       "      <td>3.83</td>\n",
       "      <td>mw</td>\n",
       "      <td>M 3.8 - 109km WNW of Trinidad, CA</td>\n",
       "      <td>0</td>\n",
       "      <td>earthquake</td>\n",
       "      <td>109km WNW of Trinidad, CA</td>\n",
       "    </tr>\n",
       "    <tr>\n",
       "      <th>2414</th>\n",
       "      <td>green</td>\n",
       "      <td>3.83</td>\n",
       "      <td>mw</td>\n",
       "      <td>M 3.8 - 5km SW of Tres Pinos, CA</td>\n",
       "      <td>1</td>\n",
       "      <td>earthquake</td>\n",
       "      <td>5km SW of Tres Pinos, CA</td>\n",
       "    </tr>\n",
       "  </tbody>\n",
       "</table>\n",
       "</div>"
      ],
      "text/plain": [
       "      alert   mag magType                              title  tsunami  \\\n",
       "1465  green  3.83      mw  M 3.8 - 109km WNW of Trinidad, CA        0   \n",
       "2414  green  3.83      mw   M 3.8 - 5km SW of Tres Pinos, CA        1   \n",
       "\n",
       "            type                      place  \n",
       "1465  earthquake  109km WNW of Trinidad, CA  \n",
       "2414  earthquake   5km SW of Tres Pinos, CA  "
      ]
     },
     "execution_count": 109,
     "metadata": {},
     "output_type": "execute_result"
    }
   ],
   "source": [
    "df.loc[(df.place.str.contains(r'CA|California$')) & (df.mag > 3.8), \n",
    "       ['alert', 'mag', 'magType', 'title', 'tsunami', 'type', 'place']]"
   ]
  },
  {
   "cell_type": "code",
   "execution_count": 112,
   "id": "94867ab4",
   "metadata": {},
   "outputs": [
    {
     "data": {
      "text/html": [
       "<div>\n",
       "<style scoped>\n",
       "    .dataframe tbody tr th:only-of-type {\n",
       "        vertical-align: middle;\n",
       "    }\n",
       "\n",
       "    .dataframe tbody tr th {\n",
       "        vertical-align: top;\n",
       "    }\n",
       "\n",
       "    .dataframe thead th {\n",
       "        text-align: right;\n",
       "    }\n",
       "</style>\n",
       "<table border=\"1\" class=\"dataframe\">\n",
       "  <thead>\n",
       "    <tr style=\"text-align: right;\">\n",
       "      <th></th>\n",
       "      <th>alert</th>\n",
       "      <th>mag</th>\n",
       "      <th>magType</th>\n",
       "      <th>title</th>\n",
       "      <th>tsunami</th>\n",
       "      <th>type</th>\n",
       "      <th>place</th>\n",
       "    </tr>\n",
       "  </thead>\n",
       "  <tbody>\n",
       "    <tr>\n",
       "      <th>118</th>\n",
       "      <td>green</td>\n",
       "      <td>6.7</td>\n",
       "      <td>mww</td>\n",
       "      <td>M 6.7 - 262km NW of Ozernovskiy, Russia</td>\n",
       "      <td>1</td>\n",
       "      <td>earthquake</td>\n",
       "      <td>262km NW of Ozernovskiy, Russia</td>\n",
       "    </tr>\n",
       "    <tr>\n",
       "      <th>799</th>\n",
       "      <td>green</td>\n",
       "      <td>6.5</td>\n",
       "      <td>mww</td>\n",
       "      <td>M 6.5 - 148km S of Severo-Kuril'sk, Russia</td>\n",
       "      <td>1</td>\n",
       "      <td>earthquake</td>\n",
       "      <td>148km S of Severo-Kuril'sk, Russia</td>\n",
       "    </tr>\n",
       "    <tr>\n",
       "      <th>837</th>\n",
       "      <td>green</td>\n",
       "      <td>7.0</td>\n",
       "      <td>mww</td>\n",
       "      <td>M 7.0 - 117km E of Kimbe, Papua New Guinea</td>\n",
       "      <td>1</td>\n",
       "      <td>earthquake</td>\n",
       "      <td>117km E of Kimbe, Papua New Guinea</td>\n",
       "    </tr>\n",
       "    <tr>\n",
       "      <th>4363</th>\n",
       "      <td>green</td>\n",
       "      <td>6.7</td>\n",
       "      <td>mww</td>\n",
       "      <td>M 6.7 - 263km NNE of Ndoi Island, Fiji</td>\n",
       "      <td>1</td>\n",
       "      <td>earthquake</td>\n",
       "      <td>263km NNE of Ndoi Island, Fiji</td>\n",
       "    </tr>\n",
       "    <tr>\n",
       "      <th>5263</th>\n",
       "      <td>red</td>\n",
       "      <td>7.5</td>\n",
       "      <td>mww</td>\n",
       "      <td>M 7.5 - 78km N of Palu, Indonesia</td>\n",
       "      <td>1</td>\n",
       "      <td>earthquake</td>\n",
       "      <td>78km N of Palu, Indonesia</td>\n",
       "    </tr>\n",
       "  </tbody>\n",
       "</table>\n",
       "</div>"
      ],
      "text/plain": [
       "      alert  mag magType                                       title  tsunami  \\\n",
       "118   green  6.7     mww     M 6.7 - 262km NW of Ozernovskiy, Russia        1   \n",
       "799   green  6.5     mww  M 6.5 - 148km S of Severo-Kuril'sk, Russia        1   \n",
       "837   green  7.0     mww  M 7.0 - 117km E of Kimbe, Papua New Guinea        1   \n",
       "4363  green  6.7     mww      M 6.7 - 263km NNE of Ndoi Island, Fiji        1   \n",
       "5263    red  7.5     mww           M 7.5 - 78km N of Palu, Indonesia        1   \n",
       "\n",
       "            type                               place  \n",
       "118   earthquake     262km NW of Ozernovskiy, Russia  \n",
       "799   earthquake  148km S of Severo-Kuril'sk, Russia  \n",
       "837   earthquake  117km E of Kimbe, Papua New Guinea  \n",
       "4363  earthquake      263km NNE of Ndoi Island, Fiji  \n",
       "5263  earthquake           78km N of Palu, Indonesia  "
      ]
     },
     "execution_count": 112,
     "metadata": {},
     "output_type": "execute_result"
    }
   ],
   "source": [
    "df.loc[df.mag.between(6.5, 7.5), ['alert', 'mag', 'magType', 'title', 'tsunami', 'type', 'place']]"
   ]
  },
  {
   "cell_type": "code",
   "execution_count": 116,
   "id": "eb751445",
   "metadata": {},
   "outputs": [
    {
     "data": {
      "text/html": [
       "<div>\n",
       "<style scoped>\n",
       "    .dataframe tbody tr th:only-of-type {\n",
       "        vertical-align: middle;\n",
       "    }\n",
       "\n",
       "    .dataframe tbody tr th {\n",
       "        vertical-align: top;\n",
       "    }\n",
       "\n",
       "    .dataframe thead th {\n",
       "        text-align: right;\n",
       "    }\n",
       "</style>\n",
       "<table border=\"1\" class=\"dataframe\">\n",
       "  <thead>\n",
       "    <tr style=\"text-align: right;\">\n",
       "      <th></th>\n",
       "      <th>alert</th>\n",
       "      <th>mag</th>\n",
       "      <th>magType</th>\n",
       "      <th>title</th>\n",
       "      <th>tsunami</th>\n",
       "      <th>type</th>\n",
       "      <th>place</th>\n",
       "    </tr>\n",
       "  </thead>\n",
       "  <tbody>\n",
       "    <tr>\n",
       "      <th>995</th>\n",
       "      <td>NaN</td>\n",
       "      <td>3.35</td>\n",
       "      <td>mw</td>\n",
       "      <td>M 3.4 - 9km WNW of Cobb, CA</td>\n",
       "      <td>0</td>\n",
       "      <td>earthquake</td>\n",
       "      <td>9km WNW of Cobb, CA</td>\n",
       "    </tr>\n",
       "    <tr>\n",
       "      <th>1465</th>\n",
       "      <td>green</td>\n",
       "      <td>3.83</td>\n",
       "      <td>mw</td>\n",
       "      <td>M 3.8 - 109km WNW of Trinidad, CA</td>\n",
       "      <td>0</td>\n",
       "      <td>earthquake</td>\n",
       "      <td>109km WNW of Trinidad, CA</td>\n",
       "    </tr>\n",
       "    <tr>\n",
       "      <th>2414</th>\n",
       "      <td>green</td>\n",
       "      <td>3.83</td>\n",
       "      <td>mw</td>\n",
       "      <td>M 3.8 - 5km SW of Tres Pinos, CA</td>\n",
       "      <td>1</td>\n",
       "      <td>earthquake</td>\n",
       "      <td>5km SW of Tres Pinos, CA</td>\n",
       "    </tr>\n",
       "    <tr>\n",
       "      <th>4988</th>\n",
       "      <td>green</td>\n",
       "      <td>4.41</td>\n",
       "      <td>mw</td>\n",
       "      <td>M 4.4 - 1km SE of Delta, B.C., MX</td>\n",
       "      <td>1</td>\n",
       "      <td>earthquake</td>\n",
       "      <td>1km SE of Delta, B.C., MX</td>\n",
       "    </tr>\n",
       "    <tr>\n",
       "      <th>6307</th>\n",
       "      <td>green</td>\n",
       "      <td>5.80</td>\n",
       "      <td>mwb</td>\n",
       "      <td>M 5.8 - 297km NNE of Ndoi Island, Fiji</td>\n",
       "      <td>0</td>\n",
       "      <td>earthquake</td>\n",
       "      <td>297km NNE of Ndoi Island, Fiji</td>\n",
       "    </tr>\n",
       "    <tr>\n",
       "      <th>8257</th>\n",
       "      <td>green</td>\n",
       "      <td>5.70</td>\n",
       "      <td>mwb</td>\n",
       "      <td>M 5.7 - 175km SSE of Lambasa, Fiji</td>\n",
       "      <td>0</td>\n",
       "      <td>earthquake</td>\n",
       "      <td>175km SSE of Lambasa, Fiji</td>\n",
       "    </tr>\n",
       "  </tbody>\n",
       "</table>\n",
       "</div>"
      ],
      "text/plain": [
       "      alert   mag magType                                   title  tsunami  \\\n",
       "995     NaN  3.35      mw             M 3.4 - 9km WNW of Cobb, CA        0   \n",
       "1465  green  3.83      mw       M 3.8 - 109km WNW of Trinidad, CA        0   \n",
       "2414  green  3.83      mw        M 3.8 - 5km SW of Tres Pinos, CA        1   \n",
       "4988  green  4.41      mw       M 4.4 - 1km SE of Delta, B.C., MX        1   \n",
       "6307  green  5.80     mwb  M 5.8 - 297km NNE of Ndoi Island, Fiji        0   \n",
       "8257  green  5.70     mwb      M 5.7 - 175km SSE of Lambasa, Fiji        0   \n",
       "\n",
       "            type                           place  \n",
       "995   earthquake             9km WNW of Cobb, CA  \n",
       "1465  earthquake       109km WNW of Trinidad, CA  \n",
       "2414  earthquake        5km SW of Tres Pinos, CA  \n",
       "4988  earthquake       1km SE of Delta, B.C., MX  \n",
       "6307  earthquake  297km NNE of Ndoi Island, Fiji  \n",
       "8257  earthquake      175km SSE of Lambasa, Fiji  "
      ]
     },
     "execution_count": 116,
     "metadata": {},
     "output_type": "execute_result"
    }
   ],
   "source": [
    "df.loc[df.magType.isin(['mw', 'mwb']),['alert', 'mag', 'magType', 'title', 'tsunami', 'type', 'place']]"
   ]
  },
  {
   "cell_type": "code",
   "execution_count": 135,
   "id": "3348b6fd",
   "metadata": {},
   "outputs": [],
   "source": [
    "usecols = ['alert', 'mag', 'magType', 'title', 'tsunami', 'type', 'place']"
   ]
  },
  {
   "cell_type": "code",
   "execution_count": 127,
   "id": "525327f5",
   "metadata": {},
   "outputs": [
    {
     "name": "stdout",
     "output_type": "stream",
     "text": [
      "[2409, 5263]\n"
     ]
    }
   ],
   "source": [
    "min_max = [df.mag.idxmin(), df.mag.idxmax()]\n",
    "print(min_max)"
   ]
  },
  {
   "cell_type": "code",
   "execution_count": 132,
   "id": "f2760594",
   "metadata": {},
   "outputs": [
    {
     "name": "stdout",
     "output_type": "stream",
     "text": [
      "minimum magnitude = -1.26         maximum magnitude = 7.5\n"
     ]
    }
   ],
   "source": [
    "print(f\"minimum magnitude = {df.at[2409, 'mag']} \\\n",
    "        maximum magnitude = {df.at[5263, 'mag']}\")"
   ]
  },
  {
   "cell_type": "code",
   "execution_count": 137,
   "id": "4f4f1499",
   "metadata": {},
   "outputs": [
    {
     "data": {
      "text/html": [
       "<div>\n",
       "<style scoped>\n",
       "    .dataframe tbody tr th:only-of-type {\n",
       "        vertical-align: middle;\n",
       "    }\n",
       "\n",
       "    .dataframe tbody tr th {\n",
       "        vertical-align: top;\n",
       "    }\n",
       "\n",
       "    .dataframe thead th {\n",
       "        text-align: right;\n",
       "    }\n",
       "</style>\n",
       "<table border=\"1\" class=\"dataframe\">\n",
       "  <thead>\n",
       "    <tr style=\"text-align: right;\">\n",
       "      <th></th>\n",
       "      <th>alert</th>\n",
       "      <th>mag</th>\n",
       "      <th>magType</th>\n",
       "      <th>title</th>\n",
       "      <th>tsunami</th>\n",
       "      <th>type</th>\n",
       "      <th>place</th>\n",
       "    </tr>\n",
       "  </thead>\n",
       "  <tbody>\n",
       "    <tr>\n",
       "      <th>2409</th>\n",
       "      <td>NaN</td>\n",
       "      <td>-1.26</td>\n",
       "      <td>ml</td>\n",
       "      <td>M -1.3 - 41km ENE of Adak, Alaska</td>\n",
       "      <td>0</td>\n",
       "      <td>earthquake</td>\n",
       "      <td>41km ENE of Adak, Alaska</td>\n",
       "    </tr>\n",
       "    <tr>\n",
       "      <th>5263</th>\n",
       "      <td>red</td>\n",
       "      <td>7.50</td>\n",
       "      <td>mww</td>\n",
       "      <td>M 7.5 - 78km N of Palu, Indonesia</td>\n",
       "      <td>1</td>\n",
       "      <td>earthquake</td>\n",
       "      <td>78km N of Palu, Indonesia</td>\n",
       "    </tr>\n",
       "  </tbody>\n",
       "</table>\n",
       "</div>"
      ],
      "text/plain": [
       "     alert   mag magType                              title  tsunami  \\\n",
       "2409   NaN -1.26      ml  M -1.3 - 41km ENE of Adak, Alaska        0   \n",
       "5263   red  7.50     mww  M 7.5 - 78km N of Palu, Indonesia        1   \n",
       "\n",
       "            type                      place  \n",
       "2409  earthquake   41km ENE of Adak, Alaska  \n",
       "5263  earthquake  78km N of Palu, Indonesia  "
      ]
     },
     "execution_count": 137,
     "metadata": {},
     "output_type": "execute_result"
    }
   ],
   "source": [
    "df.loc[min_max, usecols]"
   ]
  },
  {
   "cell_type": "markdown",
   "id": "8fd428a4",
   "metadata": {},
   "source": [
    "## Adding and removing data"
   ]
  },
  {
   "cell_type": "code",
   "execution_count": 250,
   "id": "a6a41a47",
   "metadata": {},
   "outputs": [],
   "source": [
    "df_to_modify = df.copy()"
   ]
  },
  {
   "cell_type": "code",
   "execution_count": 251,
   "id": "fed3405f",
   "metadata": {},
   "outputs": [],
   "source": [
    "df = pd.read_csv('data/earthquakes.csv', \n",
    "                 usecols=['time', 'title', 'place', 'magType',\n",
    "                          'mag', 'alert', 'tsunami'])"
   ]
  },
  {
   "cell_type": "code",
   "execution_count": 252,
   "id": "4c01ff86",
   "metadata": {},
   "outputs": [],
   "source": [
    "# We cannot create the column with attribute notation (df.source) because\n",
    "# the dataframe doesn't have that attribute yet, so we must use dictionary\n",
    "# notation (df['source']).\n",
    "df['source'] = 'USGS API'"
   ]
  },
  {
   "cell_type": "code",
   "execution_count": 253,
   "id": "b69f2e26",
   "metadata": {},
   "outputs": [
    {
     "data": {
      "text/html": [
       "<div>\n",
       "<style scoped>\n",
       "    .dataframe tbody tr th:only-of-type {\n",
       "        vertical-align: middle;\n",
       "    }\n",
       "\n",
       "    .dataframe tbody tr th {\n",
       "        vertical-align: top;\n",
       "    }\n",
       "\n",
       "    .dataframe thead th {\n",
       "        text-align: right;\n",
       "    }\n",
       "</style>\n",
       "<table border=\"1\" class=\"dataframe\">\n",
       "  <thead>\n",
       "    <tr style=\"text-align: right;\">\n",
       "      <th></th>\n",
       "      <th>alert</th>\n",
       "      <th>mag</th>\n",
       "      <th>magType</th>\n",
       "      <th>place</th>\n",
       "      <th>time</th>\n",
       "      <th>title</th>\n",
       "      <th>tsunami</th>\n",
       "      <th>source</th>\n",
       "    </tr>\n",
       "  </thead>\n",
       "  <tbody>\n",
       "    <tr>\n",
       "      <th>0</th>\n",
       "      <td>NaN</td>\n",
       "      <td>1.35</td>\n",
       "      <td>ml</td>\n",
       "      <td>9km NE of Aguanga, CA</td>\n",
       "      <td>1539475168010</td>\n",
       "      <td>M 1.4 - 9km NE of Aguanga, CA</td>\n",
       "      <td>0</td>\n",
       "      <td>USGS API</td>\n",
       "    </tr>\n",
       "    <tr>\n",
       "      <th>1</th>\n",
       "      <td>NaN</td>\n",
       "      <td>1.29</td>\n",
       "      <td>ml</td>\n",
       "      <td>9km NE of Aguanga, CA</td>\n",
       "      <td>1539475129610</td>\n",
       "      <td>M 1.3 - 9km NE of Aguanga, CA</td>\n",
       "      <td>0</td>\n",
       "      <td>USGS API</td>\n",
       "    </tr>\n",
       "    <tr>\n",
       "      <th>2</th>\n",
       "      <td>NaN</td>\n",
       "      <td>3.42</td>\n",
       "      <td>ml</td>\n",
       "      <td>8km NE of Aguanga, CA</td>\n",
       "      <td>1539475062610</td>\n",
       "      <td>M 3.4 - 8km NE of Aguanga, CA</td>\n",
       "      <td>0</td>\n",
       "      <td>USGS API</td>\n",
       "    </tr>\n",
       "    <tr>\n",
       "      <th>3</th>\n",
       "      <td>NaN</td>\n",
       "      <td>0.44</td>\n",
       "      <td>ml</td>\n",
       "      <td>9km NE of Aguanga, CA</td>\n",
       "      <td>1539474978070</td>\n",
       "      <td>M 0.4 - 9km NE of Aguanga, CA</td>\n",
       "      <td>0</td>\n",
       "      <td>USGS API</td>\n",
       "    </tr>\n",
       "    <tr>\n",
       "      <th>4</th>\n",
       "      <td>NaN</td>\n",
       "      <td>2.16</td>\n",
       "      <td>md</td>\n",
       "      <td>10km NW of Avenal, CA</td>\n",
       "      <td>1539474716050</td>\n",
       "      <td>M 2.2 - 10km NW of Avenal, CA</td>\n",
       "      <td>0</td>\n",
       "      <td>USGS API</td>\n",
       "    </tr>\n",
       "  </tbody>\n",
       "</table>\n",
       "</div>"
      ],
      "text/plain": [
       "  alert   mag magType                  place           time  \\\n",
       "0   NaN  1.35      ml  9km NE of Aguanga, CA  1539475168010   \n",
       "1   NaN  1.29      ml  9km NE of Aguanga, CA  1539475129610   \n",
       "2   NaN  3.42      ml  8km NE of Aguanga, CA  1539475062610   \n",
       "3   NaN  0.44      ml  9km NE of Aguanga, CA  1539474978070   \n",
       "4   NaN  2.16      md  10km NW of Avenal, CA  1539474716050   \n",
       "\n",
       "                           title  tsunami    source  \n",
       "0  M 1.4 - 9km NE of Aguanga, CA        0  USGS API  \n",
       "1  M 1.3 - 9km NE of Aguanga, CA        0  USGS API  \n",
       "2  M 3.4 - 8km NE of Aguanga, CA        0  USGS API  \n",
       "3  M 0.4 - 9km NE of Aguanga, CA        0  USGS API  \n",
       "4  M 2.2 - 10km NW of Avenal, CA        0  USGS API  "
      ]
     },
     "execution_count": 253,
     "metadata": {},
     "output_type": "execute_result"
    }
   ],
   "source": [
    "df.head()"
   ]
  },
  {
   "cell_type": "code",
   "execution_count": 254,
   "id": "be799edf",
   "metadata": {},
   "outputs": [
    {
     "data": {
      "text/html": [
       "<div>\n",
       "<style scoped>\n",
       "    .dataframe tbody tr th:only-of-type {\n",
       "        vertical-align: middle;\n",
       "    }\n",
       "\n",
       "    .dataframe tbody tr th {\n",
       "        vertical-align: top;\n",
       "    }\n",
       "\n",
       "    .dataframe thead th {\n",
       "        text-align: right;\n",
       "    }\n",
       "</style>\n",
       "<table border=\"1\" class=\"dataframe\">\n",
       "  <thead>\n",
       "    <tr style=\"text-align: right;\">\n",
       "      <th></th>\n",
       "      <th>alert</th>\n",
       "      <th>mag</th>\n",
       "      <th>magType</th>\n",
       "      <th>place</th>\n",
       "      <th>time</th>\n",
       "      <th>title</th>\n",
       "      <th>tsunami</th>\n",
       "      <th>source</th>\n",
       "      <th>mag_negative</th>\n",
       "    </tr>\n",
       "  </thead>\n",
       "  <tbody>\n",
       "    <tr>\n",
       "      <th>0</th>\n",
       "      <td>NaN</td>\n",
       "      <td>1.35</td>\n",
       "      <td>ml</td>\n",
       "      <td>9km NE of Aguanga, CA</td>\n",
       "      <td>1539475168010</td>\n",
       "      <td>M 1.4 - 9km NE of Aguanga, CA</td>\n",
       "      <td>0</td>\n",
       "      <td>USGS API</td>\n",
       "      <td>False</td>\n",
       "    </tr>\n",
       "    <tr>\n",
       "      <th>1</th>\n",
       "      <td>NaN</td>\n",
       "      <td>1.29</td>\n",
       "      <td>ml</td>\n",
       "      <td>9km NE of Aguanga, CA</td>\n",
       "      <td>1539475129610</td>\n",
       "      <td>M 1.3 - 9km NE of Aguanga, CA</td>\n",
       "      <td>0</td>\n",
       "      <td>USGS API</td>\n",
       "      <td>False</td>\n",
       "    </tr>\n",
       "    <tr>\n",
       "      <th>2</th>\n",
       "      <td>NaN</td>\n",
       "      <td>3.42</td>\n",
       "      <td>ml</td>\n",
       "      <td>8km NE of Aguanga, CA</td>\n",
       "      <td>1539475062610</td>\n",
       "      <td>M 3.4 - 8km NE of Aguanga, CA</td>\n",
       "      <td>0</td>\n",
       "      <td>USGS API</td>\n",
       "      <td>False</td>\n",
       "    </tr>\n",
       "    <tr>\n",
       "      <th>3</th>\n",
       "      <td>NaN</td>\n",
       "      <td>0.44</td>\n",
       "      <td>ml</td>\n",
       "      <td>9km NE of Aguanga, CA</td>\n",
       "      <td>1539474978070</td>\n",
       "      <td>M 0.4 - 9km NE of Aguanga, CA</td>\n",
       "      <td>0</td>\n",
       "      <td>USGS API</td>\n",
       "      <td>False</td>\n",
       "    </tr>\n",
       "    <tr>\n",
       "      <th>4</th>\n",
       "      <td>NaN</td>\n",
       "      <td>2.16</td>\n",
       "      <td>md</td>\n",
       "      <td>10km NW of Avenal, CA</td>\n",
       "      <td>1539474716050</td>\n",
       "      <td>M 2.2 - 10km NW of Avenal, CA</td>\n",
       "      <td>0</td>\n",
       "      <td>USGS API</td>\n",
       "      <td>False</td>\n",
       "    </tr>\n",
       "  </tbody>\n",
       "</table>\n",
       "</div>"
      ],
      "text/plain": [
       "  alert   mag magType                  place           time  \\\n",
       "0   NaN  1.35      ml  9km NE of Aguanga, CA  1539475168010   \n",
       "1   NaN  1.29      ml  9km NE of Aguanga, CA  1539475129610   \n",
       "2   NaN  3.42      ml  8km NE of Aguanga, CA  1539475062610   \n",
       "3   NaN  0.44      ml  9km NE of Aguanga, CA  1539474978070   \n",
       "4   NaN  2.16      md  10km NW of Avenal, CA  1539474716050   \n",
       "\n",
       "                           title  tsunami    source  mag_negative  \n",
       "0  M 1.4 - 9km NE of Aguanga, CA        0  USGS API         False  \n",
       "1  M 1.3 - 9km NE of Aguanga, CA        0  USGS API         False  \n",
       "2  M 3.4 - 8km NE of Aguanga, CA        0  USGS API         False  \n",
       "3  M 0.4 - 9km NE of Aguanga, CA        0  USGS API         False  \n",
       "4  M 2.2 - 10km NW of Avenal, CA        0  USGS API         False  "
      ]
     },
     "execution_count": 254,
     "metadata": {},
     "output_type": "execute_result"
    }
   ],
   "source": [
    "df['mag_negative'] = df.mag < 0\n",
    "df.head()"
   ]
  },
  {
   "cell_type": "code",
   "execution_count": 255,
   "id": "7d51dc79",
   "metadata": {},
   "outputs": [
    {
     "data": {
      "text/html": [
       "<div>\n",
       "<style scoped>\n",
       "    .dataframe tbody tr th:only-of-type {\n",
       "        vertical-align: middle;\n",
       "    }\n",
       "\n",
       "    .dataframe tbody tr th {\n",
       "        vertical-align: top;\n",
       "    }\n",
       "\n",
       "    .dataframe thead th {\n",
       "        text-align: right;\n",
       "    }\n",
       "</style>\n",
       "<table border=\"1\" class=\"dataframe\">\n",
       "  <thead>\n",
       "    <tr style=\"text-align: right;\">\n",
       "      <th></th>\n",
       "      <th>alert</th>\n",
       "      <th>mag</th>\n",
       "      <th>magType</th>\n",
       "      <th>place</th>\n",
       "      <th>time</th>\n",
       "      <th>title</th>\n",
       "      <th>tsunami</th>\n",
       "      <th>source</th>\n",
       "      <th>mag_negative</th>\n",
       "    </tr>\n",
       "  </thead>\n",
       "  <tbody>\n",
       "    <tr>\n",
       "      <th>39</th>\n",
       "      <td>NaN</td>\n",
       "      <td>-0.10</td>\n",
       "      <td>ml</td>\n",
       "      <td>6km NW of Lemmon Valley, Nevada</td>\n",
       "      <td>1539458844506</td>\n",
       "      <td>M -0.1 - 6km NW of Lemmon Valley, Nevada</td>\n",
       "      <td>0</td>\n",
       "      <td>USGS API</td>\n",
       "      <td>True</td>\n",
       "    </tr>\n",
       "    <tr>\n",
       "      <th>49</th>\n",
       "      <td>NaN</td>\n",
       "      <td>-0.10</td>\n",
       "      <td>ml</td>\n",
       "      <td>6km NW of Lemmon Valley, Nevada</td>\n",
       "      <td>1539455017464</td>\n",
       "      <td>M -0.1 - 6km NW of Lemmon Valley, Nevada</td>\n",
       "      <td>0</td>\n",
       "      <td>USGS API</td>\n",
       "      <td>True</td>\n",
       "    </tr>\n",
       "    <tr>\n",
       "      <th>135</th>\n",
       "      <td>NaN</td>\n",
       "      <td>-0.40</td>\n",
       "      <td>ml</td>\n",
       "      <td>10km SSE of Beatty, Nevada</td>\n",
       "      <td>1539422175717</td>\n",
       "      <td>M -0.4 - 10km SSE of Beatty, Nevada</td>\n",
       "      <td>0</td>\n",
       "      <td>USGS API</td>\n",
       "      <td>True</td>\n",
       "    </tr>\n",
       "    <tr>\n",
       "      <th>161</th>\n",
       "      <td>NaN</td>\n",
       "      <td>-0.02</td>\n",
       "      <td>md</td>\n",
       "      <td>20km SSE of Ronan, Montana</td>\n",
       "      <td>1539412475360</td>\n",
       "      <td>M -0.0 - 20km SSE of Ronan, Montana</td>\n",
       "      <td>0</td>\n",
       "      <td>USGS API</td>\n",
       "      <td>True</td>\n",
       "    </tr>\n",
       "    <tr>\n",
       "      <th>198</th>\n",
       "      <td>NaN</td>\n",
       "      <td>-0.20</td>\n",
       "      <td>ml</td>\n",
       "      <td>60km N of Pahrump, Nevada</td>\n",
       "      <td>1539398340822</td>\n",
       "      <td>M -0.2 - 60km N of Pahrump, Nevada</td>\n",
       "      <td>0</td>\n",
       "      <td>USGS API</td>\n",
       "      <td>True</td>\n",
       "    </tr>\n",
       "    <tr>\n",
       "      <th>...</th>\n",
       "      <td>...</td>\n",
       "      <td>...</td>\n",
       "      <td>...</td>\n",
       "      <td>...</td>\n",
       "      <td>...</td>\n",
       "      <td>...</td>\n",
       "      <td>...</td>\n",
       "      <td>...</td>\n",
       "      <td>...</td>\n",
       "    </tr>\n",
       "    <tr>\n",
       "      <th>9202</th>\n",
       "      <td>NaN</td>\n",
       "      <td>-0.11</td>\n",
       "      <td>ml</td>\n",
       "      <td>42km ENE of Adak, Alaska</td>\n",
       "      <td>1537257741590</td>\n",
       "      <td>M -0.1 - 42km ENE of Adak, Alaska</td>\n",
       "      <td>0</td>\n",
       "      <td>USGS API</td>\n",
       "      <td>True</td>\n",
       "    </tr>\n",
       "    <tr>\n",
       "      <th>9241</th>\n",
       "      <td>NaN</td>\n",
       "      <td>-0.69</td>\n",
       "      <td>ml</td>\n",
       "      <td>42km ENE of Adak, Alaska</td>\n",
       "      <td>1537249710450</td>\n",
       "      <td>M -0.7 - 42km ENE of Adak, Alaska</td>\n",
       "      <td>0</td>\n",
       "      <td>USGS API</td>\n",
       "      <td>True</td>\n",
       "    </tr>\n",
       "    <tr>\n",
       "      <th>9261</th>\n",
       "      <td>NaN</td>\n",
       "      <td>-0.02</td>\n",
       "      <td>ml</td>\n",
       "      <td>28km S of Morton, Washington</td>\n",
       "      <td>1537245303560</td>\n",
       "      <td>M -0.0 - 28km S of Morton, Washington</td>\n",
       "      <td>0</td>\n",
       "      <td>USGS API</td>\n",
       "      <td>True</td>\n",
       "    </tr>\n",
       "    <tr>\n",
       "      <th>9267</th>\n",
       "      <td>NaN</td>\n",
       "      <td>-0.32</td>\n",
       "      <td>md</td>\n",
       "      <td>30km ENE of Seeley Lake, Montana</td>\n",
       "      <td>1537244570780</td>\n",
       "      <td>M -0.3 - 30km ENE of Seeley Lake, Montana</td>\n",
       "      <td>0</td>\n",
       "      <td>USGS API</td>\n",
       "      <td>True</td>\n",
       "    </tr>\n",
       "    <tr>\n",
       "      <th>9305</th>\n",
       "      <td>NaN</td>\n",
       "      <td>-0.27</td>\n",
       "      <td>ml</td>\n",
       "      <td>49km W of Tanaga Volcano, Alaska</td>\n",
       "      <td>1537235444640</td>\n",
       "      <td>M -0.3 - 49km W of Tanaga Volcano, Alaska</td>\n",
       "      <td>0</td>\n",
       "      <td>USGS API</td>\n",
       "      <td>True</td>\n",
       "    </tr>\n",
       "  </tbody>\n",
       "</table>\n",
       "<p>491 rows × 9 columns</p>\n",
       "</div>"
      ],
      "text/plain": [
       "     alert   mag magType                             place           time  \\\n",
       "39     NaN -0.10      ml   6km NW of Lemmon Valley, Nevada  1539458844506   \n",
       "49     NaN -0.10      ml   6km NW of Lemmon Valley, Nevada  1539455017464   \n",
       "135    NaN -0.40      ml        10km SSE of Beatty, Nevada  1539422175717   \n",
       "161    NaN -0.02      md        20km SSE of Ronan, Montana  1539412475360   \n",
       "198    NaN -0.20      ml         60km N of Pahrump, Nevada  1539398340822   \n",
       "...    ...   ...     ...                               ...            ...   \n",
       "9202   NaN -0.11      ml          42km ENE of Adak, Alaska  1537257741590   \n",
       "9241   NaN -0.69      ml          42km ENE of Adak, Alaska  1537249710450   \n",
       "9261   NaN -0.02      ml      28km S of Morton, Washington  1537245303560   \n",
       "9267   NaN -0.32      md  30km ENE of Seeley Lake, Montana  1537244570780   \n",
       "9305   NaN -0.27      ml  49km W of Tanaga Volcano, Alaska  1537235444640   \n",
       "\n",
       "                                          title  tsunami    source  \\\n",
       "39     M -0.1 - 6km NW of Lemmon Valley, Nevada        0  USGS API   \n",
       "49     M -0.1 - 6km NW of Lemmon Valley, Nevada        0  USGS API   \n",
       "135         M -0.4 - 10km SSE of Beatty, Nevada        0  USGS API   \n",
       "161         M -0.0 - 20km SSE of Ronan, Montana        0  USGS API   \n",
       "198          M -0.2 - 60km N of Pahrump, Nevada        0  USGS API   \n",
       "...                                         ...      ...       ...   \n",
       "9202          M -0.1 - 42km ENE of Adak, Alaska        0  USGS API   \n",
       "9241          M -0.7 - 42km ENE of Adak, Alaska        0  USGS API   \n",
       "9261      M -0.0 - 28km S of Morton, Washington        0  USGS API   \n",
       "9267  M -0.3 - 30km ENE of Seeley Lake, Montana        0  USGS API   \n",
       "9305  M -0.3 - 49km W of Tanaga Volcano, Alaska        0  USGS API   \n",
       "\n",
       "      mag_negative  \n",
       "39            True  \n",
       "49            True  \n",
       "135           True  \n",
       "161           True  \n",
       "198           True  \n",
       "...            ...  \n",
       "9202          True  \n",
       "9241          True  \n",
       "9261          True  \n",
       "9267          True  \n",
       "9305          True  \n",
       "\n",
       "[491 rows x 9 columns]"
      ]
     },
     "execution_count": 255,
     "metadata": {},
     "output_type": "execute_result"
    }
   ],
   "source": [
    "df[df['mag_negative'] == True]"
   ]
  },
  {
   "cell_type": "code",
   "execution_count": 256,
   "id": "14c32f41",
   "metadata": {},
   "outputs": [
    {
     "data": {
      "text/plain": [
       "10km NE of Aguanga, CA                   306\n",
       "9km NE of Aguanga, CA                    264\n",
       "42km ENE of Adak, Alaska                  71\n",
       "22km ENE of Honaunau-Napoopoo, Hawaii     65\n",
       "8km NE of Aguanga, CA                     60\n",
       "                                        ... \n",
       "73km NNW of Talkeetna, Alaska              1\n",
       "25km ENE of Nikiski, Alaska                1\n",
       "68km NNW of Talkeetna, Alaska              1\n",
       "72km E of Cape Yakataga, Alaska            1\n",
       "35km NNE of Hatillo, Puerto Rico           1\n",
       "Name: place, Length: 5433, dtype: int64"
      ]
     },
     "execution_count": 256,
     "metadata": {},
     "output_type": "execute_result"
    }
   ],
   "source": [
    "df.place.value_counts()"
   ]
  },
  {
   "cell_type": "code",
   "execution_count": 257,
   "id": "ad0c8f18",
   "metadata": {},
   "outputs": [
    {
     "data": {
      "text/plain": [
       "array(['Afghanistan', 'Alaska', 'Argentina', 'Arizona', 'Arkansas',\n",
       "       'Australia', 'Azerbaijan', 'B.C., MX', 'Barbuda', 'Bolivia',\n",
       "       'Bonaire, Saint Eustatius and Saba ', 'British Virgin Islands',\n",
       "       'Burma', 'CA', 'California', 'Canada', 'Chile', 'China',\n",
       "       'Christmas Island', 'Colombia', 'Colorado', 'Costa Rica',\n",
       "       'Dominican Republic', 'East Timor', 'Ecuador', 'Ecuador region',\n",
       "       'El Salvador', 'Fiji', 'Greece', 'Greenland', 'Guam', 'Guatemala',\n",
       "       'Haiti', 'Hawaii', 'Honduras', 'Idaho', 'Illinois', 'India',\n",
       "       'Indonesia', 'Iran', 'Iraq', 'Italy', 'Jamaica', 'Japan', 'Kansas',\n",
       "       'Kentucky', 'Kyrgyzstan', 'Martinique', 'Mauritius', 'Mayotte',\n",
       "       'Mexico', 'Missouri', 'Montana', 'NV', 'Nevada', 'New Caledonia',\n",
       "       'New Hampshire', 'New Mexico', 'New Zealand', 'Nicaragua',\n",
       "       'North Carolina', 'Northern Mariana Islands', 'Oklahoma', 'Oregon',\n",
       "       'Pakistan', 'Papua New Guinea', 'Peru', 'Philippines',\n",
       "       'Puerto Rico', 'Romania', 'Russia', 'Saint Helena',\n",
       "       'Solomon Islands', 'Somalia', 'South Africa', 'South Carolina',\n",
       "       'South Georgia and the South Sandwich Islands',\n",
       "       'South Sandwich Islands', 'Taiwan', 'Tajikistan', 'Tennessee',\n",
       "       'Texas', 'Tonga', 'Turkey', 'U.S. Virgin Islands', 'Utah',\n",
       "       'Uzbekistan', 'Vanuatu', 'Vermont', 'Washington', 'Wyoming',\n",
       "       'Yemen', nan], dtype=object)"
      ]
     },
     "execution_count": 257,
     "metadata": {},
     "output_type": "execute_result"
    }
   ],
   "source": [
    "df.place.str.extract(r', (.*$)')[0].sort_values().unique()"
   ]
  },
  {
   "cell_type": "code",
   "execution_count": 258,
   "id": "53b369d2",
   "metadata": {},
   "outputs": [
    {
     "data": {
      "text/plain": [
       "5433"
      ]
     },
     "execution_count": 258,
     "metadata": {},
     "output_type": "execute_result"
    }
   ],
   "source": [
    "len(df.place.unique())"
   ]
  },
  {
   "cell_type": "code",
   "execution_count": 259,
   "id": "361b05c4",
   "metadata": {},
   "outputs": [
    {
     "data": {
      "text/plain": [
       "array(['9km NE of Aguanga, CA', '8km NE of Aguanga, CA',\n",
       "       '10km NW of Avenal, CA', ..., '9km ENE of Mammoth Lakes, CA',\n",
       "       '3km W of Julian, CA', '35km NNE of Hatillo, Puerto Rico'],\n",
       "      dtype=object)"
      ]
     },
     "execution_count": 259,
     "metadata": {},
     "output_type": "execute_result"
    }
   ],
   "source": [
    "df.place.unique()"
   ]
  },
  {
   "cell_type": "code",
   "execution_count": 260,
   "id": "4b548dde",
   "metadata": {},
   "outputs": [],
   "source": [
    "df['parced_place'] = df.place.str.replace(\n",
    "        r'.* of ', '', regex=True # remove <x> of <x>\n",
    "    ).str.replace(\n",
    "        'the ', '' # remove 'the'\n",
    "    ).str.replace(\n",
    "        r'CA$', 'California', regex=True # fix California\n",
    "    ).str.replace(\n",
    "        r'NV$', 'Nevada', regex=True # fix Nevada\n",
    "    ).str.replace(\n",
    "        r'MX$', 'Mexico', regex=True # fix Mexico\n",
    "    ).str.replace(\n",
    "        r'region$', '', regex=True # fix \" region\" endings\n",
    "    ).str.replace(\n",
    "        'nothern ', '' # remove 'nothern'\n",
    "    ).str.replace(\n",
    "        'Fiji Islands', 'Fiji' # line up the Fiji places\n",
    "    ).str.replace(\n",
    "        r'^.*, ', '', regex=True  #remove anything else extraneous from start\n",
    "    ).str.strip() # remove any extra spaces"
   ]
  },
  {
   "cell_type": "code",
   "execution_count": 261,
   "id": "d072fa7e",
   "metadata": {},
   "outputs": [
    {
     "data": {
      "text/plain": [
       "array(['Afghanistan', 'Alaska', 'Argentina', 'Arizona', 'Arkansas',\n",
       "       'Ascension Island', 'Australia', 'Azerbaijan', 'Balleny Islands',\n",
       "       'Barbuda', 'Bolivia', 'British Virgin Islands', 'Burma',\n",
       "       'California', 'Canada', 'Carlsberg Ridge',\n",
       "       'Central East Pacific Rise', 'Central Mid-Atlantic Ridge', 'Chile',\n",
       "       'China', 'Christmas Island', 'Colombia', 'Colorado', 'Costa Rica',\n",
       "       'Dominican Republic', 'East Timor', 'Ecuador', 'El Salvador',\n",
       "       'Fiji', 'Greece', 'Greenland', 'Guam', 'Guatemala', 'Haiti',\n",
       "       'Hawaii', 'Honduras', 'Idaho', 'Illinois', 'India',\n",
       "       'Indian Ocean Triple Junction', 'Indonesia', 'Iran', 'Iraq',\n",
       "       'Italy', 'Jamaica', 'Japan', 'Kansas', 'Kentucky',\n",
       "       'Kermadec Islands', 'Kuril Islands', 'Kyrgyzstan', 'Martinique',\n",
       "       'Mauritius', 'Mayotte', 'Mexico', 'Mid-Indian Ridge', 'Missouri',\n",
       "       'Montana', 'Nevada', 'New Caledonia', 'New Hampshire',\n",
       "       'New Mexico', 'New Zealand', 'Nicaragua', 'North Carolina',\n",
       "       'Northern East Pacific Rise', 'Northern Mariana Islands',\n",
       "       'Northern Mid-Atlantic Ridge', 'Oklahoma', 'Oregon',\n",
       "       'Pacific-Antarctic Ridge', 'Pakistan', 'Papua New Guinea', 'Peru',\n",
       "       'Philippines', 'Prince Edward Islands', 'Puerto Rico',\n",
       "       'Queen Charlotte Islands', 'Romania', 'Russia',\n",
       "       'Saint Eustatius and Saba', 'Saint Helena', 'Socotra',\n",
       "       'Solomon Islands', 'Somalia', 'South Africa', 'South Carolina',\n",
       "       'South Georgia and South Sandwich Islands',\n",
       "       'South Sandwich Islands', 'Southeast Indian Ridge',\n",
       "       'Southern East Pacific Rise', 'Southern Mid-Atlantic Ridge',\n",
       "       'Southwest Indian Ridge', 'Taiwan', 'Tajikistan', 'Tennessee',\n",
       "       'Texas', 'Tonga', 'Turkey', 'U.S. Virgin Islands', 'Utah',\n",
       "       'Uzbekistan', 'Vanuatu', 'Vermont', 'Washington',\n",
       "       'Western Indian-Antarctic Ridge', 'Western Xizang', 'Wyoming',\n",
       "       'Yemen', 'northern Sumatra'], dtype=object)"
      ]
     },
     "execution_count": 261,
     "metadata": {},
     "output_type": "execute_result"
    }
   ],
   "source": [
    "df['parced_place'].sort_values().unique()"
   ]
  },
  {
   "cell_type": "code",
   "execution_count": 268,
   "id": "e9f57007",
   "metadata": {},
   "outputs": [
    {
     "data": {
      "text/plain": [
       "110"
      ]
     },
     "execution_count": 268,
     "metadata": {},
     "output_type": "execute_result"
    }
   ],
   "source": [
    "len(df.parced_place.unique())"
   ]
  },
  {
   "cell_type": "code",
   "execution_count": 263,
   "id": "a65f8872",
   "metadata": {},
   "outputs": [
    {
     "data": {
      "text/html": [
       "<div>\n",
       "<style scoped>\n",
       "    .dataframe tbody tr th:only-of-type {\n",
       "        vertical-align: middle;\n",
       "    }\n",
       "\n",
       "    .dataframe tbody tr th {\n",
       "        vertical-align: top;\n",
       "    }\n",
       "\n",
       "    .dataframe thead th {\n",
       "        text-align: right;\n",
       "    }\n",
       "</style>\n",
       "<table border=\"1\" class=\"dataframe\">\n",
       "  <thead>\n",
       "    <tr style=\"text-align: right;\">\n",
       "      <th></th>\n",
       "      <th>alert</th>\n",
       "      <th>mag</th>\n",
       "      <th>magType</th>\n",
       "      <th>place</th>\n",
       "      <th>time</th>\n",
       "      <th>title</th>\n",
       "      <th>tsunami</th>\n",
       "      <th>source</th>\n",
       "      <th>mag_negative</th>\n",
       "      <th>parced_place</th>\n",
       "      <th>in_ca</th>\n",
       "      <th>in_alaska</th>\n",
       "    </tr>\n",
       "  </thead>\n",
       "  <tbody>\n",
       "    <tr>\n",
       "      <th>7207</th>\n",
       "      <td>NaN</td>\n",
       "      <td>4.80</td>\n",
       "      <td>mwr</td>\n",
       "      <td>73km SSW of Masachapa, Nicaragua</td>\n",
       "      <td>1537749595210</td>\n",
       "      <td>M 4.8 - 73km SSW of Masachapa, Nicaragua</td>\n",
       "      <td>0</td>\n",
       "      <td>USGS API</td>\n",
       "      <td>False</td>\n",
       "      <td>Nicaragua</td>\n",
       "      <td>False</td>\n",
       "      <td>False</td>\n",
       "    </tr>\n",
       "    <tr>\n",
       "      <th>4755</th>\n",
       "      <td>NaN</td>\n",
       "      <td>1.09</td>\n",
       "      <td>ml</td>\n",
       "      <td>28km NNW of Packwood, Washington</td>\n",
       "      <td>1538227540460</td>\n",
       "      <td>M 1.1 - 28km NNW of Packwood, Washington</td>\n",
       "      <td>0</td>\n",
       "      <td>USGS API</td>\n",
       "      <td>False</td>\n",
       "      <td>Washington</td>\n",
       "      <td>False</td>\n",
       "      <td>False</td>\n",
       "    </tr>\n",
       "    <tr>\n",
       "      <th>4595</th>\n",
       "      <td>NaN</td>\n",
       "      <td>1.80</td>\n",
       "      <td>ml</td>\n",
       "      <td>77km SSW of Kaktovik, Alaska</td>\n",
       "      <td>1538259609862</td>\n",
       "      <td>M 1.8 - 77km SSW of Kaktovik, Alaska</td>\n",
       "      <td>0</td>\n",
       "      <td>USGS API</td>\n",
       "      <td>False</td>\n",
       "      <td>Alaska</td>\n",
       "      <td>False</td>\n",
       "      <td>True</td>\n",
       "    </tr>\n",
       "    <tr>\n",
       "      <th>3566</th>\n",
       "      <td>NaN</td>\n",
       "      <td>1.50</td>\n",
       "      <td>ml</td>\n",
       "      <td>102km NW of Arctic Village, Alaska</td>\n",
       "      <td>1538464751822</td>\n",
       "      <td>M 1.5 - 102km NW of Arctic Village, Alaska</td>\n",
       "      <td>0</td>\n",
       "      <td>USGS API</td>\n",
       "      <td>False</td>\n",
       "      <td>Alaska</td>\n",
       "      <td>False</td>\n",
       "      <td>True</td>\n",
       "    </tr>\n",
       "    <tr>\n",
       "      <th>2182</th>\n",
       "      <td>NaN</td>\n",
       "      <td>0.90</td>\n",
       "      <td>ml</td>\n",
       "      <td>26km ENE of Pine Valley, CA</td>\n",
       "      <td>1538801713880</td>\n",
       "      <td>M 0.9 - 26km ENE of Pine Valley, CA</td>\n",
       "      <td>0</td>\n",
       "      <td>USGS API</td>\n",
       "      <td>False</td>\n",
       "      <td>California</td>\n",
       "      <td>True</td>\n",
       "      <td>False</td>\n",
       "    </tr>\n",
       "  </tbody>\n",
       "</table>\n",
       "</div>"
      ],
      "text/plain": [
       "     alert   mag magType                               place           time  \\\n",
       "7207   NaN  4.80     mwr    73km SSW of Masachapa, Nicaragua  1537749595210   \n",
       "4755   NaN  1.09      ml    28km NNW of Packwood, Washington  1538227540460   \n",
       "4595   NaN  1.80      ml        77km SSW of Kaktovik, Alaska  1538259609862   \n",
       "3566   NaN  1.50      ml  102km NW of Arctic Village, Alaska  1538464751822   \n",
       "2182   NaN  0.90      ml         26km ENE of Pine Valley, CA  1538801713880   \n",
       "\n",
       "                                           title  tsunami    source  \\\n",
       "7207    M 4.8 - 73km SSW of Masachapa, Nicaragua        0  USGS API   \n",
       "4755    M 1.1 - 28km NNW of Packwood, Washington        0  USGS API   \n",
       "4595        M 1.8 - 77km SSW of Kaktovik, Alaska        0  USGS API   \n",
       "3566  M 1.5 - 102km NW of Arctic Village, Alaska        0  USGS API   \n",
       "2182         M 0.9 - 26km ENE of Pine Valley, CA        0  USGS API   \n",
       "\n",
       "      mag_negative parced_place  in_ca  in_alaska  \n",
       "7207         False    Nicaragua  False      False  \n",
       "4755         False   Washington  False      False  \n",
       "4595         False       Alaska  False       True  \n",
       "3566         False       Alaska  False       True  \n",
       "2182         False   California   True      False  "
      ]
     },
     "execution_count": 263,
     "metadata": {},
     "output_type": "execute_result"
    }
   ],
   "source": [
    "# Let's create two new columns\n",
    "df.assign(in_ca=df.parced_place.str.endswith('California'),\n",
    "         in_alaska=df.parced_place.str.endswith('Alaska')\n",
    "         ).sample(5, random_state=0)"
   ]
  },
  {
   "cell_type": "code",
   "execution_count": 265,
   "id": "f40feb18",
   "metadata": {},
   "outputs": [
    {
     "data": {
      "text/html": [
       "<div>\n",
       "<style scoped>\n",
       "    .dataframe tbody tr th:only-of-type {\n",
       "        vertical-align: middle;\n",
       "    }\n",
       "\n",
       "    .dataframe tbody tr th {\n",
       "        vertical-align: top;\n",
       "    }\n",
       "\n",
       "    .dataframe thead th {\n",
       "        text-align: right;\n",
       "    }\n",
       "</style>\n",
       "<table border=\"1\" class=\"dataframe\">\n",
       "  <thead>\n",
       "    <tr style=\"text-align: right;\">\n",
       "      <th></th>\n",
       "      <th>alert</th>\n",
       "      <th>mag</th>\n",
       "      <th>magType</th>\n",
       "      <th>place</th>\n",
       "      <th>time</th>\n",
       "      <th>title</th>\n",
       "      <th>tsunami</th>\n",
       "      <th>source</th>\n",
       "      <th>mag_negative</th>\n",
       "      <th>parced_place</th>\n",
       "      <th>in_ca</th>\n",
       "      <th>in_alaska</th>\n",
       "      <th>neither</th>\n",
       "    </tr>\n",
       "  </thead>\n",
       "  <tbody>\n",
       "    <tr>\n",
       "      <th>7207</th>\n",
       "      <td>NaN</td>\n",
       "      <td>4.80</td>\n",
       "      <td>mwr</td>\n",
       "      <td>73km SSW of Masachapa, Nicaragua</td>\n",
       "      <td>1537749595210</td>\n",
       "      <td>M 4.8 - 73km SSW of Masachapa, Nicaragua</td>\n",
       "      <td>0</td>\n",
       "      <td>USGS API</td>\n",
       "      <td>False</td>\n",
       "      <td>Nicaragua</td>\n",
       "      <td>False</td>\n",
       "      <td>False</td>\n",
       "      <td>True</td>\n",
       "    </tr>\n",
       "    <tr>\n",
       "      <th>4755</th>\n",
       "      <td>NaN</td>\n",
       "      <td>1.09</td>\n",
       "      <td>ml</td>\n",
       "      <td>28km NNW of Packwood, Washington</td>\n",
       "      <td>1538227540460</td>\n",
       "      <td>M 1.1 - 28km NNW of Packwood, Washington</td>\n",
       "      <td>0</td>\n",
       "      <td>USGS API</td>\n",
       "      <td>False</td>\n",
       "      <td>Washington</td>\n",
       "      <td>False</td>\n",
       "      <td>False</td>\n",
       "      <td>True</td>\n",
       "    </tr>\n",
       "    <tr>\n",
       "      <th>4595</th>\n",
       "      <td>NaN</td>\n",
       "      <td>1.80</td>\n",
       "      <td>ml</td>\n",
       "      <td>77km SSW of Kaktovik, Alaska</td>\n",
       "      <td>1538259609862</td>\n",
       "      <td>M 1.8 - 77km SSW of Kaktovik, Alaska</td>\n",
       "      <td>0</td>\n",
       "      <td>USGS API</td>\n",
       "      <td>False</td>\n",
       "      <td>Alaska</td>\n",
       "      <td>False</td>\n",
       "      <td>True</td>\n",
       "      <td>False</td>\n",
       "    </tr>\n",
       "    <tr>\n",
       "      <th>3566</th>\n",
       "      <td>NaN</td>\n",
       "      <td>1.50</td>\n",
       "      <td>ml</td>\n",
       "      <td>102km NW of Arctic Village, Alaska</td>\n",
       "      <td>1538464751822</td>\n",
       "      <td>M 1.5 - 102km NW of Arctic Village, Alaska</td>\n",
       "      <td>0</td>\n",
       "      <td>USGS API</td>\n",
       "      <td>False</td>\n",
       "      <td>Alaska</td>\n",
       "      <td>False</td>\n",
       "      <td>True</td>\n",
       "      <td>False</td>\n",
       "    </tr>\n",
       "    <tr>\n",
       "      <th>2182</th>\n",
       "      <td>NaN</td>\n",
       "      <td>0.90</td>\n",
       "      <td>ml</td>\n",
       "      <td>26km ENE of Pine Valley, CA</td>\n",
       "      <td>1538801713880</td>\n",
       "      <td>M 0.9 - 26km ENE of Pine Valley, CA</td>\n",
       "      <td>0</td>\n",
       "      <td>USGS API</td>\n",
       "      <td>False</td>\n",
       "      <td>California</td>\n",
       "      <td>True</td>\n",
       "      <td>False</td>\n",
       "      <td>False</td>\n",
       "    </tr>\n",
       "  </tbody>\n",
       "</table>\n",
       "</div>"
      ],
      "text/plain": [
       "     alert   mag magType                               place           time  \\\n",
       "7207   NaN  4.80     mwr    73km SSW of Masachapa, Nicaragua  1537749595210   \n",
       "4755   NaN  1.09      ml    28km NNW of Packwood, Washington  1538227540460   \n",
       "4595   NaN  1.80      ml        77km SSW of Kaktovik, Alaska  1538259609862   \n",
       "3566   NaN  1.50      ml  102km NW of Arctic Village, Alaska  1538464751822   \n",
       "2182   NaN  0.90      ml         26km ENE of Pine Valley, CA  1538801713880   \n",
       "\n",
       "                                           title  tsunami    source  \\\n",
       "7207    M 4.8 - 73km SSW of Masachapa, Nicaragua        0  USGS API   \n",
       "4755    M 1.1 - 28km NNW of Packwood, Washington        0  USGS API   \n",
       "4595        M 1.8 - 77km SSW of Kaktovik, Alaska        0  USGS API   \n",
       "3566  M 1.5 - 102km NW of Arctic Village, Alaska        0  USGS API   \n",
       "2182         M 0.9 - 26km ENE of Pine Valley, CA        0  USGS API   \n",
       "\n",
       "      mag_negative parced_place  in_ca  in_alaska  neither  \n",
       "7207         False    Nicaragua  False      False     True  \n",
       "4755         False   Washington  False      False     True  \n",
       "4595         False       Alaska  False       True    False  \n",
       "3566         False       Alaska  False       True    False  \n",
       "2182         False   California   True      False    False  "
      ]
     },
     "execution_count": 265,
     "metadata": {},
     "output_type": "execute_result"
    }
   ],
   "source": [
    "# The assign() method also accepts lambda functions\n",
    "df.assign(\n",
    "    in_ca=df.parced_place.str.endswith('California'),\n",
    "    in_alaska=df.parced_place.str.endswith('Alaska'),\n",
    "    neither=lambda x: ~x.in_ca & ~x.in_alaska\n",
    "    ).sample(5, random_state=0)"
   ]
  },
  {
   "cell_type": "code",
   "execution_count": 370,
   "id": "4771948d",
   "metadata": {},
   "outputs": [
    {
     "data": {
      "text/plain": [
       "Alaska                          3665\n",
       "California                      2861\n",
       "Nevada                           681\n",
       "Hawaii                           367\n",
       "Puerto Rico                      216\n",
       "Montana                          204\n",
       "Washington                       157\n",
       "Indonesia                        147\n",
       "Idaho                             71\n",
       "Utah                              67\n",
       "Fiji                              61\n",
       "Dominican Republic                57\n",
       "Japan                             57\n",
       "Canada                            55\n",
       "Wyoming                           42\n",
       "Mexico                            38\n",
       "Oklahoma                          37\n",
       "Papua New Guinea                  34\n",
       "Russia                            33\n",
       "U.S. Virgin Islands               31\n",
       "Chile                             31\n",
       "Tennessee                         30\n",
       "Oregon                            27\n",
       "Kansas                            23\n",
       "Philippines                       21\n",
       "British Virgin Islands            21\n",
       "Tonga                             17\n",
       "Vanuatu                           17\n",
       "Iran                              16\n",
       "Indian Ocean Triple Junction      16\n",
       "Peru                              14\n",
       "New Zealand                       13\n",
       "Missouri                          11\n",
       "Argentina                         11\n",
       "New Caledonia                      9\n",
       "Solomon Islands                    9\n",
       "Greece                             8\n",
       "China                              8\n",
       "Colombia                           8\n",
       "Afghanistan                        6\n",
       "Name: parced_place, dtype: int64"
      ]
     },
     "execution_count": 370,
     "metadata": {},
     "output_type": "execute_result"
    }
   ],
   "source": [
    "df.parced_place.value_counts().head(40)"
   ]
  },
  {
   "cell_type": "code",
   "execution_count": 355,
   "id": "8830500e",
   "metadata": {},
   "outputs": [
    {
     "data": {
      "text/plain": [
       "['Alabama',\n",
       " 'Alaska',\n",
       " 'Arizona',\n",
       " 'Arkansas',\n",
       " 'California',\n",
       " 'Colorado',\n",
       " 'Connecticut',\n",
       " 'Delaware',\n",
       " 'Florida',\n",
       " 'Georgia',\n",
       " 'Hawaii',\n",
       " 'Idaho',\n",
       " 'Illinois',\n",
       " 'Indiana',\n",
       " 'Iowa',\n",
       " 'Kansas',\n",
       " 'Kentucky',\n",
       " 'Louisiana',\n",
       " 'Maine',\n",
       " 'Maryland',\n",
       " 'Massachusetts',\n",
       " 'Michigan',\n",
       " 'Minnesota',\n",
       " 'Mississippi',\n",
       " 'Missouri',\n",
       " 'Montana',\n",
       " 'Nebraska',\n",
       " 'Nevada',\n",
       " 'New Hampshire',\n",
       " 'New Jersey',\n",
       " 'New Mexico',\n",
       " 'New York',\n",
       " 'North Carolina',\n",
       " 'North Dakota',\n",
       " 'Ohio',\n",
       " 'Oklahoma',\n",
       " 'Oregon',\n",
       " 'Pennsylvania',\n",
       " 'Rhode Island',\n",
       " 'South Carolina',\n",
       " 'South Dakota',\n",
       " 'Tennessee',\n",
       " 'Texas',\n",
       " 'Utah',\n",
       " 'Vermont',\n",
       " 'Virginia',\n",
       " 'Washington',\n",
       " 'West Virginia',\n",
       " 'Wisconsin',\n",
       " 'Wyoming']"
      ]
     },
     "execution_count": 355,
     "metadata": {},
     "output_type": "execute_result"
    }
   ],
   "source": [
    "states = pd.read_csv('us_states.csv')\n",
    "states_list = states['state_name'].to_list()\n",
    "states_list"
   ]
  },
  {
   "cell_type": "code",
   "execution_count": 356,
   "id": "c06517d7",
   "metadata": {},
   "outputs": [
    {
     "data": {
      "text/plain": [
       "50"
      ]
     },
     "execution_count": 356,
     "metadata": {},
     "output_type": "execute_result"
    }
   ],
   "source": [
    "len(states_list)"
   ]
  },
  {
   "cell_type": "code",
   "execution_count": 376,
   "id": "64c11813",
   "metadata": {},
   "outputs": [],
   "source": [
    "df.loc[df['parced_place'].apply(lambda x: x in states_list), 'country'] = 'US'"
   ]
  },
  {
   "cell_type": "code",
   "execution_count": 362,
   "id": "eb7d0fb6",
   "metadata": {},
   "outputs": [
    {
     "data": {
      "text/plain": [
       "True     8258\n",
       "False    1074\n",
       "Name: parced_place, dtype: int64"
      ]
     },
     "execution_count": 362,
     "metadata": {},
     "output_type": "execute_result"
    }
   ],
   "source": [
    "df['parced_place'].apply(lambda x: x in states_list).value_counts()"
   ]
  },
  {
   "cell_type": "code",
   "execution_count": 382,
   "id": "d7c437ae",
   "metadata": {},
   "outputs": [],
   "source": [
    "df.loc[df['country'].isna(), 'country'] = 'Other'"
   ]
  },
  {
   "cell_type": "code",
   "execution_count": 383,
   "id": "06ac348c",
   "metadata": {},
   "outputs": [
    {
     "data": {
      "text/plain": [
       "US       8258\n",
       "Other    1074\n",
       "Name: country, dtype: int64"
      ]
     },
     "execution_count": 383,
     "metadata": {},
     "output_type": "execute_result"
    }
   ],
   "source": [
    "df['country'].value_counts()"
   ]
  },
  {
   "cell_type": "markdown",
   "id": "1fe23cd2",
   "metadata": {},
   "source": [
    "## Working with rows"
   ]
  },
  {
   "cell_type": "code",
   "execution_count": 384,
   "id": "48ffacd9",
   "metadata": {},
   "outputs": [
    {
     "data": {
      "text/plain": [
       "((61, 11), (9271, 11))"
      ]
     },
     "execution_count": 384,
     "metadata": {},
     "output_type": "execute_result"
    }
   ],
   "source": [
    "tsunami = df[df.tsunami == 1]\n",
    "no_tsunami = df[df.tsunami == 0]\n",
    "tsunami.shape, no_tsunami.shape"
   ]
  },
  {
   "cell_type": "code",
   "execution_count": 385,
   "id": "63817680",
   "metadata": {},
   "outputs": [
    {
     "data": {
      "text/plain": [
       "(9332, 11)"
      ]
     },
     "execution_count": 385,
     "metadata": {},
     "output_type": "execute_result"
    }
   ],
   "source": [
    "pd.concat([tsunami, no_tsunami]).shape"
   ]
  },
  {
   "cell_type": "code",
   "execution_count": 386,
   "id": "7376aae7",
   "metadata": {},
   "outputs": [
    {
     "data": {
      "text/plain": [
       "(9332, 11)"
      ]
     },
     "execution_count": 386,
     "metadata": {},
     "output_type": "execute_result"
    }
   ],
   "source": [
    "tsunami.append(no_tsunami).shape"
   ]
  },
  {
   "cell_type": "code",
   "execution_count": 387,
   "id": "71f9af15",
   "metadata": {},
   "outputs": [
    {
     "data": {
      "text/html": [
       "<div>\n",
       "<style scoped>\n",
       "    .dataframe tbody tr th:only-of-type {\n",
       "        vertical-align: middle;\n",
       "    }\n",
       "\n",
       "    .dataframe tbody tr th {\n",
       "        vertical-align: top;\n",
       "    }\n",
       "\n",
       "    .dataframe thead th {\n",
       "        text-align: right;\n",
       "    }\n",
       "</style>\n",
       "<table border=\"1\" class=\"dataframe\">\n",
       "  <thead>\n",
       "    <tr style=\"text-align: right;\">\n",
       "      <th></th>\n",
       "      <th>alert</th>\n",
       "      <th>mag</th>\n",
       "      <th>magType</th>\n",
       "      <th>place</th>\n",
       "      <th>time</th>\n",
       "      <th>title</th>\n",
       "      <th>tsunami</th>\n",
       "      <th>source</th>\n",
       "      <th>mag_negative</th>\n",
       "      <th>parced_place</th>\n",
       "      <th>country</th>\n",
       "      <th>felt</th>\n",
       "      <th>ids</th>\n",
       "      <th>tz</th>\n",
       "    </tr>\n",
       "  </thead>\n",
       "  <tbody>\n",
       "    <tr>\n",
       "      <th>0</th>\n",
       "      <td>NaN</td>\n",
       "      <td>1.35</td>\n",
       "      <td>ml</td>\n",
       "      <td>9km NE of Aguanga, CA</td>\n",
       "      <td>1539475168010</td>\n",
       "      <td>M 1.4 - 9km NE of Aguanga, CA</td>\n",
       "      <td>0</td>\n",
       "      <td>USGS API</td>\n",
       "      <td>False</td>\n",
       "      <td>California</td>\n",
       "      <td>US</td>\n",
       "      <td>NaN</td>\n",
       "      <td>,ci37389218,</td>\n",
       "      <td>-480.0</td>\n",
       "    </tr>\n",
       "    <tr>\n",
       "      <th>1</th>\n",
       "      <td>NaN</td>\n",
       "      <td>1.29</td>\n",
       "      <td>ml</td>\n",
       "      <td>9km NE of Aguanga, CA</td>\n",
       "      <td>1539475129610</td>\n",
       "      <td>M 1.3 - 9km NE of Aguanga, CA</td>\n",
       "      <td>0</td>\n",
       "      <td>USGS API</td>\n",
       "      <td>False</td>\n",
       "      <td>California</td>\n",
       "      <td>US</td>\n",
       "      <td>NaN</td>\n",
       "      <td>,ci37389202,</td>\n",
       "      <td>-480.0</td>\n",
       "    </tr>\n",
       "  </tbody>\n",
       "</table>\n",
       "</div>"
      ],
      "text/plain": [
       "  alert   mag magType                  place           time  \\\n",
       "0   NaN  1.35      ml  9km NE of Aguanga, CA  1539475168010   \n",
       "1   NaN  1.29      ml  9km NE of Aguanga, CA  1539475129610   \n",
       "\n",
       "                           title  tsunami    source  mag_negative  \\\n",
       "0  M 1.4 - 9km NE of Aguanga, CA        0  USGS API         False   \n",
       "1  M 1.3 - 9km NE of Aguanga, CA        0  USGS API         False   \n",
       "\n",
       "  parced_place country  felt           ids     tz  \n",
       "0   California      US   NaN  ,ci37389218, -480.0  \n",
       "1   California      US   NaN  ,ci37389202, -480.0  "
      ]
     },
     "execution_count": 387,
     "metadata": {},
     "output_type": "execute_result"
    }
   ],
   "source": [
    "additional_columns = pd.read_csv('data/earthquakes.csv', usecols=['tz', 'felt', 'ids'])\n",
    "pd.concat([df.head(2), additional_columns.head(2)], axis=1)"
   ]
  },
  {
   "cell_type": "code",
   "execution_count": 389,
   "id": "509d8429",
   "metadata": {},
   "outputs": [
    {
     "data": {
      "text/html": [
       "<div>\n",
       "<style scoped>\n",
       "    .dataframe tbody tr th:only-of-type {\n",
       "        vertical-align: middle;\n",
       "    }\n",
       "\n",
       "    .dataframe tbody tr th {\n",
       "        vertical-align: top;\n",
       "    }\n",
       "\n",
       "    .dataframe thead th {\n",
       "        text-align: right;\n",
       "    }\n",
       "</style>\n",
       "<table border=\"1\" class=\"dataframe\">\n",
       "  <thead>\n",
       "    <tr style=\"text-align: right;\">\n",
       "      <th></th>\n",
       "      <th>alert</th>\n",
       "      <th>mag</th>\n",
       "      <th>magType</th>\n",
       "      <th>place</th>\n",
       "      <th>time</th>\n",
       "      <th>title</th>\n",
       "      <th>tsunami</th>\n",
       "      <th>source</th>\n",
       "      <th>mag_negative</th>\n",
       "      <th>parced_place</th>\n",
       "      <th>country</th>\n",
       "    </tr>\n",
       "  </thead>\n",
       "  <tbody>\n",
       "    <tr>\n",
       "      <th>36</th>\n",
       "      <td>NaN</td>\n",
       "      <td>5.00</td>\n",
       "      <td>mww</td>\n",
       "      <td>165km NNW of Flying Fish Cove, Christmas Island</td>\n",
       "      <td>1539459504090</td>\n",
       "      <td>M 5.0 - 165km NNW of Flying Fish Cove, Christm...</td>\n",
       "      <td>1</td>\n",
       "      <td>USGS API</td>\n",
       "      <td>False</td>\n",
       "      <td>Christmas Island</td>\n",
       "      <td>Other</td>\n",
       "    </tr>\n",
       "    <tr>\n",
       "      <th>118</th>\n",
       "      <td>green</td>\n",
       "      <td>6.70</td>\n",
       "      <td>mww</td>\n",
       "      <td>262km NW of Ozernovskiy, Russia</td>\n",
       "      <td>1539429023560</td>\n",
       "      <td>M 6.7 - 262km NW of Ozernovskiy, Russia</td>\n",
       "      <td>1</td>\n",
       "      <td>USGS API</td>\n",
       "      <td>False</td>\n",
       "      <td>Russia</td>\n",
       "      <td>Other</td>\n",
       "    </tr>\n",
       "    <tr>\n",
       "      <th>0</th>\n",
       "      <td>NaN</td>\n",
       "      <td>1.35</td>\n",
       "      <td>ml</td>\n",
       "      <td>9km NE of Aguanga, CA</td>\n",
       "      <td>1539475168010</td>\n",
       "      <td>M 1.4 - 9km NE of Aguanga, CA</td>\n",
       "      <td>0</td>\n",
       "      <td>USGS API</td>\n",
       "      <td>False</td>\n",
       "      <td>California</td>\n",
       "      <td>US</td>\n",
       "    </tr>\n",
       "    <tr>\n",
       "      <th>1</th>\n",
       "      <td>NaN</td>\n",
       "      <td>1.29</td>\n",
       "      <td>ml</td>\n",
       "      <td>9km NE of Aguanga, CA</td>\n",
       "      <td>1539475129610</td>\n",
       "      <td>M 1.3 - 9km NE of Aguanga, CA</td>\n",
       "      <td>0</td>\n",
       "      <td>USGS API</td>\n",
       "      <td>False</td>\n",
       "      <td>California</td>\n",
       "      <td>US</td>\n",
       "    </tr>\n",
       "  </tbody>\n",
       "</table>\n",
       "</div>"
      ],
      "text/plain": [
       "     alert   mag magType                                            place  \\\n",
       "36     NaN  5.00     mww  165km NNW of Flying Fish Cove, Christmas Island   \n",
       "118  green  6.70     mww                  262km NW of Ozernovskiy, Russia   \n",
       "0      NaN  1.35      ml                            9km NE of Aguanga, CA   \n",
       "1      NaN  1.29      ml                            9km NE of Aguanga, CA   \n",
       "\n",
       "              time                                              title  \\\n",
       "36   1539459504090  M 5.0 - 165km NNW of Flying Fish Cove, Christm...   \n",
       "118  1539429023560            M 6.7 - 262km NW of Ozernovskiy, Russia   \n",
       "0    1539475168010                      M 1.4 - 9km NE of Aguanga, CA   \n",
       "1    1539475129610                      M 1.3 - 9km NE of Aguanga, CA   \n",
       "\n",
       "     tsunami    source  mag_negative      parced_place country  \n",
       "36         1  USGS API         False  Christmas Island   Other  \n",
       "118        1  USGS API         False            Russia   Other  \n",
       "0          0  USGS API         False        California      US  \n",
       "1          0  USGS API         False        California      US  "
      ]
     },
     "execution_count": 389,
     "metadata": {},
     "output_type": "execute_result"
    }
   ],
   "source": [
    "pd.concat(\n",
    "    [tsunami.head(2),\n",
    "     no_tsunami.head(2).assign(type='earthquake')],\n",
    "     join='inner'\n",
    ")"
   ]
  },
  {
   "cell_type": "code",
   "execution_count": 391,
   "id": "7d9e5173",
   "metadata": {},
   "outputs": [
    {
     "data": {
      "text/html": [
       "<div>\n",
       "<style scoped>\n",
       "    .dataframe tbody tr th:only-of-type {\n",
       "        vertical-align: middle;\n",
       "    }\n",
       "\n",
       "    .dataframe tbody tr th {\n",
       "        vertical-align: top;\n",
       "    }\n",
       "\n",
       "    .dataframe thead th {\n",
       "        text-align: right;\n",
       "    }\n",
       "</style>\n",
       "<table border=\"1\" class=\"dataframe\">\n",
       "  <thead>\n",
       "    <tr style=\"text-align: right;\">\n",
       "      <th></th>\n",
       "      <th>alert</th>\n",
       "      <th>mag</th>\n",
       "      <th>magType</th>\n",
       "      <th>place</th>\n",
       "      <th>time</th>\n",
       "      <th>title</th>\n",
       "      <th>tsunami</th>\n",
       "      <th>source</th>\n",
       "      <th>mag_negative</th>\n",
       "      <th>parced_place</th>\n",
       "      <th>country</th>\n",
       "      <th>type</th>\n",
       "    </tr>\n",
       "  </thead>\n",
       "  <tbody>\n",
       "    <tr>\n",
       "      <th>0</th>\n",
       "      <td>NaN</td>\n",
       "      <td>5.00</td>\n",
       "      <td>mww</td>\n",
       "      <td>165km NNW of Flying Fish Cove, Christmas Island</td>\n",
       "      <td>1539459504090</td>\n",
       "      <td>M 5.0 - 165km NNW of Flying Fish Cove, Christm...</td>\n",
       "      <td>1</td>\n",
       "      <td>USGS API</td>\n",
       "      <td>False</td>\n",
       "      <td>Christmas Island</td>\n",
       "      <td>Other</td>\n",
       "      <td>NaN</td>\n",
       "    </tr>\n",
       "    <tr>\n",
       "      <th>1</th>\n",
       "      <td>green</td>\n",
       "      <td>6.70</td>\n",
       "      <td>mww</td>\n",
       "      <td>262km NW of Ozernovskiy, Russia</td>\n",
       "      <td>1539429023560</td>\n",
       "      <td>M 6.7 - 262km NW of Ozernovskiy, Russia</td>\n",
       "      <td>1</td>\n",
       "      <td>USGS API</td>\n",
       "      <td>False</td>\n",
       "      <td>Russia</td>\n",
       "      <td>Other</td>\n",
       "      <td>NaN</td>\n",
       "    </tr>\n",
       "    <tr>\n",
       "      <th>2</th>\n",
       "      <td>NaN</td>\n",
       "      <td>1.35</td>\n",
       "      <td>ml</td>\n",
       "      <td>9km NE of Aguanga, CA</td>\n",
       "      <td>1539475168010</td>\n",
       "      <td>M 1.4 - 9km NE of Aguanga, CA</td>\n",
       "      <td>0</td>\n",
       "      <td>USGS API</td>\n",
       "      <td>False</td>\n",
       "      <td>California</td>\n",
       "      <td>US</td>\n",
       "      <td>earthquake</td>\n",
       "    </tr>\n",
       "    <tr>\n",
       "      <th>3</th>\n",
       "      <td>NaN</td>\n",
       "      <td>1.29</td>\n",
       "      <td>ml</td>\n",
       "      <td>9km NE of Aguanga, CA</td>\n",
       "      <td>1539475129610</td>\n",
       "      <td>M 1.3 - 9km NE of Aguanga, CA</td>\n",
       "      <td>0</td>\n",
       "      <td>USGS API</td>\n",
       "      <td>False</td>\n",
       "      <td>California</td>\n",
       "      <td>US</td>\n",
       "      <td>earthquake</td>\n",
       "    </tr>\n",
       "  </tbody>\n",
       "</table>\n",
       "</div>"
      ],
      "text/plain": [
       "   alert   mag magType                                            place  \\\n",
       "0    NaN  5.00     mww  165km NNW of Flying Fish Cove, Christmas Island   \n",
       "1  green  6.70     mww                  262km NW of Ozernovskiy, Russia   \n",
       "2    NaN  1.35      ml                            9km NE of Aguanga, CA   \n",
       "3    NaN  1.29      ml                            9km NE of Aguanga, CA   \n",
       "\n",
       "            time                                              title  tsunami  \\\n",
       "0  1539459504090  M 5.0 - 165km NNW of Flying Fish Cove, Christm...        1   \n",
       "1  1539429023560            M 6.7 - 262km NW of Ozernovskiy, Russia        1   \n",
       "2  1539475168010                      M 1.4 - 9km NE of Aguanga, CA        0   \n",
       "3  1539475129610                      M 1.3 - 9km NE of Aguanga, CA        0   \n",
       "\n",
       "     source  mag_negative      parced_place country        type  \n",
       "0  USGS API         False  Christmas Island   Other         NaN  \n",
       "1  USGS API         False            Russia   Other         NaN  \n",
       "2  USGS API         False        California      US  earthquake  \n",
       "3  USGS API         False        California      US  earthquake  "
      ]
     },
     "execution_count": 391,
     "metadata": {},
     "output_type": "execute_result"
    }
   ],
   "source": [
    "pd.concat(\n",
    "    [tsunami.head(2),\n",
    "     no_tsunami.head(2).assign(type='earthquake')],\n",
    "     join='outer', ignore_index='true'\n",
    ")"
   ]
  },
  {
   "cell_type": "markdown",
   "id": "50fd2ffd",
   "metadata": {},
   "source": [
    "## Deleting unwanted data"
   ]
  },
  {
   "cell_type": "code",
   "execution_count": 392,
   "id": "fed7fe62",
   "metadata": {},
   "outputs": [
    {
     "data": {
      "text/plain": [
       "Index(['alert', 'mag', 'magType', 'place', 'time', 'title', 'tsunami',\n",
       "       'source', 'mag_negative', 'parced_place', 'country'],\n",
       "      dtype='object')"
      ]
     },
     "execution_count": 392,
     "metadata": {},
     "output_type": "execute_result"
    }
   ],
   "source": [
    "df.columns"
   ]
  },
  {
   "cell_type": "code",
   "execution_count": 394,
   "id": "448e63cc",
   "metadata": {},
   "outputs": [],
   "source": [
    "del df['source']"
   ]
  },
  {
   "cell_type": "code",
   "execution_count": 395,
   "id": "b782833c",
   "metadata": {},
   "outputs": [
    {
     "data": {
      "text/plain": [
       "Index(['alert', 'mag', 'magType', 'place', 'time', 'title', 'tsunami',\n",
       "       'mag_negative', 'parced_place', 'country'],\n",
       "      dtype='object')"
      ]
     },
     "execution_count": 395,
     "metadata": {},
     "output_type": "execute_result"
    }
   ],
   "source": [
    "df.columns"
   ]
  },
  {
   "cell_type": "code",
   "execution_count": 396,
   "id": "5097b9e7",
   "metadata": {},
   "outputs": [
    {
     "data": {
      "text/plain": [
       "0       False\n",
       "1       False\n",
       "2       False\n",
       "3       False\n",
       "4       False\n",
       "        ...  \n",
       "9327    False\n",
       "9328    False\n",
       "9329    False\n",
       "9330    False\n",
       "9331    False\n",
       "Name: mag_negative, Length: 9332, dtype: bool"
      ]
     },
     "execution_count": 396,
     "metadata": {},
     "output_type": "execute_result"
    }
   ],
   "source": [
    "mag_negative = df.pop('mag_negative')\n",
    "mag_negative"
   ]
  },
  {
   "cell_type": "code",
   "execution_count": 397,
   "id": "fe2e7cf4",
   "metadata": {},
   "outputs": [
    {
     "data": {
      "text/plain": [
       "Index(['alert', 'mag', 'magType', 'place', 'time', 'title', 'tsunami',\n",
       "       'parced_place', 'country'],\n",
       "      dtype='object')"
      ]
     },
     "execution_count": 397,
     "metadata": {},
     "output_type": "execute_result"
    }
   ],
   "source": [
    "df.columns"
   ]
  },
  {
   "cell_type": "code",
   "execution_count": 398,
   "id": "b50496b1",
   "metadata": {},
   "outputs": [
    {
     "data": {
      "text/html": [
       "<div>\n",
       "<style scoped>\n",
       "    .dataframe tbody tr th:only-of-type {\n",
       "        vertical-align: middle;\n",
       "    }\n",
       "\n",
       "    .dataframe tbody tr th {\n",
       "        vertical-align: top;\n",
       "    }\n",
       "\n",
       "    .dataframe thead th {\n",
       "        text-align: right;\n",
       "    }\n",
       "</style>\n",
       "<table border=\"1\" class=\"dataframe\">\n",
       "  <thead>\n",
       "    <tr style=\"text-align: right;\">\n",
       "      <th></th>\n",
       "      <th>alert</th>\n",
       "      <th>mag</th>\n",
       "      <th>magType</th>\n",
       "      <th>place</th>\n",
       "      <th>time</th>\n",
       "      <th>title</th>\n",
       "      <th>tsunami</th>\n",
       "      <th>parced_place</th>\n",
       "      <th>country</th>\n",
       "    </tr>\n",
       "  </thead>\n",
       "  <tbody>\n",
       "    <tr>\n",
       "      <th>39</th>\n",
       "      <td>NaN</td>\n",
       "      <td>-0.10</td>\n",
       "      <td>ml</td>\n",
       "      <td>6km NW of Lemmon Valley, Nevada</td>\n",
       "      <td>1539458844506</td>\n",
       "      <td>M -0.1 - 6km NW of Lemmon Valley, Nevada</td>\n",
       "      <td>0</td>\n",
       "      <td>Nevada</td>\n",
       "      <td>US</td>\n",
       "    </tr>\n",
       "    <tr>\n",
       "      <th>49</th>\n",
       "      <td>NaN</td>\n",
       "      <td>-0.10</td>\n",
       "      <td>ml</td>\n",
       "      <td>6km NW of Lemmon Valley, Nevada</td>\n",
       "      <td>1539455017464</td>\n",
       "      <td>M -0.1 - 6km NW of Lemmon Valley, Nevada</td>\n",
       "      <td>0</td>\n",
       "      <td>Nevada</td>\n",
       "      <td>US</td>\n",
       "    </tr>\n",
       "    <tr>\n",
       "      <th>135</th>\n",
       "      <td>NaN</td>\n",
       "      <td>-0.40</td>\n",
       "      <td>ml</td>\n",
       "      <td>10km SSE of Beatty, Nevada</td>\n",
       "      <td>1539422175717</td>\n",
       "      <td>M -0.4 - 10km SSE of Beatty, Nevada</td>\n",
       "      <td>0</td>\n",
       "      <td>Nevada</td>\n",
       "      <td>US</td>\n",
       "    </tr>\n",
       "    <tr>\n",
       "      <th>161</th>\n",
       "      <td>NaN</td>\n",
       "      <td>-0.02</td>\n",
       "      <td>md</td>\n",
       "      <td>20km SSE of Ronan, Montana</td>\n",
       "      <td>1539412475360</td>\n",
       "      <td>M -0.0 - 20km SSE of Ronan, Montana</td>\n",
       "      <td>0</td>\n",
       "      <td>Montana</td>\n",
       "      <td>US</td>\n",
       "    </tr>\n",
       "    <tr>\n",
       "      <th>198</th>\n",
       "      <td>NaN</td>\n",
       "      <td>-0.20</td>\n",
       "      <td>ml</td>\n",
       "      <td>60km N of Pahrump, Nevada</td>\n",
       "      <td>1539398340822</td>\n",
       "      <td>M -0.2 - 60km N of Pahrump, Nevada</td>\n",
       "      <td>0</td>\n",
       "      <td>Nevada</td>\n",
       "      <td>US</td>\n",
       "    </tr>\n",
       "  </tbody>\n",
       "</table>\n",
       "</div>"
      ],
      "text/plain": [
       "    alert   mag magType                            place           time  \\\n",
       "39    NaN -0.10      ml  6km NW of Lemmon Valley, Nevada  1539458844506   \n",
       "49    NaN -0.10      ml  6km NW of Lemmon Valley, Nevada  1539455017464   \n",
       "135   NaN -0.40      ml       10km SSE of Beatty, Nevada  1539422175717   \n",
       "161   NaN -0.02      md       20km SSE of Ronan, Montana  1539412475360   \n",
       "198   NaN -0.20      ml        60km N of Pahrump, Nevada  1539398340822   \n",
       "\n",
       "                                        title  tsunami parced_place country  \n",
       "39   M -0.1 - 6km NW of Lemmon Valley, Nevada        0       Nevada      US  \n",
       "49   M -0.1 - 6km NW of Lemmon Valley, Nevada        0       Nevada      US  \n",
       "135       M -0.4 - 10km SSE of Beatty, Nevada        0       Nevada      US  \n",
       "161       M -0.0 - 20km SSE of Ronan, Montana        0      Montana      US  \n",
       "198        M -0.2 - 60km N of Pahrump, Nevada        0       Nevada      US  "
      ]
     },
     "execution_count": 398,
     "metadata": {},
     "output_type": "execute_result"
    }
   ],
   "source": [
    "df[mag_negative].head()"
   ]
  },
  {
   "cell_type": "code",
   "execution_count": 399,
   "id": "6cf2e7c4",
   "metadata": {},
   "outputs": [
    {
     "data": {
      "text/html": [
       "<div>\n",
       "<style scoped>\n",
       "    .dataframe tbody tr th:only-of-type {\n",
       "        vertical-align: middle;\n",
       "    }\n",
       "\n",
       "    .dataframe tbody tr th {\n",
       "        vertical-align: top;\n",
       "    }\n",
       "\n",
       "    .dataframe thead th {\n",
       "        text-align: right;\n",
       "    }\n",
       "</style>\n",
       "<table border=\"1\" class=\"dataframe\">\n",
       "  <thead>\n",
       "    <tr style=\"text-align: right;\">\n",
       "      <th></th>\n",
       "      <th>alert</th>\n",
       "      <th>mag</th>\n",
       "      <th>magType</th>\n",
       "      <th>place</th>\n",
       "      <th>time</th>\n",
       "      <th>title</th>\n",
       "      <th>tsunami</th>\n",
       "      <th>parced_place</th>\n",
       "      <th>country</th>\n",
       "    </tr>\n",
       "  </thead>\n",
       "  <tbody>\n",
       "    <tr>\n",
       "      <th>2</th>\n",
       "      <td>NaN</td>\n",
       "      <td>3.42</td>\n",
       "      <td>ml</td>\n",
       "      <td>8km NE of Aguanga, CA</td>\n",
       "      <td>1539475062610</td>\n",
       "      <td>M 3.4 - 8km NE of Aguanga, CA</td>\n",
       "      <td>0</td>\n",
       "      <td>California</td>\n",
       "      <td>US</td>\n",
       "    </tr>\n",
       "    <tr>\n",
       "      <th>3</th>\n",
       "      <td>NaN</td>\n",
       "      <td>0.44</td>\n",
       "      <td>ml</td>\n",
       "      <td>9km NE of Aguanga, CA</td>\n",
       "      <td>1539474978070</td>\n",
       "      <td>M 0.4 - 9km NE of Aguanga, CA</td>\n",
       "      <td>0</td>\n",
       "      <td>California</td>\n",
       "      <td>US</td>\n",
       "    </tr>\n",
       "  </tbody>\n",
       "</table>\n",
       "</div>"
      ],
      "text/plain": [
       "  alert   mag magType                  place           time  \\\n",
       "2   NaN  3.42      ml  8km NE of Aguanga, CA  1539475062610   \n",
       "3   NaN  0.44      ml  9km NE of Aguanga, CA  1539474978070   \n",
       "\n",
       "                           title  tsunami parced_place country  \n",
       "2  M 3.4 - 8km NE of Aguanga, CA        0   California      US  \n",
       "3  M 0.4 - 9km NE of Aguanga, CA        0   California      US  "
      ]
     },
     "execution_count": 399,
     "metadata": {},
     "output_type": "execute_result"
    }
   ],
   "source": [
    "# To remove multiple rows, we pass the list of indices\n",
    "df.drop([0, 1]).head(2)"
   ]
  },
  {
   "cell_type": "code",
   "execution_count": 400,
   "id": "c836c5fc",
   "metadata": {},
   "outputs": [
    {
     "data": {
      "text/html": [
       "<div>\n",
       "<style scoped>\n",
       "    .dataframe tbody tr th:only-of-type {\n",
       "        vertical-align: middle;\n",
       "    }\n",
       "\n",
       "    .dataframe tbody tr th {\n",
       "        vertical-align: top;\n",
       "    }\n",
       "\n",
       "    .dataframe thead th {\n",
       "        text-align: right;\n",
       "    }\n",
       "</style>\n",
       "<table border=\"1\" class=\"dataframe\">\n",
       "  <thead>\n",
       "    <tr style=\"text-align: right;\">\n",
       "      <th></th>\n",
       "      <th>alert</th>\n",
       "      <th>mag</th>\n",
       "      <th>time</th>\n",
       "      <th>title</th>\n",
       "      <th>tsunami</th>\n",
       "    </tr>\n",
       "  </thead>\n",
       "  <tbody>\n",
       "    <tr>\n",
       "      <th>0</th>\n",
       "      <td>NaN</td>\n",
       "      <td>1.35</td>\n",
       "      <td>1539475168010</td>\n",
       "      <td>M 1.4 - 9km NE of Aguanga, CA</td>\n",
       "      <td>0</td>\n",
       "    </tr>\n",
       "    <tr>\n",
       "      <th>1</th>\n",
       "      <td>NaN</td>\n",
       "      <td>1.29</td>\n",
       "      <td>1539475129610</td>\n",
       "      <td>M 1.3 - 9km NE of Aguanga, CA</td>\n",
       "      <td>0</td>\n",
       "    </tr>\n",
       "    <tr>\n",
       "      <th>2</th>\n",
       "      <td>NaN</td>\n",
       "      <td>3.42</td>\n",
       "      <td>1539475062610</td>\n",
       "      <td>M 3.4 - 8km NE of Aguanga, CA</td>\n",
       "      <td>0</td>\n",
       "    </tr>\n",
       "    <tr>\n",
       "      <th>3</th>\n",
       "      <td>NaN</td>\n",
       "      <td>0.44</td>\n",
       "      <td>1539474978070</td>\n",
       "      <td>M 0.4 - 9km NE of Aguanga, CA</td>\n",
       "      <td>0</td>\n",
       "    </tr>\n",
       "    <tr>\n",
       "      <th>4</th>\n",
       "      <td>NaN</td>\n",
       "      <td>2.16</td>\n",
       "      <td>1539474716050</td>\n",
       "      <td>M 2.2 - 10km NW of Avenal, CA</td>\n",
       "      <td>0</td>\n",
       "    </tr>\n",
       "  </tbody>\n",
       "</table>\n",
       "</div>"
      ],
      "text/plain": [
       "  alert   mag           time                          title  tsunami\n",
       "0   NaN  1.35  1539475168010  M 1.4 - 9km NE of Aguanga, CA        0\n",
       "1   NaN  1.29  1539475129610  M 1.3 - 9km NE of Aguanga, CA        0\n",
       "2   NaN  3.42  1539475062610  M 3.4 - 8km NE of Aguanga, CA        0\n",
       "3   NaN  0.44  1539474978070  M 0.4 - 9km NE of Aguanga, CA        0\n",
       "4   NaN  2.16  1539474716050  M 2.2 - 10km NW of Avenal, CA        0"
      ]
     },
     "execution_count": 400,
     "metadata": {},
     "output_type": "execute_result"
    }
   ],
   "source": [
    "# If we want to drop columns, we can either pass axis=1 or specify our list of column names using the\n",
    "# columns argument\n",
    "cols_to_drop = [\n",
    "    col for col in df.columns\n",
    "    if col not in ['alert', 'mag', 'title', 'time', 'tsunami'\n",
    "    ]\n",
    "]\n",
    "df.drop(columns=cols_to_drop).head()"
   ]
  },
  {
   "cell_type": "code",
   "execution_count": 402,
   "id": "d5fd5013",
   "metadata": {},
   "outputs": [
    {
     "data": {
      "text/plain": [
       "True"
      ]
     },
     "execution_count": 402,
     "metadata": {},
     "output_type": "execute_result"
    }
   ],
   "source": [
    "df.drop(columns=cols_to_drop).equals(df.drop(cols_to_drop, axis=1))"
   ]
  },
  {
   "cell_type": "code",
   "execution_count": 403,
   "id": "65c2fb32",
   "metadata": {},
   "outputs": [
    {
     "data": {
      "text/html": [
       "<div>\n",
       "<style scoped>\n",
       "    .dataframe tbody tr th:only-of-type {\n",
       "        vertical-align: middle;\n",
       "    }\n",
       "\n",
       "    .dataframe tbody tr th {\n",
       "        vertical-align: top;\n",
       "    }\n",
       "\n",
       "    .dataframe thead th {\n",
       "        text-align: right;\n",
       "    }\n",
       "</style>\n",
       "<table border=\"1\" class=\"dataframe\">\n",
       "  <thead>\n",
       "    <tr style=\"text-align: right;\">\n",
       "      <th></th>\n",
       "      <th>alert</th>\n",
       "      <th>mag</th>\n",
       "      <th>time</th>\n",
       "      <th>title</th>\n",
       "      <th>tsunami</th>\n",
       "    </tr>\n",
       "  </thead>\n",
       "  <tbody>\n",
       "    <tr>\n",
       "      <th>0</th>\n",
       "      <td>NaN</td>\n",
       "      <td>1.35</td>\n",
       "      <td>1539475168010</td>\n",
       "      <td>M 1.4 - 9km NE of Aguanga, CA</td>\n",
       "      <td>0</td>\n",
       "    </tr>\n",
       "    <tr>\n",
       "      <th>1</th>\n",
       "      <td>NaN</td>\n",
       "      <td>1.29</td>\n",
       "      <td>1539475129610</td>\n",
       "      <td>M 1.3 - 9km NE of Aguanga, CA</td>\n",
       "      <td>0</td>\n",
       "    </tr>\n",
       "    <tr>\n",
       "      <th>2</th>\n",
       "      <td>NaN</td>\n",
       "      <td>3.42</td>\n",
       "      <td>1539475062610</td>\n",
       "      <td>M 3.4 - 8km NE of Aguanga, CA</td>\n",
       "      <td>0</td>\n",
       "    </tr>\n",
       "    <tr>\n",
       "      <th>3</th>\n",
       "      <td>NaN</td>\n",
       "      <td>0.44</td>\n",
       "      <td>1539474978070</td>\n",
       "      <td>M 0.4 - 9km NE of Aguanga, CA</td>\n",
       "      <td>0</td>\n",
       "    </tr>\n",
       "    <tr>\n",
       "      <th>4</th>\n",
       "      <td>NaN</td>\n",
       "      <td>2.16</td>\n",
       "      <td>1539474716050</td>\n",
       "      <td>M 2.2 - 10km NW of Avenal, CA</td>\n",
       "      <td>0</td>\n",
       "    </tr>\n",
       "  </tbody>\n",
       "</table>\n",
       "</div>"
      ],
      "text/plain": [
       "  alert   mag           time                          title  tsunami\n",
       "0   NaN  1.35  1539475168010  M 1.4 - 9km NE of Aguanga, CA        0\n",
       "1   NaN  1.29  1539475129610  M 1.3 - 9km NE of Aguanga, CA        0\n",
       "2   NaN  3.42  1539475062610  M 3.4 - 8km NE of Aguanga, CA        0\n",
       "3   NaN  0.44  1539474978070  M 0.4 - 9km NE of Aguanga, CA        0\n",
       "4   NaN  2.16  1539474716050  M 2.2 - 10km NW of Avenal, CA        0"
      ]
     },
     "execution_count": 403,
     "metadata": {},
     "output_type": "execute_result"
    }
   ],
   "source": [
    "# if we really want to remove the data from our original dataframe, we can pass in inplace=True\n",
    "df.drop(columns=cols_to_drop, inplace=True)\n",
    "df.head()"
   ]
  },
  {
   "cell_type": "markdown",
   "id": "5e6e0f35",
   "metadata": {},
   "source": [
    "## Exercises"
   ]
  },
  {
   "cell_type": "markdown",
   "id": "216fd8df",
   "metadata": {},
   "source": [
    "**1. Find the 95th percentile of earthquake magnitude in Japan using the mb magnitude type.**"
   ]
  },
  {
   "cell_type": "code",
   "execution_count": 423,
   "id": "3419ce04",
   "metadata": {},
   "outputs": [
    {
     "data": {
      "text/plain": [
       "(9332, 26)"
      ]
     },
     "execution_count": 423,
     "metadata": {},
     "output_type": "execute_result"
    }
   ],
   "source": [
    "df = pd.read_csv('data/earthquakes.csv')\n",
    "df.shape"
   ]
  },
  {
   "cell_type": "code",
   "execution_count": 424,
   "id": "5773faab",
   "metadata": {},
   "outputs": [
    {
     "data": {
      "text/html": [
       "<div>\n",
       "<style scoped>\n",
       "    .dataframe tbody tr th:only-of-type {\n",
       "        vertical-align: middle;\n",
       "    }\n",
       "\n",
       "    .dataframe tbody tr th {\n",
       "        vertical-align: top;\n",
       "    }\n",
       "\n",
       "    .dataframe thead th {\n",
       "        text-align: right;\n",
       "    }\n",
       "</style>\n",
       "<table border=\"1\" class=\"dataframe\">\n",
       "  <thead>\n",
       "    <tr style=\"text-align: right;\">\n",
       "      <th></th>\n",
       "      <th>alert</th>\n",
       "      <th>cdi</th>\n",
       "      <th>code</th>\n",
       "      <th>detail</th>\n",
       "      <th>dmin</th>\n",
       "      <th>felt</th>\n",
       "      <th>gap</th>\n",
       "      <th>ids</th>\n",
       "      <th>mag</th>\n",
       "      <th>magType</th>\n",
       "      <th>...</th>\n",
       "      <th>sources</th>\n",
       "      <th>status</th>\n",
       "      <th>time</th>\n",
       "      <th>title</th>\n",
       "      <th>tsunami</th>\n",
       "      <th>type</th>\n",
       "      <th>types</th>\n",
       "      <th>tz</th>\n",
       "      <th>updated</th>\n",
       "      <th>url</th>\n",
       "    </tr>\n",
       "  </thead>\n",
       "  <tbody>\n",
       "    <tr>\n",
       "      <th>0</th>\n",
       "      <td>NaN</td>\n",
       "      <td>NaN</td>\n",
       "      <td>37389218</td>\n",
       "      <td>https://earthquake.usgs.gov/fdsnws/event/1/que...</td>\n",
       "      <td>0.008693</td>\n",
       "      <td>NaN</td>\n",
       "      <td>85.0</td>\n",
       "      <td>,ci37389218,</td>\n",
       "      <td>1.35</td>\n",
       "      <td>ml</td>\n",
       "      <td>...</td>\n",
       "      <td>,ci,</td>\n",
       "      <td>automatic</td>\n",
       "      <td>1539475168010</td>\n",
       "      <td>M 1.4 - 9km NE of Aguanga, CA</td>\n",
       "      <td>0</td>\n",
       "      <td>earthquake</td>\n",
       "      <td>,geoserve,nearby-cities,origin,phase-data,</td>\n",
       "      <td>-480.0</td>\n",
       "      <td>1539475395144</td>\n",
       "      <td>https://earthquake.usgs.gov/earthquakes/eventp...</td>\n",
       "    </tr>\n",
       "    <tr>\n",
       "      <th>1</th>\n",
       "      <td>NaN</td>\n",
       "      <td>NaN</td>\n",
       "      <td>37389202</td>\n",
       "      <td>https://earthquake.usgs.gov/fdsnws/event/1/que...</td>\n",
       "      <td>0.020030</td>\n",
       "      <td>NaN</td>\n",
       "      <td>79.0</td>\n",
       "      <td>,ci37389202,</td>\n",
       "      <td>1.29</td>\n",
       "      <td>ml</td>\n",
       "      <td>...</td>\n",
       "      <td>,ci,</td>\n",
       "      <td>automatic</td>\n",
       "      <td>1539475129610</td>\n",
       "      <td>M 1.3 - 9km NE of Aguanga, CA</td>\n",
       "      <td>0</td>\n",
       "      <td>earthquake</td>\n",
       "      <td>,geoserve,nearby-cities,origin,phase-data,</td>\n",
       "      <td>-480.0</td>\n",
       "      <td>1539475253925</td>\n",
       "      <td>https://earthquake.usgs.gov/earthquakes/eventp...</td>\n",
       "    </tr>\n",
       "  </tbody>\n",
       "</table>\n",
       "<p>2 rows × 26 columns</p>\n",
       "</div>"
      ],
      "text/plain": [
       "  alert  cdi      code                                             detail  \\\n",
       "0   NaN  NaN  37389218  https://earthquake.usgs.gov/fdsnws/event/1/que...   \n",
       "1   NaN  NaN  37389202  https://earthquake.usgs.gov/fdsnws/event/1/que...   \n",
       "\n",
       "       dmin  felt   gap           ids   mag magType  ...  sources     status  \\\n",
       "0  0.008693   NaN  85.0  ,ci37389218,  1.35      ml  ...     ,ci,  automatic   \n",
       "1  0.020030   NaN  79.0  ,ci37389202,  1.29      ml  ...     ,ci,  automatic   \n",
       "\n",
       "            time                          title  tsunami        type  \\\n",
       "0  1539475168010  M 1.4 - 9km NE of Aguanga, CA        0  earthquake   \n",
       "1  1539475129610  M 1.3 - 9km NE of Aguanga, CA        0  earthquake   \n",
       "\n",
       "                                        types     tz        updated  \\\n",
       "0  ,geoserve,nearby-cities,origin,phase-data, -480.0  1539475395144   \n",
       "1  ,geoserve,nearby-cities,origin,phase-data, -480.0  1539475253925   \n",
       "\n",
       "                                                 url  \n",
       "0  https://earthquake.usgs.gov/earthquakes/eventp...  \n",
       "1  https://earthquake.usgs.gov/earthquakes/eventp...  \n",
       "\n",
       "[2 rows x 26 columns]"
      ]
     },
     "execution_count": 424,
     "metadata": {},
     "output_type": "execute_result"
    }
   ],
   "source": [
    "df.head(2)"
   ]
  },
  {
   "cell_type": "code",
   "execution_count": 425,
   "id": "57c235cb",
   "metadata": {},
   "outputs": [
    {
     "data": {
      "text/plain": [
       "Index(['alert', 'cdi', 'code', 'detail', 'dmin', 'felt', 'gap', 'ids', 'mag',\n",
       "       'magType', 'mmi', 'net', 'nst', 'place', 'rms', 'sig', 'sources',\n",
       "       'status', 'time', 'title', 'tsunami', 'type', 'types', 'tz', 'updated',\n",
       "       'url'],\n",
       "      dtype='object')"
      ]
     },
     "execution_count": 425,
     "metadata": {},
     "output_type": "execute_result"
    }
   ],
   "source": [
    "df.columns"
   ]
  },
  {
   "cell_type": "code",
   "execution_count": 419,
   "id": "f8295106",
   "metadata": {},
   "outputs": [
    {
     "data": {
      "text/html": [
       "<div>\n",
       "<style scoped>\n",
       "    .dataframe tbody tr th:only-of-type {\n",
       "        vertical-align: middle;\n",
       "    }\n",
       "\n",
       "    .dataframe tbody tr th {\n",
       "        vertical-align: top;\n",
       "    }\n",
       "\n",
       "    .dataframe thead th {\n",
       "        text-align: right;\n",
       "    }\n",
       "</style>\n",
       "<table border=\"1\" class=\"dataframe\">\n",
       "  <thead>\n",
       "    <tr style=\"text-align: right;\">\n",
       "      <th></th>\n",
       "      <th>cdi</th>\n",
       "      <th>dmin</th>\n",
       "      <th>felt</th>\n",
       "      <th>gap</th>\n",
       "      <th>mag</th>\n",
       "      <th>mmi</th>\n",
       "      <th>nst</th>\n",
       "      <th>rms</th>\n",
       "      <th>sig</th>\n",
       "      <th>time</th>\n",
       "      <th>tsunami</th>\n",
       "      <th>tz</th>\n",
       "      <th>updated</th>\n",
       "    </tr>\n",
       "  </thead>\n",
       "  <tbody>\n",
       "    <tr>\n",
       "      <th>count</th>\n",
       "      <td>329.000000</td>\n",
       "      <td>6139.000000</td>\n",
       "      <td>329.000000</td>\n",
       "      <td>6164.000000</td>\n",
       "      <td>9331.000000</td>\n",
       "      <td>93.000000</td>\n",
       "      <td>5364.000000</td>\n",
       "      <td>9332.000000</td>\n",
       "      <td>9332.000000</td>\n",
       "      <td>9.332000e+03</td>\n",
       "      <td>9332.000000</td>\n",
       "      <td>9331.000000</td>\n",
       "      <td>9.332000e+03</td>\n",
       "    </tr>\n",
       "    <tr>\n",
       "      <th>mean</th>\n",
       "      <td>2.754711</td>\n",
       "      <td>0.544925</td>\n",
       "      <td>12.310030</td>\n",
       "      <td>121.506588</td>\n",
       "      <td>1.497345</td>\n",
       "      <td>3.651398</td>\n",
       "      <td>19.053878</td>\n",
       "      <td>0.362122</td>\n",
       "      <td>56.899914</td>\n",
       "      <td>1.538284e+12</td>\n",
       "      <td>0.006537</td>\n",
       "      <td>-451.990140</td>\n",
       "      <td>1.538537e+12</td>\n",
       "    </tr>\n",
       "    <tr>\n",
       "      <th>std</th>\n",
       "      <td>1.010637</td>\n",
       "      <td>2.214305</td>\n",
       "      <td>48.954944</td>\n",
       "      <td>72.962363</td>\n",
       "      <td>1.203347</td>\n",
       "      <td>1.790523</td>\n",
       "      <td>15.492315</td>\n",
       "      <td>0.317784</td>\n",
       "      <td>91.872163</td>\n",
       "      <td>6.080306e+08</td>\n",
       "      <td>0.080589</td>\n",
       "      <td>231.752571</td>\n",
       "      <td>6.564135e+08</td>\n",
       "    </tr>\n",
       "    <tr>\n",
       "      <th>min</th>\n",
       "      <td>0.000000</td>\n",
       "      <td>0.000648</td>\n",
       "      <td>0.000000</td>\n",
       "      <td>12.000000</td>\n",
       "      <td>-1.260000</td>\n",
       "      <td>0.000000</td>\n",
       "      <td>0.000000</td>\n",
       "      <td>0.000000</td>\n",
       "      <td>0.000000</td>\n",
       "      <td>1.537229e+12</td>\n",
       "      <td>0.000000</td>\n",
       "      <td>-720.000000</td>\n",
       "      <td>1.537230e+12</td>\n",
       "    </tr>\n",
       "    <tr>\n",
       "      <th>25%</th>\n",
       "      <td>2.000000</td>\n",
       "      <td>0.020425</td>\n",
       "      <td>1.000000</td>\n",
       "      <td>66.142500</td>\n",
       "      <td>0.720000</td>\n",
       "      <td>2.680000</td>\n",
       "      <td>8.000000</td>\n",
       "      <td>0.119675</td>\n",
       "      <td>8.000000</td>\n",
       "      <td>1.537793e+12</td>\n",
       "      <td>0.000000</td>\n",
       "      <td>-540.000000</td>\n",
       "      <td>1.537996e+12</td>\n",
       "    </tr>\n",
       "    <tr>\n",
       "      <th>50%</th>\n",
       "      <td>2.700000</td>\n",
       "      <td>0.059050</td>\n",
       "      <td>2.000000</td>\n",
       "      <td>105.000000</td>\n",
       "      <td>1.300000</td>\n",
       "      <td>3.720000</td>\n",
       "      <td>15.000000</td>\n",
       "      <td>0.210000</td>\n",
       "      <td>26.000000</td>\n",
       "      <td>1.538245e+12</td>\n",
       "      <td>0.000000</td>\n",
       "      <td>-480.000000</td>\n",
       "      <td>1.538621e+12</td>\n",
       "    </tr>\n",
       "    <tr>\n",
       "      <th>75%</th>\n",
       "      <td>3.300000</td>\n",
       "      <td>0.177250</td>\n",
       "      <td>5.000000</td>\n",
       "      <td>159.000000</td>\n",
       "      <td>1.900000</td>\n",
       "      <td>4.570000</td>\n",
       "      <td>25.000000</td>\n",
       "      <td>0.590000</td>\n",
       "      <td>56.000000</td>\n",
       "      <td>1.538766e+12</td>\n",
       "      <td>0.000000</td>\n",
       "      <td>-480.000000</td>\n",
       "      <td>1.539110e+12</td>\n",
       "    </tr>\n",
       "    <tr>\n",
       "      <th>max</th>\n",
       "      <td>8.400000</td>\n",
       "      <td>53.737000</td>\n",
       "      <td>580.000000</td>\n",
       "      <td>355.910000</td>\n",
       "      <td>7.500000</td>\n",
       "      <td>9.120000</td>\n",
       "      <td>172.000000</td>\n",
       "      <td>1.910000</td>\n",
       "      <td>2015.000000</td>\n",
       "      <td>1.539475e+12</td>\n",
       "      <td>1.000000</td>\n",
       "      <td>720.000000</td>\n",
       "      <td>1.539537e+12</td>\n",
       "    </tr>\n",
       "  </tbody>\n",
       "</table>\n",
       "</div>"
      ],
      "text/plain": [
       "              cdi         dmin        felt          gap          mag  \\\n",
       "count  329.000000  6139.000000  329.000000  6164.000000  9331.000000   \n",
       "mean     2.754711     0.544925   12.310030   121.506588     1.497345   \n",
       "std      1.010637     2.214305   48.954944    72.962363     1.203347   \n",
       "min      0.000000     0.000648    0.000000    12.000000    -1.260000   \n",
       "25%      2.000000     0.020425    1.000000    66.142500     0.720000   \n",
       "50%      2.700000     0.059050    2.000000   105.000000     1.300000   \n",
       "75%      3.300000     0.177250    5.000000   159.000000     1.900000   \n",
       "max      8.400000    53.737000  580.000000   355.910000     7.500000   \n",
       "\n",
       "             mmi          nst          rms          sig          time  \\\n",
       "count  93.000000  5364.000000  9332.000000  9332.000000  9.332000e+03   \n",
       "mean    3.651398    19.053878     0.362122    56.899914  1.538284e+12   \n",
       "std     1.790523    15.492315     0.317784    91.872163  6.080306e+08   \n",
       "min     0.000000     0.000000     0.000000     0.000000  1.537229e+12   \n",
       "25%     2.680000     8.000000     0.119675     8.000000  1.537793e+12   \n",
       "50%     3.720000    15.000000     0.210000    26.000000  1.538245e+12   \n",
       "75%     4.570000    25.000000     0.590000    56.000000  1.538766e+12   \n",
       "max     9.120000   172.000000     1.910000  2015.000000  1.539475e+12   \n",
       "\n",
       "           tsunami           tz       updated  \n",
       "count  9332.000000  9331.000000  9.332000e+03  \n",
       "mean      0.006537  -451.990140  1.538537e+12  \n",
       "std       0.080589   231.752571  6.564135e+08  \n",
       "min       0.000000  -720.000000  1.537230e+12  \n",
       "25%       0.000000  -540.000000  1.537996e+12  \n",
       "50%       0.000000  -480.000000  1.538621e+12  \n",
       "75%       0.000000  -480.000000  1.539110e+12  \n",
       "max       1.000000   720.000000  1.539537e+12  "
      ]
     },
     "execution_count": 419,
     "metadata": {},
     "output_type": "execute_result"
    }
   ],
   "source": [
    "df.describe()"
   ]
  },
  {
   "cell_type": "code",
   "execution_count": 420,
   "id": "d91c32b6",
   "metadata": {},
   "outputs": [
    {
     "data": {
      "text/html": [
       "<div>\n",
       "<style scoped>\n",
       "    .dataframe tbody tr th:only-of-type {\n",
       "        vertical-align: middle;\n",
       "    }\n",
       "\n",
       "    .dataframe tbody tr th {\n",
       "        vertical-align: top;\n",
       "    }\n",
       "\n",
       "    .dataframe thead th {\n",
       "        text-align: right;\n",
       "    }\n",
       "</style>\n",
       "<table border=\"1\" class=\"dataframe\">\n",
       "  <thead>\n",
       "    <tr style=\"text-align: right;\">\n",
       "      <th></th>\n",
       "      <th>alert</th>\n",
       "      <th>code</th>\n",
       "      <th>detail</th>\n",
       "      <th>ids</th>\n",
       "      <th>magType</th>\n",
       "      <th>net</th>\n",
       "      <th>place</th>\n",
       "      <th>sources</th>\n",
       "      <th>status</th>\n",
       "      <th>title</th>\n",
       "      <th>type</th>\n",
       "      <th>types</th>\n",
       "      <th>url</th>\n",
       "    </tr>\n",
       "  </thead>\n",
       "  <tbody>\n",
       "    <tr>\n",
       "      <th>count</th>\n",
       "      <td>59</td>\n",
       "      <td>9332</td>\n",
       "      <td>9332</td>\n",
       "      <td>9332</td>\n",
       "      <td>9331</td>\n",
       "      <td>9332</td>\n",
       "      <td>9332</td>\n",
       "      <td>9332</td>\n",
       "      <td>9332</td>\n",
       "      <td>9332</td>\n",
       "      <td>9332</td>\n",
       "      <td>9332</td>\n",
       "      <td>9332</td>\n",
       "    </tr>\n",
       "    <tr>\n",
       "      <th>unique</th>\n",
       "      <td>2</td>\n",
       "      <td>9332</td>\n",
       "      <td>9332</td>\n",
       "      <td>9332</td>\n",
       "      <td>10</td>\n",
       "      <td>14</td>\n",
       "      <td>5433</td>\n",
       "      <td>52</td>\n",
       "      <td>2</td>\n",
       "      <td>7807</td>\n",
       "      <td>5</td>\n",
       "      <td>42</td>\n",
       "      <td>9332</td>\n",
       "    </tr>\n",
       "    <tr>\n",
       "      <th>top</th>\n",
       "      <td>green</td>\n",
       "      <td>37389218</td>\n",
       "      <td>https://earthquake.usgs.gov/fdsnws/event/1/que...</td>\n",
       "      <td>,ci37389218,</td>\n",
       "      <td>ml</td>\n",
       "      <td>ak</td>\n",
       "      <td>10km NE of Aguanga, CA</td>\n",
       "      <td>,ak,</td>\n",
       "      <td>reviewed</td>\n",
       "      <td>M 0.4 - 10km NE of Aguanga, CA</td>\n",
       "      <td>earthquake</td>\n",
       "      <td>,geoserve,origin,phase-data,</td>\n",
       "      <td>https://earthquake.usgs.gov/earthquakes/eventp...</td>\n",
       "    </tr>\n",
       "    <tr>\n",
       "      <th>freq</th>\n",
       "      <td>58</td>\n",
       "      <td>1</td>\n",
       "      <td>1</td>\n",
       "      <td>1</td>\n",
       "      <td>6803</td>\n",
       "      <td>3166</td>\n",
       "      <td>306</td>\n",
       "      <td>2981</td>\n",
       "      <td>7797</td>\n",
       "      <td>55</td>\n",
       "      <td>9081</td>\n",
       "      <td>5301</td>\n",
       "      <td>1</td>\n",
       "    </tr>\n",
       "  </tbody>\n",
       "</table>\n",
       "</div>"
      ],
      "text/plain": [
       "        alert      code                                             detail  \\\n",
       "count      59      9332                                               9332   \n",
       "unique      2      9332                                               9332   \n",
       "top     green  37389218  https://earthquake.usgs.gov/fdsnws/event/1/que...   \n",
       "freq       58         1                                                  1   \n",
       "\n",
       "                 ids magType   net                   place sources    status  \\\n",
       "count           9332    9331  9332                    9332    9332      9332   \n",
       "unique          9332      10    14                    5433      52         2   \n",
       "top     ,ci37389218,      ml    ak  10km NE of Aguanga, CA    ,ak,  reviewed   \n",
       "freq               1    6803  3166                     306    2981      7797   \n",
       "\n",
       "                                 title        type  \\\n",
       "count                             9332        9332   \n",
       "unique                            7807           5   \n",
       "top     M 0.4 - 10km NE of Aguanga, CA  earthquake   \n",
       "freq                                55        9081   \n",
       "\n",
       "                               types  \\\n",
       "count                           9332   \n",
       "unique                            42   \n",
       "top     ,geoserve,origin,phase-data,   \n",
       "freq                            5301   \n",
       "\n",
       "                                                      url  \n",
       "count                                                9332  \n",
       "unique                                               9332  \n",
       "top     https://earthquake.usgs.gov/earthquakes/eventp...  \n",
       "freq                                                    1  "
      ]
     },
     "execution_count": 420,
     "metadata": {},
     "output_type": "execute_result"
    }
   ],
   "source": [
    "df.describe(include=object)"
   ]
  },
  {
   "cell_type": "code",
   "execution_count": 435,
   "id": "bdebaec5",
   "metadata": {},
   "outputs": [
    {
     "data": {
      "text/html": [
       "<div>\n",
       "<style scoped>\n",
       "    .dataframe tbody tr th:only-of-type {\n",
       "        vertical-align: middle;\n",
       "    }\n",
       "\n",
       "    .dataframe tbody tr th {\n",
       "        vertical-align: top;\n",
       "    }\n",
       "\n",
       "    .dataframe thead th {\n",
       "        text-align: right;\n",
       "    }\n",
       "</style>\n",
       "<table border=\"1\" class=\"dataframe\">\n",
       "  <thead>\n",
       "    <tr style=\"text-align: right;\">\n",
       "      <th></th>\n",
       "      <th>alert</th>\n",
       "      <th>mag</th>\n",
       "      <th>magType</th>\n",
       "      <th>place</th>\n",
       "      <th>status</th>\n",
       "      <th>time</th>\n",
       "      <th>title</th>\n",
       "      <th>tsunami</th>\n",
       "      <th>type</th>\n",
       "    </tr>\n",
       "  </thead>\n",
       "  <tbody>\n",
       "    <tr>\n",
       "      <th>0</th>\n",
       "      <td>NaN</td>\n",
       "      <td>1.35</td>\n",
       "      <td>ml</td>\n",
       "      <td>9km NE of Aguanga, CA</td>\n",
       "      <td>automatic</td>\n",
       "      <td>1539475168010</td>\n",
       "      <td>M 1.4 - 9km NE of Aguanga, CA</td>\n",
       "      <td>0</td>\n",
       "      <td>earthquake</td>\n",
       "    </tr>\n",
       "    <tr>\n",
       "      <th>1</th>\n",
       "      <td>NaN</td>\n",
       "      <td>1.29</td>\n",
       "      <td>ml</td>\n",
       "      <td>9km NE of Aguanga, CA</td>\n",
       "      <td>automatic</td>\n",
       "      <td>1539475129610</td>\n",
       "      <td>M 1.3 - 9km NE of Aguanga, CA</td>\n",
       "      <td>0</td>\n",
       "      <td>earthquake</td>\n",
       "    </tr>\n",
       "    <tr>\n",
       "      <th>2</th>\n",
       "      <td>NaN</td>\n",
       "      <td>3.42</td>\n",
       "      <td>ml</td>\n",
       "      <td>8km NE of Aguanga, CA</td>\n",
       "      <td>automatic</td>\n",
       "      <td>1539475062610</td>\n",
       "      <td>M 3.4 - 8km NE of Aguanga, CA</td>\n",
       "      <td>0</td>\n",
       "      <td>earthquake</td>\n",
       "    </tr>\n",
       "  </tbody>\n",
       "</table>\n",
       "</div>"
      ],
      "text/plain": [
       "  alert   mag magType                  place     status           time  \\\n",
       "0   NaN  1.35      ml  9km NE of Aguanga, CA  automatic  1539475168010   \n",
       "1   NaN  1.29      ml  9km NE of Aguanga, CA  automatic  1539475129610   \n",
       "2   NaN  3.42      ml  8km NE of Aguanga, CA  automatic  1539475062610   \n",
       "\n",
       "                           title  tsunami        type  \n",
       "0  M 1.4 - 9km NE of Aguanga, CA        0  earthquake  \n",
       "1  M 1.3 - 9km NE of Aguanga, CA        0  earthquake  \n",
       "2  M 3.4 - 8km NE of Aguanga, CA        0  earthquake  "
      ]
     },
     "execution_count": 435,
     "metadata": {},
     "output_type": "execute_result"
    }
   ],
   "source": [
    "columns = ['alert', 'magType', 'place', 'status', 'title', 'type', 'mag', 'time', 'tsunami']\n",
    "df = pd.read_csv('data/earthquakes.csv', usecols=columns)\n",
    "df.head(3)"
   ]
  },
  {
   "cell_type": "code",
   "execution_count": 445,
   "id": "b3403613",
   "metadata": {},
   "outputs": [
    {
     "data": {
      "text/html": [
       "<div>\n",
       "<style scoped>\n",
       "    .dataframe tbody tr th:only-of-type {\n",
       "        vertical-align: middle;\n",
       "    }\n",
       "\n",
       "    .dataframe tbody tr th {\n",
       "        vertical-align: top;\n",
       "    }\n",
       "\n",
       "    .dataframe thead th {\n",
       "        text-align: right;\n",
       "    }\n",
       "</style>\n",
       "<table border=\"1\" class=\"dataframe\">\n",
       "  <thead>\n",
       "    <tr style=\"text-align: right;\">\n",
       "      <th></th>\n",
       "      <th>mag</th>\n",
       "      <th>time</th>\n",
       "      <th>tsunami</th>\n",
       "    </tr>\n",
       "  </thead>\n",
       "  <tbody>\n",
       "    <tr>\n",
       "      <th>count</th>\n",
       "      <td>50.000000</td>\n",
       "      <td>5.000000e+01</td>\n",
       "      <td>50.0</td>\n",
       "    </tr>\n",
       "    <tr>\n",
       "      <th>mean</th>\n",
       "      <td>4.530000</td>\n",
       "      <td>1.538218e+12</td>\n",
       "      <td>0.0</td>\n",
       "    </tr>\n",
       "    <tr>\n",
       "      <th>std</th>\n",
       "      <td>0.266688</td>\n",
       "      <td>6.404535e+08</td>\n",
       "      <td>0.0</td>\n",
       "    </tr>\n",
       "    <tr>\n",
       "      <th>min</th>\n",
       "      <td>4.000000</td>\n",
       "      <td>1.537258e+12</td>\n",
       "      <td>0.0</td>\n",
       "    </tr>\n",
       "    <tr>\n",
       "      <th>50%</th>\n",
       "      <td>4.600000</td>\n",
       "      <td>1.538268e+12</td>\n",
       "      <td>0.0</td>\n",
       "    </tr>\n",
       "    <tr>\n",
       "      <th>95%</th>\n",
       "      <td>4.900000</td>\n",
       "      <td>1.539090e+12</td>\n",
       "      <td>0.0</td>\n",
       "    </tr>\n",
       "    <tr>\n",
       "      <th>max</th>\n",
       "      <td>5.400000</td>\n",
       "      <td>1.539449e+12</td>\n",
       "      <td>0.0</td>\n",
       "    </tr>\n",
       "  </tbody>\n",
       "</table>\n",
       "</div>"
      ],
      "text/plain": [
       "             mag          time  tsunami\n",
       "count  50.000000  5.000000e+01     50.0\n",
       "mean    4.530000  1.538218e+12      0.0\n",
       "std     0.266688  6.404535e+08      0.0\n",
       "min     4.000000  1.537258e+12      0.0\n",
       "50%     4.600000  1.538268e+12      0.0\n",
       "95%     4.900000  1.539090e+12      0.0\n",
       "max     5.400000  1.539449e+12      0.0"
      ]
     },
     "execution_count": 445,
     "metadata": {},
     "output_type": "execute_result"
    }
   ],
   "source": [
    "df[(df.magType == 'mb') & (df.place.str.contains(r'Japan'))].describe(percentiles=[0.95])"
   ]
  },
  {
   "cell_type": "markdown",
   "id": "e800e986",
   "metadata": {},
   "source": [
    "**Ответ: 4.9**"
   ]
  },
  {
   "cell_type": "markdown",
   "id": "6c3298cf",
   "metadata": {},
   "source": [
    "**2. Find the percentage of earthquakes in Indonesia that were coupled with tsunamis.**"
   ]
  },
  {
   "cell_type": "code",
   "execution_count": 452,
   "id": "32345028",
   "metadata": {},
   "outputs": [
    {
     "data": {
      "text/plain": [
       "147"
      ]
     },
     "execution_count": 452,
     "metadata": {},
     "output_type": "execute_result"
    }
   ],
   "source": [
    "total = df.place.str.contains(r'Indonesia').sum()\n",
    "total"
   ]
  },
  {
   "cell_type": "code",
   "execution_count": 454,
   "id": "59c82912",
   "metadata": {},
   "outputs": [
    {
     "data": {
      "text/plain": [
       "113"
      ]
     },
     "execution_count": 454,
     "metadata": {},
     "output_type": "execute_result"
    }
   ],
   "source": [
    "total_w_tsunami = ((df.place.str.contains(r'Indonesia')) & (df.tsunami == 0)).sum()\n",
    "total_w_tsunami"
   ]
  },
  {
   "cell_type": "code",
   "execution_count": 455,
   "id": "1230f958",
   "metadata": {},
   "outputs": [
    {
     "data": {
      "text/plain": [
       "0.7687074829931972"
      ]
     },
     "execution_count": 455,
     "metadata": {},
     "output_type": "execute_result"
    }
   ],
   "source": [
    "total_w_tsunami / total"
   ]
  },
  {
   "cell_type": "markdown",
   "id": "2d1f2163",
   "metadata": {},
   "source": [
    "**Ответ: 77%**"
   ]
  },
  {
   "cell_type": "markdown",
   "id": "e274f0e9",
   "metadata": {},
   "source": [
    "**Calculate summary statistics for earthquakes in Nevada.**"
   ]
  },
  {
   "cell_type": "code",
   "execution_count": 459,
   "id": "bae4510e",
   "metadata": {},
   "outputs": [
    {
     "data": {
      "text/html": [
       "<div>\n",
       "<style scoped>\n",
       "    .dataframe tbody tr th:only-of-type {\n",
       "        vertical-align: middle;\n",
       "    }\n",
       "\n",
       "    .dataframe tbody tr th {\n",
       "        vertical-align: top;\n",
       "    }\n",
       "\n",
       "    .dataframe thead th {\n",
       "        text-align: right;\n",
       "    }\n",
       "</style>\n",
       "<table border=\"1\" class=\"dataframe\">\n",
       "  <thead>\n",
       "    <tr style=\"text-align: right;\">\n",
       "      <th></th>\n",
       "      <th>mag</th>\n",
       "      <th>time</th>\n",
       "      <th>tsunami</th>\n",
       "    </tr>\n",
       "  </thead>\n",
       "  <tbody>\n",
       "    <tr>\n",
       "      <th>count</th>\n",
       "      <td>681.000000</td>\n",
       "      <td>6.810000e+02</td>\n",
       "      <td>681.0</td>\n",
       "    </tr>\n",
       "    <tr>\n",
       "      <th>mean</th>\n",
       "      <td>0.500073</td>\n",
       "      <td>1.538314e+12</td>\n",
       "      <td>0.0</td>\n",
       "    </tr>\n",
       "    <tr>\n",
       "      <th>std</th>\n",
       "      <td>0.696710</td>\n",
       "      <td>5.965637e+08</td>\n",
       "      <td>0.0</td>\n",
       "    </tr>\n",
       "    <tr>\n",
       "      <th>min</th>\n",
       "      <td>-0.500000</td>\n",
       "      <td>1.537247e+12</td>\n",
       "      <td>0.0</td>\n",
       "    </tr>\n",
       "    <tr>\n",
       "      <th>25%</th>\n",
       "      <td>-0.100000</td>\n",
       "      <td>1.537854e+12</td>\n",
       "      <td>0.0</td>\n",
       "    </tr>\n",
       "    <tr>\n",
       "      <th>50%</th>\n",
       "      <td>0.400000</td>\n",
       "      <td>1.538280e+12</td>\n",
       "      <td>0.0</td>\n",
       "    </tr>\n",
       "    <tr>\n",
       "      <th>75%</th>\n",
       "      <td>0.900000</td>\n",
       "      <td>1.538821e+12</td>\n",
       "      <td>0.0</td>\n",
       "    </tr>\n",
       "    <tr>\n",
       "      <th>max</th>\n",
       "      <td>2.900000</td>\n",
       "      <td>1.539461e+12</td>\n",
       "      <td>0.0</td>\n",
       "    </tr>\n",
       "  </tbody>\n",
       "</table>\n",
       "</div>"
      ],
      "text/plain": [
       "              mag          time  tsunami\n",
       "count  681.000000  6.810000e+02    681.0\n",
       "mean     0.500073  1.538314e+12      0.0\n",
       "std      0.696710  5.965637e+08      0.0\n",
       "min     -0.500000  1.537247e+12      0.0\n",
       "25%     -0.100000  1.537854e+12      0.0\n",
       "50%      0.400000  1.538280e+12      0.0\n",
       "75%      0.900000  1.538821e+12      0.0\n",
       "max      2.900000  1.539461e+12      0.0"
      ]
     },
     "execution_count": 459,
     "metadata": {},
     "output_type": "execute_result"
    }
   ],
   "source": [
    "df[df.place.str.contains(r'NV|Nevada')].describe()"
   ]
  },
  {
   "cell_type": "markdown",
   "id": "55977354",
   "metadata": {},
   "source": [
    "**3. Add a column indicating whether the earthquake happened in a country or US state that is on the Ring of Fire. Use Alaska, Antarctica (look for Antarctic), Bolivia, California, Canada, Chile, Costa Rica, Ecuador, Fiji, Guatemala, Indonesia, Japan, Kermadec Islands, Mexico (be careful not to select New Mexico), New Zealand, Peru, Philippines, Russia, Taiwan, Tonga, and Washington.**"
   ]
  },
  {
   "cell_type": "code",
   "execution_count": 467,
   "id": "751cf531",
   "metadata": {},
   "outputs": [
    {
     "data": {
      "text/html": [
       "<div>\n",
       "<style scoped>\n",
       "    .dataframe tbody tr th:only-of-type {\n",
       "        vertical-align: middle;\n",
       "    }\n",
       "\n",
       "    .dataframe tbody tr th {\n",
       "        vertical-align: top;\n",
       "    }\n",
       "\n",
       "    .dataframe thead th {\n",
       "        text-align: right;\n",
       "    }\n",
       "</style>\n",
       "<table border=\"1\" class=\"dataframe\">\n",
       "  <thead>\n",
       "    <tr style=\"text-align: right;\">\n",
       "      <th></th>\n",
       "      <th>alert</th>\n",
       "      <th>mag</th>\n",
       "      <th>magType</th>\n",
       "      <th>place</th>\n",
       "      <th>status</th>\n",
       "      <th>time</th>\n",
       "      <th>title</th>\n",
       "      <th>tsunami</th>\n",
       "      <th>type</th>\n",
       "    </tr>\n",
       "  </thead>\n",
       "  <tbody>\n",
       "    <tr>\n",
       "      <th>0</th>\n",
       "      <td>NaN</td>\n",
       "      <td>1.35</td>\n",
       "      <td>ml</td>\n",
       "      <td>9km NE of Aguanga, CA</td>\n",
       "      <td>automatic</td>\n",
       "      <td>1539475168010</td>\n",
       "      <td>M 1.4 - 9km NE of Aguanga, CA</td>\n",
       "      <td>0</td>\n",
       "      <td>earthquake</td>\n",
       "    </tr>\n",
       "    <tr>\n",
       "      <th>1</th>\n",
       "      <td>NaN</td>\n",
       "      <td>1.29</td>\n",
       "      <td>ml</td>\n",
       "      <td>9km NE of Aguanga, CA</td>\n",
       "      <td>automatic</td>\n",
       "      <td>1539475129610</td>\n",
       "      <td>M 1.3 - 9km NE of Aguanga, CA</td>\n",
       "      <td>0</td>\n",
       "      <td>earthquake</td>\n",
       "    </tr>\n",
       "    <tr>\n",
       "      <th>2</th>\n",
       "      <td>NaN</td>\n",
       "      <td>3.42</td>\n",
       "      <td>ml</td>\n",
       "      <td>8km NE of Aguanga, CA</td>\n",
       "      <td>automatic</td>\n",
       "      <td>1539475062610</td>\n",
       "      <td>M 3.4 - 8km NE of Aguanga, CA</td>\n",
       "      <td>0</td>\n",
       "      <td>earthquake</td>\n",
       "    </tr>\n",
       "    <tr>\n",
       "      <th>3</th>\n",
       "      <td>NaN</td>\n",
       "      <td>0.44</td>\n",
       "      <td>ml</td>\n",
       "      <td>9km NE of Aguanga, CA</td>\n",
       "      <td>automatic</td>\n",
       "      <td>1539474978070</td>\n",
       "      <td>M 0.4 - 9km NE of Aguanga, CA</td>\n",
       "      <td>0</td>\n",
       "      <td>earthquake</td>\n",
       "    </tr>\n",
       "    <tr>\n",
       "      <th>4</th>\n",
       "      <td>NaN</td>\n",
       "      <td>2.16</td>\n",
       "      <td>md</td>\n",
       "      <td>10km NW of Avenal, CA</td>\n",
       "      <td>automatic</td>\n",
       "      <td>1539474716050</td>\n",
       "      <td>M 2.2 - 10km NW of Avenal, CA</td>\n",
       "      <td>0</td>\n",
       "      <td>earthquake</td>\n",
       "    </tr>\n",
       "    <tr>\n",
       "      <th>...</th>\n",
       "      <td>...</td>\n",
       "      <td>...</td>\n",
       "      <td>...</td>\n",
       "      <td>...</td>\n",
       "      <td>...</td>\n",
       "      <td>...</td>\n",
       "      <td>...</td>\n",
       "      <td>...</td>\n",
       "      <td>...</td>\n",
       "    </tr>\n",
       "    <tr>\n",
       "      <th>9326</th>\n",
       "      <td>NaN</td>\n",
       "      <td>1.82</td>\n",
       "      <td>ml</td>\n",
       "      <td>4km W of Julian, CA</td>\n",
       "      <td>reviewed</td>\n",
       "      <td>1537230230260</td>\n",
       "      <td>M 1.8 - 4km W of Julian, CA</td>\n",
       "      <td>0</td>\n",
       "      <td>earthquake</td>\n",
       "    </tr>\n",
       "    <tr>\n",
       "      <th>9327</th>\n",
       "      <td>NaN</td>\n",
       "      <td>0.62</td>\n",
       "      <td>md</td>\n",
       "      <td>9km ENE of Mammoth Lakes, CA</td>\n",
       "      <td>reviewed</td>\n",
       "      <td>1537230228060</td>\n",
       "      <td>M 0.6 - 9km ENE of Mammoth Lakes, CA</td>\n",
       "      <td>0</td>\n",
       "      <td>earthquake</td>\n",
       "    </tr>\n",
       "    <tr>\n",
       "      <th>9328</th>\n",
       "      <td>NaN</td>\n",
       "      <td>1.00</td>\n",
       "      <td>ml</td>\n",
       "      <td>3km W of Julian, CA</td>\n",
       "      <td>reviewed</td>\n",
       "      <td>1537230135130</td>\n",
       "      <td>M 1.0 - 3km W of Julian, CA</td>\n",
       "      <td>0</td>\n",
       "      <td>earthquake</td>\n",
       "    </tr>\n",
       "    <tr>\n",
       "      <th>9330</th>\n",
       "      <td>NaN</td>\n",
       "      <td>1.10</td>\n",
       "      <td>ml</td>\n",
       "      <td>9km NE of Aguanga, CA</td>\n",
       "      <td>reviewed</td>\n",
       "      <td>1537229545350</td>\n",
       "      <td>M 1.1 - 9km NE of Aguanga, CA</td>\n",
       "      <td>0</td>\n",
       "      <td>earthquake</td>\n",
       "    </tr>\n",
       "    <tr>\n",
       "      <th>9331</th>\n",
       "      <td>NaN</td>\n",
       "      <td>0.66</td>\n",
       "      <td>ml</td>\n",
       "      <td>9km NE of Aguanga, CA</td>\n",
       "      <td>reviewed</td>\n",
       "      <td>1537228864470</td>\n",
       "      <td>M 0.7 - 9km NE of Aguanga, CA</td>\n",
       "      <td>0</td>\n",
       "      <td>earthquake</td>\n",
       "    </tr>\n",
       "  </tbody>\n",
       "</table>\n",
       "<p>2861 rows × 9 columns</p>\n",
       "</div>"
      ],
      "text/plain": [
       "     alert   mag magType                         place     status  \\\n",
       "0      NaN  1.35      ml         9km NE of Aguanga, CA  automatic   \n",
       "1      NaN  1.29      ml         9km NE of Aguanga, CA  automatic   \n",
       "2      NaN  3.42      ml         8km NE of Aguanga, CA  automatic   \n",
       "3      NaN  0.44      ml         9km NE of Aguanga, CA  automatic   \n",
       "4      NaN  2.16      md         10km NW of Avenal, CA  automatic   \n",
       "...    ...   ...     ...                           ...        ...   \n",
       "9326   NaN  1.82      ml           4km W of Julian, CA   reviewed   \n",
       "9327   NaN  0.62      md  9km ENE of Mammoth Lakes, CA   reviewed   \n",
       "9328   NaN  1.00      ml           3km W of Julian, CA   reviewed   \n",
       "9330   NaN  1.10      ml         9km NE of Aguanga, CA   reviewed   \n",
       "9331   NaN  0.66      ml         9km NE of Aguanga, CA   reviewed   \n",
       "\n",
       "               time                                 title  tsunami        type  \n",
       "0     1539475168010         M 1.4 - 9km NE of Aguanga, CA        0  earthquake  \n",
       "1     1539475129610         M 1.3 - 9km NE of Aguanga, CA        0  earthquake  \n",
       "2     1539475062610         M 3.4 - 8km NE of Aguanga, CA        0  earthquake  \n",
       "3     1539474978070         M 0.4 - 9km NE of Aguanga, CA        0  earthquake  \n",
       "4     1539474716050         M 2.2 - 10km NW of Avenal, CA        0  earthquake  \n",
       "...             ...                                   ...      ...         ...  \n",
       "9326  1537230230260           M 1.8 - 4km W of Julian, CA        0  earthquake  \n",
       "9327  1537230228060  M 0.6 - 9km ENE of Mammoth Lakes, CA        0  earthquake  \n",
       "9328  1537230135130           M 1.0 - 3km W of Julian, CA        0  earthquake  \n",
       "9330  1537229545350         M 1.1 - 9km NE of Aguanga, CA        0  earthquake  \n",
       "9331  1537228864470         M 0.7 - 9km NE of Aguanga, CA        0  earthquake  \n",
       "\n",
       "[2861 rows x 9 columns]"
      ]
     },
     "execution_count": 467,
     "metadata": {},
     "output_type": "execute_result"
    }
   ],
   "source": [
    "df[df.place.str.contains(r'CA|California')]"
   ]
  },
  {
   "cell_type": "code",
   "execution_count": 475,
   "id": "0b2ce620",
   "metadata": {},
   "outputs": [
    {
     "data": {
      "text/plain": [
       "array(['Afghanistan', 'Alaska', 'Argentina', 'Arizona', 'Arkansas',\n",
       "       'Australia', 'Azerbaijan', 'B.C., MX', 'Barbuda', 'Bolivia',\n",
       "       'Bonaire, Saint Eustatius and Saba ', 'British Virgin Islands',\n",
       "       'Burma', 'CA', 'California', 'Canada', 'Chile', 'China',\n",
       "       'Christmas Island', 'Colombia', 'Colorado', 'Costa Rica',\n",
       "       'Dominican Republic', 'East Timor', 'Ecuador', 'Ecuador region',\n",
       "       'El Salvador', 'Fiji', 'Greece', 'Greenland', 'Guam', 'Guatemala',\n",
       "       'Haiti', 'Hawaii', 'Honduras', 'Idaho', 'Illinois', 'India',\n",
       "       'Indonesia', 'Iran', 'Iraq', 'Italy', 'Jamaica', 'Japan', 'Kansas',\n",
       "       'Kentucky', 'Kyrgyzstan', 'Martinique', 'Mauritius', 'Mayotte',\n",
       "       'Mexico', 'Missouri', 'Montana', 'NV', 'Nevada', 'New Caledonia',\n",
       "       'New Hampshire', 'New Mexico', 'New Zealand', 'Nicaragua',\n",
       "       'North Carolina', 'Northern Mariana Islands', 'Oklahoma', 'Oregon',\n",
       "       'Pakistan', 'Papua New Guinea', 'Peru', 'Philippines',\n",
       "       'Puerto Rico', 'Romania', 'Russia', 'Saint Helena',\n",
       "       'Solomon Islands', 'Somalia', 'South Africa', 'South Carolina',\n",
       "       'South Georgia and the South Sandwich Islands',\n",
       "       'South Sandwich Islands', 'Taiwan', 'Tajikistan', 'Tennessee',\n",
       "       'Texas', 'Tonga', 'Turkey', 'U.S. Virgin Islands', 'Utah',\n",
       "       'Uzbekistan', 'Vanuatu', 'Vermont', 'Washington', 'Wyoming',\n",
       "       'Yemen', nan], dtype=object)"
      ]
     },
     "execution_count": 475,
     "metadata": {},
     "output_type": "execute_result"
    }
   ],
   "source": [
    "df.place.str.extract(r', (.*)')[0].sort_values().unique()"
   ]
  },
  {
   "cell_type": "code",
   "execution_count": 508,
   "id": "22909c33",
   "metadata": {},
   "outputs": [],
   "source": [
    "df['parsed_place'] = df.place.str.replace(\n",
    "        r'.* of ', '', regex=True # remove <x> of <x>\n",
    "    ).str.replace(\n",
    "        'the ', '' # remove 'the'\n",
    "    ).str.replace(\n",
    "        r'CA$', 'California', regex=True # fix California\n",
    "    ).str.replace(\n",
    "        r'NV$', 'Nevada', regex=True # fix Nevada\n",
    "    ).str.replace(\n",
    "        r'MX$', 'Mexico', regex=True # fix Mexico\n",
    "    ).str.replace(\n",
    "        r'region$', '', regex=True # fix \" region\" endings\n",
    "    ).str.replace(\n",
    "        'nothern ', '' # remove 'nothern'\n",
    "    ).str.replace(\n",
    "        'Fiji Islands', 'Fiji' # line up the Fiji places\n",
    "    ).str.replace(\n",
    "        r'^.*, ', '', regex=True  #remove anything else extraneous from start\n",
    "    ).str.strip() # remove any extra spaces"
   ]
  },
  {
   "cell_type": "code",
   "execution_count": 509,
   "id": "dd8abf01",
   "metadata": {},
   "outputs": [
    {
     "data": {
      "text/plain": [
       "array(['Afghanistan', 'Alaska', 'Argentina', 'Arizona', 'Arkansas',\n",
       "       'Ascension Island', 'Australia', 'Azerbaijan', 'Balleny Islands',\n",
       "       'Barbuda', 'Bolivia', 'British Virgin Islands', 'Burma',\n",
       "       'California', 'Canada', 'Carlsberg Ridge',\n",
       "       'Central East Pacific Rise', 'Central Mid-Atlantic Ridge', 'Chile',\n",
       "       'China', 'Christmas Island', 'Colombia', 'Colorado', 'Costa Rica',\n",
       "       'Dominican Republic', 'East Timor', 'Ecuador', 'El Salvador',\n",
       "       'Fiji', 'Greece', 'Greenland', 'Guam', 'Guatemala', 'Haiti',\n",
       "       'Hawaii', 'Honduras', 'Idaho', 'Illinois', 'India',\n",
       "       'Indian Ocean Triple Junction', 'Indonesia', 'Iran', 'Iraq',\n",
       "       'Italy', 'Jamaica', 'Japan', 'Kansas', 'Kentucky',\n",
       "       'Kermadec Islands', 'Kuril Islands', 'Kyrgyzstan', 'Martinique',\n",
       "       'Mauritius', 'Mayotte', 'Mexico', 'Mid-Indian Ridge', 'Missouri',\n",
       "       'Montana', 'Nevada', 'New Caledonia', 'New Hampshire',\n",
       "       'New Mexico', 'New Zealand', 'Nicaragua', 'North Carolina',\n",
       "       'Northern East Pacific Rise', 'Northern Mariana Islands',\n",
       "       'Northern Mid-Atlantic Ridge', 'Oklahoma', 'Oregon',\n",
       "       'Pacific-Antarctic Ridge', 'Pakistan', 'Papua New Guinea', 'Peru',\n",
       "       'Philippines', 'Prince Edward Islands', 'Puerto Rico',\n",
       "       'Queen Charlotte Islands', 'Romania', 'Russia',\n",
       "       'Saint Eustatius and Saba', 'Saint Helena', 'Socotra',\n",
       "       'Solomon Islands', 'Somalia', 'South Africa', 'South Carolina',\n",
       "       'South Georgia and South Sandwich Islands',\n",
       "       'South Sandwich Islands', 'Southeast Indian Ridge',\n",
       "       'Southern East Pacific Rise', 'Southern Mid-Atlantic Ridge',\n",
       "       'Southwest Indian Ridge', 'Taiwan', 'Tajikistan', 'Tennessee',\n",
       "       'Texas', 'Tonga', 'Turkey', 'U.S. Virgin Islands', 'Utah',\n",
       "       'Uzbekistan', 'Vanuatu', 'Vermont', 'Washington',\n",
       "       'Western Indian-Antarctic Ridge', 'Western Xizang', 'Wyoming',\n",
       "       'Yemen', 'northern Sumatra'], dtype=object)"
      ]
     },
     "execution_count": 509,
     "metadata": {},
     "output_type": "execute_result"
    }
   ],
   "source": [
    "df.parsed_place.sort_values().unique()"
   ]
  },
  {
   "cell_type": "code",
   "execution_count": 510,
   "id": "adc2d348",
   "metadata": {},
   "outputs": [],
   "source": [
    "ring_of_fire = ['Alaska', 'Bolivia', 'California', 'Canada', \n",
    "                'Chile', 'Costa Rica', 'Ecuador', 'Fiji', \n",
    "                'Guatemala', 'Indonesia', 'Japan', 'Kermadec Islands', \n",
    "                'Mexico', 'New Zealand', 'Peru', 'Philippines', \n",
    "                'Russia', 'Taiwan', 'Tonga', 'Washington', \n",
    "                'Pacific-Antarctic Ridge', 'Western Indian-Antarctic Ridge']"
   ]
  },
  {
   "cell_type": "code",
   "execution_count": 511,
   "id": "68d97649",
   "metadata": {},
   "outputs": [],
   "source": [
    "df.loc[df.parsed_place.apply(lambda x: x in ring_of_fire), 'ring_of_fire'] = True"
   ]
  },
  {
   "cell_type": "code",
   "execution_count": 512,
   "id": "c282fd28",
   "metadata": {},
   "outputs": [],
   "source": [
    "df.loc[df.ring_of_fire.isna(), 'ring_of_fire'] = False"
   ]
  },
  {
   "cell_type": "code",
   "execution_count": 513,
   "id": "3033be46",
   "metadata": {},
   "outputs": [
    {
     "data": {
      "text/plain": [
       "array(['Alaska', 'Bolivia', 'California', 'Canada', 'Chile', 'Costa Rica',\n",
       "       'Ecuador', 'Fiji', 'Guatemala', 'Indonesia', 'Japan',\n",
       "       'Kermadec Islands', 'Mexico', 'New Zealand',\n",
       "       'Pacific-Antarctic Ridge', 'Peru', 'Philippines', 'Russia',\n",
       "       'Taiwan', 'Tonga', 'Washington', 'Western Indian-Antarctic Ridge'],\n",
       "      dtype=object)"
      ]
     },
     "execution_count": 513,
     "metadata": {},
     "output_type": "execute_result"
    }
   ],
   "source": [
    "df[df.ring_of_fire == True]['parsed_place'].sort_values().unique()"
   ]
  },
  {
   "cell_type": "code",
   "execution_count": 514,
   "id": "77b6d3ff",
   "metadata": {},
   "outputs": [
    {
     "data": {
      "text/plain": [
       "array(['Afghanistan', 'Argentina', 'Arizona', 'Arkansas',\n",
       "       'Ascension Island', 'Australia', 'Azerbaijan', 'Balleny Islands',\n",
       "       'Barbuda', 'British Virgin Islands', 'Burma', 'Carlsberg Ridge',\n",
       "       'Central East Pacific Rise', 'Central Mid-Atlantic Ridge', 'China',\n",
       "       'Christmas Island', 'Colombia', 'Colorado', 'Dominican Republic',\n",
       "       'East Timor', 'El Salvador', 'Greece', 'Greenland', 'Guam',\n",
       "       'Haiti', 'Hawaii', 'Honduras', 'Idaho', 'Illinois', 'India',\n",
       "       'Indian Ocean Triple Junction', 'Iran', 'Iraq', 'Italy', 'Jamaica',\n",
       "       'Kansas', 'Kentucky', 'Kuril Islands', 'Kyrgyzstan', 'Martinique',\n",
       "       'Mauritius', 'Mayotte', 'Mid-Indian Ridge', 'Missouri', 'Montana',\n",
       "       'Nevada', 'New Caledonia', 'New Hampshire', 'New Mexico',\n",
       "       'Nicaragua', 'North Carolina', 'Northern East Pacific Rise',\n",
       "       'Northern Mariana Islands', 'Northern Mid-Atlantic Ridge',\n",
       "       'Oklahoma', 'Oregon', 'Pakistan', 'Papua New Guinea',\n",
       "       'Prince Edward Islands', 'Puerto Rico', 'Queen Charlotte Islands',\n",
       "       'Romania', 'Saint Eustatius and Saba', 'Saint Helena', 'Socotra',\n",
       "       'Solomon Islands', 'Somalia', 'South Africa', 'South Carolina',\n",
       "       'South Georgia and South Sandwich Islands',\n",
       "       'South Sandwich Islands', 'Southeast Indian Ridge',\n",
       "       'Southern East Pacific Rise', 'Southern Mid-Atlantic Ridge',\n",
       "       'Southwest Indian Ridge', 'Tajikistan', 'Tennessee', 'Texas',\n",
       "       'Turkey', 'U.S. Virgin Islands', 'Utah', 'Uzbekistan', 'Vanuatu',\n",
       "       'Vermont', 'Western Xizang', 'Wyoming', 'Yemen',\n",
       "       'northern Sumatra'], dtype=object)"
      ]
     },
     "execution_count": 514,
     "metadata": {},
     "output_type": "execute_result"
    }
   ],
   "source": [
    "df[df.ring_of_fire != True]['parsed_place'].sort_values().unique()"
   ]
  },
  {
   "cell_type": "code",
   "execution_count": 517,
   "id": "391f1323",
   "metadata": {},
   "outputs": [],
   "source": [
    "df.drop(columns=['parced_place'], inplace=True)"
   ]
  },
  {
   "cell_type": "code",
   "execution_count": 518,
   "id": "a469efd3",
   "metadata": {},
   "outputs": [
    {
     "data": {
      "text/html": [
       "<div>\n",
       "<style scoped>\n",
       "    .dataframe tbody tr th:only-of-type {\n",
       "        vertical-align: middle;\n",
       "    }\n",
       "\n",
       "    .dataframe tbody tr th {\n",
       "        vertical-align: top;\n",
       "    }\n",
       "\n",
       "    .dataframe thead th {\n",
       "        text-align: right;\n",
       "    }\n",
       "</style>\n",
       "<table border=\"1\" class=\"dataframe\">\n",
       "  <thead>\n",
       "    <tr style=\"text-align: right;\">\n",
       "      <th></th>\n",
       "      <th>alert</th>\n",
       "      <th>mag</th>\n",
       "      <th>magType</th>\n",
       "      <th>place</th>\n",
       "      <th>status</th>\n",
       "      <th>time</th>\n",
       "      <th>title</th>\n",
       "      <th>tsunami</th>\n",
       "      <th>type</th>\n",
       "      <th>ring_of_fire</th>\n",
       "      <th>parsed_place</th>\n",
       "    </tr>\n",
       "  </thead>\n",
       "  <tbody>\n",
       "    <tr>\n",
       "      <th>0</th>\n",
       "      <td>NaN</td>\n",
       "      <td>1.35</td>\n",
       "      <td>ml</td>\n",
       "      <td>9km NE of Aguanga, CA</td>\n",
       "      <td>automatic</td>\n",
       "      <td>1539475168010</td>\n",
       "      <td>M 1.4 - 9km NE of Aguanga, CA</td>\n",
       "      <td>0</td>\n",
       "      <td>earthquake</td>\n",
       "      <td>True</td>\n",
       "      <td>California</td>\n",
       "    </tr>\n",
       "    <tr>\n",
       "      <th>1</th>\n",
       "      <td>NaN</td>\n",
       "      <td>1.29</td>\n",
       "      <td>ml</td>\n",
       "      <td>9km NE of Aguanga, CA</td>\n",
       "      <td>automatic</td>\n",
       "      <td>1539475129610</td>\n",
       "      <td>M 1.3 - 9km NE of Aguanga, CA</td>\n",
       "      <td>0</td>\n",
       "      <td>earthquake</td>\n",
       "      <td>True</td>\n",
       "      <td>California</td>\n",
       "    </tr>\n",
       "    <tr>\n",
       "      <th>2</th>\n",
       "      <td>NaN</td>\n",
       "      <td>3.42</td>\n",
       "      <td>ml</td>\n",
       "      <td>8km NE of Aguanga, CA</td>\n",
       "      <td>automatic</td>\n",
       "      <td>1539475062610</td>\n",
       "      <td>M 3.4 - 8km NE of Aguanga, CA</td>\n",
       "      <td>0</td>\n",
       "      <td>earthquake</td>\n",
       "      <td>True</td>\n",
       "      <td>California</td>\n",
       "    </tr>\n",
       "    <tr>\n",
       "      <th>3</th>\n",
       "      <td>NaN</td>\n",
       "      <td>0.44</td>\n",
       "      <td>ml</td>\n",
       "      <td>9km NE of Aguanga, CA</td>\n",
       "      <td>automatic</td>\n",
       "      <td>1539474978070</td>\n",
       "      <td>M 0.4 - 9km NE of Aguanga, CA</td>\n",
       "      <td>0</td>\n",
       "      <td>earthquake</td>\n",
       "      <td>True</td>\n",
       "      <td>California</td>\n",
       "    </tr>\n",
       "  </tbody>\n",
       "</table>\n",
       "</div>"
      ],
      "text/plain": [
       "  alert   mag magType                  place     status           time  \\\n",
       "0   NaN  1.35      ml  9km NE of Aguanga, CA  automatic  1539475168010   \n",
       "1   NaN  1.29      ml  9km NE of Aguanga, CA  automatic  1539475129610   \n",
       "2   NaN  3.42      ml  8km NE of Aguanga, CA  automatic  1539475062610   \n",
       "3   NaN  0.44      ml  9km NE of Aguanga, CA  automatic  1539474978070   \n",
       "\n",
       "                           title  tsunami        type ring_of_fire  \\\n",
       "0  M 1.4 - 9km NE of Aguanga, CA        0  earthquake         True   \n",
       "1  M 1.3 - 9km NE of Aguanga, CA        0  earthquake         True   \n",
       "2  M 3.4 - 8km NE of Aguanga, CA        0  earthquake         True   \n",
       "3  M 0.4 - 9km NE of Aguanga, CA        0  earthquake         True   \n",
       "\n",
       "  parsed_place  \n",
       "0   California  \n",
       "1   California  \n",
       "2   California  \n",
       "3   California  "
      ]
     },
     "execution_count": 518,
     "metadata": {},
     "output_type": "execute_result"
    }
   ],
   "source": [
    "df.head(4)"
   ]
  },
  {
   "cell_type": "markdown",
   "id": "a336929a",
   "metadata": {},
   "source": [
    "**4. Calculate the number of earthquakes in the Ring of Fire locations and the number outside of them.**"
   ]
  },
  {
   "cell_type": "code",
   "execution_count": 519,
   "id": "d2001e9b",
   "metadata": {},
   "outputs": [
    {
     "data": {
      "text/plain": [
       "True     7188\n",
       "False    2144\n",
       "Name: ring_of_fire, dtype: int64"
      ]
     },
     "execution_count": 519,
     "metadata": {},
     "output_type": "execute_result"
    }
   ],
   "source": [
    "df.ring_of_fire.value_counts()"
   ]
  },
  {
   "cell_type": "markdown",
   "id": "41590ec3",
   "metadata": {},
   "source": [
    "**Ответ: the number of earthquakes in the Ring of Fire locations = 7188, the number outside of them = 2144**"
   ]
  },
  {
   "cell_type": "markdown",
   "id": "2a6e3a8c",
   "metadata": {},
   "source": [
    "**5. Find the tsunami count along the Ring of Fire.**"
   ]
  },
  {
   "cell_type": "code",
   "execution_count": 528,
   "id": "6146ffcf",
   "metadata": {},
   "outputs": [
    {
     "data": {
      "text/plain": [
       "45"
      ]
     },
     "execution_count": 528,
     "metadata": {},
     "output_type": "execute_result"
    }
   ],
   "source": [
    "((df.ring_of_fire==True) & (df.tsunami==1)).sum()"
   ]
  },
  {
   "cell_type": "markdown",
   "id": "df97199a",
   "metadata": {},
   "source": [
    "**Ответ: 45**"
   ]
  }
 ],
 "metadata": {
  "kernelspec": {
   "display_name": "Python 3 (ipykernel)",
   "language": "python",
   "name": "python3"
  },
  "language_info": {
   "codemirror_mode": {
    "name": "ipython",
    "version": 3
   },
   "file_extension": ".py",
   "mimetype": "text/x-python",
   "name": "python",
   "nbconvert_exporter": "python",
   "pygments_lexer": "ipython3",
   "version": "3.9.7"
  },
  "toc": {
   "base_numbering": 1,
   "nav_menu": {},
   "number_sections": true,
   "sideBar": true,
   "skip_h1_title": false,
   "title_cell": "Table of Contents",
   "title_sidebar": "Contents",
   "toc_cell": false,
   "toc_position": {},
   "toc_section_display": true,
   "toc_window_display": false
  }
 },
 "nbformat": 4,
 "nbformat_minor": 5
}
