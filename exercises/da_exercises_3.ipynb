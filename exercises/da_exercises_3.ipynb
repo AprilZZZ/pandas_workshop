{
 "cells": [
  {
   "cell_type": "markdown",
   "id": "deedc22c",
   "metadata": {},
   "source": [
    "This notebook contains the second part of exercises from: https://www.w3resource.com/python-exercises/pandas/index.php It covers working with `time series` data."
   ]
  },
  {
   "cell_type": "code",
   "execution_count": 88,
   "id": "e89ae37c",
   "metadata": {},
   "outputs": [],
   "source": [
    "import pandas as pd\n",
    "import numpy as np\n",
    "from datetime import datetime as dt\n",
    "import time\n",
    "from datetime import date\n",
    "import random"
   ]
  },
  {
   "cell_type": "markdown",
   "id": "93895138",
   "metadata": {},
   "source": [
    "# Pandas Time Series [ 32 exercises with solution]"
   ]
  },
  {
   "cell_type": "code",
   "execution_count": 44,
   "id": "bd9fe777",
   "metadata": {},
   "outputs": [
    {
     "name": "stdout",
     "output_type": "stream",
     "text": [
      "2012-01-15 00:00:00\n",
      "2022-11-17 21:20:00\n",
      "17 November 2022 09:52\n",
      "17 November 2022\n",
      "2022-11-17\n",
      "09:52:49.644859\n"
     ]
    }
   ],
   "source": [
    "# 1 Write a Pandas program to create\n",
    "\n",
    "# a) Datetime object for Jan 15 2012.\n",
    "print(pd.to_datetime('15 Jan 2012'))\n",
    "\n",
    "# b) Specific date and time of 9:20 pm.\n",
    "print(pd.to_datetime('17/11/22 9:20pm'))\n",
    "\n",
    "# c) Local date and time.\n",
    "today = time.localtime()\n",
    "print(time.strftime('%d %B %Y %H:%M', today))\n",
    "\n",
    "# d) A date without time.\n",
    "print(time.strftime('%d %B %Y', today))\n",
    "\n",
    "# e) Current date.\n",
    "print(dt.now().date())\n",
    "\n",
    "# f) Time from a datetime.\n",
    "print(dt.now().time())"
   ]
  },
  {
   "cell_type": "code",
   "execution_count": 54,
   "id": "b227f4b2",
   "metadata": {},
   "outputs": [
    {
     "name": "stdout",
     "output_type": "stream",
     "text": [
      "timestamp=1668668168.863869\n",
      "2022-11-17\n",
      "2022-11-17 09:56:08.863869\n"
     ]
    }
   ],
   "source": [
    "# 2 Write a Pandas program to create\n",
    "\n",
    "timestamp = time.time()\n",
    "print(f'{timestamp=}')\n",
    "\n",
    "# a) a specific date using timestamp.\n",
    "print(date.fromtimestamp(timestamp))\n",
    "\n",
    "# b) date and time using timestamp.\n",
    "print(dt.fromtimestamp(timestamp))"
   ]
  },
  {
   "cell_type": "code",
   "execution_count": 61,
   "id": "6821b621",
   "metadata": {},
   "outputs": [
    {
     "name": "stdout",
     "output_type": "stream",
     "text": [
      "2017-11-22 00:00:00\n"
     ]
    }
   ],
   "source": [
    "# 3 3. Write a Pandas program to create a date from a given year, month, day \n",
    "# and another date from a given string formats.\n",
    "d = pd.to_datetime('22/11/17')\n",
    "print(d)"
   ]
  },
  {
   "cell_type": "code",
   "execution_count": 86,
   "id": "cf59659e",
   "metadata": {},
   "outputs": [
    {
     "data": {
      "text/html": [
       "<div>\n",
       "<style scoped>\n",
       "    .dataframe tbody tr th:only-of-type {\n",
       "        vertical-align: middle;\n",
       "    }\n",
       "\n",
       "    .dataframe tbody tr th {\n",
       "        vertical-align: top;\n",
       "    }\n",
       "\n",
       "    .dataframe thead th {\n",
       "        text-align: right;\n",
       "    }\n",
       "</style>\n",
       "<table border=\"1\" class=\"dataframe\">\n",
       "  <thead>\n",
       "    <tr style=\"text-align: right;\">\n",
       "      <th></th>\n",
       "      <th>year</th>\n",
       "      <th>month</th>\n",
       "      <th>day</th>\n",
       "      <th>yesterday</th>\n",
       "      <th>date</th>\n",
       "      <th>tomorrow</th>\n",
       "    </tr>\n",
       "  </thead>\n",
       "  <tbody>\n",
       "    <tr>\n",
       "      <th>0</th>\n",
       "      <td>2022</td>\n",
       "      <td>3</td>\n",
       "      <td>15</td>\n",
       "      <td>2022-03-14</td>\n",
       "      <td>2022-03-15</td>\n",
       "      <td>2022-03-16</td>\n",
       "    </tr>\n",
       "    <tr>\n",
       "      <th>1</th>\n",
       "      <td>2021</td>\n",
       "      <td>4</td>\n",
       "      <td>3</td>\n",
       "      <td>2021-04-02</td>\n",
       "      <td>2021-04-03</td>\n",
       "      <td>2021-04-04</td>\n",
       "    </tr>\n",
       "    <tr>\n",
       "      <th>2</th>\n",
       "      <td>2020</td>\n",
       "      <td>1</td>\n",
       "      <td>31</td>\n",
       "      <td>2020-01-30</td>\n",
       "      <td>2020-01-31</td>\n",
       "      <td>2020-02-01</td>\n",
       "    </tr>\n",
       "    <tr>\n",
       "      <th>3</th>\n",
       "      <td>2019</td>\n",
       "      <td>11</td>\n",
       "      <td>7</td>\n",
       "      <td>2019-11-06</td>\n",
       "      <td>2019-11-07</td>\n",
       "      <td>2019-11-08</td>\n",
       "    </tr>\n",
       "  </tbody>\n",
       "</table>\n",
       "</div>"
      ],
      "text/plain": [
       "   year  month  day  yesterday       date   tomorrow\n",
       "0  2022      3   15 2022-03-14 2022-03-15 2022-03-16\n",
       "1  2021      4    3 2021-04-02 2021-04-03 2021-04-04\n",
       "2  2020      1   31 2020-01-30 2020-01-31 2020-02-01\n",
       "3  2019     11    7 2019-11-06 2019-11-07 2019-11-08"
      ]
     },
     "execution_count": 86,
     "metadata": {},
     "output_type": "execute_result"
    }
   ],
   "source": [
    "# 4. Write a Pandas program to print the day after and before a specified date. \n",
    "\n",
    "df4 = pd.DataFrame({'year': [2022, 2021, 2020, 2019],\n",
    "                   'month': [3, 4, 1, 11],\n",
    "                   'day': [15, 3, 31, 7]\n",
    "                })\n",
    "df4['date'] = pd.to_datetime(df4)\n",
    "df4['tomorrow'] = df4.date + pd.to_timedelta(1, unit='D')\n",
    "df4.insert(3, 'yesterday', df4.date - pd.to_timedelta(1, unit='D'))\n",
    "df4"
   ]
  },
  {
   "cell_type": "code",
   "execution_count": 87,
   "id": "f15ba8e2",
   "metadata": {},
   "outputs": [
    {
     "data": {
      "text/plain": [
       "0   1 days\n",
       "1   1 days\n",
       "2   1 days\n",
       "3   1 days\n",
       "dtype: timedelta64[ns]"
      ]
     },
     "execution_count": 87,
     "metadata": {},
     "output_type": "execute_result"
    }
   ],
   "source": [
    "# Also print the days between two given dates.\n",
    "\n",
    "df4.tomorrow - df4.date"
   ]
  },
  {
   "cell_type": "code",
   "execution_count": 96,
   "id": "33b71294",
   "metadata": {},
   "outputs": [
    {
     "data": {
      "text/html": [
       "<div>\n",
       "<style scoped>\n",
       "    .dataframe tbody tr th:only-of-type {\n",
       "        vertical-align: middle;\n",
       "    }\n",
       "\n",
       "    .dataframe tbody tr th {\n",
       "        vertical-align: top;\n",
       "    }\n",
       "\n",
       "    .dataframe thead th {\n",
       "        text-align: right;\n",
       "    }\n",
       "</style>\n",
       "<table border=\"1\" class=\"dataframe\">\n",
       "  <thead>\n",
       "    <tr style=\"text-align: right;\">\n",
       "      <th></th>\n",
       "      <th>values</th>\n",
       "    </tr>\n",
       "  </thead>\n",
       "  <tbody>\n",
       "    <tr>\n",
       "      <th>2022-11-01</th>\n",
       "      <td>0.152419</td>\n",
       "    </tr>\n",
       "    <tr>\n",
       "      <th>2022-10-01</th>\n",
       "      <td>0.828441</td>\n",
       "    </tr>\n",
       "  </tbody>\n",
       "</table>\n",
       "</div>"
      ],
      "text/plain": [
       "              values\n",
       "2022-11-01  0.152419\n",
       "2022-10-01  0.828441"
      ]
     },
     "execution_count": 96,
     "metadata": {},
     "output_type": "execute_result"
    }
   ],
   "source": [
    "# 5 Write a Pandas program to create a time-series with two index labels and random values. \n",
    "\n",
    "val1 = random.random()\n",
    "val2 = random.random()\n",
    "df5 = pd.DataFrame(\n",
    "    data=[val1, val2], \n",
    "    index=pd.to_datetime(['2022-11-1', '2022-10-1']), \n",
    "    columns=['values']\n",
    ")\n",
    "df5"
   ]
  },
  {
   "cell_type": "code",
   "execution_count": 97,
   "id": "c571a2b9",
   "metadata": {},
   "outputs": [
    {
     "data": {
      "text/plain": [
       "DatetimeIndex(['2022-11-01', '2022-10-01'], dtype='datetime64[ns]', freq=None)"
      ]
     },
     "execution_count": 97,
     "metadata": {},
     "output_type": "execute_result"
    }
   ],
   "source": [
    "# Also print the type of the index.\n",
    "df5.index"
   ]
  },
  {
   "cell_type": "code",
   "execution_count": 99,
   "id": "8e35de06",
   "metadata": {},
   "outputs": [
    {
     "data": {
      "text/plain": [
       "0   1947-06-19\n",
       "1   1954-06-08\n",
       "2   1977-04-14\n",
       "3   1987-02-28\n",
       "4   2001-10-16\n",
       "dtype: datetime64[ns]"
      ]
     },
     "execution_count": 99,
     "metadata": {},
     "output_type": "execute_result"
    }
   ],
   "source": [
    "# 6 Write a Pandas program to create a time-series from a given list of dates as strings.\n",
    "\n",
    "dates = ['1947-6-19',\n",
    "         '1954-6-8',\n",
    "         '1977-4-14',\n",
    "         '1987-2-28',\n",
    "         '2001-10-16']\n",
    "s = pd.Series(pd.to_datetime(dates))\n",
    "s"
   ]
  },
  {
   "cell_type": "code",
   "execution_count": 117,
   "id": "76dc91e4",
   "metadata": {},
   "outputs": [
    {
     "data": {
      "text/html": [
       "<div>\n",
       "<style scoped>\n",
       "    .dataframe tbody tr th:only-of-type {\n",
       "        vertical-align: middle;\n",
       "    }\n",
       "\n",
       "    .dataframe tbody tr th {\n",
       "        vertical-align: top;\n",
       "    }\n",
       "\n",
       "    .dataframe thead th {\n",
       "        text-align: right;\n",
       "    }\n",
       "</style>\n",
       "<table border=\"1\" class=\"dataframe\">\n",
       "  <thead>\n",
       "    <tr style=\"text-align: right;\">\n",
       "      <th></th>\n",
       "      <th>values</th>\n",
       "    </tr>\n",
       "  </thead>\n",
       "  <tbody>\n",
       "    <tr>\n",
       "      <th>2018-10-31</th>\n",
       "      <td>0.393034</td>\n",
       "    </tr>\n",
       "    <tr>\n",
       "      <th>2019-01-31</th>\n",
       "      <td>0.037415</td>\n",
       "    </tr>\n",
       "    <tr>\n",
       "      <th>2019-04-30</th>\n",
       "      <td>0.907041</td>\n",
       "    </tr>\n",
       "    <tr>\n",
       "      <th>2019-07-31</th>\n",
       "      <td>0.002898</td>\n",
       "    </tr>\n",
       "    <tr>\n",
       "      <th>2019-10-31</th>\n",
       "      <td>0.037767</td>\n",
       "    </tr>\n",
       "    <tr>\n",
       "      <th>2020-01-31</th>\n",
       "      <td>0.229335</td>\n",
       "    </tr>\n",
       "    <tr>\n",
       "      <th>2020-04-30</th>\n",
       "      <td>0.236096</td>\n",
       "    </tr>\n",
       "    <tr>\n",
       "      <th>2020-07-31</th>\n",
       "      <td>0.700635</td>\n",
       "    </tr>\n",
       "    <tr>\n",
       "      <th>2020-10-31</th>\n",
       "      <td>0.414755</td>\n",
       "    </tr>\n",
       "    <tr>\n",
       "      <th>2021-01-31</th>\n",
       "      <td>0.308354</td>\n",
       "    </tr>\n",
       "    <tr>\n",
       "      <th>2021-04-30</th>\n",
       "      <td>0.943733</td>\n",
       "    </tr>\n",
       "    <tr>\n",
       "      <th>2021-07-31</th>\n",
       "      <td>0.314503</td>\n",
       "    </tr>\n",
       "    <tr>\n",
       "      <th>2021-10-31</th>\n",
       "      <td>0.600057</td>\n",
       "    </tr>\n",
       "    <tr>\n",
       "      <th>2022-01-31</th>\n",
       "      <td>0.863126</td>\n",
       "    </tr>\n",
       "  </tbody>\n",
       "</table>\n",
       "</div>"
      ],
      "text/plain": [
       "              values\n",
       "2018-10-31  0.393034\n",
       "2019-01-31  0.037415\n",
       "2019-04-30  0.907041\n",
       "2019-07-31  0.002898\n",
       "2019-10-31  0.037767\n",
       "2020-01-31  0.229335\n",
       "2020-04-30  0.236096\n",
       "2020-07-31  0.700635\n",
       "2020-10-31  0.414755\n",
       "2021-01-31  0.308354\n",
       "2021-04-30  0.943733\n",
       "2021-07-31  0.314503\n",
       "2021-10-31  0.600057\n",
       "2022-01-31  0.863126"
      ]
     },
     "execution_count": 117,
     "metadata": {},
     "output_type": "execute_result"
    }
   ],
   "source": [
    "# 7 Write a Pandas program to create a time series object that has time indexed data. \n",
    "\n",
    "rows = 14\n",
    "dates = pd.date_range(end='2022-2-24', periods=rows, freq='3M')\n",
    "values = [random.random() for i in range(rows)]\n",
    "df7 = pd.DataFrame(data=values, index=dates, columns=['values'])\n",
    "df7"
   ]
  },
  {
   "cell_type": "code",
   "execution_count": 122,
   "id": "e41e474e",
   "metadata": {},
   "outputs": [
    {
     "data": {
      "text/html": [
       "<div>\n",
       "<style scoped>\n",
       "    .dataframe tbody tr th:only-of-type {\n",
       "        vertical-align: middle;\n",
       "    }\n",
       "\n",
       "    .dataframe tbody tr th {\n",
       "        vertical-align: top;\n",
       "    }\n",
       "\n",
       "    .dataframe thead th {\n",
       "        text-align: right;\n",
       "    }\n",
       "</style>\n",
       "<table border=\"1\" class=\"dataframe\">\n",
       "  <thead>\n",
       "    <tr style=\"text-align: right;\">\n",
       "      <th></th>\n",
       "      <th>values</th>\n",
       "    </tr>\n",
       "  </thead>\n",
       "  <tbody>\n",
       "    <tr>\n",
       "      <th>2019-01-31</th>\n",
       "      <td>0.037415</td>\n",
       "    </tr>\n",
       "    <tr>\n",
       "      <th>2019-04-30</th>\n",
       "      <td>0.907041</td>\n",
       "    </tr>\n",
       "    <tr>\n",
       "      <th>2019-07-31</th>\n",
       "      <td>0.002898</td>\n",
       "    </tr>\n",
       "    <tr>\n",
       "      <th>2019-10-31</th>\n",
       "      <td>0.037767</td>\n",
       "    </tr>\n",
       "  </tbody>\n",
       "</table>\n",
       "</div>"
      ],
      "text/plain": [
       "              values\n",
       "2019-01-31  0.037415\n",
       "2019-04-30  0.907041\n",
       "2019-07-31  0.002898\n",
       "2019-10-31  0.037767"
      ]
     },
     "execution_count": 122,
     "metadata": {},
     "output_type": "execute_result"
    }
   ],
   "source": [
    "# Also select the dates of same year and select the dates between certain dates. \n",
    "df7.loc['2019']"
   ]
  },
  {
   "cell_type": "code",
   "execution_count": 121,
   "id": "9e2b3e46",
   "metadata": {},
   "outputs": [
    {
     "data": {
      "text/html": [
       "<div>\n",
       "<style scoped>\n",
       "    .dataframe tbody tr th:only-of-type {\n",
       "        vertical-align: middle;\n",
       "    }\n",
       "\n",
       "    .dataframe tbody tr th {\n",
       "        vertical-align: top;\n",
       "    }\n",
       "\n",
       "    .dataframe thead th {\n",
       "        text-align: right;\n",
       "    }\n",
       "</style>\n",
       "<table border=\"1\" class=\"dataframe\">\n",
       "  <thead>\n",
       "    <tr style=\"text-align: right;\">\n",
       "      <th></th>\n",
       "      <th>values</th>\n",
       "    </tr>\n",
       "  </thead>\n",
       "  <tbody>\n",
       "    <tr>\n",
       "      <th>2020-07-31</th>\n",
       "      <td>0.700635</td>\n",
       "    </tr>\n",
       "    <tr>\n",
       "      <th>2020-10-31</th>\n",
       "      <td>0.414755</td>\n",
       "    </tr>\n",
       "    <tr>\n",
       "      <th>2021-01-31</th>\n",
       "      <td>0.308354</td>\n",
       "    </tr>\n",
       "    <tr>\n",
       "      <th>2021-04-30</th>\n",
       "      <td>0.943733</td>\n",
       "    </tr>\n",
       "    <tr>\n",
       "      <th>2021-07-31</th>\n",
       "      <td>0.314503</td>\n",
       "    </tr>\n",
       "  </tbody>\n",
       "</table>\n",
       "</div>"
      ],
      "text/plain": [
       "              values\n",
       "2020-07-31  0.700635\n",
       "2020-10-31  0.414755\n",
       "2021-01-31  0.308354\n",
       "2021-04-30  0.943733\n",
       "2021-07-31  0.314503"
      ]
     },
     "execution_count": 121,
     "metadata": {},
     "output_type": "execute_result"
    }
   ],
   "source": [
    "df7.loc['2020-07-31':'2021-07-31']"
   ]
  },
  {
   "cell_type": "code",
   "execution_count": 123,
   "id": "a4fd1352",
   "metadata": {},
   "outputs": [
    {
     "data": {
      "text/plain": [
       "DatetimeIndex(['2022-02-24', '2022-02-25', '2022-02-26', '2022-02-27',\n",
       "               '2022-02-28', '2022-03-01', '2022-03-02', '2022-03-03',\n",
       "               '2022-03-04', '2022-03-05', '2022-03-06', '2022-03-07',\n",
       "               '2022-03-08', '2022-03-09', '2022-03-10', '2022-03-11',\n",
       "               '2022-03-12', '2022-03-13', '2022-03-14', '2022-03-15',\n",
       "               '2022-03-16', '2022-03-17', '2022-03-18', '2022-03-19',\n",
       "               '2022-03-20', '2022-03-21', '2022-03-22', '2022-03-23',\n",
       "               '2022-03-24', '2022-03-25', '2022-03-26', '2022-03-27',\n",
       "               '2022-03-28', '2022-03-29', '2022-03-30', '2022-03-31',\n",
       "               '2022-04-01', '2022-04-02', '2022-04-03', '2022-04-04',\n",
       "               '2022-04-05', '2022-04-06', '2022-04-07', '2022-04-08',\n",
       "               '2022-04-09', '2022-04-10', '2022-04-11', '2022-04-12',\n",
       "               '2022-04-13', '2022-04-14', '2022-04-15', '2022-04-16',\n",
       "               '2022-04-17', '2022-04-18', '2022-04-19', '2022-04-20',\n",
       "               '2022-04-21', '2022-04-22', '2022-04-23', '2022-04-24'],\n",
       "              dtype='datetime64[ns]', freq='D')"
      ]
     },
     "execution_count": 123,
     "metadata": {},
     "output_type": "execute_result"
    }
   ],
   "source": [
    "# 8 Write a Pandas program to create a date range using a startpoint date and a number of periods.\n",
    "pd.date_range(start='2022-2-24', periods=60)"
   ]
  },
  {
   "cell_type": "code",
   "execution_count": 129,
   "id": "806a6f6a",
   "metadata": {},
   "outputs": [
    {
     "name": "stdout",
     "output_type": "stream",
     "text": [
      "2022-04-30 00:00:00\n",
      "2022-04-01 00:00:00\n"
     ]
    }
   ],
   "source": [
    "# 9 Write a Pandas program to create a whole month of dates in daily frequencies. \n",
    "# Also find the maximum, minimum timestamp and indexs. \n",
    "index = pd.date_range('2022-4-1', '2022-4-30')\n",
    "print(index.max())\n",
    "print(index.min())"
   ]
  },
  {
   "cell_type": "code",
   "execution_count": 131,
   "id": "b3bac14b",
   "metadata": {},
   "outputs": [
    {
     "data": {
      "text/plain": [
       "TimedeltaIndex(['0 days 01:00:00', '0 days 02:00:00', '0 days 03:00:00',\n",
       "                '0 days 04:00:00', '0 days 05:00:00', '0 days 06:00:00'],\n",
       "               dtype='timedelta64[ns]', freq=None)"
      ]
     },
     "execution_count": 131,
     "metadata": {},
     "output_type": "execute_result"
    }
   ],
   "source": [
    "# 11 Write a Pandas program to create a sequence of durations increasing by an hour.\n",
    "data = range(1, 7)\n",
    "pd.to_timedelta(data, unit='h')"
   ]
  },
  {
   "cell_type": "code",
   "execution_count": 135,
   "id": "bc5a4e31",
   "metadata": {},
   "outputs": [
    {
     "data": {
      "text/plain": [
       "TimedeltaIndex(['0 days 00:00:00.000000001', '0 days 01:00:00.000000001',\n",
       "                '0 days 02:00:00.000000001', '0 days 03:00:00.000000001',\n",
       "                '0 days 04:00:00.000000001', '0 days 05:00:00.000000001',\n",
       "                '0 days 06:00:00.000000001', '0 days 07:00:00.000000001',\n",
       "                '0 days 08:00:00.000000001', '0 days 09:00:00.000000001',\n",
       "                '0 days 10:00:00.000000001', '0 days 11:00:00.000000001'],\n",
       "               dtype='timedelta64[ns]', freq='H')"
      ]
     },
     "execution_count": 135,
     "metadata": {},
     "output_type": "execute_result"
    }
   ],
   "source": [
    "pd.timedelta_range(1, periods=12, freq='H')"
   ]
  },
  {
   "cell_type": "code",
   "execution_count": 142,
   "id": "5934d1f9",
   "metadata": {},
   "outputs": [
    {
     "data": {
      "text/html": [
       "<div>\n",
       "<style scoped>\n",
       "    .dataframe tbody tr th:only-of-type {\n",
       "        vertical-align: middle;\n",
       "    }\n",
       "\n",
       "    .dataframe tbody tr th {\n",
       "        vertical-align: top;\n",
       "    }\n",
       "\n",
       "    .dataframe thead th {\n",
       "        text-align: right;\n",
       "    }\n",
       "</style>\n",
       "<table border=\"1\" class=\"dataframe\">\n",
       "  <thead>\n",
       "    <tr style=\"text-align: right;\">\n",
       "      <th></th>\n",
       "      <th>year</th>\n",
       "      <th>day</th>\n",
       "      <th>month</th>\n",
       "      <th>date</th>\n",
       "    </tr>\n",
       "  </thead>\n",
       "  <tbody>\n",
       "    <tr>\n",
       "      <th>0</th>\n",
       "      <td>2022</td>\n",
       "      <td>1</td>\n",
       "      <td>4</td>\n",
       "      <td>2022-04-01</td>\n",
       "    </tr>\n",
       "    <tr>\n",
       "      <th>1</th>\n",
       "      <td>2022</td>\n",
       "      <td>2</td>\n",
       "      <td>4</td>\n",
       "      <td>2022-04-02</td>\n",
       "    </tr>\n",
       "    <tr>\n",
       "      <th>2</th>\n",
       "      <td>2022</td>\n",
       "      <td>3</td>\n",
       "      <td>4</td>\n",
       "      <td>2022-04-03</td>\n",
       "    </tr>\n",
       "    <tr>\n",
       "      <th>3</th>\n",
       "      <td>2021</td>\n",
       "      <td>4</td>\n",
       "      <td>4</td>\n",
       "      <td>2021-04-04</td>\n",
       "    </tr>\n",
       "    <tr>\n",
       "      <th>4</th>\n",
       "      <td>2021</td>\n",
       "      <td>5</td>\n",
       "      <td>4</td>\n",
       "      <td>2021-04-05</td>\n",
       "    </tr>\n",
       "    <tr>\n",
       "      <th>5</th>\n",
       "      <td>2020</td>\n",
       "      <td>7</td>\n",
       "      <td>4</td>\n",
       "      <td>2020-04-07</td>\n",
       "    </tr>\n",
       "  </tbody>\n",
       "</table>\n",
       "</div>"
      ],
      "text/plain": [
       "   year  day  month       date\n",
       "0  2022    1      4 2022-04-01\n",
       "1  2022    2      4 2022-04-02\n",
       "2  2022    3      4 2022-04-03\n",
       "3  2021    4      4 2021-04-04\n",
       "4  2021    5      4 2021-04-05\n",
       "5  2020    7      4 2020-04-07"
      ]
     },
     "execution_count": 142,
     "metadata": {},
     "output_type": "execute_result"
    }
   ],
   "source": [
    "# 12 Write a Pandas program to convert year and day of year into a single datetime column of a dataframe\n",
    "year = [2022, 2022, 2022, 2021, 2021, 2020]\n",
    "day = [1, 2, 3, 4, 5, 7]\n",
    "df12 = pd.DataFrame(data={'year': year, 'day': day})\n",
    "df12['month'] = 4\n",
    "df12['date'] = pd.to_datetime(df12)\n",
    "df12"
   ]
  },
  {
   "cell_type": "code",
   "execution_count": 146,
   "id": "061614b8",
   "metadata": {},
   "outputs": [
    {
     "data": {
      "text/html": [
       "<div>\n",
       "<style scoped>\n",
       "    .dataframe tbody tr th:only-of-type {\n",
       "        vertical-align: middle;\n",
       "    }\n",
       "\n",
       "    .dataframe tbody tr th {\n",
       "        vertical-align: top;\n",
       "    }\n",
       "\n",
       "    .dataframe thead th {\n",
       "        text-align: right;\n",
       "    }\n",
       "</style>\n",
       "<table border=\"1\" class=\"dataframe\">\n",
       "  <thead>\n",
       "    <tr style=\"text-align: right;\">\n",
       "      <th></th>\n",
       "      <th>year</th>\n",
       "      <th>day_of_year</th>\n",
       "      <th>date_int</th>\n",
       "      <th>date</th>\n",
       "    </tr>\n",
       "  </thead>\n",
       "  <tbody>\n",
       "    <tr>\n",
       "      <th>0</th>\n",
       "      <td>2022</td>\n",
       "      <td>14</td>\n",
       "      <td>2022014</td>\n",
       "      <td>2022-01-14</td>\n",
       "    </tr>\n",
       "    <tr>\n",
       "      <th>1</th>\n",
       "      <td>2022</td>\n",
       "      <td>250</td>\n",
       "      <td>2022250</td>\n",
       "      <td>2022-09-07</td>\n",
       "    </tr>\n",
       "    <tr>\n",
       "      <th>2</th>\n",
       "      <td>2022</td>\n",
       "      <td>365</td>\n",
       "      <td>2022365</td>\n",
       "      <td>2022-12-31</td>\n",
       "    </tr>\n",
       "    <tr>\n",
       "      <th>3</th>\n",
       "      <td>2021</td>\n",
       "      <td>99</td>\n",
       "      <td>2021099</td>\n",
       "      <td>2021-04-09</td>\n",
       "    </tr>\n",
       "    <tr>\n",
       "      <th>4</th>\n",
       "      <td>2021</td>\n",
       "      <td>54</td>\n",
       "      <td>2021054</td>\n",
       "      <td>2021-02-23</td>\n",
       "    </tr>\n",
       "    <tr>\n",
       "      <th>5</th>\n",
       "      <td>2020</td>\n",
       "      <td>120</td>\n",
       "      <td>2020120</td>\n",
       "      <td>2020-04-29</td>\n",
       "    </tr>\n",
       "  </tbody>\n",
       "</table>\n",
       "</div>"
      ],
      "text/plain": [
       "   year  day_of_year  date_int       date\n",
       "0  2022           14   2022014 2022-01-14\n",
       "1  2022          250   2022250 2022-09-07\n",
       "2  2022          365   2022365 2022-12-31\n",
       "3  2021           99   2021099 2021-04-09\n",
       "4  2021           54   2021054 2021-02-23\n",
       "5  2020          120   2020120 2020-04-29"
      ]
     },
     "execution_count": 146,
     "metadata": {},
     "output_type": "execute_result"
    }
   ],
   "source": [
    "day_of_year = [14, 250, 365, 99, 54, 120]\n",
    "df12_1 = pd.DataFrame({'year': year, 'day_of_year': day_of_year})\n",
    "df12_1['date_int'] = df12_1.year * 1000 + df12_1.day_of_year\n",
    "df12_1['date'] = pd.to_datetime(df12_1.date_int, format='%Y%j')\n",
    "df12_1"
   ]
  },
  {
   "cell_type": "code",
   "execution_count": 149,
   "id": "ebd8ca52",
   "metadata": {},
   "outputs": [
    {
     "data": {
      "text/plain": [
       "dtype('int64')"
      ]
     },
     "execution_count": 149,
     "metadata": {},
     "output_type": "execute_result"
    }
   ],
   "source": [
    "df12_1.date_int.dtype"
   ]
  },
  {
   "cell_type": "code",
   "execution_count": 164,
   "id": "ae0cd467",
   "metadata": {},
   "outputs": [
    {
     "data": {
      "text/html": [
       "<div>\n",
       "<style scoped>\n",
       "    .dataframe tbody tr th:only-of-type {\n",
       "        vertical-align: middle;\n",
       "    }\n",
       "\n",
       "    .dataframe tbody tr th {\n",
       "        vertical-align: top;\n",
       "    }\n",
       "\n",
       "    .dataframe thead th {\n",
       "        text-align: right;\n",
       "    }\n",
       "</style>\n",
       "<table border=\"1\" class=\"dataframe\">\n",
       "  <thead>\n",
       "    <tr style=\"text-align: right;\">\n",
       "      <th></th>\n",
       "      <th>year</th>\n",
       "      <th>day_of_year</th>\n",
       "      <th>date_int</th>\n",
       "      <th>date</th>\n",
       "      <th>buisness_day</th>\n",
       "    </tr>\n",
       "  </thead>\n",
       "  <tbody>\n",
       "    <tr>\n",
       "      <th>0</th>\n",
       "      <td>2022</td>\n",
       "      <td>14</td>\n",
       "      <td>2022014</td>\n",
       "      <td>2022-01-14</td>\n",
       "      <td>True</td>\n",
       "    </tr>\n",
       "    <tr>\n",
       "      <th>1</th>\n",
       "      <td>2022</td>\n",
       "      <td>250</td>\n",
       "      <td>2022250</td>\n",
       "      <td>2022-09-07</td>\n",
       "      <td>True</td>\n",
       "    </tr>\n",
       "    <tr>\n",
       "      <th>2</th>\n",
       "      <td>2022</td>\n",
       "      <td>365</td>\n",
       "      <td>2022365</td>\n",
       "      <td>2022-12-31</td>\n",
       "      <td>False</td>\n",
       "    </tr>\n",
       "    <tr>\n",
       "      <th>3</th>\n",
       "      <td>2021</td>\n",
       "      <td>99</td>\n",
       "      <td>2021099</td>\n",
       "      <td>2021-04-09</td>\n",
       "      <td>True</td>\n",
       "    </tr>\n",
       "    <tr>\n",
       "      <th>4</th>\n",
       "      <td>2021</td>\n",
       "      <td>54</td>\n",
       "      <td>2021054</td>\n",
       "      <td>2021-02-23</td>\n",
       "      <td>True</td>\n",
       "    </tr>\n",
       "    <tr>\n",
       "      <th>5</th>\n",
       "      <td>2020</td>\n",
       "      <td>120</td>\n",
       "      <td>2020120</td>\n",
       "      <td>2020-04-29</td>\n",
       "      <td>True</td>\n",
       "    </tr>\n",
       "  </tbody>\n",
       "</table>\n",
       "</div>"
      ],
      "text/plain": [
       "   year  day_of_year  date_int       date  buisness_day\n",
       "0  2022           14   2022014 2022-01-14          True\n",
       "1  2022          250   2022250 2022-09-07          True\n",
       "2  2022          365   2022365 2022-12-31         False\n",
       "3  2021           99   2021099 2021-04-09          True\n",
       "4  2021           54   2021054 2021-02-23          True\n",
       "5  2020          120   2020120 2020-04-29          True"
      ]
     },
     "execution_count": 164,
     "metadata": {},
     "output_type": "execute_result"
    }
   ],
   "source": [
    "# 14 Write a Pandas program to check if a day is a business day (weekday) or not.\n",
    "\n",
    "def is_buisness_day(date):\n",
    "    return bool(len(pd.bdate_range(date, date)))\n",
    "\n",
    "df12_1['buisness_day'] = list(map(is_buisness_day, df12_1.date))\n",
    "df12_1"
   ]
  },
  {
   "cell_type": "code",
   "execution_count": 169,
   "id": "9f31504a",
   "metadata": {},
   "outputs": [
    {
     "data": {
      "text/plain": [
       "DatetimeIndex(['2021-01-29', '2021-02-26', '2021-03-31', '2021-04-30',\n",
       "               '2021-05-31', '2021-06-30', '2021-07-30', '2021-08-31',\n",
       "               '2021-09-30', '2021-10-29', '2021-11-30', '2021-12-31'],\n",
       "              dtype='datetime64[ns]', freq='BM')"
      ]
     },
     "execution_count": 169,
     "metadata": {},
     "output_type": "execute_result"
    }
   ],
   "source": [
    "# 15 Write a Pandas program to get a time series with the last working days of each month of a specific year.\n",
    "pd.date_range(start='2021-1-1', end='2021-12-31', freq='BM')"
   ]
  },
  {
   "cell_type": "code",
   "execution_count": null,
   "id": "3ae22d7c",
   "metadata": {},
   "outputs": [],
   "source": []
  }
 ],
 "metadata": {
  "kernelspec": {
   "display_name": "Python 3 (ipykernel)",
   "language": "python",
   "name": "python3"
  },
  "language_info": {
   "codemirror_mode": {
    "name": "ipython",
    "version": 3
   },
   "file_extension": ".py",
   "mimetype": "text/x-python",
   "name": "python",
   "nbconvert_exporter": "python",
   "pygments_lexer": "ipython3",
   "version": "3.9.7"
  },
  "toc": {
   "base_numbering": 1,
   "nav_menu": {},
   "number_sections": true,
   "sideBar": true,
   "skip_h1_title": false,
   "title_cell": "Table of Contents",
   "title_sidebar": "Contents",
   "toc_cell": false,
   "toc_position": {},
   "toc_section_display": true,
   "toc_window_display": false
  }
 },
 "nbformat": 4,
 "nbformat_minor": 5
}
