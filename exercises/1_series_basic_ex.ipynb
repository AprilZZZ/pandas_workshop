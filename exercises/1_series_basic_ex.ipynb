{
 "cells": [
  {
   "cell_type": "markdown",
   "id": "954970fa",
   "metadata": {},
   "source": [
    "This notebook contains the first part of exercises from:\n",
    "https://www.w3resource.com/python-exercises/pandas/index.php\n",
    "It covers essential operations with three basic objects of pandas library: `Series`."
   ]
  },
  {
   "cell_type": "code",
   "execution_count": 1,
   "id": "27c4fba7",
   "metadata": {},
   "outputs": [],
   "source": [
    "import pandas as pd\n",
    "import numpy as np"
   ]
  },
  {
   "cell_type": "markdown",
   "id": "24fff795",
   "metadata": {},
   "source": [
    "# Pandas Data Series [40 exercises with solution]"
   ]
  },
  {
   "cell_type": "code",
   "execution_count": 2,
   "id": "71b98b18",
   "metadata": {},
   "outputs": [
    {
     "data": {
      "text/plain": [
       "0     one\n",
       "1     two\n",
       "2    tree\n",
       "3     for\n",
       "4    five\n",
       "dtype: object"
      ]
     },
     "execution_count": 2,
     "metadata": {},
     "output_type": "execute_result"
    }
   ],
   "source": [
    "# 1 Write a Pandas program to create and display a one-dimensional array-like object \n",
    "# containing an array of data using Pandas module.\n",
    "series = pd.Series(['one', 'two', 'tree', 'for', 'five'])\n",
    "series"
   ]
  },
  {
   "cell_type": "code",
   "execution_count": 3,
   "id": "76bc109c",
   "metadata": {},
   "outputs": [
    {
     "name": "stdout",
     "output_type": "stream",
     "text": [
      "['one', 'two', 'tree', 'for', 'five']\n",
      "<class 'list'>\n"
     ]
    }
   ],
   "source": [
    "# 2 Write a Pandas program to convert a Panda module Series to Python list and it's type.\n",
    "print(series.to_list())\n",
    "print(type(series.to_list()))"
   ]
  },
  {
   "cell_type": "code",
   "execution_count": 4,
   "id": "bc659010",
   "metadata": {},
   "outputs": [
    {
     "name": "stdout",
     "output_type": "stream",
     "text": [
      "addition:\n",
      "0     3\n",
      "1     7\n",
      "2    11\n",
      "3    15\n",
      "4    20\n",
      "dtype: int64,\n",
      "subtraction:\n",
      "0    1\n",
      "1    1\n",
      "2    1\n",
      "3    1\n",
      "4    0\n",
      "dtype: int64,\n",
      "multiplication:\n",
      "0      2\n",
      "1     12\n",
      "2     30\n",
      "3     56\n",
      "4    100\n",
      "dtype: int64,\n",
      "division:\n",
      "0    2.000000\n",
      "1    1.333333\n",
      "2    1.200000\n",
      "3    1.142857\n",
      "4    1.000000\n",
      "dtype: float64\n"
     ]
    }
   ],
   "source": [
    "# 3 Write a Pandas program to add, subtract, multiple and divide two Pandas Series.\n",
    "series1 = pd.Series([2, 4, 6, 8, 10])\n",
    "series2 = pd.Series([1, 3, 5, 7, 10])\n",
    "series_add = series1 + series2\n",
    "series_sub = series1 - series2\n",
    "series_mult = series1 * series2\n",
    "series_div = series1 / series2\n",
    "print(f'addition:\\n{series_add},\\nsubtraction:\\n{series_sub},\\n\\\n",
    "multiplication:\\n{series_mult},\\ndivision:\\n{series_div}')"
   ]
  },
  {
   "cell_type": "code",
   "execution_count": 5,
   "id": "4f7cbf9a",
   "metadata": {},
   "outputs": [
    {
     "data": {
      "text/plain": [
       "0     True\n",
       "1     True\n",
       "2     True\n",
       "3     True\n",
       "4    False\n",
       "dtype: bool"
      ]
     },
     "execution_count": 5,
     "metadata": {},
     "output_type": "execute_result"
    }
   ],
   "source": [
    "# 4 Write a Pandas program to compare the elements of the two Pandas Series.\n",
    "series2 != series1"
   ]
  },
  {
   "cell_type": "code",
   "execution_count": 6,
   "id": "fb3bccb0",
   "metadata": {},
   "outputs": [
    {
     "data": {
      "text/plain": [
       "a    100\n",
       "b    200\n",
       "c    300\n",
       "d    400\n",
       "e    800\n",
       "dtype: int64"
      ]
     },
     "execution_count": 6,
     "metadata": {},
     "output_type": "execute_result"
    }
   ],
   "source": [
    "# 5 Write a Pandas program to convert a dictionary to a Pandas series. \n",
    "pd.Series({'a': 100, 'b': 200, 'c': 300, 'd': 400, 'e': 800})"
   ]
  },
  {
   "cell_type": "code",
   "execution_count": 7,
   "id": "d94dbac7",
   "metadata": {},
   "outputs": [
    {
     "data": {
      "text/plain": [
       "0    10\n",
       "1    20\n",
       "2    30\n",
       "3    40\n",
       "4    50\n",
       "dtype: int64"
      ]
     },
     "execution_count": 7,
     "metadata": {},
     "output_type": "execute_result"
    }
   ],
   "source": [
    "# 6 Write a Pandas program to convert a NumPy array to a Pandas series.\n",
    "pd.Series(np.arange(10, 60, 10))"
   ]
  },
  {
   "cell_type": "code",
   "execution_count": 8,
   "id": "64fb2821",
   "metadata": {},
   "outputs": [
    {
     "data": {
      "text/plain": [
       "0    100.00\n",
       "1    200.00\n",
       "2       NaN\n",
       "3    300.12\n",
       "4    400.00\n",
       "dtype: float64"
      ]
     },
     "execution_count": 8,
     "metadata": {},
     "output_type": "execute_result"
    }
   ],
   "source": [
    "# 7 Write a Pandas program to change the data type of given a column or a Series. \n",
    "series7 = pd.Series([100, 200, 'python', 300.12, 400])\n",
    "pd.to_numeric(series7, errors='coerce')"
   ]
  },
  {
   "cell_type": "code",
   "execution_count": 9,
   "id": "52dc3dbc",
   "metadata": {},
   "outputs": [
    {
     "data": {
      "text/plain": [
       "0     1\n",
       "1     2\n",
       "2     3\n",
       "3     4\n",
       "4     7\n",
       "5    11\n",
       "Name: col1, dtype: int64"
      ]
     },
     "execution_count": 9,
     "metadata": {},
     "output_type": "execute_result"
    }
   ],
   "source": [
    "# 8 Write a Pandas program to convert the first column of a DataFrame as a Series.\n",
    "df = pd.DataFrame(\n",
    "    {'col1': [1, 2, 3, 4, 7 ,11],\n",
    "     'col2': [4, 5, 6, 9, 5, 0],\n",
    "     'col3': [7, 5, 8, 12, 1, 11]}\n",
    ")\n",
    "df.col1"
   ]
  },
  {
   "cell_type": "code",
   "execution_count": 10,
   "id": "0c759dba",
   "metadata": {},
   "outputs": [
    {
     "data": {
      "text/plain": [
       "['100', '200', 'python', '300.12', '400']"
      ]
     },
     "execution_count": 10,
     "metadata": {},
     "output_type": "execute_result"
    }
   ],
   "source": [
    "# 9 Write a Pandas program to convert a given Series to an array.\n",
    "series9 = pd.Series(['100', '200', 'python', '300.12', '400'])\n",
    "series9.to_list()"
   ]
  },
  {
   "cell_type": "code",
   "execution_count": 11,
   "id": "6c893473",
   "metadata": {},
   "outputs": [
    {
     "data": {
      "text/plain": [
       "0       Red\n",
       "1     Green\n",
       "2     White\n",
       "3       Red\n",
       "4     Black\n",
       "5    Yellow\n",
       "dtype: object"
      ]
     },
     "execution_count": 11,
     "metadata": {},
     "output_type": "execute_result"
    }
   ],
   "source": [
    "# 10 Write a Pandas program to convert Series of lists to one Series.\n",
    "series10 = pd.Series([\n",
    "    ['Red', 'Green', 'White'], \n",
    "    ['Red', 'Black'], \n",
    "    ['Yellow']]\n",
    ")\n",
    "list10 = series10.to_list()\n",
    "new_list = []\n",
    "for i in range(len(list10)):\n",
    "    a = list10[i]\n",
    "    for j in range(len(a)):\n",
    "          new_list.append(a[j])\n",
    "pd.Series(new_list)"
   ]
  },
  {
   "cell_type": "code",
   "execution_count": 12,
   "id": "eaae9396",
   "metadata": {},
   "outputs": [
    {
     "name": "stdout",
     "output_type": "stream",
     "text": [
      "0    [Red, Green, White]\n",
      "1           [Red, Black]\n",
      "2               [Yellow]\n",
      "dtype: object\n"
     ]
    },
    {
     "data": {
      "text/plain": [
       "0       Red\n",
       "1     Green\n",
       "2     White\n",
       "3       Red\n",
       "4     Black\n",
       "5    Yellow\n",
       "dtype: object"
      ]
     },
     "execution_count": 12,
     "metadata": {},
     "output_type": "execute_result"
    }
   ],
   "source": [
    "# shorter solution\n",
    "series10_ = pd.Series([\n",
    "    ['Red', 'Green', 'White'], \n",
    "    ['Red', 'Black'], \n",
    "    ['Yellow']]\n",
    ")\n",
    "print(series10_)\n",
    "series10_.apply(pd.Series).stack().reset_index(drop=True)"
   ]
  },
  {
   "cell_type": "code",
   "execution_count": 13,
   "id": "52e27202",
   "metadata": {},
   "outputs": [
    {
     "data": {
      "text/plain": [
       "0       100\n",
       "1       200\n",
       "3    300.12\n",
       "4       400\n",
       "2    python\n",
       "dtype: object"
      ]
     },
     "execution_count": 13,
     "metadata": {},
     "output_type": "execute_result"
    }
   ],
   "source": [
    "# 11 Write a Pandas program to sort a given Series.\n",
    "series9.sort_values()"
   ]
  },
  {
   "cell_type": "code",
   "execution_count": 14,
   "id": "86b1b416",
   "metadata": {},
   "outputs": [
    {
     "data": {
      "text/plain": [
       "0       100\n",
       "1       200\n",
       "2    python\n",
       "3    300.12\n",
       "4       400\n",
       "0       500\n",
       "1       php\n",
       "dtype: object"
      ]
     },
     "execution_count": 14,
     "metadata": {},
     "output_type": "execute_result"
    }
   ],
   "source": [
    "# 12 Write a Pandas program to add some data to an existing Series.\n",
    "series9.append(pd.Series([500, 'php']))"
   ]
  },
  {
   "cell_type": "code",
   "execution_count": 15,
   "id": "62e0fd06",
   "metadata": {},
   "outputs": [
    {
     "data": {
      "text/plain": [
       "0    0\n",
       "1    1\n",
       "2    2\n",
       "3    3\n",
       "4    4\n",
       "5    5\n",
       "dtype: int64"
      ]
     },
     "execution_count": 15,
     "metadata": {},
     "output_type": "execute_result"
    }
   ],
   "source": [
    "# 13 Write a Pandas program to create a subset of a given series based on value and condition.\n",
    "series13 = pd.Series(range(11))\n",
    "series13[series13 < 6]"
   ]
  },
  {
   "cell_type": "code",
   "execution_count": 16,
   "id": "b94028ee",
   "metadata": {},
   "outputs": [
    {
     "data": {
      "text/plain": [
       "B    2\n",
       "A    1\n",
       "C    3\n",
       "D    4\n",
       "E    5\n",
       "dtype: int64"
      ]
     },
     "execution_count": 16,
     "metadata": {},
     "output_type": "execute_result"
    }
   ],
   "source": [
    "# 14 Write a Pandas program to change the order of index of a given series.\n",
    "series14 = pd.Series(data=[1, 2, 3, 4, 5], index=['A', 'B', 'C', 'D', 'E'])\n",
    "series14.reindex(index=['B', 'A', 'C', 'D', 'E'])"
   ]
  },
  {
   "cell_type": "code",
   "execution_count": 17,
   "id": "60c516a5",
   "metadata": {},
   "outputs": [
    {
     "name": "stdout",
     "output_type": "stream",
     "text": [
      "4.818181818181818\n",
      "2.522624895547565\n"
     ]
    }
   ],
   "source": [
    "# 15 Write a Pandas program to create the mean and standard deviation of the data of a given Series.\n",
    "series15 = pd.Series(range(1, 10, 1)).append(pd.Series([5, 3]))\n",
    "print(series15.mean())\n",
    "print(series15.std())"
   ]
  },
  {
   "cell_type": "code",
   "execution_count": 18,
   "id": "182d45f8",
   "metadata": {},
   "outputs": [
    {
     "data": {
      "text/plain": [
       "0    1\n",
       "2    3\n",
       "4    5\n",
       "dtype: int64"
      ]
     },
     "execution_count": 18,
     "metadata": {},
     "output_type": "execute_result"
    }
   ],
   "source": [
    "# 16 Write a Pandas program to get the items of a given series not present in another given series.\n",
    "sr1 = pd.Series(range(1, 6, 1))\n",
    "sr2 = pd.Series(range(2, 11, 2))\n",
    "sr1[~ sr1.isin(sr2)]"
   ]
  },
  {
   "cell_type": "code",
   "execution_count": 19,
   "id": "51922cbd",
   "metadata": {},
   "outputs": [
    {
     "data": {
      "text/plain": [
       "0     1\n",
       "2     3\n",
       "4     5\n",
       "2     6\n",
       "3     8\n",
       "4    10\n",
       "dtype: int64"
      ]
     },
     "execution_count": 19,
     "metadata": {},
     "output_type": "execute_result"
    }
   ],
   "source": [
    "# 17 Write a Pandas program to get the items which are not common of two given series. \n",
    "sr1[~ sr1.isin(sr2)].append(sr2[~ sr2.isin(sr1)])"
   ]
  },
  {
   "cell_type": "code",
   "execution_count": 20,
   "id": "ab472ffb",
   "metadata": {},
   "outputs": [
    {
     "data": {
      "text/plain": [
       "0     1\n",
       "2     3\n",
       "4     5\n",
       "5     6\n",
       "6     8\n",
       "7    10\n",
       "dtype: int64"
      ]
     },
     "execution_count": 20,
     "metadata": {},
     "output_type": "execute_result"
    }
   ],
   "source": [
    "# the other way\n",
    "sr_un = pd.Series(np.union1d(sr1, sr2))\n",
    "sr_inter = pd.Series(np.intersect1d(sr1, sr2))\n",
    "sr_un[~ sr_un.isin(sr_inter)]"
   ]
  },
  {
   "cell_type": "code",
   "execution_count": 21,
   "id": "ecde391a",
   "metadata": {},
   "outputs": [
    {
     "data": {
      "text/plain": [
       "array([ 3.00093811,  8.09463867, 10.23353705, 12.21537733, 14.61214321])"
      ]
     },
     "execution_count": 21,
     "metadata": {},
     "output_type": "execute_result"
    }
   ],
   "source": [
    "# 18 Write a Pandas program to compute the minimum, 25th percentile, median, 75th, and maximum of a given series.\n",
    "num_state = np.random.RandomState(100)\n",
    "num_series = pd.Series(num_state.normal(10, 4, 20))\n",
    "np.percentile(num_series, q=[0, 25 ,50, 75, 100])"
   ]
  },
  {
   "cell_type": "code",
   "execution_count": 22,
   "id": "67237337",
   "metadata": {
    "scrolled": true
   },
   "outputs": [
    {
     "data": {
      "text/plain": [
       "5     6\n",
       "3     6\n",
       "9     5\n",
       "6     5\n",
       "8     4\n",
       "4     4\n",
       "1     3\n",
       "10    2\n",
       "7     2\n",
       "0     2\n",
       "2     1\n",
       "dtype: int64"
      ]
     },
     "execution_count": 22,
     "metadata": {},
     "output_type": "execute_result"
    }
   ],
   "source": [
    "# 19 Write a Pandas program to calculate the frequency counts of each unique value of a given series.\n",
    "pd.Series(np.random.randint(0, 11, 40)).value_counts()"
   ]
  },
  {
   "cell_type": "code",
   "execution_count": 23,
   "id": "45345e5a",
   "metadata": {},
   "outputs": [
    {
     "data": {
      "text/plain": [
       "0     Other\n",
       "1         2\n",
       "2     Other\n",
       "3         2\n",
       "4         2\n",
       "5         2\n",
       "6         2\n",
       "7     Other\n",
       "8     Other\n",
       "9         2\n",
       "10        2\n",
       "11    Other\n",
       "12    Other\n",
       "13    Other\n",
       "14    Other\n",
       "dtype: object"
      ]
     },
     "execution_count": 23,
     "metadata": {},
     "output_type": "execute_result"
    }
   ],
   "source": [
    "# 20 Write a Pandas program to display most frequent value in a given series \n",
    "# and replace everything else as 'Other' in the series. \n",
    "sr20 = pd.Series(np.random.randint(1, 4, 15))\n",
    "top = sr20.value_counts().idxmax()\n",
    "sr20.loc[~ (sr20 == top)] = 'Other'\n",
    "sr20"
   ]
  },
  {
   "cell_type": "code",
   "execution_count": 24,
   "id": "434ce89a",
   "metadata": {},
   "outputs": [
    {
     "data": {
      "text/plain": [
       "1    25\n",
       "2    85\n",
       "3     5\n",
       "dtype: int64"
      ]
     },
     "execution_count": 24,
     "metadata": {},
     "output_type": "execute_result"
    }
   ],
   "source": [
    "# 21 Write a Pandas program to find the positions of numbers that are multiples of 5 of a given series. \n",
    "sr21 = pd.Series(np.random.randint(1, 100, 9))\n",
    "sr21[sr21 % 5 == 0]"
   ]
  },
  {
   "cell_type": "code",
   "execution_count": 25,
   "id": "73be7970",
   "metadata": {},
   "outputs": [
    {
     "data": {
      "text/plain": [
       "0     6\n",
       "2     8\n",
       "6     5\n",
       "11    7\n",
       "21    7\n",
       "dtype: int64"
      ]
     },
     "execution_count": 25,
     "metadata": {},
     "output_type": "execute_result"
    }
   ],
   "source": [
    "# 22 Write a Pandas program to extract items at given positions of a given series.\n",
    "sr22 = pd.Series(np.random.randint(0, 11, 22))\n",
    "mapping = [0, 2, 6, 11, 21]\n",
    "sr22.iloc[mapping]"
   ]
  },
  {
   "cell_type": "code",
   "execution_count": 26,
   "id": "3e134281",
   "metadata": {},
   "outputs": [
    {
     "data": {
      "text/plain": [
       "[0, 2, 4, 6, 8]"
      ]
     },
     "execution_count": 26,
     "metadata": {},
     "output_type": "execute_result"
    }
   ],
   "source": [
    "# 23 Write a Pandas program to get the positions of items of a given series in another given series.\n",
    "sr23_1 = pd.Series(range(1, 11))\n",
    "sr23_2 = pd.Series(range(1, 11, 2))\n",
    "list(sr23_1[sr23_1.isin(sr23_2)].index)"
   ]
  },
  {
   "cell_type": "code",
   "execution_count": 27,
   "id": "d3875ace",
   "metadata": {},
   "outputs": [
    {
     "data": {
      "text/plain": [
       "0       PhP\n",
       "1    PythoN\n",
       "2      JavA\n",
       "3        C#\n",
       "4       CsS\n",
       "dtype: object"
      ]
     },
     "execution_count": 27,
     "metadata": {},
     "output_type": "execute_result"
    }
   ],
   "source": [
    "# 24 Write a Pandas program convert the first and last character of each word \n",
    "# to upper case in each word of a given series.\n",
    "sr24 = pd.Series(['php', 'python', 'java', 'c#', 'css'])\n",
    "sr24.apply(lambda x: x[0].upper() + x[1:-1] + x[-1].upper())"
   ]
  },
  {
   "cell_type": "code",
   "execution_count": 28,
   "id": "f1300037",
   "metadata": {},
   "outputs": [
    {
     "data": {
      "text/plain": [
       "0    3\n",
       "1    6\n",
       "2    4\n",
       "3    2\n",
       "4    3\n",
       "dtype: int64"
      ]
     },
     "execution_count": 28,
     "metadata": {},
     "output_type": "execute_result"
    }
   ],
   "source": [
    "# 25 Write a Pandas program to calculate the number of characters in each word in a given series.\n",
    "sr24.apply(lambda x: len(x))"
   ]
  },
  {
   "cell_type": "code",
   "execution_count": 29,
   "id": "74c8a74c",
   "metadata": {},
   "outputs": [
    {
     "name": "stdout",
     "output_type": "stream",
     "text": [
      "[nan, 2.0, 2.0, 3.0, 2.0, 1.0, 4.0]\n",
      "[nan, nan, 0.0, 1.0, -1.0, -1.0, 3.0]\n"
     ]
    }
   ],
   "source": [
    "# 26 Write a Pandas program to compute difference of differences between consecutive numbers of a given series.\n",
    "sr26 = pd.Series([1, 3, 5, 8, 10, 11, 15])\n",
    "print(sr26.diff().tolist())\n",
    "print(sr26.diff().diff().tolist())"
   ]
  },
  {
   "cell_type": "code",
   "execution_count": 30,
   "id": "6c964fe3",
   "metadata": {},
   "outputs": [
    {
     "data": {
      "text/plain": [
       "0   2015-01-01 00:00:00\n",
       "1   2016-10-02 00:00:00\n",
       "2   2018-03-07 00:00:00\n",
       "3   2014-05-06 00:00:00\n",
       "4   2016-04-12 00:00:00\n",
       "5   2019-04-06 11:20:00\n",
       "dtype: datetime64[ns]"
      ]
     },
     "execution_count": 30,
     "metadata": {},
     "output_type": "execute_result"
    }
   ],
   "source": [
    "# 27 Write a Pandas program to convert a series of date strings to a timeseries.\n",
    "sr27 = pd.Series([\n",
    "    '01 Jan 2015', \n",
    "    '10-02-2016', \n",
    "    '20180307', \n",
    "    '2014/05/06', \n",
    "    '2016-04-12', \n",
    "    '2019-04-06T11:20']\n",
    ")\n",
    "sr27 = sr27.apply(lambda x: pd.to_datetime(x))\n",
    "sr27"
   ]
  },
  {
   "cell_type": "code",
   "execution_count": 31,
   "id": "cfa7518f",
   "metadata": {},
   "outputs": [
    {
     "name": "stdout",
     "output_type": "stream",
     "text": [
      "[1, 2, 7, 6, 12, 6]\n",
      "[1, 276, 66, 126, 103, 96]\n",
      "[1, 39, 10, 19, 15, 14]\n",
      "['Thursday', 'Sunday', 'Wednesday', 'Tuesday', 'Tuesday', 'Saturday']\n"
     ]
    }
   ],
   "source": [
    "# 28 Write a Pandas program to get the day of month, day of year, week number and day of week \n",
    "# from a given series of date strings.\n",
    "print(sr27.dt.day.to_list())\n",
    "print(sr27.dt.day_of_year.to_list())\n",
    "print(sr27.dt.isocalendar().week.to_list())\n",
    "print(sr27.dt.day_name().to_list())"
   ]
  },
  {
   "cell_type": "code",
   "execution_count": 32,
   "id": "e16d3d91",
   "metadata": {},
   "outputs": [
    {
     "data": {
      "text/plain": [
       "0   2015-01-11\n",
       "1   2016-02-11\n",
       "2   2017-03-11\n",
       "3   2018-04-11\n",
       "4   2019-05-11\n",
       "dtype: datetime64[ns]"
      ]
     },
     "execution_count": 32,
     "metadata": {},
     "output_type": "execute_result"
    }
   ],
   "source": [
    "# 29 Write a Pandas program to convert year-month string to dates adding a specified day of the month.\n",
    "sr29 = pd.Series(['Jan 2015', 'Feb 2016', 'Mar 2017', 'Apr 2018', 'May 2019'])\n",
    "sr29.apply(lambda x: pd.to_datetime('11 ' + x))"
   ]
  },
  {
   "cell_type": "code",
   "execution_count": 33,
   "id": "b9c8aeb9",
   "metadata": {},
   "outputs": [
    {
     "data": {
      "text/plain": [
       "1     Green\n",
       "2    Orange\n",
       "4    Yellow\n",
       "5     White\n",
       "dtype: object"
      ]
     },
     "execution_count": 33,
     "metadata": {},
     "output_type": "execute_result"
    }
   ],
   "source": [
    "# 30 Write a Pandas program to filter words from a given series that contain atleast two vowels.\n",
    "from collections import Counter\n",
    "\n",
    "sr30 = pd.Series(['Red', 'Green', 'Orange', 'Pink', 'Yellow', 'White'])\n",
    "result = sr30.map(lambda x: sum([Counter(x.lower()).get(i, 0) for i in list('aeiou')]) >= 2)\n",
    "sr30[result]"
   ]
  },
  {
   "cell_type": "code",
   "execution_count": 34,
   "id": "29736e1f",
   "metadata": {},
   "outputs": [
    {
     "data": {
      "text/plain": [
       "16.492422502470642"
      ]
     },
     "execution_count": 34,
     "metadata": {},
     "output_type": "execute_result"
    }
   ],
   "source": [
    "# 31 Write a Pandas program to compute the Euclidean distance between two given series.\n",
    "import math\n",
    "sr31_1 = pd.Series(range(1, 11))\n",
    "sr31_2 = pd.Series([11, 8, 7, 5, 6, 5, 3, 4, 7, 1])\n",
    "math.sqrt(sum((sr31_1 - sr31_2) ** 2))"
   ]
  },
  {
   "cell_type": "code",
   "execution_count": 35,
   "id": "b122c291",
   "metadata": {},
   "outputs": [
    {
     "data": {
      "text/plain": [
       "[1, 4, 8]"
      ]
     },
     "execution_count": 35,
     "metadata": {},
     "output_type": "execute_result"
    }
   ],
   "source": [
    "# 32 Write a Pandas program to find the positions of the values neighboured by smaller values \n",
    "# on both sides in a given series.\n",
    "sr32 = pd.Series([1, 8, 7, 5, 6, 5, 3, 4, 7, 1])\n",
    "sr32[(sr32 > sr32.shift(1)) & (sr32 > sr32.shift(-1))].index.to_list()"
   ]
  },
  {
   "cell_type": "code",
   "execution_count": 36,
   "id": "693ffe59",
   "metadata": {},
   "outputs": [
    {
     "data": {
      "text/plain": [
       "'abcidefiabcdefiicd'"
      ]
     },
     "execution_count": 36,
     "metadata": {},
     "output_type": "execute_result"
    }
   ],
   "source": [
    "# 33 Write a Pandas program to replace missing white spaces in a given string with the least frequent character.\n",
    "string = 'abc def abcdef icd'\n",
    "char = pd.Series(list(string)).value_counts().idxmin()\n",
    "string.replace(' ', char)"
   ]
  },
  {
   "cell_type": "code",
   "execution_count": 37,
   "id": "383e67a7",
   "metadata": {},
   "outputs": [
    {
     "data": {
      "text/plain": [
       "0.3368706495153645"
      ]
     },
     "execution_count": 37,
     "metadata": {},
     "output_type": "execute_result"
    }
   ],
   "source": [
    "# 34 Write a Pandas program to compute the autocorrelations of a given numeric series.\n",
    "sr34 = pd.Series(np.random.uniform(-10, 20, 14))\n",
    "sr34.autocorr()"
   ]
  },
  {
   "cell_type": "code",
   "execution_count": 38,
   "id": "f343b476",
   "metadata": {},
   "outputs": [
    {
     "data": {
      "text/plain": [
       "1     2022-01-02\n",
       "8     2022-01-09\n",
       "15    2022-01-16\n",
       "22    2022-01-23\n",
       "29    2022-01-30\n",
       "36    2022-02-06\n",
       "43    2022-02-13\n",
       "50    2022-02-20\n",
       "57    2022-02-27\n",
       "64    2022-03-06\n",
       "71    2022-03-13\n",
       "78    2022-03-20\n",
       "85    2022-03-27\n",
       "92    2022-04-03\n",
       "99    2022-04-10\n",
       "106   2022-04-17\n",
       "113   2022-04-24\n",
       "120   2022-05-01\n",
       "127   2022-05-08\n",
       "134   2022-05-15\n",
       "141   2022-05-22\n",
       "148   2022-05-29\n",
       "155   2022-06-05\n",
       "162   2022-06-12\n",
       "169   2022-06-19\n",
       "176   2022-06-26\n",
       "183   2022-07-03\n",
       "190   2022-07-10\n",
       "197   2022-07-17\n",
       "204   2022-07-24\n",
       "211   2022-07-31\n",
       "218   2022-08-07\n",
       "225   2022-08-14\n",
       "232   2022-08-21\n",
       "239   2022-08-28\n",
       "246   2022-09-04\n",
       "253   2022-09-11\n",
       "260   2022-09-18\n",
       "267   2022-09-25\n",
       "274   2022-10-02\n",
       "281   2022-10-09\n",
       "288   2022-10-16\n",
       "295   2022-10-23\n",
       "302   2022-10-30\n",
       "309   2022-11-06\n",
       "316   2022-11-13\n",
       "323   2022-11-20\n",
       "330   2022-11-27\n",
       "337   2022-12-04\n",
       "344   2022-12-11\n",
       "351   2022-12-18\n",
       "358   2022-12-25\n",
       "dtype: datetime64[ns]"
      ]
     },
     "execution_count": 38,
     "metadata": {},
     "output_type": "execute_result"
    }
   ],
   "source": [
    "# 35 Write a Pandas program to create a TimeSeries to display all the Sundays of given year.\n",
    "sr35 = pd.Series(pd.date_range('2022-01-01', periods=365, freq='d'))\n",
    "sr35[sr35.dt.day_name() == 'Sunday']"
   ]
  },
  {
   "cell_type": "code",
   "execution_count": 39,
   "id": "bfd420e0",
   "metadata": {},
   "outputs": [
    {
     "data": {
      "text/html": [
       "<div>\n",
       "<style scoped>\n",
       "    .dataframe tbody tr th:only-of-type {\n",
       "        vertical-align: middle;\n",
       "    }\n",
       "\n",
       "    .dataframe tbody tr th {\n",
       "        vertical-align: top;\n",
       "    }\n",
       "\n",
       "    .dataframe thead th {\n",
       "        text-align: right;\n",
       "    }\n",
       "</style>\n",
       "<table border=\"1\" class=\"dataframe\">\n",
       "  <thead>\n",
       "    <tr style=\"text-align: right;\">\n",
       "      <th></th>\n",
       "      <th>index</th>\n",
       "      <th>0</th>\n",
       "    </tr>\n",
       "  </thead>\n",
       "  <tbody>\n",
       "    <tr>\n",
       "      <th>0</th>\n",
       "      <td>A</td>\n",
       "      <td>0</td>\n",
       "    </tr>\n",
       "    <tr>\n",
       "      <th>1</th>\n",
       "      <td>B</td>\n",
       "      <td>1</td>\n",
       "    </tr>\n",
       "    <tr>\n",
       "      <th>2</th>\n",
       "      <td>C</td>\n",
       "      <td>2</td>\n",
       "    </tr>\n",
       "    <tr>\n",
       "      <th>3</th>\n",
       "      <td>D</td>\n",
       "      <td>3</td>\n",
       "    </tr>\n",
       "    <tr>\n",
       "      <th>4</th>\n",
       "      <td>E</td>\n",
       "      <td>4</td>\n",
       "    </tr>\n",
       "  </tbody>\n",
       "</table>\n",
       "</div>"
      ],
      "text/plain": [
       "  index  0\n",
       "0     A  0\n",
       "1     B  1\n",
       "2     C  2\n",
       "3     D  3\n",
       "4     E  4"
      ]
     },
     "execution_count": 39,
     "metadata": {},
     "output_type": "execute_result"
    }
   ],
   "source": [
    "# 36 Write a Pandas program to convert given series into a dataframe with its index \n",
    "# as another column on the dataframe.\n",
    "pd.DataFrame(pd.Series(list(range(5)), index=list('ABCDE'))).reset_index()"
   ]
  },
  {
   "cell_type": "code",
   "execution_count": 40,
   "id": "ec3e583d",
   "metadata": {},
   "outputs": [
    {
     "data": {
      "text/html": [
       "<div>\n",
       "<style scoped>\n",
       "    .dataframe tbody tr th:only-of-type {\n",
       "        vertical-align: middle;\n",
       "    }\n",
       "\n",
       "    .dataframe tbody tr th {\n",
       "        vertical-align: top;\n",
       "    }\n",
       "\n",
       "    .dataframe thead th {\n",
       "        text-align: right;\n",
       "    }\n",
       "</style>\n",
       "<table border=\"1\" class=\"dataframe\">\n",
       "  <thead>\n",
       "    <tr style=\"text-align: right;\">\n",
       "      <th></th>\n",
       "      <th>0</th>\n",
       "      <th>1</th>\n",
       "    </tr>\n",
       "  </thead>\n",
       "  <tbody>\n",
       "    <tr>\n",
       "      <th>0</th>\n",
       "      <td>0</td>\n",
       "      <td>p</td>\n",
       "    </tr>\n",
       "    <tr>\n",
       "      <th>1</th>\n",
       "      <td>1</td>\n",
       "      <td>q</td>\n",
       "    </tr>\n",
       "    <tr>\n",
       "      <th>2</th>\n",
       "      <td>2</td>\n",
       "      <td>r</td>\n",
       "    </tr>\n",
       "    <tr>\n",
       "      <th>3</th>\n",
       "      <td>3</td>\n",
       "      <td>s</td>\n",
       "    </tr>\n",
       "    <tr>\n",
       "      <th>4</th>\n",
       "      <td>4</td>\n",
       "      <td>t</td>\n",
       "    </tr>\n",
       "    <tr>\n",
       "      <th>5</th>\n",
       "      <td>5</td>\n",
       "      <td>u</td>\n",
       "    </tr>\n",
       "    <tr>\n",
       "      <th>6</th>\n",
       "      <td>6</td>\n",
       "      <td>v</td>\n",
       "    </tr>\n",
       "    <tr>\n",
       "      <th>7</th>\n",
       "      <td>7</td>\n",
       "      <td>w</td>\n",
       "    </tr>\n",
       "    <tr>\n",
       "      <th>8</th>\n",
       "      <td>8</td>\n",
       "      <td>z</td>\n",
       "    </tr>\n",
       "    <tr>\n",
       "      <th>9</th>\n",
       "      <td>9</td>\n",
       "      <td>y</td>\n",
       "    </tr>\n",
       "  </tbody>\n",
       "</table>\n",
       "</div>"
      ],
      "text/plain": [
       "   0  1\n",
       "0  0  p\n",
       "1  1  q\n",
       "2  2  r\n",
       "3  3  s\n",
       "4  4  t\n",
       "5  5  u\n",
       "6  6  v\n",
       "7  7  w\n",
       "8  8  z\n",
       "9  9  y"
      ]
     },
     "execution_count": 40,
     "metadata": {},
     "output_type": "execute_result"
    }
   ],
   "source": [
    "# 37 Write a Pandas program to stack two given series vertically and horizontally.\n",
    "sr37_1 = pd.Series(list(range(10)))\n",
    "sr37_2 = pd.Series(list('pqrstuvwzy'))\n",
    "df = sr37_1.to_frame()\n",
    "df['1'] = sr37_2\n",
    "df"
   ]
  },
  {
   "cell_type": "code",
   "execution_count": 41,
   "id": "c3adeafb",
   "metadata": {},
   "outputs": [
    {
     "data": {
      "text/plain": [
       "0    True\n",
       "1    True\n",
       "2    True\n",
       "3    True\n",
       "4    True\n",
       "5    True\n",
       "6    True\n",
       "7    True\n",
       "8    True\n",
       "9    True\n",
       "dtype: bool"
      ]
     },
     "execution_count": 41,
     "metadata": {},
     "output_type": "execute_result"
    }
   ],
   "source": [
    "# 38 Write a Pandas program to check the equality of two given series.\n",
    "sr38_1 = pd.Series([1, 8, 7, 5, 6, 5, 3, 4, 7, 1])\n",
    "sr38_2 = pd.Series([1, 8, 7, 5, 6, 5, 3, 4, 7, 1])\n",
    "sr38_1 == sr38_2"
   ]
  },
  {
   "cell_type": "code",
   "execution_count": 42,
   "id": "e55ddeca",
   "metadata": {},
   "outputs": [
    {
     "name": "stdout",
     "output_type": "stream",
     "text": [
      "9\n",
      "4\n"
     ]
    }
   ],
   "source": [
    "# 39 Write a Pandas program to find the index of the first occurrence \n",
    "# of the smallest and largest value of a given series.\n",
    "sr39 = pd.Series([1, 3, 7, 12, 88, 23, 3, 1, 9, 0])\n",
    "print(sr39.idxmin())\n",
    "print(sr39.idxmax())"
   ]
  },
  {
   "cell_type": "code",
   "execution_count": 43,
   "id": "28b604f5",
   "metadata": {},
   "outputs": [
    {
     "data": {
      "text/html": [
       "<div>\n",
       "<style scoped>\n",
       "    .dataframe tbody tr th:only-of-type {\n",
       "        vertical-align: middle;\n",
       "    }\n",
       "\n",
       "    .dataframe tbody tr th {\n",
       "        vertical-align: top;\n",
       "    }\n",
       "\n",
       "    .dataframe thead th {\n",
       "        text-align: right;\n",
       "    }\n",
       "</style>\n",
       "<table border=\"1\" class=\"dataframe\">\n",
       "  <thead>\n",
       "    <tr style=\"text-align: right;\">\n",
       "      <th></th>\n",
       "      <th>W</th>\n",
       "      <th>X</th>\n",
       "      <th>Y</th>\n",
       "      <th>Z</th>\n",
       "    </tr>\n",
       "  </thead>\n",
       "  <tbody>\n",
       "    <tr>\n",
       "      <th>0</th>\n",
       "      <td>False</td>\n",
       "      <td>True</td>\n",
       "      <td>True</td>\n",
       "      <td>True</td>\n",
       "    </tr>\n",
       "    <tr>\n",
       "      <th>1</th>\n",
       "      <td>False</td>\n",
       "      <td>False</td>\n",
       "      <td>True</td>\n",
       "      <td>True</td>\n",
       "    </tr>\n",
       "    <tr>\n",
       "      <th>2</th>\n",
       "      <td>False</td>\n",
       "      <td>True</td>\n",
       "      <td>True</td>\n",
       "      <td>True</td>\n",
       "    </tr>\n",
       "    <tr>\n",
       "      <th>3</th>\n",
       "      <td>False</td>\n",
       "      <td>False</td>\n",
       "      <td>True</td>\n",
       "      <td>True</td>\n",
       "    </tr>\n",
       "    <tr>\n",
       "      <th>4</th>\n",
       "      <td>False</td>\n",
       "      <td>True</td>\n",
       "      <td>True</td>\n",
       "      <td>True</td>\n",
       "    </tr>\n",
       "  </tbody>\n",
       "</table>\n",
       "</div>"
      ],
      "text/plain": [
       "       W      X     Y     Z\n",
       "0  False   True  True  True\n",
       "1  False  False  True  True\n",
       "2  False   True  True  True\n",
       "3  False  False  True  True\n",
       "4  False   True  True  True"
      ]
     },
     "execution_count": 43,
     "metadata": {},
     "output_type": "execute_result"
    }
   ],
   "source": [
    "# 40 Write a Pandas program to check inequality over the index axis of a given dataframe and a given series. \n",
    "dict = {\n",
    "    'W': [68.0, 75.0, 86.0, 80.0, 'NaN'], \n",
    "    'X': [78.0, 75.0, 'NaN', 80.0, 86.0],\n",
    "    'Y': [84, 94, 89, 86, 86],\n",
    "    'Z': [86, 97, 96, 72, 83]\n",
    "}\n",
    "df = pd.DataFrame(dict)\n",
    "sr40 = pd.Series([68.0, 75.0, 86.0, 80.0, 'NaN'])\n",
    "df.ne(sr40, axis=0)"
   ]
  }
 ],
 "metadata": {
  "kernelspec": {
   "display_name": "Python 3 (ipykernel)",
   "language": "python",
   "name": "python3"
  },
  "language_info": {
   "codemirror_mode": {
    "name": "ipython",
    "version": 3
   },
   "file_extension": ".py",
   "mimetype": "text/x-python",
   "name": "python",
   "nbconvert_exporter": "python",
   "pygments_lexer": "ipython3",
   "version": "3.9.7"
  },
  "toc": {
   "base_numbering": 1,
   "nav_menu": {},
   "number_sections": true,
   "sideBar": true,
   "skip_h1_title": false,
   "title_cell": "Table of Contents",
   "title_sidebar": "Contents",
   "toc_cell": false,
   "toc_position": {},
   "toc_section_display": true,
   "toc_window_display": false
  }
 },
 "nbformat": 4,
 "nbformat_minor": 5
}
