{
 "cells": [
  {
   "cell_type": "markdown",
   "id": "87dc7fe5",
   "metadata": {},
   "source": [
    "This notebook contains the second part of exercises from: https://www.w3resource.com/python-exercises/pandas/index.php It covers working with `time series` data."
   ]
  },
  {
   "cell_type": "code",
   "execution_count": 2,
   "id": "8cf92a0b",
   "metadata": {},
   "outputs": [],
   "source": [
    "import pandas as pd\n",
    "import numpy as np\n",
    "from datetime import datetime as dt\n",
    "import time\n",
    "from datetime import date\n",
    "import random"
   ]
  },
  {
   "cell_type": "markdown",
   "id": "f86d28de",
   "metadata": {},
   "source": [
    "# Pandas Time Series [ 32 exercises with solution]"
   ]
  },
  {
   "cell_type": "code",
   "execution_count": 3,
   "id": "eb537b82",
   "metadata": {},
   "outputs": [
    {
     "name": "stdout",
     "output_type": "stream",
     "text": [
      "2012-01-15 00:00:00\n",
      "2022-11-17 21:20:00\n",
      "19 November 2022 11:40\n",
      "19 November 2022\n",
      "2022-11-19\n",
      "11:40:42.525385\n"
     ]
    }
   ],
   "source": [
    "# 1 Write a Pandas program to create\n",
    "\n",
    "# a) Datetime object for Jan 15 2012.\n",
    "print(pd.to_datetime('15 Jan 2012'))\n",
    "\n",
    "# b) Specific date and time of 9:20 pm.\n",
    "print(pd.to_datetime('17/11/22 9:20pm'))\n",
    "\n",
    "# c) Local date and time.\n",
    "today = time.localtime()\n",
    "print(time.strftime('%d %B %Y %H:%M', today))\n",
    "\n",
    "# d) A date without time.\n",
    "print(time.strftime('%d %B %Y', today))\n",
    "\n",
    "# e) Current date.\n",
    "print(dt.now().date())\n",
    "\n",
    "# f) Time from a datetime.\n",
    "print(dt.now().time())"
   ]
  },
  {
   "cell_type": "code",
   "execution_count": 6,
   "id": "8a2a2427",
   "metadata": {},
   "outputs": [
    {
     "name": "stdout",
     "output_type": "stream",
     "text": [
      "timestamp=1668847285.760473\n",
      "2022-11-19\n",
      "2022-11-19 11:41:25.760473\n"
     ]
    }
   ],
   "source": [
    "# 2 Write a Pandas program to create\n",
    "\n",
    "timestamp = time.time()\n",
    "print(f'{timestamp=}')\n",
    "\n",
    "# a) a specific date using timestamp.\n",
    "print(date.fromtimestamp(timestamp))\n",
    "\n",
    "# b) date and time using timestamp.\n",
    "print(dt.fromtimestamp(timestamp))"
   ]
  },
  {
   "cell_type": "code",
   "execution_count": 7,
   "id": "6bee8d06",
   "metadata": {},
   "outputs": [
    {
     "name": "stdout",
     "output_type": "stream",
     "text": [
      "2017-11-22 00:00:00\n"
     ]
    }
   ],
   "source": [
    "# 3 3. Write a Pandas program to create a date from a given year, month, day \n",
    "# and another date from a given string formats.\n",
    "d = pd.to_datetime('22/11/17')\n",
    "print(d)"
   ]
  },
  {
   "cell_type": "code",
   "execution_count": 86,
   "id": "6c2dd3e0",
   "metadata": {},
   "outputs": [
    {
     "data": {
      "text/html": [
       "<div>\n",
       "<style scoped>\n",
       "    .dataframe tbody tr th:only-of-type {\n",
       "        vertical-align: middle;\n",
       "    }\n",
       "\n",
       "    .dataframe tbody tr th {\n",
       "        vertical-align: top;\n",
       "    }\n",
       "\n",
       "    .dataframe thead th {\n",
       "        text-align: right;\n",
       "    }\n",
       "</style>\n",
       "<table border=\"1\" class=\"dataframe\">\n",
       "  <thead>\n",
       "    <tr style=\"text-align: right;\">\n",
       "      <th></th>\n",
       "      <th>year</th>\n",
       "      <th>month</th>\n",
       "      <th>day</th>\n",
       "      <th>yesterday</th>\n",
       "      <th>date</th>\n",
       "      <th>tomorrow</th>\n",
       "    </tr>\n",
       "  </thead>\n",
       "  <tbody>\n",
       "    <tr>\n",
       "      <th>0</th>\n",
       "      <td>2022</td>\n",
       "      <td>3</td>\n",
       "      <td>15</td>\n",
       "      <td>2022-03-14</td>\n",
       "      <td>2022-03-15</td>\n",
       "      <td>2022-03-16</td>\n",
       "    </tr>\n",
       "    <tr>\n",
       "      <th>1</th>\n",
       "      <td>2021</td>\n",
       "      <td>4</td>\n",
       "      <td>3</td>\n",
       "      <td>2021-04-02</td>\n",
       "      <td>2021-04-03</td>\n",
       "      <td>2021-04-04</td>\n",
       "    </tr>\n",
       "    <tr>\n",
       "      <th>2</th>\n",
       "      <td>2020</td>\n",
       "      <td>1</td>\n",
       "      <td>31</td>\n",
       "      <td>2020-01-30</td>\n",
       "      <td>2020-01-31</td>\n",
       "      <td>2020-02-01</td>\n",
       "    </tr>\n",
       "    <tr>\n",
       "      <th>3</th>\n",
       "      <td>2019</td>\n",
       "      <td>11</td>\n",
       "      <td>7</td>\n",
       "      <td>2019-11-06</td>\n",
       "      <td>2019-11-07</td>\n",
       "      <td>2019-11-08</td>\n",
       "    </tr>\n",
       "  </tbody>\n",
       "</table>\n",
       "</div>"
      ],
      "text/plain": [
       "   year  month  day  yesterday       date   tomorrow\n",
       "0  2022      3   15 2022-03-14 2022-03-15 2022-03-16\n",
       "1  2021      4    3 2021-04-02 2021-04-03 2021-04-04\n",
       "2  2020      1   31 2020-01-30 2020-01-31 2020-02-01\n",
       "3  2019     11    7 2019-11-06 2019-11-07 2019-11-08"
      ]
     },
     "execution_count": 86,
     "metadata": {},
     "output_type": "execute_result"
    }
   ],
   "source": [
    "# 4. Write a Pandas program to print the day after and before a specified date. \n",
    "\n",
    "df4 = pd.DataFrame({'year': [2022, 2021, 2020, 2019],\n",
    "                   'month': [3, 4, 1, 11],\n",
    "                   'day': [15, 3, 31, 7]\n",
    "                })\n",
    "df4['date'] = pd.to_datetime(df4)\n",
    "df4['tomorrow'] = df4.date + pd.to_timedelta(1, unit='D')\n",
    "df4.insert(3, 'yesterday', df4.date - pd.to_timedelta(1, unit='D'))\n",
    "df4"
   ]
  },
  {
   "cell_type": "code",
   "execution_count": 87,
   "id": "02f2b54f",
   "metadata": {},
   "outputs": [
    {
     "data": {
      "text/plain": [
       "0   1 days\n",
       "1   1 days\n",
       "2   1 days\n",
       "3   1 days\n",
       "dtype: timedelta64[ns]"
      ]
     },
     "execution_count": 87,
     "metadata": {},
     "output_type": "execute_result"
    }
   ],
   "source": [
    "# Also print the days between two given dates.\n",
    "\n",
    "df4.tomorrow - df4.date"
   ]
  },
  {
   "cell_type": "code",
   "execution_count": 96,
   "id": "48ca17f6",
   "metadata": {},
   "outputs": [
    {
     "data": {
      "text/html": [
       "<div>\n",
       "<style scoped>\n",
       "    .dataframe tbody tr th:only-of-type {\n",
       "        vertical-align: middle;\n",
       "    }\n",
       "\n",
       "    .dataframe tbody tr th {\n",
       "        vertical-align: top;\n",
       "    }\n",
       "\n",
       "    .dataframe thead th {\n",
       "        text-align: right;\n",
       "    }\n",
       "</style>\n",
       "<table border=\"1\" class=\"dataframe\">\n",
       "  <thead>\n",
       "    <tr style=\"text-align: right;\">\n",
       "      <th></th>\n",
       "      <th>values</th>\n",
       "    </tr>\n",
       "  </thead>\n",
       "  <tbody>\n",
       "    <tr>\n",
       "      <th>2022-11-01</th>\n",
       "      <td>0.152419</td>\n",
       "    </tr>\n",
       "    <tr>\n",
       "      <th>2022-10-01</th>\n",
       "      <td>0.828441</td>\n",
       "    </tr>\n",
       "  </tbody>\n",
       "</table>\n",
       "</div>"
      ],
      "text/plain": [
       "              values\n",
       "2022-11-01  0.152419\n",
       "2022-10-01  0.828441"
      ]
     },
     "execution_count": 96,
     "metadata": {},
     "output_type": "execute_result"
    }
   ],
   "source": [
    "# 5 Write a Pandas program to create a time-series with two index labels and random values. \n",
    "\n",
    "val1 = random.random()\n",
    "val2 = random.random()\n",
    "df5 = pd.DataFrame(\n",
    "    data=[val1, val2], \n",
    "    index=pd.to_datetime(['2022-11-1', '2022-10-1']), \n",
    "    columns=['values']\n",
    ")\n",
    "df5"
   ]
  },
  {
   "cell_type": "code",
   "execution_count": 97,
   "id": "534fec9c",
   "metadata": {},
   "outputs": [
    {
     "data": {
      "text/plain": [
       "DatetimeIndex(['2022-11-01', '2022-10-01'], dtype='datetime64[ns]', freq=None)"
      ]
     },
     "execution_count": 97,
     "metadata": {},
     "output_type": "execute_result"
    }
   ],
   "source": [
    "# Also print the type of the index.\n",
    "df5.index"
   ]
  },
  {
   "cell_type": "code",
   "execution_count": 99,
   "id": "d3bd76bb",
   "metadata": {},
   "outputs": [
    {
     "data": {
      "text/plain": [
       "0   1947-06-19\n",
       "1   1954-06-08\n",
       "2   1977-04-14\n",
       "3   1987-02-28\n",
       "4   2001-10-16\n",
       "dtype: datetime64[ns]"
      ]
     },
     "execution_count": 99,
     "metadata": {},
     "output_type": "execute_result"
    }
   ],
   "source": [
    "# 6 Write a Pandas program to create a time-series from a given list of dates as strings.\n",
    "\n",
    "dates = ['1947-6-19',\n",
    "         '1954-6-8',\n",
    "         '1977-4-14',\n",
    "         '1987-2-28',\n",
    "         '2001-10-16']\n",
    "s = pd.Series(pd.to_datetime(dates))\n",
    "s"
   ]
  },
  {
   "cell_type": "code",
   "execution_count": 117,
   "id": "dd816e8a",
   "metadata": {},
   "outputs": [
    {
     "data": {
      "text/html": [
       "<div>\n",
       "<style scoped>\n",
       "    .dataframe tbody tr th:only-of-type {\n",
       "        vertical-align: middle;\n",
       "    }\n",
       "\n",
       "    .dataframe tbody tr th {\n",
       "        vertical-align: top;\n",
       "    }\n",
       "\n",
       "    .dataframe thead th {\n",
       "        text-align: right;\n",
       "    }\n",
       "</style>\n",
       "<table border=\"1\" class=\"dataframe\">\n",
       "  <thead>\n",
       "    <tr style=\"text-align: right;\">\n",
       "      <th></th>\n",
       "      <th>values</th>\n",
       "    </tr>\n",
       "  </thead>\n",
       "  <tbody>\n",
       "    <tr>\n",
       "      <th>2018-10-31</th>\n",
       "      <td>0.393034</td>\n",
       "    </tr>\n",
       "    <tr>\n",
       "      <th>2019-01-31</th>\n",
       "      <td>0.037415</td>\n",
       "    </tr>\n",
       "    <tr>\n",
       "      <th>2019-04-30</th>\n",
       "      <td>0.907041</td>\n",
       "    </tr>\n",
       "    <tr>\n",
       "      <th>2019-07-31</th>\n",
       "      <td>0.002898</td>\n",
       "    </tr>\n",
       "    <tr>\n",
       "      <th>2019-10-31</th>\n",
       "      <td>0.037767</td>\n",
       "    </tr>\n",
       "    <tr>\n",
       "      <th>2020-01-31</th>\n",
       "      <td>0.229335</td>\n",
       "    </tr>\n",
       "    <tr>\n",
       "      <th>2020-04-30</th>\n",
       "      <td>0.236096</td>\n",
       "    </tr>\n",
       "    <tr>\n",
       "      <th>2020-07-31</th>\n",
       "      <td>0.700635</td>\n",
       "    </tr>\n",
       "    <tr>\n",
       "      <th>2020-10-31</th>\n",
       "      <td>0.414755</td>\n",
       "    </tr>\n",
       "    <tr>\n",
       "      <th>2021-01-31</th>\n",
       "      <td>0.308354</td>\n",
       "    </tr>\n",
       "    <tr>\n",
       "      <th>2021-04-30</th>\n",
       "      <td>0.943733</td>\n",
       "    </tr>\n",
       "    <tr>\n",
       "      <th>2021-07-31</th>\n",
       "      <td>0.314503</td>\n",
       "    </tr>\n",
       "    <tr>\n",
       "      <th>2021-10-31</th>\n",
       "      <td>0.600057</td>\n",
       "    </tr>\n",
       "    <tr>\n",
       "      <th>2022-01-31</th>\n",
       "      <td>0.863126</td>\n",
       "    </tr>\n",
       "  </tbody>\n",
       "</table>\n",
       "</div>"
      ],
      "text/plain": [
       "              values\n",
       "2018-10-31  0.393034\n",
       "2019-01-31  0.037415\n",
       "2019-04-30  0.907041\n",
       "2019-07-31  0.002898\n",
       "2019-10-31  0.037767\n",
       "2020-01-31  0.229335\n",
       "2020-04-30  0.236096\n",
       "2020-07-31  0.700635\n",
       "2020-10-31  0.414755\n",
       "2021-01-31  0.308354\n",
       "2021-04-30  0.943733\n",
       "2021-07-31  0.314503\n",
       "2021-10-31  0.600057\n",
       "2022-01-31  0.863126"
      ]
     },
     "execution_count": 117,
     "metadata": {},
     "output_type": "execute_result"
    }
   ],
   "source": [
    "# 7 Write a Pandas program to create a time series object that has time indexed data. \n",
    "\n",
    "rows = 14\n",
    "dates = pd.date_range(end='2022-2-24', periods=rows, freq='3M')\n",
    "values = [random.random() for i in range(rows)]\n",
    "df7 = pd.DataFrame(data=values, index=dates, columns=['values'])\n",
    "df7"
   ]
  },
  {
   "cell_type": "code",
   "execution_count": 122,
   "id": "daf85464",
   "metadata": {},
   "outputs": [
    {
     "data": {
      "text/html": [
       "<div>\n",
       "<style scoped>\n",
       "    .dataframe tbody tr th:only-of-type {\n",
       "        vertical-align: middle;\n",
       "    }\n",
       "\n",
       "    .dataframe tbody tr th {\n",
       "        vertical-align: top;\n",
       "    }\n",
       "\n",
       "    .dataframe thead th {\n",
       "        text-align: right;\n",
       "    }\n",
       "</style>\n",
       "<table border=\"1\" class=\"dataframe\">\n",
       "  <thead>\n",
       "    <tr style=\"text-align: right;\">\n",
       "      <th></th>\n",
       "      <th>values</th>\n",
       "    </tr>\n",
       "  </thead>\n",
       "  <tbody>\n",
       "    <tr>\n",
       "      <th>2019-01-31</th>\n",
       "      <td>0.037415</td>\n",
       "    </tr>\n",
       "    <tr>\n",
       "      <th>2019-04-30</th>\n",
       "      <td>0.907041</td>\n",
       "    </tr>\n",
       "    <tr>\n",
       "      <th>2019-07-31</th>\n",
       "      <td>0.002898</td>\n",
       "    </tr>\n",
       "    <tr>\n",
       "      <th>2019-10-31</th>\n",
       "      <td>0.037767</td>\n",
       "    </tr>\n",
       "  </tbody>\n",
       "</table>\n",
       "</div>"
      ],
      "text/plain": [
       "              values\n",
       "2019-01-31  0.037415\n",
       "2019-04-30  0.907041\n",
       "2019-07-31  0.002898\n",
       "2019-10-31  0.037767"
      ]
     },
     "execution_count": 122,
     "metadata": {},
     "output_type": "execute_result"
    }
   ],
   "source": [
    "# Also select the dates of same year and select the dates between certain dates. \n",
    "\n",
    "df7.loc['2019']"
   ]
  },
  {
   "cell_type": "code",
   "execution_count": 121,
   "id": "97b955b3",
   "metadata": {},
   "outputs": [
    {
     "data": {
      "text/html": [
       "<div>\n",
       "<style scoped>\n",
       "    .dataframe tbody tr th:only-of-type {\n",
       "        vertical-align: middle;\n",
       "    }\n",
       "\n",
       "    .dataframe tbody tr th {\n",
       "        vertical-align: top;\n",
       "    }\n",
       "\n",
       "    .dataframe thead th {\n",
       "        text-align: right;\n",
       "    }\n",
       "</style>\n",
       "<table border=\"1\" class=\"dataframe\">\n",
       "  <thead>\n",
       "    <tr style=\"text-align: right;\">\n",
       "      <th></th>\n",
       "      <th>values</th>\n",
       "    </tr>\n",
       "  </thead>\n",
       "  <tbody>\n",
       "    <tr>\n",
       "      <th>2020-07-31</th>\n",
       "      <td>0.700635</td>\n",
       "    </tr>\n",
       "    <tr>\n",
       "      <th>2020-10-31</th>\n",
       "      <td>0.414755</td>\n",
       "    </tr>\n",
       "    <tr>\n",
       "      <th>2021-01-31</th>\n",
       "      <td>0.308354</td>\n",
       "    </tr>\n",
       "    <tr>\n",
       "      <th>2021-04-30</th>\n",
       "      <td>0.943733</td>\n",
       "    </tr>\n",
       "    <tr>\n",
       "      <th>2021-07-31</th>\n",
       "      <td>0.314503</td>\n",
       "    </tr>\n",
       "  </tbody>\n",
       "</table>\n",
       "</div>"
      ],
      "text/plain": [
       "              values\n",
       "2020-07-31  0.700635\n",
       "2020-10-31  0.414755\n",
       "2021-01-31  0.308354\n",
       "2021-04-30  0.943733\n",
       "2021-07-31  0.314503"
      ]
     },
     "execution_count": 121,
     "metadata": {},
     "output_type": "execute_result"
    }
   ],
   "source": [
    "df7.loc['2020-07-31':'2021-07-31']"
   ]
  },
  {
   "cell_type": "code",
   "execution_count": 123,
   "id": "490b02b8",
   "metadata": {},
   "outputs": [
    {
     "data": {
      "text/plain": [
       "DatetimeIndex(['2022-02-24', '2022-02-25', '2022-02-26', '2022-02-27',\n",
       "               '2022-02-28', '2022-03-01', '2022-03-02', '2022-03-03',\n",
       "               '2022-03-04', '2022-03-05', '2022-03-06', '2022-03-07',\n",
       "               '2022-03-08', '2022-03-09', '2022-03-10', '2022-03-11',\n",
       "               '2022-03-12', '2022-03-13', '2022-03-14', '2022-03-15',\n",
       "               '2022-03-16', '2022-03-17', '2022-03-18', '2022-03-19',\n",
       "               '2022-03-20', '2022-03-21', '2022-03-22', '2022-03-23',\n",
       "               '2022-03-24', '2022-03-25', '2022-03-26', '2022-03-27',\n",
       "               '2022-03-28', '2022-03-29', '2022-03-30', '2022-03-31',\n",
       "               '2022-04-01', '2022-04-02', '2022-04-03', '2022-04-04',\n",
       "               '2022-04-05', '2022-04-06', '2022-04-07', '2022-04-08',\n",
       "               '2022-04-09', '2022-04-10', '2022-04-11', '2022-04-12',\n",
       "               '2022-04-13', '2022-04-14', '2022-04-15', '2022-04-16',\n",
       "               '2022-04-17', '2022-04-18', '2022-04-19', '2022-04-20',\n",
       "               '2022-04-21', '2022-04-22', '2022-04-23', '2022-04-24'],\n",
       "              dtype='datetime64[ns]', freq='D')"
      ]
     },
     "execution_count": 123,
     "metadata": {},
     "output_type": "execute_result"
    }
   ],
   "source": [
    "# 8 Write a Pandas program to create a date range using a startpoint date and a number of periods.\n",
    "\n",
    "pd.date_range(start='2022-2-24', periods=60)"
   ]
  },
  {
   "cell_type": "code",
   "execution_count": 129,
   "id": "79993163",
   "metadata": {},
   "outputs": [
    {
     "name": "stdout",
     "output_type": "stream",
     "text": [
      "2022-04-30 00:00:00\n",
      "2022-04-01 00:00:00\n"
     ]
    }
   ],
   "source": [
    "# 9 Write a Pandas program to create a whole month of dates in daily frequencies. \n",
    "# Also find the maximum, minimum timestamp and indexs. \n",
    "\n",
    "index = pd.date_range('2022-4-1', '2022-4-30')\n",
    "print(index.max())\n",
    "print(index.min())"
   ]
  },
  {
   "cell_type": "code",
   "execution_count": 131,
   "id": "ed0e000f",
   "metadata": {},
   "outputs": [
    {
     "data": {
      "text/plain": [
       "TimedeltaIndex(['0 days 01:00:00', '0 days 02:00:00', '0 days 03:00:00',\n",
       "                '0 days 04:00:00', '0 days 05:00:00', '0 days 06:00:00'],\n",
       "               dtype='timedelta64[ns]', freq=None)"
      ]
     },
     "execution_count": 131,
     "metadata": {},
     "output_type": "execute_result"
    }
   ],
   "source": [
    "# 11 Write a Pandas program to create a sequence of durations increasing by an hour.\n",
    "\n",
    "data = range(1, 7)\n",
    "pd.to_timedelta(data, unit='h')"
   ]
  },
  {
   "cell_type": "code",
   "execution_count": 135,
   "id": "61ae1b9e",
   "metadata": {},
   "outputs": [
    {
     "data": {
      "text/plain": [
       "TimedeltaIndex(['0 days 00:00:00.000000001', '0 days 01:00:00.000000001',\n",
       "                '0 days 02:00:00.000000001', '0 days 03:00:00.000000001',\n",
       "                '0 days 04:00:00.000000001', '0 days 05:00:00.000000001',\n",
       "                '0 days 06:00:00.000000001', '0 days 07:00:00.000000001',\n",
       "                '0 days 08:00:00.000000001', '0 days 09:00:00.000000001',\n",
       "                '0 days 10:00:00.000000001', '0 days 11:00:00.000000001'],\n",
       "               dtype='timedelta64[ns]', freq='H')"
      ]
     },
     "execution_count": 135,
     "metadata": {},
     "output_type": "execute_result"
    }
   ],
   "source": [
    "pd.timedelta_range(1, periods=12, freq='H')"
   ]
  },
  {
   "cell_type": "code",
   "execution_count": 142,
   "id": "3e6d05df",
   "metadata": {},
   "outputs": [
    {
     "data": {
      "text/html": [
       "<div>\n",
       "<style scoped>\n",
       "    .dataframe tbody tr th:only-of-type {\n",
       "        vertical-align: middle;\n",
       "    }\n",
       "\n",
       "    .dataframe tbody tr th {\n",
       "        vertical-align: top;\n",
       "    }\n",
       "\n",
       "    .dataframe thead th {\n",
       "        text-align: right;\n",
       "    }\n",
       "</style>\n",
       "<table border=\"1\" class=\"dataframe\">\n",
       "  <thead>\n",
       "    <tr style=\"text-align: right;\">\n",
       "      <th></th>\n",
       "      <th>year</th>\n",
       "      <th>day</th>\n",
       "      <th>month</th>\n",
       "      <th>date</th>\n",
       "    </tr>\n",
       "  </thead>\n",
       "  <tbody>\n",
       "    <tr>\n",
       "      <th>0</th>\n",
       "      <td>2022</td>\n",
       "      <td>1</td>\n",
       "      <td>4</td>\n",
       "      <td>2022-04-01</td>\n",
       "    </tr>\n",
       "    <tr>\n",
       "      <th>1</th>\n",
       "      <td>2022</td>\n",
       "      <td>2</td>\n",
       "      <td>4</td>\n",
       "      <td>2022-04-02</td>\n",
       "    </tr>\n",
       "    <tr>\n",
       "      <th>2</th>\n",
       "      <td>2022</td>\n",
       "      <td>3</td>\n",
       "      <td>4</td>\n",
       "      <td>2022-04-03</td>\n",
       "    </tr>\n",
       "    <tr>\n",
       "      <th>3</th>\n",
       "      <td>2021</td>\n",
       "      <td>4</td>\n",
       "      <td>4</td>\n",
       "      <td>2021-04-04</td>\n",
       "    </tr>\n",
       "    <tr>\n",
       "      <th>4</th>\n",
       "      <td>2021</td>\n",
       "      <td>5</td>\n",
       "      <td>4</td>\n",
       "      <td>2021-04-05</td>\n",
       "    </tr>\n",
       "    <tr>\n",
       "      <th>5</th>\n",
       "      <td>2020</td>\n",
       "      <td>7</td>\n",
       "      <td>4</td>\n",
       "      <td>2020-04-07</td>\n",
       "    </tr>\n",
       "  </tbody>\n",
       "</table>\n",
       "</div>"
      ],
      "text/plain": [
       "   year  day  month       date\n",
       "0  2022    1      4 2022-04-01\n",
       "1  2022    2      4 2022-04-02\n",
       "2  2022    3      4 2022-04-03\n",
       "3  2021    4      4 2021-04-04\n",
       "4  2021    5      4 2021-04-05\n",
       "5  2020    7      4 2020-04-07"
      ]
     },
     "execution_count": 142,
     "metadata": {},
     "output_type": "execute_result"
    }
   ],
   "source": [
    "# 12 Write a Pandas program to convert year and day of year into a single datetime column of a dataframe\n",
    "\n",
    "year = [2022, 2022, 2022, 2021, 2021, 2020]\n",
    "day = [1, 2, 3, 4, 5, 7]\n",
    "df12 = pd.DataFrame(data={'year': year, 'day': day})\n",
    "df12['month'] = 4\n",
    "df12['date'] = pd.to_datetime(df12)\n",
    "df12"
   ]
  },
  {
   "cell_type": "code",
   "execution_count": 146,
   "id": "4beac846",
   "metadata": {},
   "outputs": [
    {
     "data": {
      "text/html": [
       "<div>\n",
       "<style scoped>\n",
       "    .dataframe tbody tr th:only-of-type {\n",
       "        vertical-align: middle;\n",
       "    }\n",
       "\n",
       "    .dataframe tbody tr th {\n",
       "        vertical-align: top;\n",
       "    }\n",
       "\n",
       "    .dataframe thead th {\n",
       "        text-align: right;\n",
       "    }\n",
       "</style>\n",
       "<table border=\"1\" class=\"dataframe\">\n",
       "  <thead>\n",
       "    <tr style=\"text-align: right;\">\n",
       "      <th></th>\n",
       "      <th>year</th>\n",
       "      <th>day_of_year</th>\n",
       "      <th>date_int</th>\n",
       "      <th>date</th>\n",
       "    </tr>\n",
       "  </thead>\n",
       "  <tbody>\n",
       "    <tr>\n",
       "      <th>0</th>\n",
       "      <td>2022</td>\n",
       "      <td>14</td>\n",
       "      <td>2022014</td>\n",
       "      <td>2022-01-14</td>\n",
       "    </tr>\n",
       "    <tr>\n",
       "      <th>1</th>\n",
       "      <td>2022</td>\n",
       "      <td>250</td>\n",
       "      <td>2022250</td>\n",
       "      <td>2022-09-07</td>\n",
       "    </tr>\n",
       "    <tr>\n",
       "      <th>2</th>\n",
       "      <td>2022</td>\n",
       "      <td>365</td>\n",
       "      <td>2022365</td>\n",
       "      <td>2022-12-31</td>\n",
       "    </tr>\n",
       "    <tr>\n",
       "      <th>3</th>\n",
       "      <td>2021</td>\n",
       "      <td>99</td>\n",
       "      <td>2021099</td>\n",
       "      <td>2021-04-09</td>\n",
       "    </tr>\n",
       "    <tr>\n",
       "      <th>4</th>\n",
       "      <td>2021</td>\n",
       "      <td>54</td>\n",
       "      <td>2021054</td>\n",
       "      <td>2021-02-23</td>\n",
       "    </tr>\n",
       "    <tr>\n",
       "      <th>5</th>\n",
       "      <td>2020</td>\n",
       "      <td>120</td>\n",
       "      <td>2020120</td>\n",
       "      <td>2020-04-29</td>\n",
       "    </tr>\n",
       "  </tbody>\n",
       "</table>\n",
       "</div>"
      ],
      "text/plain": [
       "   year  day_of_year  date_int       date\n",
       "0  2022           14   2022014 2022-01-14\n",
       "1  2022          250   2022250 2022-09-07\n",
       "2  2022          365   2022365 2022-12-31\n",
       "3  2021           99   2021099 2021-04-09\n",
       "4  2021           54   2021054 2021-02-23\n",
       "5  2020          120   2020120 2020-04-29"
      ]
     },
     "execution_count": 146,
     "metadata": {},
     "output_type": "execute_result"
    }
   ],
   "source": [
    "day_of_year = [14, 250, 365, 99, 54, 120]\n",
    "df12_1 = pd.DataFrame({'year': year, 'day_of_year': day_of_year})\n",
    "df12_1['date_int'] = df12_1.year * 1000 + df12_1.day_of_year\n",
    "df12_1['date'] = pd.to_datetime(df12_1.date_int, format='%Y%j')\n",
    "df12_1"
   ]
  },
  {
   "cell_type": "code",
   "execution_count": 149,
   "id": "e22d71eb",
   "metadata": {},
   "outputs": [
    {
     "data": {
      "text/plain": [
       "dtype('int64')"
      ]
     },
     "execution_count": 149,
     "metadata": {},
     "output_type": "execute_result"
    }
   ],
   "source": [
    "df12_1.date_int.dtype"
   ]
  },
  {
   "cell_type": "code",
   "execution_count": 164,
   "id": "32098f31",
   "metadata": {},
   "outputs": [
    {
     "data": {
      "text/html": [
       "<div>\n",
       "<style scoped>\n",
       "    .dataframe tbody tr th:only-of-type {\n",
       "        vertical-align: middle;\n",
       "    }\n",
       "\n",
       "    .dataframe tbody tr th {\n",
       "        vertical-align: top;\n",
       "    }\n",
       "\n",
       "    .dataframe thead th {\n",
       "        text-align: right;\n",
       "    }\n",
       "</style>\n",
       "<table border=\"1\" class=\"dataframe\">\n",
       "  <thead>\n",
       "    <tr style=\"text-align: right;\">\n",
       "      <th></th>\n",
       "      <th>year</th>\n",
       "      <th>day_of_year</th>\n",
       "      <th>date_int</th>\n",
       "      <th>date</th>\n",
       "      <th>buisness_day</th>\n",
       "    </tr>\n",
       "  </thead>\n",
       "  <tbody>\n",
       "    <tr>\n",
       "      <th>0</th>\n",
       "      <td>2022</td>\n",
       "      <td>14</td>\n",
       "      <td>2022014</td>\n",
       "      <td>2022-01-14</td>\n",
       "      <td>True</td>\n",
       "    </tr>\n",
       "    <tr>\n",
       "      <th>1</th>\n",
       "      <td>2022</td>\n",
       "      <td>250</td>\n",
       "      <td>2022250</td>\n",
       "      <td>2022-09-07</td>\n",
       "      <td>True</td>\n",
       "    </tr>\n",
       "    <tr>\n",
       "      <th>2</th>\n",
       "      <td>2022</td>\n",
       "      <td>365</td>\n",
       "      <td>2022365</td>\n",
       "      <td>2022-12-31</td>\n",
       "      <td>False</td>\n",
       "    </tr>\n",
       "    <tr>\n",
       "      <th>3</th>\n",
       "      <td>2021</td>\n",
       "      <td>99</td>\n",
       "      <td>2021099</td>\n",
       "      <td>2021-04-09</td>\n",
       "      <td>True</td>\n",
       "    </tr>\n",
       "    <tr>\n",
       "      <th>4</th>\n",
       "      <td>2021</td>\n",
       "      <td>54</td>\n",
       "      <td>2021054</td>\n",
       "      <td>2021-02-23</td>\n",
       "      <td>True</td>\n",
       "    </tr>\n",
       "    <tr>\n",
       "      <th>5</th>\n",
       "      <td>2020</td>\n",
       "      <td>120</td>\n",
       "      <td>2020120</td>\n",
       "      <td>2020-04-29</td>\n",
       "      <td>True</td>\n",
       "    </tr>\n",
       "  </tbody>\n",
       "</table>\n",
       "</div>"
      ],
      "text/plain": [
       "   year  day_of_year  date_int       date  buisness_day\n",
       "0  2022           14   2022014 2022-01-14          True\n",
       "1  2022          250   2022250 2022-09-07          True\n",
       "2  2022          365   2022365 2022-12-31         False\n",
       "3  2021           99   2021099 2021-04-09          True\n",
       "4  2021           54   2021054 2021-02-23          True\n",
       "5  2020          120   2020120 2020-04-29          True"
      ]
     },
     "execution_count": 164,
     "metadata": {},
     "output_type": "execute_result"
    }
   ],
   "source": [
    "# 14 Write a Pandas program to check if a day is a business day (weekday) or not.\n",
    "\n",
    "def is_buisness_day(date):\n",
    "    return bool(len(pd.bdate_range(date, date)))\n",
    "\n",
    "df12_1['buisness_day'] = list(map(is_buisness_day, df12_1.date))\n",
    "df12_1"
   ]
  },
  {
   "cell_type": "code",
   "execution_count": 169,
   "id": "bb22d29f",
   "metadata": {},
   "outputs": [
    {
     "data": {
      "text/plain": [
       "DatetimeIndex(['2021-01-29', '2021-02-26', '2021-03-31', '2021-04-30',\n",
       "               '2021-05-31', '2021-06-30', '2021-07-30', '2021-08-31',\n",
       "               '2021-09-30', '2021-10-29', '2021-11-30', '2021-12-31'],\n",
       "              dtype='datetime64[ns]', freq='BM')"
      ]
     },
     "execution_count": 169,
     "metadata": {},
     "output_type": "execute_result"
    }
   ],
   "source": [
    "# 15 Write a Pandas program to get a time series with the last working days of each month of a specific year.\n",
    "\n",
    "pd.date_range(start='2021-1-1', end='2021-12-31', freq='BM')"
   ]
  },
  {
   "cell_type": "code",
   "execution_count": 184,
   "id": "2b43b5c1",
   "metadata": {},
   "outputs": [
    {
     "data": {
      "text/plain": [
       "TimedeltaIndex(['0 days 00:00:00', '0 days 01:20:00', '0 days 02:40:00',\n",
       "                '0 days 04:00:00', '0 days 05:20:00', '0 days 06:40:00',\n",
       "                '0 days 08:00:00', '0 days 09:20:00', '0 days 10:40:00',\n",
       "                '0 days 12:00:00', '0 days 13:20:00', '0 days 14:40:00',\n",
       "                '0 days 16:00:00', '0 days 17:20:00', '0 days 18:40:00',\n",
       "                '0 days 20:00:00', '0 days 21:20:00', '0 days 22:40:00',\n",
       "                '1 days 00:00:00', '1 days 01:20:00', '1 days 02:40:00',\n",
       "                '1 days 04:00:00', '1 days 05:20:00', '1 days 06:40:00',\n",
       "                '1 days 08:00:00', '1 days 09:20:00', '1 days 10:40:00',\n",
       "                '1 days 12:00:00', '1 days 13:20:00', '1 days 14:40:00'],\n",
       "               dtype='timedelta64[ns]', freq='80T')"
      ]
     },
     "execution_count": 184,
     "metadata": {},
     "output_type": "execute_result"
    }
   ],
   "source": [
    "# 16 Write a Pandas program to create a time series combining hour and minute.\n",
    "\n",
    "date_range = pd.Series(pd.date_range('2022-11-18 01:00:00AM', periods=12, freq='H'), name='datetime')\n",
    "date_range\n",
    "pd.timedelta_range(0, periods=30, freq='1H20T')"
   ]
  },
  {
   "cell_type": "code",
   "execution_count": 192,
   "id": "f3854501",
   "metadata": {},
   "outputs": [
    {
     "name": "stdout",
     "output_type": "stream",
     "text": [
      "2021-05-16 02:32:35\n",
      "UTC time: 2021-05-16 02:32:35+00:00\n",
      "Pacific time: 2021-05-15 19:32:35-07:00\n",
      "Berilin time: 2021-05-16 04:32:35+02:00\n"
     ]
    }
   ],
   "source": [
    "# 17 Write a Pandas program to convert unix/epoch time to a regular time stamp in UTC. \n",
    "# Also convert the said timestamp in to a given time zone. \n",
    "\n",
    "epoch_t = 1621132355\n",
    "time_stamp = pd.to_datetime(epoch_t, unit='s')\n",
    "print(time_stamp)\n",
    "print(f'UTC time: {time_stamp.tz_localize(\"UTC\")}')\n",
    "print(f'Pacific time: {time_stamp.tz_localize(\"UTC\").tz_convert(\"US/Pacific\")}')\n",
    "print(f'Berilin time: {time_stamp.tz_localize(\"UTC\").tz_convert(\"Europe/Berlin\")}')"
   ]
  },
  {
   "cell_type": "code",
   "execution_count": 91,
   "id": "c3318b70",
   "metadata": {},
   "outputs": [
    {
     "name": "stdout",
     "output_type": "stream",
     "text": [
      "2022-11-20 14:00:00+03:00\n"
     ]
    }
   ],
   "source": [
    "# 18 Write a Pandas program to create a time series object with a time zone.\n",
    "\n",
    "t = pd.Timestamp('2022-11-20 14:00', tz='Europe/Moscow')\n",
    "print(t)"
   ]
  },
  {
   "cell_type": "code",
   "execution_count": 93,
   "id": "1b8bef2f",
   "metadata": {},
   "outputs": [
    {
     "name": "stdout",
     "output_type": "stream",
     "text": [
      "2022-11-20 14:00:00\n"
     ]
    }
   ],
   "source": [
    "# 19 Write a Pandas program to remove the time zone information from a Time series data.\n",
    "\n",
    "print(t.tz_localize(None))"
   ]
  },
  {
   "cell_type": "code",
   "execution_count": 99,
   "id": "8de42479",
   "metadata": {},
   "outputs": [
    {
     "data": {
      "text/plain": [
       "Timedelta('15925 days 23:50:00')"
      ]
     },
     "execution_count": 99,
     "metadata": {},
     "output_type": "execute_result"
    }
   ],
   "source": [
    "# 20 Write a Pandas program to subtract two timestamps of same time zone or different time zone.\n",
    "\n",
    "dt1 = pd.Timestamp('2020-11-20 13:50', tz='Europe/Moscow')\n",
    "dt2 = pd.Timestamp('1977-4-14 14:00', tz='Europe/Moscow')\n",
    "dt1 - dt2"
   ]
  },
  {
   "cell_type": "code",
   "execution_count": 101,
   "id": "ff7bb174",
   "metadata": {},
   "outputs": [
    {
     "data": {
      "text/plain": [
       "Timedelta('15926 days 10:50:00')"
      ]
     },
     "execution_count": 101,
     "metadata": {},
     "output_type": "execute_result"
    }
   ],
   "source": [
    "dt3 = pd.Timestamp('1977-4-14', tz='UTC')\n",
    "dt1 - dt3.tz_convert('Europe/Moscow')"
   ]
  },
  {
   "cell_type": "code",
   "execution_count": 116,
   "id": "36f5488c",
   "metadata": {},
   "outputs": [
    {
     "name": "stdout",
     "output_type": "stream",
     "text": [
      "Counter({'Thursday': 12, 'Friday': 12, 'Saturday': 12, 'Sunday': 12, 'Monday': 11, 'Tuesday': 11, 'Wednesday': 11})\n"
     ]
    },
    {
     "data": {
      "text/plain": [
       "12"
      ]
     },
     "execution_count": 116,
     "metadata": {},
     "output_type": "execute_result"
    }
   ],
   "source": [
    "# 21 Write a Pandas program to calculate all Thursdays between two given days. \n",
    "\n",
    "from collections import Counter\n",
    "\n",
    "days = Counter(list(pd.date_range('2022-9-1', '2022-11-20').day_name()))\n",
    "print(days)\n",
    "days['Thursday']"
   ]
  },
  {
   "cell_type": "code",
   "execution_count": 124,
   "id": "1128aaba",
   "metadata": {},
   "outputs": [
    {
     "name": "stdout",
     "output_type": "stream",
     "text": [
      "DatetimeIndex(['2022-09-01', '2022-09-08', '2022-09-15', '2022-09-22',\n",
      "               '2022-09-29', '2022-10-06', '2022-10-13', '2022-10-20',\n",
      "               '2022-10-27', '2022-11-03', '2022-11-10', '2022-11-17'],\n",
      "              dtype='datetime64[ns]', freq='W-THU')\n"
     ]
    },
    {
     "data": {
      "text/plain": [
       "12"
      ]
     },
     "execution_count": 124,
     "metadata": {},
     "output_type": "execute_result"
    }
   ],
   "source": [
    "thursdays = pd.date_range('2022-9-1', '2022-11-20', freq='W-THU')\n",
    "print(thursdays)\n",
    "len(thursdays)"
   ]
  },
  {
   "cell_type": "code",
   "execution_count": 136,
   "id": "76e8617e",
   "metadata": {},
   "outputs": [
    {
     "name": "stdout",
     "output_type": "stream",
     "text": [
      "Buisness quarterly begin dates: ['2022-01-03T00:00:00.000000000' '2022-04-01T00:00:00.000000000'\n",
      " '2022-07-01T00:00:00.000000000' '2022-10-03T00:00:00.000000000']\n",
      "Buisness quarterly end dates: ['2022-01-03T00:00:00.000000000' '2022-04-01T00:00:00.000000000'\n",
      " '2022-07-01T00:00:00.000000000' '2022-10-03T00:00:00.000000000']\n"
     ]
    }
   ],
   "source": [
    "# 22 Write a Pandas program to find the all the business quarterly begin and end dates of a specified year.\n",
    "\n",
    "print(f\"Business quarterly begin dates: {pd.date_range('2022-1-1', '2022-12-31', freq='BQS').values}\")\n",
    "print(f\"Business quarterly end dates: {pd.date_range('2022-1-1', '2022-12-31', freq='BQS').values}\")"
   ]
  },
  {
   "cell_type": "code",
   "execution_count": 137,
   "id": "b1e8e4f7",
   "metadata": {},
   "outputs": [
    {
     "data": {
      "text/plain": [
       "DatetimeIndex(['2022-01-02', '2022-01-05', '2022-01-08', '2022-01-11',\n",
       "               '2022-01-14', '2022-01-17', '2022-01-20', '2022-01-23',\n",
       "               '2022-01-26', '2022-01-29'],\n",
       "              dtype='datetime64[ns]', freq='3D')"
      ]
     },
     "execution_count": 137,
     "metadata": {},
     "output_type": "execute_result"
    }
   ],
   "source": [
    "# 23 Write a Pandas program to generate sequences of fixed-frequency dates and time spans intervals.\n",
    "\n",
    "pd.date_range('2022-1-2', freq='3D', periods=10)"
   ]
  },
  {
   "cell_type": "code",
   "execution_count": 142,
   "id": "9e80fc85",
   "metadata": {},
   "outputs": [
    {
     "name": "stdout",
     "output_type": "stream",
     "text": [
      "DatetimeIndex(['2022-11-20 14:30:00', '2022-11-21 14:40:00',\n",
      "               '2022-11-22 14:50:00', '2022-11-23 15:00:00',\n",
      "               '2022-11-24 15:10:00', '2022-11-25 15:20:00',\n",
      "               '2022-11-26 15:30:00', '2022-11-27 15:40:00',\n",
      "               '2022-11-28 15:50:00', '2022-11-29 16:00:00'],\n",
      "              dtype='datetime64[ns]', freq='1450T')\n",
      "DatetimeIndex(['2022-11-20 14:30:00', '2022-11-20 14:55:00',\n",
      "               '2022-11-20 15:20:00', '2022-11-20 15:45:00',\n",
      "               '2022-11-20 16:10:00', '2022-11-20 16:35:00',\n",
      "               '2022-11-20 17:00:00', '2022-11-20 17:25:00',\n",
      "               '2022-11-20 17:50:00', '2022-11-20 18:15:00'],\n",
      "              dtype='datetime64[ns]', freq='25T')\n"
     ]
    }
   ],
   "source": [
    "# 24 Write a Pandas program to generate time series combining day and intraday offsets intervals.\n",
    "\n",
    "print(pd.date_range('2022-11-20 14:30', freq='1D10min', periods=10))\n",
    "print(pd.date_range('2022-11-20 14:30', freq='25min', periods=10))"
   ]
  },
  {
   "cell_type": "code",
   "execution_count": 153,
   "id": "a50c1f71",
   "metadata": {},
   "outputs": [
    {
     "name": "stdout",
     "output_type": "stream",
     "text": [
      "Thursday\n",
      "2022-04-16 00:00:00\n",
      "2022-04-18 00:00:00\n"
     ]
    }
   ],
   "source": [
    "# 25 Write a Pandas program to extract the day name from a specified date. \n",
    "# Add 2 days and 1 business day with the specified date.\n",
    "\n",
    "my_day_22 = pd.Timestamp('2022-4-14')\n",
    "print(my_day_22.day_name())\n",
    "print(my_day_22 + pd.to_timedelta('2D'))\n",
    "print(my_day_22 + pd.offsets.BDay(2))"
   ]
  },
  {
   "cell_type": "code",
   "execution_count": 171,
   "id": "f0ccb0e2",
   "metadata": {},
   "outputs": [
    {
     "name": "stdout",
     "output_type": "stream",
     "text": [
      "1668955660.448208\n"
     ]
    },
    {
     "data": {
      "text/plain": [
       "Timestamp('2022-11-20 17:47:40.448208')"
      ]
     },
     "execution_count": 171,
     "metadata": {},
     "output_type": "execute_result"
    }
   ],
   "source": [
    "# 26 Write a Pandas program to convert integer or float epoch times to Timestamp and DatetimeIndex.\n",
    "\n",
    "now = pd.Timestamp.now()\n",
    "u_time = now.timestamp()\n",
    "print(u_time)\n",
    "pd.Timestamp.fromtimestamp(u_time)"
   ]
  },
  {
   "cell_type": "code",
   "execution_count": 178,
   "id": "e8d8eabe",
   "metadata": {},
   "outputs": [
    {
     "name": "stdout",
     "output_type": "stream",
     "text": [
      "One business day from today: 2022-11-21 00:00:00\n",
      "Two business days from today: 2022-11-22 00:00:00\n",
      "Three business day from today: 2022-11-23 00:00:00\n",
      "Next business month end from today: 2022-11-30 00:00:00\n"
     ]
    }
   ],
   "source": [
    "# 27 Write a Pandas program to calculate one, two, three business day(s) from a specified date. \n",
    "# Also find the next business month end from a specific date.\n",
    "\n",
    "start = pd.Timestamp('2022-11-20')\n",
    "print(f'One business day from today: {start + pd.offsets.BDay(1)}')\n",
    "print(f'Two business days from today: {start + pd.offsets.BDay(2)}')\n",
    "print(f'Three business day from today: {start + pd.offsets.BDay(3)}')\n",
    "print(f'Next business month end from today: {start + pd.offsets.BMonthEnd(n=1)}')"
   ]
  },
  {
   "cell_type": "code",
   "execution_count": 201,
   "id": "a1c7c32d",
   "metadata": {},
   "outputs": [
    {
     "name": "stdout",
     "output_type": "stream",
     "text": [
      "['01 Jan 2022 - 31 Jan 2022', '01 Feb 2022 - 28 Feb 2022', '01 Mar 2022 - 31 Mar 2022', '01 Apr 2022 - 30 Apr 2022', '01 May 2022 - 31 May 2022', '01 Jun 2022 - 30 Jun 2022', '01 Jul 2022 - 31 Jul 2022', '01 Aug 2022 - 31 Aug 2022', '01 Sep 2022 - 30 Sep 2022', '01 Oct 2022 - 31 Oct 2022', '01 Nov 2022 - 30 Nov 2022', '01 Dec 2022 - 31 Dec 2022']\n"
     ]
    }
   ],
   "source": [
    "# 28 Write a Pandas program to create a period index represent all monthly boundaries of a given year. \n",
    "# Also print start and end time for each period object in the said index. \n",
    "\n",
    "dates = pd.period_range('2022-1-1', '2022-12-31', freq='M')\n",
    "datelist = [f\"{d.start_time.strftime('%d %b %Y')} - {d.end_time.strftime('%d %b %Y')}\" for d in dates]\n",
    "print(datelist)"
   ]
  },
  {
   "cell_type": "code",
   "execution_count": 206,
   "id": "84c18c17",
   "metadata": {},
   "outputs": [
    {
     "data": {
      "text/plain": [
       "2030-01   -0.157266\n",
       "2030-02   -0.930039\n",
       "2030-03    0.523863\n",
       "2030-04    0.070000\n",
       "2030-05   -0.601227\n",
       "2030-06    1.193665\n",
       "2030-07    0.131320\n",
       "2030-08   -0.198407\n",
       "2030-09    4.376031\n",
       "2030-10    0.308574\n",
       "2030-11    1.735410\n",
       "2030-12    0.742513\n",
       "Freq: M, dtype: float64"
      ]
     },
     "execution_count": 206,
     "metadata": {},
     "output_type": "execute_result"
    }
   ],
   "source": [
    "# 29 Write a Pandas program create a series with a PeriodIndex which represents \n",
    "# all the calendar month periods in 2029 and 2031. \n",
    "# Also print the values for all periods in 2030.\n",
    "\n",
    "s = pd.Series(np.random.randn(36), index=pd.period_range('2029-1-1', '2031-12-31', freq='M'))\n",
    "s['2030']"
   ]
  },
  {
   "cell_type": "code",
   "execution_count": 210,
   "id": "9e351253",
   "metadata": {},
   "outputs": [
    {
     "data": {
      "text/plain": [
       "DatetimeIndex(['2022-01-17', '2022-02-21', '2022-05-30', '2022-07-04',\n",
       "               '2022-09-05', '2022-10-10', '2022-11-11', '2022-11-24',\n",
       "               '2022-12-26'],\n",
       "              dtype='datetime64[ns]', freq=None)"
      ]
     },
     "execution_count": 210,
     "metadata": {},
     "output_type": "execute_result"
    }
   ],
   "source": [
    "# 30 Write a Pandas program to generate holidays between two dates using the US federal holiday calendar. \n",
    "\n",
    "from pandas.tseries.holiday import *\n",
    "\n",
    "cal = USFederalHolidayCalendar()\n",
    "cal.holidays(start=datetime(2022, 1, 1), end=datetime(2022, 12, 31))"
   ]
  },
  {
   "cell_type": "code",
   "execution_count": 212,
   "id": "f1b94dd5",
   "metadata": {},
   "outputs": [
    {
     "data": {
      "text/plain": [
       "['January',\n",
       " 'February',\n",
       " 'March',\n",
       " 'April',\n",
       " 'May',\n",
       " 'June',\n",
       " 'July',\n",
       " 'August',\n",
       " 'September',\n",
       " 'October',\n",
       " 'November',\n",
       " 'December']"
      ]
     },
     "execution_count": 212,
     "metadata": {},
     "output_type": "execute_result"
    }
   ],
   "source": [
    "# 31 Write a Pandas program to create a monthly time period \n",
    "# and display the list of names in the current local scope.\n",
    "\n",
    "[date.strftime('%B') for date in pd.period_range('2022-1-1', '2022-12-31', freq='M')]"
   ]
  },
  {
   "cell_type": "code",
   "execution_count": 216,
   "id": "7ec9d369",
   "metadata": {},
   "outputs": [],
   "source": [
    "# 32 Write a Pandas program to create a yearly time period from a specified year \n",
    "# and display the properties of this period. \n",
    "\n",
    "pr = pd.Period('2022')"
   ]
  },
  {
   "cell_type": "code",
   "execution_count": 217,
   "id": "06143291",
   "metadata": {},
   "outputs": [
    {
     "data": {
      "text/plain": [
       "['__add__',\n",
       " '__class__',\n",
       " '__delattr__',\n",
       " '__dict__',\n",
       " '__dir__',\n",
       " '__doc__',\n",
       " '__eq__',\n",
       " '__format__',\n",
       " '__ge__',\n",
       " '__getattribute__',\n",
       " '__gt__',\n",
       " '__hash__',\n",
       " '__init__',\n",
       " '__init_subclass__',\n",
       " '__le__',\n",
       " '__lt__',\n",
       " '__module__',\n",
       " '__ne__',\n",
       " '__new__',\n",
       " '__pyx_vtable__',\n",
       " '__radd__',\n",
       " '__reduce__',\n",
       " '__reduce_ex__',\n",
       " '__repr__',\n",
       " '__rsub__',\n",
       " '__setattr__',\n",
       " '__setstate__',\n",
       " '__sizeof__',\n",
       " '__str__',\n",
       " '__sub__',\n",
       " '__subclasshook__',\n",
       " '__weakref__',\n",
       " '_add_offset',\n",
       " '_add_timedeltalike_scalar',\n",
       " '_dtype',\n",
       " '_from_ordinal',\n",
       " '_get_to_timestamp_base',\n",
       " '_maybe_convert_freq',\n",
       " '_require_matching_freq',\n",
       " 'asfreq',\n",
       " 'day',\n",
       " 'day_of_week',\n",
       " 'day_of_year',\n",
       " 'dayofweek',\n",
       " 'dayofyear',\n",
       " 'days_in_month',\n",
       " 'daysinmonth',\n",
       " 'end_time',\n",
       " 'freq',\n",
       " 'freqstr',\n",
       " 'hour',\n",
       " 'is_leap_year',\n",
       " 'minute',\n",
       " 'month',\n",
       " 'now',\n",
       " 'ordinal',\n",
       " 'quarter',\n",
       " 'qyear',\n",
       " 'second',\n",
       " 'start_time',\n",
       " 'strftime',\n",
       " 'to_timestamp',\n",
       " 'week',\n",
       " 'weekday',\n",
       " 'weekofyear',\n",
       " 'year']"
      ]
     },
     "execution_count": 217,
     "metadata": {},
     "output_type": "execute_result"
    }
   ],
   "source": [
    "dir(pr)"
   ]
  }
 ],
 "metadata": {
  "kernelspec": {
   "display_name": "Python 3 (ipykernel)",
   "language": "python",
   "name": "python3"
  },
  "language_info": {
   "codemirror_mode": {
    "name": "ipython",
    "version": 3
   },
   "file_extension": ".py",
   "mimetype": "text/x-python",
   "name": "python",
   "nbconvert_exporter": "python",
   "pygments_lexer": "ipython3",
   "version": "3.9.7"
  },
  "toc": {
   "base_numbering": 1,
   "nav_menu": {},
   "number_sections": true,
   "sideBar": true,
   "skip_h1_title": false,
   "title_cell": "Table of Contents",
   "title_sidebar": "Contents",
   "toc_cell": false,
   "toc_position": {},
   "toc_section_display": true,
   "toc_window_display": false
  }
 },
 "nbformat": 4,
 "nbformat_minor": 5
}
