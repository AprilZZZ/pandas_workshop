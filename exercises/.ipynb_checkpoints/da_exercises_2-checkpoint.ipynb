{
 "cells": [
  {
   "cell_type": "markdown",
   "id": "39e97636",
   "metadata": {},
   "source": [
    "This notebook contains the second part of exercises from:\n",
    "https://www.w3resource.com/python-exercises/pandas/index.php\n"
   ]
  },
  {
   "cell_type": "code",
   "execution_count": 1,
   "id": "f71921b2",
   "metadata": {},
   "outputs": [],
   "source": [
    "import pandas as pd\n",
    "import numpy as np"
   ]
  },
  {
   "cell_type": "markdown",
   "id": "0850f5f4",
   "metadata": {},
   "source": [
    "# Pandas Joining and merging DataFrame [ 15 exercises with solution]"
   ]
  },
  {
   "cell_type": "code",
   "execution_count": 2,
   "id": "8e7144f4",
   "metadata": {},
   "outputs": [
    {
     "ename": "NameError",
     "evalue": "name 'df1_1' is not defined",
     "output_type": "error",
     "traceback": [
      "\u001b[0;31m---------------------------------------------------------------------------\u001b[0m",
      "\u001b[0;31mNameError\u001b[0m                                 Traceback (most recent call last)",
      "\u001b[0;32m/var/folders/lq/8xyjvtzs5m74h82472673s0h0000gn/T/ipykernel_84350/3354130360.py\u001b[0m in \u001b[0;36m<module>\u001b[0;34m\u001b[0m\n\u001b[1;32m      2\u001b[0m \u001b[0;31m# df1_1 = pd.read_clipboard()\u001b[0m\u001b[0;34m\u001b[0m\u001b[0;34m\u001b[0m\u001b[0m\n\u001b[1;32m      3\u001b[0m \u001b[0;31m# df1_2 = pd.read_clipboard()\u001b[0m\u001b[0;34m\u001b[0m\u001b[0;34m\u001b[0m\u001b[0m\n\u001b[0;32m----> 4\u001b[0;31m \u001b[0mpd\u001b[0m\u001b[0;34m.\u001b[0m\u001b[0mconcat\u001b[0m\u001b[0;34m(\u001b[0m\u001b[0;34m[\u001b[0m\u001b[0mdf1_1\u001b[0m\u001b[0;34m,\u001b[0m \u001b[0mdf1_2\u001b[0m\u001b[0;34m]\u001b[0m\u001b[0;34m)\u001b[0m\u001b[0;34m\u001b[0m\u001b[0;34m\u001b[0m\u001b[0m\n\u001b[0m\u001b[1;32m      5\u001b[0m \u001b[0mpd\u001b[0m\u001b[0;34m.\u001b[0m\u001b[0mmerge\u001b[0m\u001b[0;34m(\u001b[0m\u001b[0mdf1_1\u001b[0m\u001b[0;34m,\u001b[0m \u001b[0mdf1_2\u001b[0m\u001b[0;34m,\u001b[0m \u001b[0mhow\u001b[0m\u001b[0;34m=\u001b[0m\u001b[0;34m'outer'\u001b[0m\u001b[0;34m)\u001b[0m\u001b[0;34m\u001b[0m\u001b[0;34m\u001b[0m\u001b[0m\n",
      "\u001b[0;31mNameError\u001b[0m: name 'df1_1' is not defined"
     ]
    }
   ],
   "source": [
    "# 1 Write a Pandas program to join the two given dataframes along rows and assign all data.\n",
    "# df1_1 = pd.read_clipboard()\n",
    "# df1_2 = pd.read_clipboard()\n",
    "pd.concat([df1_1, df1_2])\n",
    "pd.merge(df1_1, df1_2, how='outer')"
   ]
  },
  {
   "cell_type": "code",
   "execution_count": null,
   "id": "e1dcb3a9",
   "metadata": {},
   "outputs": [],
   "source": [
    "# 2 Write a Pandas program to join the two given dataframes along columns and assign all data.\n",
    "# df1_1.join(df1_2, how='outer', rsuffix='_2')\n",
    "pd.concat([df1_1, df1_2], axis=1)"
   ]
  },
  {
   "cell_type": "code",
   "execution_count": null,
   "id": "7424a0fa",
   "metadata": {},
   "outputs": [],
   "source": [
    "# 3 Write a Pandas program to append rows to an existing DataFrame and display the combined data.\n",
    "new_row = pd.DataFrame({\n",
    "    'student_id': 'S6',\n",
    "    'name': 'Scarlette Fisher',\n",
    "    'marks': 205\n",
    "}, index=[0])\n",
    "pd.concat([df1_1, new_row])\n",
    "# or\n",
    "# s6 = pd.Series(['S6', 'Scarlette Fisher', 205], index=['student_id', 'name', 'marks'])\n",
    "# df1_1.append(s6, ignore_index=True)"
   ]
  },
  {
   "cell_type": "code",
   "execution_count": null,
   "id": "5dea78ee",
   "metadata": {},
   "outputs": [],
   "source": [
    "# 4 Write a Pandas program to append a list of dictioneries or series \n",
    "# to a existing DataFrame and display the combined data.\n",
    "dicts = [{'student_id': 'S6', 'name': 'Scarlette Fisher', 'marks': 203},\n",
    "         {'student_id': 'S7', 'name': 'Bryce Jensen', 'marks': 207}]\n",
    "df1_1.append(dicts, ignore_index=True)"
   ]
  },
  {
   "cell_type": "code",
   "execution_count": null,
   "id": "a8c32d3c",
   "metadata": {},
   "outputs": [],
   "source": [
    "# 5 Write a Pandas program to join the two given dataframes along rows \n",
    "# and merge with another dataframe along the common column id.\n",
    "# df_exam = pd.read_clipboard()\n",
    "df_exam\n",
    "pd.concat([df1_1, df1_2]).merge(df_exam)"
   ]
  },
  {
   "cell_type": "code",
   "execution_count": null,
   "id": "21f78f75",
   "metadata": {},
   "outputs": [],
   "source": [
    "# 6 Write a Pandas program to join the two dataframes using the common column of both dataframes.\n",
    "df1_1.merge(df1_2, on='student_id')"
   ]
  },
  {
   "cell_type": "code",
   "execution_count": null,
   "id": "03b8e4bf",
   "metadata": {},
   "outputs": [],
   "source": [
    "# 7 Write a Pandas program to join the two dataframes with matching records from both sides where available. \n",
    "df1_1.merge(df1_2, on='student_id', how='outer')"
   ]
  },
  {
   "cell_type": "code",
   "execution_count": null,
   "id": "cd173a54",
   "metadata": {},
   "outputs": [],
   "source": [
    "# 8 Write a Pandas program to join (left join) the two dataframes using keys from left dataframe only.\n",
    "# df8_1 = pd.read_clipboard()\n",
    "# df8_2 = pd.read_clipboard()\n",
    "df8_1.merge(df8_2, on=['key1', 'key2'], how='left')"
   ]
  },
  {
   "cell_type": "code",
   "execution_count": null,
   "id": "5de502cb",
   "metadata": {},
   "outputs": [],
   "source": [
    "# 9 Write a Pandas program to join two dataframes using keys from right dataframe only.\n",
    "df8_1.merge(df8_2, on=['key1', 'key2'], how='right')"
   ]
  },
  {
   "cell_type": "code",
   "execution_count": null,
   "id": "4bc85164",
   "metadata": {},
   "outputs": [],
   "source": [
    "# 10 Write a Pandas program to merge two given datasets using multiple join keys.\n",
    "df8_1.merge(df8_2, on=['key1', 'key2'])"
   ]
  },
  {
   "cell_type": "code",
   "execution_count": null,
   "id": "54aa3aad",
   "metadata": {},
   "outputs": [],
   "source": [
    "# 11 Write a Pandas program to create a new DataFrame based on existing series, \n",
    "# using specified argument and override the existing columns names.\n",
    "student_id = pd.Series(['S5', 'S4'])\n",
    "name = pd.Series(['Kwame Morin', 'Ed Bernal'])\n",
    "marks = pd.Series([199.0, 222.0])\n",
    "df = pd.concat([student_id, name, marks], axis=1, keys=['student_id', 'name', 'marks'])\n",
    "df"
   ]
  },
  {
   "cell_type": "code",
   "execution_count": null,
   "id": "7f2ce0cd",
   "metadata": {},
   "outputs": [],
   "source": [
    "# 12 Write a Pandas program to create a combination from two dataframes \n",
    "# where a column id combination appears more than once in both dataframes.\n",
    "pd.merge(df8_1, df8_2, on='key1')"
   ]
  },
  {
   "cell_type": "code",
   "execution_count": null,
   "id": "07ed027e",
   "metadata": {},
   "outputs": [],
   "source": [
    "# 13 Write a Pandas program to combine the columns of two potentially \n",
    "# differently-indexed DataFrames into a single result DataFrame.\n",
    "# df13_1 = pd.read_clipboard()\n",
    "# df13_2 = pd.read_clipboard()\n",
    "pd.merge(df13_1, df13_2, how='outer', left_index=True, right_index=True)"
   ]
  },
  {
   "cell_type": "code",
   "execution_count": null,
   "id": "b0c1c0db",
   "metadata": {},
   "outputs": [],
   "source": [
    "# 14 Write a Pandas program to merge two given dataframes with different columns.\n",
    "# df14_1 = pd.read_clipboard()\n",
    "# df14_2 = pd.read_clipboard()\n",
    "pd.concat([df14_1, df14_2], axis=0, ignore_index=True)"
   ]
  },
  {
   "cell_type": "code",
   "execution_count": null,
   "id": "4c45bdf0",
   "metadata": {},
   "outputs": [],
   "source": [
    "# 15 Write a Pandas program to Combine two DataFrame objects by filling \n",
    "# null values in one DataFrame with non-null values from other DataFrame. \n",
    "# df15_1 = pd.read_clipboard()\n",
    "# df15_2 = pd.read_clipboard()\n",
    "df15_1.combine_first(df15_2)"
   ]
  },
  {
   "cell_type": "code",
   "execution_count": null,
   "id": "fad6a563",
   "metadata": {},
   "outputs": [],
   "source": [
    "df15_2.combine_first(df15_1)"
   ]
  },
  {
   "cell_type": "markdown",
   "id": "b5223138",
   "metadata": {},
   "source": [
    "# Pandas String and Regular Expression [ 41 exercises with solution]"
   ]
  },
  {
   "cell_type": "code",
   "execution_count": 3,
   "id": "876bbd9a",
   "metadata": {},
   "outputs": [
    {
     "data": {
      "text/plain": [
       "0    7\n",
       "1    5\n",
       "2    5\n",
       "3    5\n",
       "4    5\n",
       "5    6\n",
       "dtype: int64"
      ]
     },
     "execution_count": 3,
     "metadata": {},
     "output_type": "execute_result"
    }
   ],
   "source": [
    "# 1 Write a Pandas program to convert all the string values to upper, \n",
    "# lower cases in a given pandas series. Also find the length of the string values.\n",
    "sr1 = pd.Series(['annabel', 'april', 'elisa', 'maria', 'lenny', 'george'])\n",
    "sr1.str.upper().str.lower().str.len()"
   ]
  },
  {
   "cell_type": "code",
   "execution_count": 4,
   "id": "512bd1f5",
   "metadata": {},
   "outputs": [
    {
     "data": {
      "text/plain": [
       "array(['annabel', 'april', 'elisa', 'maria', 'lenny', 'george'],\n",
       "      dtype=object)"
      ]
     },
     "execution_count": 4,
     "metadata": {},
     "output_type": "execute_result"
    }
   ],
   "source": [
    "# 2 Write a Pandas program to remove whitespaces, left sided whitespaces \n",
    "# and right sided whitespaces of the string values of a given pandas series.\n",
    "sr2 = pd.Series(['   annabel   ', '   april   ', '   elisa   ', '   maria   ', '   lenny   ', '   george   '])\n",
    "sr2.str.strip().values"
   ]
  },
  {
   "cell_type": "markdown",
   "id": "85d248b4",
   "metadata": {},
   "source": [
    "The `format()` method formats the specified value(s) and insert them inside the string's placeholder.\n",
    "The placeholder is defined using curly brackets: `{}`. The `format()`method returns the formatted string.\n",
    "\n",
    "The placeholders can be identified using named indexes `{price}`, numbered indexes `{0}`, or even empty placeholders `{}`.\n",
    "\n",
    "Inside the placeholders you can add a formatting type to format the result:\n",
    "- `:<` Left aligns the result (within the available space)\n",
    "- `:>` Right aligns the result (within the available space)\n",
    "- `:^` Center aligns the result (within the available space)\n",
    "- `:_` Use a underscore as a thousand separator"
   ]
  },
  {
   "cell_type": "code",
   "execution_count": 10,
   "id": "06728469",
   "metadata": {},
   "outputs": [
    {
     "data": {
      "text/plain": [
       "0     00000010\n",
       "1     00000210\n",
       "2     00000410\n",
       "3     00000610\n",
       "4     00000810\n",
       "5     00001010\n",
       "6     00001210\n",
       "7     00001410\n",
       "8     00001610\n",
       "9     00001810\n",
       "10    00002010\n",
       "11    00002210\n",
       "12    00002410\n",
       "13    00002610\n",
       "14    00002810\n",
       "15    00003010\n",
       "16    00003210\n",
       "17    00003410\n",
       "18    00003610\n",
       "19    00003810\n",
       "dtype: object"
      ]
     },
     "execution_count": 10,
     "metadata": {},
     "output_type": "execute_result"
    }
   ],
   "source": [
    "# 3 Write a Pandas program to add leading zeros to the integer column \n",
    "# in a pandas series and makes the length of the field to 8 digit.\n",
    "sr3 = pd.Series(list(range(10, 4000, 200)))\n",
    "sr3.apply(lambda x: '{:0>8}'.format(x))"
   ]
  },
  {
   "cell_type": "code",
   "execution_count": 8,
   "id": "303ef572",
   "metadata": {},
   "outputs": [
    {
     "data": {
      "text/plain": [
       "0    000000am\n",
       "1    0000ummm\n",
       "2    00shrink\n",
       "3    0looosee\n",
       "dtype: object"
      ]
     },
     "execution_count": 8,
     "metadata": {},
     "output_type": "execute_result"
    }
   ],
   "source": [
    "# 4  Write a Pandas program to add leading zeros to the character column \n",
    "# in a pandas series and makes the length of the field to 8 digit.\n",
    "sr4 = pd.Series(['am', 'ummm', 'shrink', 'looosee'])\n",
    "sr4.str.zfill(8)"
   ]
  },
  {
   "cell_type": "code",
   "execution_count": 16,
   "id": "70c94744",
   "metadata": {},
   "outputs": [
    {
     "data": {
      "text/plain": [
       "0       annabel   \n",
       "1         april   \n",
       "2         elisa   \n",
       "3         maria   \n",
       "4         lenny   \n",
       "5        george   \n",
       "dtype: object"
      ]
     },
     "execution_count": 16,
     "metadata": {},
     "output_type": "execute_result"
    }
   ],
   "source": [
    "# 5 Write a Pandas program to capitalize all the string values of specified columns of a given DataFrame.\n",
    "sr2.str.capitalize()"
   ]
  },
  {
   "cell_type": "code",
   "execution_count": 19,
   "id": "b96ae212",
   "metadata": {},
   "outputs": [
    {
     "data": {
      "text/plain": [
       "False    4\n",
       "True     2\n",
       "dtype: int64"
      ]
     },
     "execution_count": 19,
     "metadata": {},
     "output_type": "execute_result"
    }
   ],
   "source": [
    "# 6 Write a Pandas program to count of occurrence of a specified substring in a DataFrame column.\n",
    "sr2.str.contains('ri').value_counts()"
   ]
  },
  {
   "cell_type": "code",
   "execution_count": 22,
   "id": "fc33a71e",
   "metadata": {},
   "outputs": [
    {
     "data": {
      "text/plain": [
       "'                                The war should be ended immediately                                 '"
      ]
     },
     "execution_count": 22,
     "metadata": {},
     "output_type": "execute_result"
    }
   ],
   "source": [
    "s = 'The war should be ended immediately'\n",
    "s.center(100)"
   ]
  },
  {
   "cell_type": "code",
   "execution_count": 23,
   "id": "638926c1",
   "metadata": {},
   "outputs": [],
   "source": [
    "import re\n",
    "\n",
    "regexp = re.compile('[-0-5]')"
   ]
  },
  {
   "cell_type": "code",
   "execution_count": 24,
   "id": "c0d47bfe",
   "metadata": {},
   "outputs": [
    {
     "data": {
      "text/plain": [
       "re.compile(r'[-0-5]', re.UNICODE)"
      ]
     },
     "execution_count": 24,
     "metadata": {},
     "output_type": "execute_result"
    }
   ],
   "source": [
    "regexp"
   ]
  },
  {
   "cell_type": "code",
   "execution_count": 26,
   "id": "6cb82bd3",
   "metadata": {},
   "outputs": [
    {
     "data": {
      "text/plain": [
       "<re.Match object; span=(0, 1), match='-'>"
      ]
     },
     "execution_count": 26,
     "metadata": {},
     "output_type": "execute_result"
    }
   ],
   "source": [
    "string = '-5-4-3-2-1'\n",
    "find = regexp.search(string)\n",
    "find"
   ]
  },
  {
   "cell_type": "code",
   "execution_count": null,
   "id": "f1dbd258",
   "metadata": {},
   "outputs": [],
   "source": []
  }
 ],
 "metadata": {
  "kernelspec": {
   "display_name": "Python 3 (ipykernel)",
   "language": "python",
   "name": "python3"
  },
  "language_info": {
   "codemirror_mode": {
    "name": "ipython",
    "version": 3
   },
   "file_extension": ".py",
   "mimetype": "text/x-python",
   "name": "python",
   "nbconvert_exporter": "python",
   "pygments_lexer": "ipython3",
   "version": "3.9.7"
  },
  "toc": {
   "base_numbering": 1,
   "nav_menu": {},
   "number_sections": true,
   "sideBar": true,
   "skip_h1_title": false,
   "title_cell": "Table of Contents",
   "title_sidebar": "Contents",
   "toc_cell": false,
   "toc_position": {},
   "toc_section_display": true,
   "toc_window_display": false
  }
 },
 "nbformat": 4,
 "nbformat_minor": 5
}
