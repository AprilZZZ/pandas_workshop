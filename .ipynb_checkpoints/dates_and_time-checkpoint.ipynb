{
 "cells": [
  {
   "cell_type": "code",
   "execution_count": 23,
   "id": "57dee91a",
   "metadata": {},
   "outputs": [],
   "source": [
    "import pandas as pd\n",
    "import numpy as np\n",
    "import random"
   ]
  },
  {
   "cell_type": "markdown",
   "id": "7a91ca79",
   "metadata": {},
   "source": [
    "# Working with dates and time in Pandas"
   ]
  },
  {
   "cell_type": "code",
   "execution_count": 105,
   "id": "1c58dd6e",
   "metadata": {},
   "outputs": [],
   "source": [
    "s = pd.to_datetime(pd.Series([\n",
    "        '1990-05-31 10:00',\\\n",
    "        '1995-06-05 15:00',\\\n",
    "        '2020-09-09 12:00']\n",
    "))"
   ]
  },
  {
   "cell_type": "markdown",
   "id": "604230b2",
   "metadata": {},
   "source": [
    "## Series.dt methods\n",
    "\n",
    "When you're working with datetime data (`dtype` = `datetime64 [ns]`), `pandas` comes with a set of methods that are only available to datetime data. These methods can be accessed through the `dt` attribute when used in a pandas series."
   ]
  },
  {
   "cell_type": "code",
   "execution_count": 106,
   "id": "72c16a36",
   "metadata": {},
   "outputs": [
    {
     "data": {
      "text/plain": [
       "0    1990-05-31\n",
       "1    1995-06-05\n",
       "2    2020-09-09\n",
       "dtype: object"
      ]
     },
     "execution_count": 106,
     "metadata": {},
     "output_type": "execute_result"
    }
   ],
   "source": [
    "# displaying the date\n",
    "s.dt.date"
   ]
  },
  {
   "cell_type": "code",
   "execution_count": 107,
   "id": "fd750069",
   "metadata": {},
   "outputs": [
    {
     "data": {
      "text/plain": [
       "0    10:00:00\n",
       "1    15:00:00\n",
       "2    12:00:00\n",
       "dtype: object"
      ]
     },
     "execution_count": 107,
     "metadata": {},
     "output_type": "execute_result"
    }
   ],
   "source": [
    "# displaying the time\n",
    "s.dt.time"
   ]
  },
  {
   "cell_type": "code",
   "execution_count": 108,
   "id": "9c32798d",
   "metadata": {},
   "outputs": [
    {
     "data": {
      "text/plain": [
       "0    1990\n",
       "1    1995\n",
       "2    2020\n",
       "dtype: int64"
      ]
     },
     "execution_count": 108,
     "metadata": {},
     "output_type": "execute_result"
    }
   ],
   "source": [
    "# displaying the year\n",
    "s.dt.year"
   ]
  },
  {
   "cell_type": "code",
   "execution_count": 109,
   "id": "dc69de03",
   "metadata": {},
   "outputs": [
    {
     "data": {
      "text/plain": [
       "0    5\n",
       "1    6\n",
       "2    9\n",
       "dtype: int64"
      ]
     },
     "execution_count": 109,
     "metadata": {},
     "output_type": "execute_result"
    }
   ],
   "source": [
    "# displaying the month\n",
    "s.dt.month"
   ]
  },
  {
   "cell_type": "code",
   "execution_count": 110,
   "id": "dcf77788",
   "metadata": {},
   "outputs": [
    {
     "data": {
      "text/plain": [
       "0    31\n",
       "1     5\n",
       "2     9\n",
       "dtype: int64"
      ]
     },
     "execution_count": 110,
     "metadata": {},
     "output_type": "execute_result"
    }
   ],
   "source": [
    "# displaying the day\n",
    "s.dt.day"
   ]
  },
  {
   "cell_type": "code",
   "execution_count": 111,
   "id": "c696dce9",
   "metadata": {},
   "outputs": [
    {
     "data": {
      "text/plain": [
       "0    10\n",
       "1    15\n",
       "2    12\n",
       "dtype: int64"
      ]
     },
     "execution_count": 111,
     "metadata": {},
     "output_type": "execute_result"
    }
   ],
   "source": [
    "# displaying the hour\n",
    "s.dt.hour"
   ]
  },
  {
   "cell_type": "code",
   "execution_count": 7,
   "id": "85a92a3d",
   "metadata": {},
   "outputs": [
    {
     "data": {
      "text/plain": [
       "0     Thursday\n",
       "1       Monday\n",
       "2    Wednesday\n",
       "dtype: object"
      ]
     },
     "execution_count": 7,
     "metadata": {},
     "output_type": "execute_result"
    }
   ],
   "source": [
    "# displaying the day name of each date\n",
    "s.dt.day_name()"
   ]
  },
  {
   "cell_type": "code",
   "execution_count": 8,
   "id": "8a74286f",
   "metadata": {},
   "outputs": [
    {
     "data": {
      "text/plain": [
       "0          May\n",
       "1         June\n",
       "2    September\n",
       "dtype: object"
      ]
     },
     "execution_count": 8,
     "metadata": {},
     "output_type": "execute_result"
    }
   ],
   "source": [
    "# month name\n",
    "s.dt.month_name()"
   ]
  },
  {
   "cell_type": "code",
   "execution_count": 113,
   "id": "927b69eb",
   "metadata": {},
   "outputs": [
    {
     "data": {
      "text/plain": [
       "0    151\n",
       "1    156\n",
       "2    253\n",
       "dtype: int64"
      ]
     },
     "execution_count": 113,
     "metadata": {},
     "output_type": "execute_result"
    }
   ],
   "source": [
    "# day of year\n",
    "s.dt.dayofyear"
   ]
  },
  {
   "cell_type": "code",
   "execution_count": 115,
   "id": "a85755c8",
   "metadata": {},
   "outputs": [
    {
     "data": {
      "text/html": [
       "<div>\n",
       "<style scoped>\n",
       "    .dataframe tbody tr th:only-of-type {\n",
       "        vertical-align: middle;\n",
       "    }\n",
       "\n",
       "    .dataframe tbody tr th {\n",
       "        vertical-align: top;\n",
       "    }\n",
       "\n",
       "    .dataframe thead th {\n",
       "        text-align: right;\n",
       "    }\n",
       "</style>\n",
       "<table border=\"1\" class=\"dataframe\">\n",
       "  <thead>\n",
       "    <tr style=\"text-align: right;\">\n",
       "      <th></th>\n",
       "      <th>year</th>\n",
       "      <th>week</th>\n",
       "      <th>day</th>\n",
       "    </tr>\n",
       "  </thead>\n",
       "  <tbody>\n",
       "    <tr>\n",
       "      <th>0</th>\n",
       "      <td>1990</td>\n",
       "      <td>22</td>\n",
       "      <td>4</td>\n",
       "    </tr>\n",
       "    <tr>\n",
       "      <th>1</th>\n",
       "      <td>1995</td>\n",
       "      <td>23</td>\n",
       "      <td>1</td>\n",
       "    </tr>\n",
       "    <tr>\n",
       "      <th>2</th>\n",
       "      <td>2020</td>\n",
       "      <td>37</td>\n",
       "      <td>3</td>\n",
       "    </tr>\n",
       "  </tbody>\n",
       "</table>\n",
       "</div>"
      ],
      "text/plain": [
       "   year  week  day\n",
       "0  1990    22    4\n",
       "1  1995    23    1\n",
       "2  2020    37    3"
      ]
     },
     "execution_count": 115,
     "metadata": {},
     "output_type": "execute_result"
    }
   ],
   "source": [
    "# splitting Series of datetime type to the DataFrame with columns year, week and day\n",
    "s.dt.isocalendar()"
   ]
  },
  {
   "cell_type": "markdown",
   "id": "5693cd2c",
   "metadata": {},
   "source": [
    "## Series.timedelta methods\n",
    "\n",
    "When you're working with time difference data (`dtype` = `timedelta64[ns]`), `pandas` come with a set of methods that are only available to different data. These methods can be accessed through the `dt` attribute when used in a pandas series."
   ]
  },
  {
   "cell_type": "code",
   "execution_count": 9,
   "id": "8605f57c",
   "metadata": {},
   "outputs": [
    {
     "data": {
      "text/plain": [
       "0   -10807 days\n",
       "1    -8976 days\n",
       "2      252 days\n",
       "dtype: timedelta64[ns]"
      ]
     },
     "execution_count": 9,
     "metadata": {},
     "output_type": "execute_result"
    }
   ],
   "source": [
    "# defining a series with timedelta\n",
    "s = pd.to_datetime(pd.Series([\n",
    "    '1990-05-31',\\\n",
    "    '1995-06-05',\\\n",
    "    '2020-09-09']))\\\n",
    "    - pd.to_datetime('2020-01-01')\n",
    "s"
   ]
  },
  {
   "cell_type": "code",
   "execution_count": 10,
   "id": "25ff846b",
   "metadata": {},
   "outputs": [
    {
     "data": {
      "text/plain": [
       "0   -933724800.0\n",
       "1   -775526400.0\n",
       "2     21772800.0\n",
       "dtype: float64"
      ]
     },
     "execution_count": 10,
     "metadata": {},
     "output_type": "execute_result"
    }
   ],
   "source": [
    "# displaying the number of seconds\n",
    "s.dt.total_seconds()"
   ]
  },
  {
   "cell_type": "code",
   "execution_count": 11,
   "id": "67d40848",
   "metadata": {},
   "outputs": [
    {
     "data": {
      "text/plain": [
       "array([datetime.timedelta(days=-10807), datetime.timedelta(days=-8976),\n",
       "       datetime.timedelta(days=252)], dtype=object)"
      ]
     },
     "execution_count": 11,
     "metadata": {},
     "output_type": "execute_result"
    }
   ],
   "source": [
    "# displaying the series as datetime.timdelta array\n",
    "s.dt.to_pytimedelta()"
   ]
  },
  {
   "cell_type": "code",
   "execution_count": 14,
   "id": "c12308fb",
   "metadata": {},
   "outputs": [
    {
     "data": {
      "text/html": [
       "<div>\n",
       "<style scoped>\n",
       "    .dataframe tbody tr th:only-of-type {\n",
       "        vertical-align: middle;\n",
       "    }\n",
       "\n",
       "    .dataframe tbody tr th {\n",
       "        vertical-align: top;\n",
       "    }\n",
       "\n",
       "    .dataframe thead th {\n",
       "        text-align: right;\n",
       "    }\n",
       "</style>\n",
       "<table border=\"1\" class=\"dataframe\">\n",
       "  <thead>\n",
       "    <tr style=\"text-align: right;\">\n",
       "      <th></th>\n",
       "      <th>days</th>\n",
       "      <th>hours</th>\n",
       "      <th>minutes</th>\n",
       "      <th>seconds</th>\n",
       "      <th>milliseconds</th>\n",
       "      <th>microseconds</th>\n",
       "      <th>nanoseconds</th>\n",
       "    </tr>\n",
       "  </thead>\n",
       "  <tbody>\n",
       "    <tr>\n",
       "      <th>0</th>\n",
       "      <td>-10807</td>\n",
       "      <td>0</td>\n",
       "      <td>0</td>\n",
       "      <td>0</td>\n",
       "      <td>0</td>\n",
       "      <td>0</td>\n",
       "      <td>0</td>\n",
       "    </tr>\n",
       "    <tr>\n",
       "      <th>1</th>\n",
       "      <td>-8976</td>\n",
       "      <td>0</td>\n",
       "      <td>0</td>\n",
       "      <td>0</td>\n",
       "      <td>0</td>\n",
       "      <td>0</td>\n",
       "      <td>0</td>\n",
       "    </tr>\n",
       "    <tr>\n",
       "      <th>2</th>\n",
       "      <td>252</td>\n",
       "      <td>0</td>\n",
       "      <td>0</td>\n",
       "      <td>0</td>\n",
       "      <td>0</td>\n",
       "      <td>0</td>\n",
       "      <td>0</td>\n",
       "    </tr>\n",
       "  </tbody>\n",
       "</table>\n",
       "</div>"
      ],
      "text/plain": [
       "    days  hours  minutes  seconds  milliseconds  microseconds  nanoseconds\n",
       "0 -10807      0        0        0             0             0            0\n",
       "1  -8976      0        0        0             0             0            0\n",
       "2    252      0        0        0             0             0            0"
      ]
     },
     "execution_count": 14,
     "metadata": {},
     "output_type": "execute_result"
    }
   ],
   "source": [
    "# displaying each time component\n",
    "s.dt.components"
   ]
  },
  {
   "cell_type": "code",
   "execution_count": 17,
   "id": "ff50b079",
   "metadata": {},
   "outputs": [
    {
     "data": {
      "text/plain": [
       "0     2022-02-24\n",
       "1     2022-02-25\n",
       "2     2022-02-26\n",
       "3     2022-02-27\n",
       "4     2022-02-28\n",
       "         ...    \n",
       "261   2022-11-12\n",
       "262   2022-11-13\n",
       "263   2022-11-14\n",
       "264   2022-11-15\n",
       "265   2022-11-16\n",
       "Length: 266, dtype: datetime64[ns]"
      ]
     },
     "execution_count": 17,
     "metadata": {},
     "output_type": "execute_result"
    }
   ],
   "source": [
    "dates = pd.date_range(start='2022-2-24', end='2022-11-16', freq='D')\n",
    "pd.Series(dates)"
   ]
  },
  {
   "cell_type": "markdown",
   "id": "44785bc4",
   "metadata": {},
   "source": [
    "## Converting argument to datetime with pd.to_datetime"
   ]
  },
  {
   "cell_type": "code",
   "execution_count": 36,
   "id": "cf6d9471",
   "metadata": {},
   "outputs": [
    {
     "data": {
      "text/html": [
       "<div>\n",
       "<style scoped>\n",
       "    .dataframe tbody tr th:only-of-type {\n",
       "        vertical-align: middle;\n",
       "    }\n",
       "\n",
       "    .dataframe tbody tr th {\n",
       "        vertical-align: top;\n",
       "    }\n",
       "\n",
       "    .dataframe thead th {\n",
       "        text-align: right;\n",
       "    }\n",
       "</style>\n",
       "<table border=\"1\" class=\"dataframe\">\n",
       "  <thead>\n",
       "    <tr style=\"text-align: right;\">\n",
       "      <th></th>\n",
       "      <th>year</th>\n",
       "      <th>month</th>\n",
       "      <th>day</th>\n",
       "      <th>datetime</th>\n",
       "    </tr>\n",
       "  </thead>\n",
       "  <tbody>\n",
       "    <tr>\n",
       "      <th>0</th>\n",
       "      <td>1900</td>\n",
       "      <td>1</td>\n",
       "      <td>1</td>\n",
       "      <td>1900-01-01</td>\n",
       "    </tr>\n",
       "    <tr>\n",
       "      <th>1</th>\n",
       "      <td>1905</td>\n",
       "      <td>2</td>\n",
       "      <td>2</td>\n",
       "      <td>1905-02-02</td>\n",
       "    </tr>\n",
       "    <tr>\n",
       "      <th>2</th>\n",
       "      <td>1910</td>\n",
       "      <td>3</td>\n",
       "      <td>3</td>\n",
       "      <td>1910-03-03</td>\n",
       "    </tr>\n",
       "    <tr>\n",
       "      <th>3</th>\n",
       "      <td>1915</td>\n",
       "      <td>4</td>\n",
       "      <td>4</td>\n",
       "      <td>1915-04-04</td>\n",
       "    </tr>\n",
       "    <tr>\n",
       "      <th>4</th>\n",
       "      <td>1920</td>\n",
       "      <td>5</td>\n",
       "      <td>5</td>\n",
       "      <td>1920-05-05</td>\n",
       "    </tr>\n",
       "    <tr>\n",
       "      <th>5</th>\n",
       "      <td>1925</td>\n",
       "      <td>6</td>\n",
       "      <td>6</td>\n",
       "      <td>1925-06-06</td>\n",
       "    </tr>\n",
       "    <tr>\n",
       "      <th>6</th>\n",
       "      <td>1930</td>\n",
       "      <td>7</td>\n",
       "      <td>7</td>\n",
       "      <td>1930-07-07</td>\n",
       "    </tr>\n",
       "    <tr>\n",
       "      <th>7</th>\n",
       "      <td>1935</td>\n",
       "      <td>8</td>\n",
       "      <td>8</td>\n",
       "      <td>1935-08-08</td>\n",
       "    </tr>\n",
       "    <tr>\n",
       "      <th>8</th>\n",
       "      <td>1940</td>\n",
       "      <td>9</td>\n",
       "      <td>9</td>\n",
       "      <td>1940-09-09</td>\n",
       "    </tr>\n",
       "    <tr>\n",
       "      <th>9</th>\n",
       "      <td>1945</td>\n",
       "      <td>10</td>\n",
       "      <td>10</td>\n",
       "      <td>1945-10-10</td>\n",
       "    </tr>\n",
       "    <tr>\n",
       "      <th>10</th>\n",
       "      <td>1950</td>\n",
       "      <td>11</td>\n",
       "      <td>11</td>\n",
       "      <td>1950-11-11</td>\n",
       "    </tr>\n",
       "    <tr>\n",
       "      <th>11</th>\n",
       "      <td>1955</td>\n",
       "      <td>12</td>\n",
       "      <td>12</td>\n",
       "      <td>1955-12-12</td>\n",
       "    </tr>\n",
       "    <tr>\n",
       "      <th>12</th>\n",
       "      <td>1960</td>\n",
       "      <td>1</td>\n",
       "      <td>13</td>\n",
       "      <td>1960-01-13</td>\n",
       "    </tr>\n",
       "    <tr>\n",
       "      <th>13</th>\n",
       "      <td>1965</td>\n",
       "      <td>2</td>\n",
       "      <td>14</td>\n",
       "      <td>1965-02-14</td>\n",
       "    </tr>\n",
       "    <tr>\n",
       "      <th>14</th>\n",
       "      <td>1970</td>\n",
       "      <td>3</td>\n",
       "      <td>15</td>\n",
       "      <td>1970-03-15</td>\n",
       "    </tr>\n",
       "    <tr>\n",
       "      <th>15</th>\n",
       "      <td>1975</td>\n",
       "      <td>4</td>\n",
       "      <td>16</td>\n",
       "      <td>1975-04-16</td>\n",
       "    </tr>\n",
       "    <tr>\n",
       "      <th>16</th>\n",
       "      <td>1980</td>\n",
       "      <td>5</td>\n",
       "      <td>17</td>\n",
       "      <td>1980-05-17</td>\n",
       "    </tr>\n",
       "    <tr>\n",
       "      <th>17</th>\n",
       "      <td>1985</td>\n",
       "      <td>6</td>\n",
       "      <td>18</td>\n",
       "      <td>1985-06-18</td>\n",
       "    </tr>\n",
       "    <tr>\n",
       "      <th>18</th>\n",
       "      <td>1990</td>\n",
       "      <td>7</td>\n",
       "      <td>19</td>\n",
       "      <td>1990-07-19</td>\n",
       "    </tr>\n",
       "    <tr>\n",
       "      <th>19</th>\n",
       "      <td>1995</td>\n",
       "      <td>8</td>\n",
       "      <td>20</td>\n",
       "      <td>1995-08-20</td>\n",
       "    </tr>\n",
       "  </tbody>\n",
       "</table>\n",
       "</div>"
      ],
      "text/plain": [
       "    year  month  day   datetime\n",
       "0   1900      1    1 1900-01-01\n",
       "1   1905      2    2 1905-02-02\n",
       "2   1910      3    3 1910-03-03\n",
       "3   1915      4    4 1915-04-04\n",
       "4   1920      5    5 1920-05-05\n",
       "5   1925      6    6 1925-06-06\n",
       "6   1930      7    7 1930-07-07\n",
       "7   1935      8    8 1935-08-08\n",
       "8   1940      9    9 1940-09-09\n",
       "9   1945     10   10 1945-10-10\n",
       "10  1950     11   11 1950-11-11\n",
       "11  1955     12   12 1955-12-12\n",
       "12  1960      1   13 1960-01-13\n",
       "13  1965      2   14 1965-02-14\n",
       "14  1970      3   15 1970-03-15\n",
       "15  1975      4   16 1975-04-16\n",
       "16  1980      5   17 1980-05-17\n",
       "17  1985      6   18 1985-06-18\n",
       "18  1990      7   19 1990-07-19\n",
       "19  1995      8   20 1995-08-20"
      ]
     },
     "execution_count": 36,
     "metadata": {},
     "output_type": "execute_result"
    }
   ],
   "source": [
    "# if a DF is provided, it should have columns: year, month and day\n",
    "\n",
    "years = list(range(1900, 2000, 5))\n",
    "months = [1, 2, 3, 4, 5, 6, 7, 8, 9, 10, 11, 12, 1, 2, 3, 4, 5, 6, 7, 8]\n",
    "days = list(range(1, 21))\n",
    "df = pd.DataFrame({\n",
    "    'year': years,\n",
    "    'month': months,\n",
    "    'day': days\n",
    "})\n",
    "df['datetime'] = pd.to_datetime(df)\n",
    "df"
   ]
  },
  {
   "cell_type": "code",
   "execution_count": 44,
   "id": "1ede934f",
   "metadata": {},
   "outputs": [
    {
     "data": {
      "text/html": [
       "<div>\n",
       "<style scoped>\n",
       "    .dataframe tbody tr th:only-of-type {\n",
       "        vertical-align: middle;\n",
       "    }\n",
       "\n",
       "    .dataframe tbody tr th {\n",
       "        vertical-align: top;\n",
       "    }\n",
       "\n",
       "    .dataframe thead th {\n",
       "        text-align: right;\n",
       "    }\n",
       "</style>\n",
       "<table border=\"1\" class=\"dataframe\">\n",
       "  <thead>\n",
       "    <tr style=\"text-align: right;\">\n",
       "      <th></th>\n",
       "      <th>dayfirst</th>\n",
       "      <th>yearfirst</th>\n",
       "    </tr>\n",
       "  </thead>\n",
       "  <tbody>\n",
       "    <tr>\n",
       "      <th>0</th>\n",
       "      <td>2012-11-10</td>\n",
       "      <td>2010-11-12</td>\n",
       "    </tr>\n",
       "    <tr>\n",
       "      <th>1</th>\n",
       "      <td>2012-12-11</td>\n",
       "      <td>2011-12-12</td>\n",
       "    </tr>\n",
       "    <tr>\n",
       "      <th>2</th>\n",
       "      <td>2011-10-12</td>\n",
       "      <td>2012-10-11</td>\n",
       "    </tr>\n",
       "    <tr>\n",
       "      <th>3</th>\n",
       "      <td>2007-03-05</td>\n",
       "      <td>2005-03-07</td>\n",
       "    </tr>\n",
       "  </tbody>\n",
       "</table>\n",
       "</div>"
      ],
      "text/plain": [
       "    dayfirst  yearfirst\n",
       "0 2012-11-10 2010-11-12\n",
       "1 2012-12-11 2011-12-12\n",
       "2 2011-10-12 2012-10-11\n",
       "3 2007-03-05 2005-03-07"
      ]
     },
     "execution_count": 44,
     "metadata": {},
     "output_type": "execute_result"
    }
   ],
   "source": [
    "# using datefirst and yearfirst arguments\n",
    "\n",
    "dates = ['10/11/12', '11/12/12', '12/10/11', '5/3/7']\n",
    "s1 = pd.to_datetime(pd.Series(dates), dayfirst=True)\n",
    "s2 = pd.to_datetime(pd.Series(dates), yearfirst=True)\n",
    "df = pd.DataFrame(data={'dayfirst': s1, 'yearfirst': s2})\n",
    "df"
   ]
  },
  {
   "cell_type": "code",
   "execution_count": 60,
   "id": "d3f57b70",
   "metadata": {},
   "outputs": [
    {
     "data": {
      "text/plain": [
       "0   1977-04-14\n",
       "1   2021-10-16\n",
       "2   1987-02-28\n",
       "3   1947-06-19\n",
       "4   1954-08-08\n",
       "dtype: datetime64[ns]"
      ]
     },
     "execution_count": 60,
     "metadata": {},
     "output_type": "execute_result"
    }
   ],
   "source": [
    "# using format argument to parse dates from strings\n",
    "\n",
    "dates = ['14/1977/4', '16/2021/10', '28/1987/2', '19/1947/6', '8/1954/8']\n",
    "df = pd.to_datetime(pd.Series(dates), format='%d/%Y/%m')\n",
    "df"
   ]
  },
  {
   "cell_type": "code",
   "execution_count": 62,
   "id": "a33593d2",
   "metadata": {},
   "outputs": [
    {
     "data": {
      "text/plain": [
       "0   1977-04-14\n",
       "1   2021-10-16\n",
       "2   1987-02-28\n",
       "3   1947-06-19\n",
       "4   1954-08-08\n",
       "dtype: datetime64[ns]"
      ]
     },
     "execution_count": 62,
     "metadata": {},
     "output_type": "execute_result"
    }
   ],
   "source": [
    "# using exact argument to parse dates from mixed strings\n",
    "\n",
    "dates = [\n",
    "    'April: 14/1977/4', \n",
    "    'Stacy: 16/2021/10', \n",
    "    'Guru: 28/1987/2', \n",
    "    'Dad: 19/1947/6', \n",
    "    'Mom: 8/1954/8'\n",
    "]\n",
    "df = pd.to_datetime(pd.Series(dates), format='%d/%Y/%m', exact=False)\n",
    "df"
   ]
  },
  {
   "cell_type": "markdown",
   "id": "01f0b280",
   "metadata": {},
   "source": [
    "## Using pd.to_timedelta"
   ]
  },
  {
   "cell_type": "code",
   "execution_count": 68,
   "id": "86e455bb",
   "metadata": {},
   "outputs": [
    {
     "data": {
      "text/plain": [
       "Timedelta('1 days 06:05:01.000030')"
      ]
     },
     "execution_count": 68,
     "metadata": {},
     "output_type": "execute_result"
    }
   ],
   "source": [
    "# argument can be string\n",
    "pd.to_timedelta('1 days 06:05:01.00003')"
   ]
  },
  {
   "cell_type": "code",
   "execution_count": 71,
   "id": "40025212",
   "metadata": {},
   "outputs": [
    {
     "data": {
      "text/plain": [
       "TimedeltaIndex(['1 days', '2 days', '3 days', '4 days', '5 days'], dtype='timedelta64[ns]', freq=None)"
      ]
     },
     "execution_count": 71,
     "metadata": {},
     "output_type": "execute_result"
    }
   ],
   "source": [
    "# or list-like\n",
    "pd.to_timedelta([1, 2, 3, 4, 5], unit='D')"
   ]
  },
  {
   "cell_type": "code",
   "execution_count": 74,
   "id": "1dcba26b",
   "metadata": {},
   "outputs": [
    {
     "data": {
      "text/plain": [
       "0   1 days\n",
       "1   2 days\n",
       "2   3 days\n",
       "3   4 days\n",
       "4   5 days\n",
       "5   6 days\n",
       "6   7 days\n",
       "dtype: timedelta64[ns]"
      ]
     },
     "execution_count": 74,
     "metadata": {},
     "output_type": "execute_result"
    }
   ],
   "source": [
    "# or Series\n",
    "s = pd.Series([1, 2, 3, 4, 5, 6, 7])\n",
    "pd.to_timedelta(s, unit='d')"
   ]
  },
  {
   "cell_type": "code",
   "execution_count": 75,
   "id": "50d589a1",
   "metadata": {},
   "outputs": [
    {
     "data": {
      "text/plain": [
       "0    7 days\n",
       "1   14 days\n",
       "2   21 days\n",
       "3   28 days\n",
       "4   35 days\n",
       "5   42 days\n",
       "6   49 days\n",
       "dtype: timedelta64[ns]"
      ]
     },
     "execution_count": 75,
     "metadata": {},
     "output_type": "execute_result"
    }
   ],
   "source": [
    "# unit argument define units of measure of timedelta\n",
    "pd.to_timedelta(s, unit='W')"
   ]
  },
  {
   "cell_type": "markdown",
   "id": "fb3f0a1a",
   "metadata": {},
   "source": [
    "## Datetime ranges using pd.date_range and pd.bdate_range"
   ]
  },
  {
   "cell_type": "code",
   "execution_count": 83,
   "id": "c543032a",
   "metadata": {},
   "outputs": [
    {
     "data": {
      "text/html": [
       "<div>\n",
       "<style scoped>\n",
       "    .dataframe tbody tr th:only-of-type {\n",
       "        vertical-align: middle;\n",
       "    }\n",
       "\n",
       "    .dataframe tbody tr th {\n",
       "        vertical-align: top;\n",
       "    }\n",
       "\n",
       "    .dataframe thead th {\n",
       "        text-align: right;\n",
       "    }\n",
       "</style>\n",
       "<table border=\"1\" class=\"dataframe\">\n",
       "  <thead>\n",
       "    <tr style=\"text-align: right;\">\n",
       "      <th></th>\n",
       "      <th>date</th>\n",
       "      <th>day_of_week</th>\n",
       "    </tr>\n",
       "  </thead>\n",
       "  <tbody>\n",
       "    <tr>\n",
       "      <th>0</th>\n",
       "      <td>2022-11-14</td>\n",
       "      <td>Monday</td>\n",
       "    </tr>\n",
       "    <tr>\n",
       "      <th>1</th>\n",
       "      <td>2022-11-15</td>\n",
       "      <td>Tuesday</td>\n",
       "    </tr>\n",
       "    <tr>\n",
       "      <th>2</th>\n",
       "      <td>2022-11-16</td>\n",
       "      <td>Wednesday</td>\n",
       "    </tr>\n",
       "    <tr>\n",
       "      <th>3</th>\n",
       "      <td>2022-11-17</td>\n",
       "      <td>Thursday</td>\n",
       "    </tr>\n",
       "    <tr>\n",
       "      <th>4</th>\n",
       "      <td>2022-11-18</td>\n",
       "      <td>Friday</td>\n",
       "    </tr>\n",
       "    <tr>\n",
       "      <th>5</th>\n",
       "      <td>2022-11-19</td>\n",
       "      <td>Saturday</td>\n",
       "    </tr>\n",
       "    <tr>\n",
       "      <th>6</th>\n",
       "      <td>2022-11-20</td>\n",
       "      <td>Sunday</td>\n",
       "    </tr>\n",
       "  </tbody>\n",
       "</table>\n",
       "</div>"
      ],
      "text/plain": [
       "        date day_of_week\n",
       "0 2022-11-14      Monday\n",
       "1 2022-11-15     Tuesday\n",
       "2 2022-11-16   Wednesday\n",
       "3 2022-11-17    Thursday\n",
       "4 2022-11-18      Friday\n",
       "5 2022-11-19    Saturday\n",
       "6 2022-11-20      Sunday"
      ]
     },
     "execution_count": 83,
     "metadata": {},
     "output_type": "execute_result"
    }
   ],
   "source": [
    "# simple date range, default frequency is day\n",
    "df1 = pd.DataFrame({'date': pd.date_range(start='14/11/2022', end='20/11/2022')})\n",
    "df1['day_of_week'] = df1.date.dt.day_name()\n",
    "df1"
   ]
  },
  {
   "cell_type": "code",
   "execution_count": 91,
   "id": "b0f19c39",
   "metadata": {},
   "outputs": [
    {
     "data": {
      "text/html": [
       "<div>\n",
       "<style scoped>\n",
       "    .dataframe tbody tr th:only-of-type {\n",
       "        vertical-align: middle;\n",
       "    }\n",
       "\n",
       "    .dataframe tbody tr th {\n",
       "        vertical-align: top;\n",
       "    }\n",
       "\n",
       "    .dataframe thead th {\n",
       "        text-align: right;\n",
       "    }\n",
       "</style>\n",
       "<table border=\"1\" class=\"dataframe\">\n",
       "  <thead>\n",
       "    <tr style=\"text-align: right;\">\n",
       "      <th></th>\n",
       "      <th>date</th>\n",
       "    </tr>\n",
       "  </thead>\n",
       "  <tbody>\n",
       "    <tr>\n",
       "      <th>0</th>\n",
       "      <td>2022-11-17</td>\n",
       "    </tr>\n",
       "    <tr>\n",
       "      <th>1</th>\n",
       "      <td>2022-11-18</td>\n",
       "    </tr>\n",
       "    <tr>\n",
       "      <th>2</th>\n",
       "      <td>2022-11-19</td>\n",
       "    </tr>\n",
       "    <tr>\n",
       "      <th>3</th>\n",
       "      <td>2022-11-20</td>\n",
       "    </tr>\n",
       "    <tr>\n",
       "      <th>4</th>\n",
       "      <td>2022-11-21</td>\n",
       "    </tr>\n",
       "    <tr>\n",
       "      <th>5</th>\n",
       "      <td>2022-11-22</td>\n",
       "    </tr>\n",
       "    <tr>\n",
       "      <th>6</th>\n",
       "      <td>2022-11-23</td>\n",
       "    </tr>\n",
       "  </tbody>\n",
       "</table>\n",
       "</div>"
      ],
      "text/plain": [
       "        date\n",
       "0 2022-11-17\n",
       "1 2022-11-18\n",
       "2 2022-11-19\n",
       "3 2022-11-20\n",
       "4 2022-11-21\n",
       "5 2022-11-22\n",
       "6 2022-11-23"
      ]
     },
     "execution_count": 91,
     "metadata": {},
     "output_type": "execute_result"
    }
   ],
   "source": [
    "# using periods argument to define the quantity of the values\n",
    "# and name argument to defint the name of the DatetimeIndex\n",
    "df1_1 = pd.DataFrame(pd.date_range(start='17/11/22', periods=7, name='date'))\n",
    "df1_1"
   ]
  },
  {
   "cell_type": "code",
   "execution_count": 100,
   "id": "7d5291bd",
   "metadata": {},
   "outputs": [
    {
     "data": {
      "text/html": [
       "<div>\n",
       "<style scoped>\n",
       "    .dataframe tbody tr th:only-of-type {\n",
       "        vertical-align: middle;\n",
       "    }\n",
       "\n",
       "    .dataframe tbody tr th {\n",
       "        vertical-align: top;\n",
       "    }\n",
       "\n",
       "    .dataframe thead th {\n",
       "        text-align: right;\n",
       "    }\n",
       "</style>\n",
       "<table border=\"1\" class=\"dataframe\">\n",
       "  <thead>\n",
       "    <tr style=\"text-align: right;\">\n",
       "      <th></th>\n",
       "      <th>0</th>\n",
       "    </tr>\n",
       "  </thead>\n",
       "  <tbody>\n",
       "    <tr>\n",
       "      <th>0</th>\n",
       "      <td>2022-01-31</td>\n",
       "    </tr>\n",
       "    <tr>\n",
       "      <th>1</th>\n",
       "      <td>2022-02-28</td>\n",
       "    </tr>\n",
       "    <tr>\n",
       "      <th>2</th>\n",
       "      <td>2022-03-31</td>\n",
       "    </tr>\n",
       "    <tr>\n",
       "      <th>3</th>\n",
       "      <td>2022-04-30</td>\n",
       "    </tr>\n",
       "    <tr>\n",
       "      <th>4</th>\n",
       "      <td>2022-05-31</td>\n",
       "    </tr>\n",
       "    <tr>\n",
       "      <th>5</th>\n",
       "      <td>2022-06-30</td>\n",
       "    </tr>\n",
       "    <tr>\n",
       "      <th>6</th>\n",
       "      <td>2022-07-31</td>\n",
       "    </tr>\n",
       "    <tr>\n",
       "      <th>7</th>\n",
       "      <td>2022-08-31</td>\n",
       "    </tr>\n",
       "    <tr>\n",
       "      <th>8</th>\n",
       "      <td>2022-09-30</td>\n",
       "    </tr>\n",
       "    <tr>\n",
       "      <th>9</th>\n",
       "      <td>2022-10-31</td>\n",
       "    </tr>\n",
       "    <tr>\n",
       "      <th>10</th>\n",
       "      <td>2022-11-30</td>\n",
       "    </tr>\n",
       "    <tr>\n",
       "      <th>11</th>\n",
       "      <td>2022-12-31</td>\n",
       "    </tr>\n",
       "  </tbody>\n",
       "</table>\n",
       "</div>"
      ],
      "text/plain": [
       "            0\n",
       "0  2022-01-31\n",
       "1  2022-02-28\n",
       "2  2022-03-31\n",
       "3  2022-04-30\n",
       "4  2022-05-31\n",
       "5  2022-06-30\n",
       "6  2022-07-31\n",
       "7  2022-08-31\n",
       "8  2022-09-30\n",
       "9  2022-10-31\n",
       "10 2022-11-30\n",
       "11 2022-12-31"
      ]
     },
     "execution_count": 100,
     "metadata": {},
     "output_type": "execute_result"
    }
   ],
   "source": [
    "# using freq argument to define the frequency of values\n",
    "df1_2 = pd.DataFrame(pd.date_range(start='1/1/22', end='31/12/22', freq='M'))\n",
    "df1_2"
   ]
  },
  {
   "cell_type": "code",
   "execution_count": 103,
   "id": "cae529dc",
   "metadata": {},
   "outputs": [
    {
     "data": {
      "text/html": [
       "<div>\n",
       "<style scoped>\n",
       "    .dataframe tbody tr th:only-of-type {\n",
       "        vertical-align: middle;\n",
       "    }\n",
       "\n",
       "    .dataframe tbody tr th {\n",
       "        vertical-align: top;\n",
       "    }\n",
       "\n",
       "    .dataframe thead th {\n",
       "        text-align: right;\n",
       "    }\n",
       "</style>\n",
       "<table border=\"1\" class=\"dataframe\">\n",
       "  <thead>\n",
       "    <tr style=\"text-align: right;\">\n",
       "      <th></th>\n",
       "      <th>0</th>\n",
       "    </tr>\n",
       "  </thead>\n",
       "  <tbody>\n",
       "    <tr>\n",
       "      <th>0</th>\n",
       "      <td>2017-06-30</td>\n",
       "    </tr>\n",
       "    <tr>\n",
       "      <th>1</th>\n",
       "      <td>2017-12-31</td>\n",
       "    </tr>\n",
       "    <tr>\n",
       "      <th>2</th>\n",
       "      <td>2018-06-30</td>\n",
       "    </tr>\n",
       "    <tr>\n",
       "      <th>3</th>\n",
       "      <td>2018-12-31</td>\n",
       "    </tr>\n",
       "    <tr>\n",
       "      <th>4</th>\n",
       "      <td>2019-06-30</td>\n",
       "    </tr>\n",
       "    <tr>\n",
       "      <th>5</th>\n",
       "      <td>2019-12-31</td>\n",
       "    </tr>\n",
       "    <tr>\n",
       "      <th>6</th>\n",
       "      <td>2020-06-30</td>\n",
       "    </tr>\n",
       "    <tr>\n",
       "      <th>7</th>\n",
       "      <td>2020-12-31</td>\n",
       "    </tr>\n",
       "    <tr>\n",
       "      <th>8</th>\n",
       "      <td>2021-06-30</td>\n",
       "    </tr>\n",
       "    <tr>\n",
       "      <th>9</th>\n",
       "      <td>2021-12-31</td>\n",
       "    </tr>\n",
       "  </tbody>\n",
       "</table>\n",
       "</div>"
      ],
      "text/plain": [
       "           0\n",
       "0 2017-06-30\n",
       "1 2017-12-31\n",
       "2 2018-06-30\n",
       "3 2018-12-31\n",
       "4 2019-06-30\n",
       "5 2019-12-31\n",
       "6 2020-06-30\n",
       "7 2020-12-31\n",
       "8 2021-06-30\n",
       "9 2021-12-31"
      ]
     },
     "execution_count": 103,
     "metadata": {},
     "output_type": "execute_result"
    }
   ],
   "source": [
    "# multiplies frequencys are allowed\n",
    "df1_3 = pd.DataFrame(pd.date_range(end='1/1/22', periods=10, freq='6M'))\n",
    "df1_3"
   ]
  },
  {
   "cell_type": "code",
   "execution_count": 84,
   "id": "3ad451b2",
   "metadata": {},
   "outputs": [
    {
     "data": {
      "text/html": [
       "<div>\n",
       "<style scoped>\n",
       "    .dataframe tbody tr th:only-of-type {\n",
       "        vertical-align: middle;\n",
       "    }\n",
       "\n",
       "    .dataframe tbody tr th {\n",
       "        vertical-align: top;\n",
       "    }\n",
       "\n",
       "    .dataframe thead th {\n",
       "        text-align: right;\n",
       "    }\n",
       "</style>\n",
       "<table border=\"1\" class=\"dataframe\">\n",
       "  <thead>\n",
       "    <tr style=\"text-align: right;\">\n",
       "      <th></th>\n",
       "      <th>date</th>\n",
       "      <th>day_of_week</th>\n",
       "    </tr>\n",
       "  </thead>\n",
       "  <tbody>\n",
       "    <tr>\n",
       "      <th>0</th>\n",
       "      <td>2022-11-14</td>\n",
       "      <td>Monday</td>\n",
       "    </tr>\n",
       "    <tr>\n",
       "      <th>1</th>\n",
       "      <td>2022-11-15</td>\n",
       "      <td>Tuesday</td>\n",
       "    </tr>\n",
       "    <tr>\n",
       "      <th>2</th>\n",
       "      <td>2022-11-16</td>\n",
       "      <td>Wednesday</td>\n",
       "    </tr>\n",
       "    <tr>\n",
       "      <th>3</th>\n",
       "      <td>2022-11-17</td>\n",
       "      <td>Thursday</td>\n",
       "    </tr>\n",
       "    <tr>\n",
       "      <th>4</th>\n",
       "      <td>2022-11-18</td>\n",
       "      <td>Friday</td>\n",
       "    </tr>\n",
       "  </tbody>\n",
       "</table>\n",
       "</div>"
      ],
      "text/plain": [
       "        date day_of_week\n",
       "0 2022-11-14      Monday\n",
       "1 2022-11-15     Tuesday\n",
       "2 2022-11-16   Wednesday\n",
       "3 2022-11-17    Thursday\n",
       "4 2022-11-18      Friday"
      ]
     },
     "execution_count": 84,
     "metadata": {},
     "output_type": "execute_result"
    }
   ],
   "source": [
    "# uses buisness days\n",
    "df2 = pd.DataFrame({'date': pd.bdate_range(start='14/11/2022', end='20/11/2022')})\n",
    "df2['day_of_week'] = df2.date.dt.day_name()\n",
    "df2"
   ]
  },
  {
   "cell_type": "code",
   "execution_count": null,
   "id": "3aca7687",
   "metadata": {},
   "outputs": [],
   "source": []
  }
 ],
 "metadata": {
  "kernelspec": {
   "display_name": "Python 3 (ipykernel)",
   "language": "python",
   "name": "python3"
  },
  "language_info": {
   "codemirror_mode": {
    "name": "ipython",
    "version": 3
   },
   "file_extension": ".py",
   "mimetype": "text/x-python",
   "name": "python",
   "nbconvert_exporter": "python",
   "pygments_lexer": "ipython3",
   "version": "3.9.7"
  },
  "toc": {
   "base_numbering": 1,
   "nav_menu": {},
   "number_sections": true,
   "sideBar": true,
   "skip_h1_title": false,
   "title_cell": "Table of Contents",
   "title_sidebar": "Contents",
   "toc_cell": false,
   "toc_position": {},
   "toc_section_display": true,
   "toc_window_display": false
  }
 },
 "nbformat": 4,
 "nbformat_minor": 5
}
