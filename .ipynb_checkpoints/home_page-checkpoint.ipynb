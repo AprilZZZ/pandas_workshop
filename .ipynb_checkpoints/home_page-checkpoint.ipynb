{
 "cells": [
  {
   "cell_type": "markdown",
   "id": "fdf3855a",
   "metadata": {},
   "source": [
    "# Series, DataFrame and Index basics"
   ]
  },
  {
   "cell_type": "markdown",
   "id": "ee935119",
   "metadata": {},
   "source": [
    "## Series\n",
    "\n",
    "Creating Series from:\n",
    "- list: `pd.Series([])`, `pd.Series(data=[], index=[])`\n",
    "- dict: `pd.Series({})`\n",
    "- range: `pd.Series(range(start, stop, step)`\n",
    "- random values: `pd.Series(np.random.randint(a, b, c))`\n",
    "- distribution: `pd.Series(np.random.uniform(a, b, c))`, `pd.Series(np.random.normal(a, b, c))`\n",
    "- datetime range: `pd.Series(pd.date_range('2022-01-01', periods=365, freq='d'))`\n",
    "\n",
    "[Series Basics Exercises](http://localhost:8888/notebooks/Projects/pandas_workshop/exercises/1_series_basic_ex.ipynb)\n",
    "\n",
    "## DataFrame\n",
    "\n",
    "[DataFrame Basics Exercises](http://localhost:8888/notebooks/Projects/pandas_workshop/exercises/2_dataframe_basic_ex.ipynb)\n",
    "\n",
    "## Index\n",
    "\n",
    "[Index Basics Exercises](http://localhost:8888/notebooks/Projects/pandas_workshop/exercises/3_index_basic_ex.ipynb)"
   ]
  },
  {
   "cell_type": "markdown",
   "id": "7d472817",
   "metadata": {},
   "source": [
    "# Reading Data"
   ]
  },
  {
   "cell_type": "markdown",
   "id": "697e9479",
   "metadata": {},
   "source": []
  },
  {
   "cell_type": "markdown",
   "id": "b520bc6a",
   "metadata": {},
   "source": [
    "# Inspecting DataFrame and Describing data"
   ]
  },
  {
   "cell_type": "code",
   "execution_count": null,
   "id": "e5784c8f",
   "metadata": {},
   "outputs": [],
   "source": []
  },
  {
   "cell_type": "markdown",
   "id": "1733f998",
   "metadata": {},
   "source": [
    "# Tidying Data\n",
    "\n",
    "While tidying data we need to cope with following cases:\n",
    "\n",
    "- The names of the variables are different from what you require\n",
    "- There is missing data\n",
    "- Values are not in the units that you require\n",
    "- The period of sampling of records is not what you need\n",
    "- Variables are categorical and you need quantitative values\n",
    "- There is noise in the data\n",
    "- Information is of an incorrect type\n",
    "- Data is organized around incorrect axes\n",
    "- Data is at the wrong level of normalization\n",
    "- Data is duplicated"
   ]
  },
  {
   "cell_type": "markdown",
   "id": "529d7b86",
   "metadata": {},
   "source": [
    "[Missing Values Tutorial](http://localhost:8888/notebooks/Projects/pandas_workshop/missing_data.ipynb)\n",
    "\n",
    "[Duplicated Data](http://localhost:8888/notebooks/Projects/pandas_workshop/duplicated_data.ipynb)\n",
    "\n",
    "[Transforming Data](http://localhost:8888/notebooks/Projects/pandas_workshop/transforming_data.ipynb)\n",
    "\n",
    "[Missing Values Exercises](http://localhost:8888/notebooks/Projects/pandas_workshop/exercises/9_handling_missing_ex.ipynb)"
   ]
  },
  {
   "cell_type": "markdown",
   "id": "c4f506e4",
   "metadata": {},
   "source": [
    "# Filtering Data"
   ]
  },
  {
   "cell_type": "markdown",
   "id": "3b686dfd",
   "metadata": {},
   "source": [
    "[Filtering Data](http://localhost:8888/notebooks/Projects/pandas_workshop/exercises/7_filtering_ex.ipynb)"
   ]
  },
  {
   "cell_type": "markdown",
   "id": "c60434c5",
   "metadata": {},
   "source": [
    "# Grouping and Aggregating Data"
   ]
  },
  {
   "cell_type": "markdown",
   "id": "4985a748",
   "metadata": {},
   "source": [
    "[Grouping and Aggregating Tutorial](http://localhost:8888/notebooks/Projects/pandas_workshop/grouping_aggregating.ipynb)\n",
    "\n",
    "[Grouping and Aggregating Exercises](http://localhost:8888/notebooks/Projects/pandas_workshop/exercises/8_grouping_ex.ipynb)"
   ]
  },
  {
   "cell_type": "markdown",
   "id": "4caa1e39",
   "metadata": {},
   "source": [
    "# Combining Data Structures"
   ]
  },
  {
   "cell_type": "markdown",
   "id": "3a9be4ed",
   "metadata": {},
   "source": [
    "[Combining Data Tutorial](http://localhost:8888/notebooks/Projects/pandas_workshop/combining_data.ipynb)\n",
    "\n",
    "[Joining and Merging Data Structires Exercises](http://localhost:8888/notebooks/Projects/pandas_workshop/exercises/4_joining_ex.ipynb)"
   ]
  },
  {
   "cell_type": "markdown",
   "id": "f158bc1c",
   "metadata": {},
   "source": [
    "# Reshaping Data"
   ]
  },
  {
   "cell_type": "markdown",
   "id": "71e18bef",
   "metadata": {},
   "source": [
    "[Pivot Table Tutorial](http://localhost:8888/notebooks/Projects/pandas_workshop/pivoting_data.ipynb)\n",
    "\n",
    "[Pivot Table Exercises](http://localhost:8888/notebooks/Projects/pandas_workshop/exercises/12_pivot_table_ex.ipynb)"
   ]
  },
  {
   "cell_type": "markdown",
   "id": "ef544a1a",
   "metadata": {},
   "source": [
    "# Data Visualization"
   ]
  },
  {
   "cell_type": "code",
   "execution_count": null,
   "id": "28a0b913",
   "metadata": {},
   "outputs": [],
   "source": []
  },
  {
   "cell_type": "markdown",
   "id": "34505674",
   "metadata": {},
   "source": [
    "# Working with String values"
   ]
  },
  {
   "cell_type": "markdown",
   "id": "666bd142",
   "metadata": {},
   "source": [
    "[String and Regular Expressions Exercises](http://localhost:8888/notebooks/Projects/pandas_workshop/exercises/5_string_and_re_ex.ipynb)"
   ]
  },
  {
   "cell_type": "markdown",
   "id": "fa7972a8",
   "metadata": {},
   "source": [
    "# Working with Datetime values"
   ]
  },
  {
   "cell_type": "markdown",
   "id": "51a2cab2",
   "metadata": {},
   "source": [
    "[Working with dates and time in Pandas Tutorial](http://localhost:8888/notebooks/Projects/pandas_workshop/dates_and_time.ipynb)\n",
    "\n",
    "[Timeseries Exercises](http://localhost:8888/notebooks/Projects/pandas_workshop/exercises/6_timeseries_ex.ipynb)"
   ]
  },
  {
   "cell_type": "markdown",
   "id": "12169659",
   "metadata": {},
   "source": [
    "# Other"
   ]
  },
  {
   "cell_type": "markdown",
   "id": "b46c6324",
   "metadata": {},
   "source": [
    "[Table Style Exercises](http://localhost:8888/notebooks/Projects/pandas_workshop/exercises/10_table_style_ex.ipynb)\n",
    "\n",
    "[Working with Excel data Exercises](http://localhost:8888/notebooks/Projects/pandas_workshop/exercises/11_excel_da_ex.ipynb)"
   ]
  },
  {
   "cell_type": "code",
   "execution_count": null,
   "id": "c9bfc340",
   "metadata": {},
   "outputs": [],
   "source": []
  }
 ],
 "metadata": {
  "kernelspec": {
   "display_name": "Python 3 (ipykernel)",
   "language": "python",
   "name": "python3"
  },
  "language_info": {
   "codemirror_mode": {
    "name": "ipython",
    "version": 3
   },
   "file_extension": ".py",
   "mimetype": "text/x-python",
   "name": "python",
   "nbconvert_exporter": "python",
   "pygments_lexer": "ipython3",
   "version": "3.9.7"
  },
  "toc": {
   "base_numbering": 1,
   "nav_menu": {},
   "number_sections": true,
   "sideBar": true,
   "skip_h1_title": false,
   "title_cell": "Table of Contents",
   "title_sidebar": "Contents",
   "toc_cell": false,
   "toc_position": {},
   "toc_section_display": true,
   "toc_window_display": false
  }
 },
 "nbformat": 4,
 "nbformat_minor": 5
}
